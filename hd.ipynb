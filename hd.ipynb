{
  "nbformat": 4,
  "nbformat_minor": 0,
  "metadata": {
    "colab": {
      "name": "hd.ipynb",
      "provenance": [],
      "collapsed_sections": [
        "UCW6of9jeOml",
        "hSl7ocqMeq2O",
        "fTOn3hNfgMyQ",
        "-YG3b359CzU0",
        "wDu9AeKMDpn_",
        "zAVj1NRGEpMN",
        "cbVR6_cRFuxO"
      ],
      "include_colab_link": true
    },
    "kernelspec": {
      "name": "python3",
      "display_name": "Python 3"
    },
    "accelerator": "TPU"
  },
  "cells": [
    {
      "cell_type": "markdown",
      "metadata": {
        "id": "view-in-github",
        "colab_type": "text"
      },
      "source": [
        "<a href=\"https://colab.research.google.com/github/PradnyaTayade/heart/blob/main/hd.ipynb\" target=\"_parent\"><img src=\"https://colab.research.google.com/assets/colab-badge.svg\" alt=\"Open In Colab\"/></a>"
      ]
    },
    {
      "metadata": {
        "id": "W8iTXS6XLTuR",
        "outputId": "0eceec47-a8e4-4ca5-93c8-41e8558b1cc4",
        "colab": {
          "base_uri": "https://localhost:8080/"
        }
      },
      "cell_type": "code",
      "source": [
        "import numpy as np\n",
        "import pandas as pd\n",
        "import matplotlib.pyplot as plt\n",
        "import seaborn as sns\n",
        "\n",
        "%matplotlib inline\n",
        "\n",
        "import os\n",
        "print(os.listdir())\n",
        "\n",
        "import warnings\n",
        "warnings.filterwarnings('ignore')"
      ],
      "execution_count": 282,
      "outputs": [
        {
          "output_type": "stream",
          "name": "stdout",
          "text": [
            "['.config', 'heart.csv', '.ipynb_checkpoints', 'sample_data']\n"
          ]
        }
      ]
    },
    {
      "metadata": {
        "id": "0zkWHuLILfg1"
      },
      "cell_type": "code",
      "source": [
        "data = pd.read_csv(\"heart.csv\")"
      ],
      "execution_count": 139,
      "outputs": []
    },
    {
      "metadata": {
        "id": "UnTLkWsfLrJ-",
        "outputId": "739e2f53-59b8-4d57-d63e-baee35ced606",
        "colab": {
          "base_uri": "https://localhost:8080/"
        }
      },
      "cell_type": "code",
      "source": [
        "type(data)"
      ],
      "execution_count": 140,
      "outputs": [
        {
          "output_type": "execute_result",
          "data": {
            "text/plain": [
              "pandas.core.frame.DataFrame"
            ]
          },
          "metadata": {},
          "execution_count": 140
        }
      ]
    },
    {
      "metadata": {
        "id": "-BsKZUGGLudq",
        "outputId": "dda36626-c8e2-404a-a47a-4b5a9c0b6092",
        "colab": {
          "base_uri": "https://localhost:8080/"
        }
      },
      "cell_type": "code",
      "source": [
        "data.shape"
      ],
      "execution_count": 141,
      "outputs": [
        {
          "output_type": "execute_result",
          "data": {
            "text/plain": [
              "(1025, 14)"
            ]
          },
          "metadata": {},
          "execution_count": 141
        }
      ]
    },
    {
      "metadata": {
        "id": "1XomwEoZcd7h",
        "outputId": "a5ce60a3-e8bc-44fc-dc6b-d52c79a4777f",
        "colab": {
          "base_uri": "https://localhost:8080/",
          "height": 206
        }
      },
      "cell_type": "code",
      "source": [
        "data.head()"
      ],
      "execution_count": 142,
      "outputs": [
        {
          "output_type": "execute_result",
          "data": {
            "text/plain": [
              "   age  sex  cp  trestbps  chol  fbs  restecg  thalach  exang  oldpeak  slope  \\\n",
              "0   52    1   0       125   212    0        1      168      0      1.0      2   \n",
              "1   53    1   0       140   203    1        0      155      1      3.1      0   \n",
              "2   70    1   0       145   174    0        1      125      1      2.6      0   \n",
              "3   61    1   0       148   203    0        1      161      0      0.0      2   \n",
              "4   62    0   0       138   294    1        1      106      0      1.9      1   \n",
              "\n",
              "   ca  thal  target  \n",
              "0   2     3       0  \n",
              "1   0     3       0  \n",
              "2   0     3       0  \n",
              "3   1     3       0  \n",
              "4   3     2       0  "
            ],
            "text/html": [
              "\n",
              "  <div id=\"df-6ffc913a-50d5-4daf-976f-c9f20044908c\">\n",
              "    <div class=\"colab-df-container\">\n",
              "      <div>\n",
              "<style scoped>\n",
              "    .dataframe tbody tr th:only-of-type {\n",
              "        vertical-align: middle;\n",
              "    }\n",
              "\n",
              "    .dataframe tbody tr th {\n",
              "        vertical-align: top;\n",
              "    }\n",
              "\n",
              "    .dataframe thead th {\n",
              "        text-align: right;\n",
              "    }\n",
              "</style>\n",
              "<table border=\"1\" class=\"dataframe\">\n",
              "  <thead>\n",
              "    <tr style=\"text-align: right;\">\n",
              "      <th></th>\n",
              "      <th>age</th>\n",
              "      <th>sex</th>\n",
              "      <th>cp</th>\n",
              "      <th>trestbps</th>\n",
              "      <th>chol</th>\n",
              "      <th>fbs</th>\n",
              "      <th>restecg</th>\n",
              "      <th>thalach</th>\n",
              "      <th>exang</th>\n",
              "      <th>oldpeak</th>\n",
              "      <th>slope</th>\n",
              "      <th>ca</th>\n",
              "      <th>thal</th>\n",
              "      <th>target</th>\n",
              "    </tr>\n",
              "  </thead>\n",
              "  <tbody>\n",
              "    <tr>\n",
              "      <th>0</th>\n",
              "      <td>52</td>\n",
              "      <td>1</td>\n",
              "      <td>0</td>\n",
              "      <td>125</td>\n",
              "      <td>212</td>\n",
              "      <td>0</td>\n",
              "      <td>1</td>\n",
              "      <td>168</td>\n",
              "      <td>0</td>\n",
              "      <td>1.0</td>\n",
              "      <td>2</td>\n",
              "      <td>2</td>\n",
              "      <td>3</td>\n",
              "      <td>0</td>\n",
              "    </tr>\n",
              "    <tr>\n",
              "      <th>1</th>\n",
              "      <td>53</td>\n",
              "      <td>1</td>\n",
              "      <td>0</td>\n",
              "      <td>140</td>\n",
              "      <td>203</td>\n",
              "      <td>1</td>\n",
              "      <td>0</td>\n",
              "      <td>155</td>\n",
              "      <td>1</td>\n",
              "      <td>3.1</td>\n",
              "      <td>0</td>\n",
              "      <td>0</td>\n",
              "      <td>3</td>\n",
              "      <td>0</td>\n",
              "    </tr>\n",
              "    <tr>\n",
              "      <th>2</th>\n",
              "      <td>70</td>\n",
              "      <td>1</td>\n",
              "      <td>0</td>\n",
              "      <td>145</td>\n",
              "      <td>174</td>\n",
              "      <td>0</td>\n",
              "      <td>1</td>\n",
              "      <td>125</td>\n",
              "      <td>1</td>\n",
              "      <td>2.6</td>\n",
              "      <td>0</td>\n",
              "      <td>0</td>\n",
              "      <td>3</td>\n",
              "      <td>0</td>\n",
              "    </tr>\n",
              "    <tr>\n",
              "      <th>3</th>\n",
              "      <td>61</td>\n",
              "      <td>1</td>\n",
              "      <td>0</td>\n",
              "      <td>148</td>\n",
              "      <td>203</td>\n",
              "      <td>0</td>\n",
              "      <td>1</td>\n",
              "      <td>161</td>\n",
              "      <td>0</td>\n",
              "      <td>0.0</td>\n",
              "      <td>2</td>\n",
              "      <td>1</td>\n",
              "      <td>3</td>\n",
              "      <td>0</td>\n",
              "    </tr>\n",
              "    <tr>\n",
              "      <th>4</th>\n",
              "      <td>62</td>\n",
              "      <td>0</td>\n",
              "      <td>0</td>\n",
              "      <td>138</td>\n",
              "      <td>294</td>\n",
              "      <td>1</td>\n",
              "      <td>1</td>\n",
              "      <td>106</td>\n",
              "      <td>0</td>\n",
              "      <td>1.9</td>\n",
              "      <td>1</td>\n",
              "      <td>3</td>\n",
              "      <td>2</td>\n",
              "      <td>0</td>\n",
              "    </tr>\n",
              "  </tbody>\n",
              "</table>\n",
              "</div>\n",
              "      <button class=\"colab-df-convert\" onclick=\"convertToInteractive('df-6ffc913a-50d5-4daf-976f-c9f20044908c')\"\n",
              "              title=\"Convert this dataframe to an interactive table.\"\n",
              "              style=\"display:none;\">\n",
              "        \n",
              "  <svg xmlns=\"http://www.w3.org/2000/svg\" height=\"24px\"viewBox=\"0 0 24 24\"\n",
              "       width=\"24px\">\n",
              "    <path d=\"M0 0h24v24H0V0z\" fill=\"none\"/>\n",
              "    <path d=\"M18.56 5.44l.94 2.06.94-2.06 2.06-.94-2.06-.94-.94-2.06-.94 2.06-2.06.94zm-11 1L8.5 8.5l.94-2.06 2.06-.94-2.06-.94L8.5 2.5l-.94 2.06-2.06.94zm10 10l.94 2.06.94-2.06 2.06-.94-2.06-.94-.94-2.06-.94 2.06-2.06.94z\"/><path d=\"M17.41 7.96l-1.37-1.37c-.4-.4-.92-.59-1.43-.59-.52 0-1.04.2-1.43.59L10.3 9.45l-7.72 7.72c-.78.78-.78 2.05 0 2.83L4 21.41c.39.39.9.59 1.41.59.51 0 1.02-.2 1.41-.59l7.78-7.78 2.81-2.81c.8-.78.8-2.07 0-2.86zM5.41 20L4 18.59l7.72-7.72 1.47 1.35L5.41 20z\"/>\n",
              "  </svg>\n",
              "      </button>\n",
              "      \n",
              "  <style>\n",
              "    .colab-df-container {\n",
              "      display:flex;\n",
              "      flex-wrap:wrap;\n",
              "      gap: 12px;\n",
              "    }\n",
              "\n",
              "    .colab-df-convert {\n",
              "      background-color: #E8F0FE;\n",
              "      border: none;\n",
              "      border-radius: 50%;\n",
              "      cursor: pointer;\n",
              "      display: none;\n",
              "      fill: #1967D2;\n",
              "      height: 32px;\n",
              "      padding: 0 0 0 0;\n",
              "      width: 32px;\n",
              "    }\n",
              "\n",
              "    .colab-df-convert:hover {\n",
              "      background-color: #E2EBFA;\n",
              "      box-shadow: 0px 1px 2px rgba(60, 64, 67, 0.3), 0px 1px 3px 1px rgba(60, 64, 67, 0.15);\n",
              "      fill: #174EA6;\n",
              "    }\n",
              "\n",
              "    [theme=dark] .colab-df-convert {\n",
              "      background-color: #3B4455;\n",
              "      fill: #D2E3FC;\n",
              "    }\n",
              "\n",
              "    [theme=dark] .colab-df-convert:hover {\n",
              "      background-color: #434B5C;\n",
              "      box-shadow: 0px 1px 3px 1px rgba(0, 0, 0, 0.15);\n",
              "      filter: drop-shadow(0px 1px 2px rgba(0, 0, 0, 0.3));\n",
              "      fill: #FFFFFF;\n",
              "    }\n",
              "  </style>\n",
              "\n",
              "      <script>\n",
              "        const buttonEl =\n",
              "          document.querySelector('#df-6ffc913a-50d5-4daf-976f-c9f20044908c button.colab-df-convert');\n",
              "        buttonEl.style.display =\n",
              "          google.colab.kernel.accessAllowed ? 'block' : 'none';\n",
              "\n",
              "        async function convertToInteractive(key) {\n",
              "          const element = document.querySelector('#df-6ffc913a-50d5-4daf-976f-c9f20044908c');\n",
              "          const dataTable =\n",
              "            await google.colab.kernel.invokeFunction('convertToInteractive',\n",
              "                                                     [key], {});\n",
              "          if (!dataTable) return;\n",
              "\n",
              "          const docLinkHtml = 'Like what you see? Visit the ' +\n",
              "            '<a target=\"_blank\" href=https://colab.research.google.com/notebooks/data_table.ipynb>data table notebook</a>'\n",
              "            + ' to learn more about interactive tables.';\n",
              "          element.innerHTML = '';\n",
              "          dataTable['output_type'] = 'display_data';\n",
              "          await google.colab.output.renderOutput(dataTable, element);\n",
              "          const docLink = document.createElement('div');\n",
              "          docLink.innerHTML = docLinkHtml;\n",
              "          element.appendChild(docLink);\n",
              "        }\n",
              "      </script>\n",
              "    </div>\n",
              "  </div>\n",
              "  "
            ]
          },
          "metadata": {},
          "execution_count": 142
        }
      ]
    },
    {
      "cell_type": "code",
      "source": [
        "data.tail()"
      ],
      "metadata": {
        "colab": {
          "base_uri": "https://localhost:8080/",
          "height": 270
        },
        "id": "f-W53mUL8iiO",
        "outputId": "283875d3-25c6-4ee9-e2a3-a94b762544f3"
      },
      "execution_count": 279,
      "outputs": [
        {
          "output_type": "execute_result",
          "data": {
            "text/plain": [
              "      age  sex  chest_pain_type  resting_blood_pressure  cholesterol  \\\n",
              "1020   59    1                1                     140          221   \n",
              "1021   60    1                0                     125          258   \n",
              "1022   47    1                0                     110          275   \n",
              "1023   50    0                0                     110          254   \n",
              "1024   54    1                0                     120          188   \n",
              "\n",
              "      fasting_blood_sugar  rest_ecg  max_heart_rate_achieved  \\\n",
              "1020                    0         1                      164   \n",
              "1021                    0         0                      141   \n",
              "1022                    0         0                      118   \n",
              "1023                    0         0                      159   \n",
              "1024                    0         1                      113   \n",
              "\n",
              "      exercise_induced_angina  st_depression  st_slope  num_major_vessels  \\\n",
              "1020                        1            0.0         2                  0   \n",
              "1021                        1            2.8         1                  1   \n",
              "1022                        1            1.0         1                  1   \n",
              "1023                        0            0.0         2                  0   \n",
              "1024                        0            1.4         1                  1   \n",
              "\n",
              "      thalassemia  target  \n",
              "1020            2       1  \n",
              "1021            3       0  \n",
              "1022            2       0  \n",
              "1023            2       1  \n",
              "1024            3       0  "
            ],
            "text/html": [
              "\n",
              "  <div id=\"df-6d5fba2e-c096-4f3a-a803-0af86e23d666\">\n",
              "    <div class=\"colab-df-container\">\n",
              "      <div>\n",
              "<style scoped>\n",
              "    .dataframe tbody tr th:only-of-type {\n",
              "        vertical-align: middle;\n",
              "    }\n",
              "\n",
              "    .dataframe tbody tr th {\n",
              "        vertical-align: top;\n",
              "    }\n",
              "\n",
              "    .dataframe thead th {\n",
              "        text-align: right;\n",
              "    }\n",
              "</style>\n",
              "<table border=\"1\" class=\"dataframe\">\n",
              "  <thead>\n",
              "    <tr style=\"text-align: right;\">\n",
              "      <th></th>\n",
              "      <th>age</th>\n",
              "      <th>sex</th>\n",
              "      <th>chest_pain_type</th>\n",
              "      <th>resting_blood_pressure</th>\n",
              "      <th>cholesterol</th>\n",
              "      <th>fasting_blood_sugar</th>\n",
              "      <th>rest_ecg</th>\n",
              "      <th>max_heart_rate_achieved</th>\n",
              "      <th>exercise_induced_angina</th>\n",
              "      <th>st_depression</th>\n",
              "      <th>st_slope</th>\n",
              "      <th>num_major_vessels</th>\n",
              "      <th>thalassemia</th>\n",
              "      <th>target</th>\n",
              "    </tr>\n",
              "  </thead>\n",
              "  <tbody>\n",
              "    <tr>\n",
              "      <th>1020</th>\n",
              "      <td>59</td>\n",
              "      <td>1</td>\n",
              "      <td>1</td>\n",
              "      <td>140</td>\n",
              "      <td>221</td>\n",
              "      <td>0</td>\n",
              "      <td>1</td>\n",
              "      <td>164</td>\n",
              "      <td>1</td>\n",
              "      <td>0.0</td>\n",
              "      <td>2</td>\n",
              "      <td>0</td>\n",
              "      <td>2</td>\n",
              "      <td>1</td>\n",
              "    </tr>\n",
              "    <tr>\n",
              "      <th>1021</th>\n",
              "      <td>60</td>\n",
              "      <td>1</td>\n",
              "      <td>0</td>\n",
              "      <td>125</td>\n",
              "      <td>258</td>\n",
              "      <td>0</td>\n",
              "      <td>0</td>\n",
              "      <td>141</td>\n",
              "      <td>1</td>\n",
              "      <td>2.8</td>\n",
              "      <td>1</td>\n",
              "      <td>1</td>\n",
              "      <td>3</td>\n",
              "      <td>0</td>\n",
              "    </tr>\n",
              "    <tr>\n",
              "      <th>1022</th>\n",
              "      <td>47</td>\n",
              "      <td>1</td>\n",
              "      <td>0</td>\n",
              "      <td>110</td>\n",
              "      <td>275</td>\n",
              "      <td>0</td>\n",
              "      <td>0</td>\n",
              "      <td>118</td>\n",
              "      <td>1</td>\n",
              "      <td>1.0</td>\n",
              "      <td>1</td>\n",
              "      <td>1</td>\n",
              "      <td>2</td>\n",
              "      <td>0</td>\n",
              "    </tr>\n",
              "    <tr>\n",
              "      <th>1023</th>\n",
              "      <td>50</td>\n",
              "      <td>0</td>\n",
              "      <td>0</td>\n",
              "      <td>110</td>\n",
              "      <td>254</td>\n",
              "      <td>0</td>\n",
              "      <td>0</td>\n",
              "      <td>159</td>\n",
              "      <td>0</td>\n",
              "      <td>0.0</td>\n",
              "      <td>2</td>\n",
              "      <td>0</td>\n",
              "      <td>2</td>\n",
              "      <td>1</td>\n",
              "    </tr>\n",
              "    <tr>\n",
              "      <th>1024</th>\n",
              "      <td>54</td>\n",
              "      <td>1</td>\n",
              "      <td>0</td>\n",
              "      <td>120</td>\n",
              "      <td>188</td>\n",
              "      <td>0</td>\n",
              "      <td>1</td>\n",
              "      <td>113</td>\n",
              "      <td>0</td>\n",
              "      <td>1.4</td>\n",
              "      <td>1</td>\n",
              "      <td>1</td>\n",
              "      <td>3</td>\n",
              "      <td>0</td>\n",
              "    </tr>\n",
              "  </tbody>\n",
              "</table>\n",
              "</div>\n",
              "      <button class=\"colab-df-convert\" onclick=\"convertToInteractive('df-6d5fba2e-c096-4f3a-a803-0af86e23d666')\"\n",
              "              title=\"Convert this dataframe to an interactive table.\"\n",
              "              style=\"display:none;\">\n",
              "        \n",
              "  <svg xmlns=\"http://www.w3.org/2000/svg\" height=\"24px\"viewBox=\"0 0 24 24\"\n",
              "       width=\"24px\">\n",
              "    <path d=\"M0 0h24v24H0V0z\" fill=\"none\"/>\n",
              "    <path d=\"M18.56 5.44l.94 2.06.94-2.06 2.06-.94-2.06-.94-.94-2.06-.94 2.06-2.06.94zm-11 1L8.5 8.5l.94-2.06 2.06-.94-2.06-.94L8.5 2.5l-.94 2.06-2.06.94zm10 10l.94 2.06.94-2.06 2.06-.94-2.06-.94-.94-2.06-.94 2.06-2.06.94z\"/><path d=\"M17.41 7.96l-1.37-1.37c-.4-.4-.92-.59-1.43-.59-.52 0-1.04.2-1.43.59L10.3 9.45l-7.72 7.72c-.78.78-.78 2.05 0 2.83L4 21.41c.39.39.9.59 1.41.59.51 0 1.02-.2 1.41-.59l7.78-7.78 2.81-2.81c.8-.78.8-2.07 0-2.86zM5.41 20L4 18.59l7.72-7.72 1.47 1.35L5.41 20z\"/>\n",
              "  </svg>\n",
              "      </button>\n",
              "      \n",
              "  <style>\n",
              "    .colab-df-container {\n",
              "      display:flex;\n",
              "      flex-wrap:wrap;\n",
              "      gap: 12px;\n",
              "    }\n",
              "\n",
              "    .colab-df-convert {\n",
              "      background-color: #E8F0FE;\n",
              "      border: none;\n",
              "      border-radius: 50%;\n",
              "      cursor: pointer;\n",
              "      display: none;\n",
              "      fill: #1967D2;\n",
              "      height: 32px;\n",
              "      padding: 0 0 0 0;\n",
              "      width: 32px;\n",
              "    }\n",
              "\n",
              "    .colab-df-convert:hover {\n",
              "      background-color: #E2EBFA;\n",
              "      box-shadow: 0px 1px 2px rgba(60, 64, 67, 0.3), 0px 1px 3px 1px rgba(60, 64, 67, 0.15);\n",
              "      fill: #174EA6;\n",
              "    }\n",
              "\n",
              "    [theme=dark] .colab-df-convert {\n",
              "      background-color: #3B4455;\n",
              "      fill: #D2E3FC;\n",
              "    }\n",
              "\n",
              "    [theme=dark] .colab-df-convert:hover {\n",
              "      background-color: #434B5C;\n",
              "      box-shadow: 0px 1px 3px 1px rgba(0, 0, 0, 0.15);\n",
              "      filter: drop-shadow(0px 1px 2px rgba(0, 0, 0, 0.3));\n",
              "      fill: #FFFFFF;\n",
              "    }\n",
              "  </style>\n",
              "\n",
              "      <script>\n",
              "        const buttonEl =\n",
              "          document.querySelector('#df-6d5fba2e-c096-4f3a-a803-0af86e23d666 button.colab-df-convert');\n",
              "        buttonEl.style.display =\n",
              "          google.colab.kernel.accessAllowed ? 'block' : 'none';\n",
              "\n",
              "        async function convertToInteractive(key) {\n",
              "          const element = document.querySelector('#df-6d5fba2e-c096-4f3a-a803-0af86e23d666');\n",
              "          const dataTable =\n",
              "            await google.colab.kernel.invokeFunction('convertToInteractive',\n",
              "                                                     [key], {});\n",
              "          if (!dataTable) return;\n",
              "\n",
              "          const docLinkHtml = 'Like what you see? Visit the ' +\n",
              "            '<a target=\"_blank\" href=https://colab.research.google.com/notebooks/data_table.ipynb>data table notebook</a>'\n",
              "            + ' to learn more about interactive tables.';\n",
              "          element.innerHTML = '';\n",
              "          dataTable['output_type'] = 'display_data';\n",
              "          await google.colab.output.renderOutput(dataTable, element);\n",
              "          const docLink = document.createElement('div');\n",
              "          docLink.innerHTML = docLinkHtml;\n",
              "          element.appendChild(docLink);\n",
              "        }\n",
              "      </script>\n",
              "    </div>\n",
              "  </div>\n",
              "  "
            ]
          },
          "metadata": {},
          "execution_count": 279
        }
      ]
    },
    {
      "metadata": {
        "id": "3uk-b1pycmly",
        "outputId": "b1815342-692e-4efd-fc48-8e46b384e24e",
        "colab": {
          "base_uri": "https://localhost:8080/",
          "height": 364
        }
      },
      "cell_type": "code",
      "source": [
        "data.describe()"
      ],
      "execution_count": 143,
      "outputs": [
        {
          "output_type": "execute_result",
          "data": {
            "text/plain": [
              "               age          sex           cp     trestbps        chol  \\\n",
              "count  1025.000000  1025.000000  1025.000000  1025.000000  1025.00000   \n",
              "mean     54.434146     0.695610     0.942439   131.611707   246.00000   \n",
              "std       9.072290     0.460373     1.029641    17.516718    51.59251   \n",
              "min      29.000000     0.000000     0.000000    94.000000   126.00000   \n",
              "25%      48.000000     0.000000     0.000000   120.000000   211.00000   \n",
              "50%      56.000000     1.000000     1.000000   130.000000   240.00000   \n",
              "75%      61.000000     1.000000     2.000000   140.000000   275.00000   \n",
              "max      77.000000     1.000000     3.000000   200.000000   564.00000   \n",
              "\n",
              "               fbs      restecg      thalach        exang      oldpeak  \\\n",
              "count  1025.000000  1025.000000  1025.000000  1025.000000  1025.000000   \n",
              "mean      0.149268     0.529756   149.114146     0.336585     1.071512   \n",
              "std       0.356527     0.527878    23.005724     0.472772     1.175053   \n",
              "min       0.000000     0.000000    71.000000     0.000000     0.000000   \n",
              "25%       0.000000     0.000000   132.000000     0.000000     0.000000   \n",
              "50%       0.000000     1.000000   152.000000     0.000000     0.800000   \n",
              "75%       0.000000     1.000000   166.000000     1.000000     1.800000   \n",
              "max       1.000000     2.000000   202.000000     1.000000     6.200000   \n",
              "\n",
              "             slope           ca         thal       target  \n",
              "count  1025.000000  1025.000000  1025.000000  1025.000000  \n",
              "mean      1.385366     0.754146     2.323902     0.513171  \n",
              "std       0.617755     1.030798     0.620660     0.500070  \n",
              "min       0.000000     0.000000     0.000000     0.000000  \n",
              "25%       1.000000     0.000000     2.000000     0.000000  \n",
              "50%       1.000000     0.000000     2.000000     1.000000  \n",
              "75%       2.000000     1.000000     3.000000     1.000000  \n",
              "max       2.000000     4.000000     3.000000     1.000000  "
            ],
            "text/html": [
              "\n",
              "  <div id=\"df-acde16fa-d3a0-4dd7-b345-7c696afd53a1\">\n",
              "    <div class=\"colab-df-container\">\n",
              "      <div>\n",
              "<style scoped>\n",
              "    .dataframe tbody tr th:only-of-type {\n",
              "        vertical-align: middle;\n",
              "    }\n",
              "\n",
              "    .dataframe tbody tr th {\n",
              "        vertical-align: top;\n",
              "    }\n",
              "\n",
              "    .dataframe thead th {\n",
              "        text-align: right;\n",
              "    }\n",
              "</style>\n",
              "<table border=\"1\" class=\"dataframe\">\n",
              "  <thead>\n",
              "    <tr style=\"text-align: right;\">\n",
              "      <th></th>\n",
              "      <th>age</th>\n",
              "      <th>sex</th>\n",
              "      <th>cp</th>\n",
              "      <th>trestbps</th>\n",
              "      <th>chol</th>\n",
              "      <th>fbs</th>\n",
              "      <th>restecg</th>\n",
              "      <th>thalach</th>\n",
              "      <th>exang</th>\n",
              "      <th>oldpeak</th>\n",
              "      <th>slope</th>\n",
              "      <th>ca</th>\n",
              "      <th>thal</th>\n",
              "      <th>target</th>\n",
              "    </tr>\n",
              "  </thead>\n",
              "  <tbody>\n",
              "    <tr>\n",
              "      <th>count</th>\n",
              "      <td>1025.000000</td>\n",
              "      <td>1025.000000</td>\n",
              "      <td>1025.000000</td>\n",
              "      <td>1025.000000</td>\n",
              "      <td>1025.00000</td>\n",
              "      <td>1025.000000</td>\n",
              "      <td>1025.000000</td>\n",
              "      <td>1025.000000</td>\n",
              "      <td>1025.000000</td>\n",
              "      <td>1025.000000</td>\n",
              "      <td>1025.000000</td>\n",
              "      <td>1025.000000</td>\n",
              "      <td>1025.000000</td>\n",
              "      <td>1025.000000</td>\n",
              "    </tr>\n",
              "    <tr>\n",
              "      <th>mean</th>\n",
              "      <td>54.434146</td>\n",
              "      <td>0.695610</td>\n",
              "      <td>0.942439</td>\n",
              "      <td>131.611707</td>\n",
              "      <td>246.00000</td>\n",
              "      <td>0.149268</td>\n",
              "      <td>0.529756</td>\n",
              "      <td>149.114146</td>\n",
              "      <td>0.336585</td>\n",
              "      <td>1.071512</td>\n",
              "      <td>1.385366</td>\n",
              "      <td>0.754146</td>\n",
              "      <td>2.323902</td>\n",
              "      <td>0.513171</td>\n",
              "    </tr>\n",
              "    <tr>\n",
              "      <th>std</th>\n",
              "      <td>9.072290</td>\n",
              "      <td>0.460373</td>\n",
              "      <td>1.029641</td>\n",
              "      <td>17.516718</td>\n",
              "      <td>51.59251</td>\n",
              "      <td>0.356527</td>\n",
              "      <td>0.527878</td>\n",
              "      <td>23.005724</td>\n",
              "      <td>0.472772</td>\n",
              "      <td>1.175053</td>\n",
              "      <td>0.617755</td>\n",
              "      <td>1.030798</td>\n",
              "      <td>0.620660</td>\n",
              "      <td>0.500070</td>\n",
              "    </tr>\n",
              "    <tr>\n",
              "      <th>min</th>\n",
              "      <td>29.000000</td>\n",
              "      <td>0.000000</td>\n",
              "      <td>0.000000</td>\n",
              "      <td>94.000000</td>\n",
              "      <td>126.00000</td>\n",
              "      <td>0.000000</td>\n",
              "      <td>0.000000</td>\n",
              "      <td>71.000000</td>\n",
              "      <td>0.000000</td>\n",
              "      <td>0.000000</td>\n",
              "      <td>0.000000</td>\n",
              "      <td>0.000000</td>\n",
              "      <td>0.000000</td>\n",
              "      <td>0.000000</td>\n",
              "    </tr>\n",
              "    <tr>\n",
              "      <th>25%</th>\n",
              "      <td>48.000000</td>\n",
              "      <td>0.000000</td>\n",
              "      <td>0.000000</td>\n",
              "      <td>120.000000</td>\n",
              "      <td>211.00000</td>\n",
              "      <td>0.000000</td>\n",
              "      <td>0.000000</td>\n",
              "      <td>132.000000</td>\n",
              "      <td>0.000000</td>\n",
              "      <td>0.000000</td>\n",
              "      <td>1.000000</td>\n",
              "      <td>0.000000</td>\n",
              "      <td>2.000000</td>\n",
              "      <td>0.000000</td>\n",
              "    </tr>\n",
              "    <tr>\n",
              "      <th>50%</th>\n",
              "      <td>56.000000</td>\n",
              "      <td>1.000000</td>\n",
              "      <td>1.000000</td>\n",
              "      <td>130.000000</td>\n",
              "      <td>240.00000</td>\n",
              "      <td>0.000000</td>\n",
              "      <td>1.000000</td>\n",
              "      <td>152.000000</td>\n",
              "      <td>0.000000</td>\n",
              "      <td>0.800000</td>\n",
              "      <td>1.000000</td>\n",
              "      <td>0.000000</td>\n",
              "      <td>2.000000</td>\n",
              "      <td>1.000000</td>\n",
              "    </tr>\n",
              "    <tr>\n",
              "      <th>75%</th>\n",
              "      <td>61.000000</td>\n",
              "      <td>1.000000</td>\n",
              "      <td>2.000000</td>\n",
              "      <td>140.000000</td>\n",
              "      <td>275.00000</td>\n",
              "      <td>0.000000</td>\n",
              "      <td>1.000000</td>\n",
              "      <td>166.000000</td>\n",
              "      <td>1.000000</td>\n",
              "      <td>1.800000</td>\n",
              "      <td>2.000000</td>\n",
              "      <td>1.000000</td>\n",
              "      <td>3.000000</td>\n",
              "      <td>1.000000</td>\n",
              "    </tr>\n",
              "    <tr>\n",
              "      <th>max</th>\n",
              "      <td>77.000000</td>\n",
              "      <td>1.000000</td>\n",
              "      <td>3.000000</td>\n",
              "      <td>200.000000</td>\n",
              "      <td>564.00000</td>\n",
              "      <td>1.000000</td>\n",
              "      <td>2.000000</td>\n",
              "      <td>202.000000</td>\n",
              "      <td>1.000000</td>\n",
              "      <td>6.200000</td>\n",
              "      <td>2.000000</td>\n",
              "      <td>4.000000</td>\n",
              "      <td>3.000000</td>\n",
              "      <td>1.000000</td>\n",
              "    </tr>\n",
              "  </tbody>\n",
              "</table>\n",
              "</div>\n",
              "      <button class=\"colab-df-convert\" onclick=\"convertToInteractive('df-acde16fa-d3a0-4dd7-b345-7c696afd53a1')\"\n",
              "              title=\"Convert this dataframe to an interactive table.\"\n",
              "              style=\"display:none;\">\n",
              "        \n",
              "  <svg xmlns=\"http://www.w3.org/2000/svg\" height=\"24px\"viewBox=\"0 0 24 24\"\n",
              "       width=\"24px\">\n",
              "    <path d=\"M0 0h24v24H0V0z\" fill=\"none\"/>\n",
              "    <path d=\"M18.56 5.44l.94 2.06.94-2.06 2.06-.94-2.06-.94-.94-2.06-.94 2.06-2.06.94zm-11 1L8.5 8.5l.94-2.06 2.06-.94-2.06-.94L8.5 2.5l-.94 2.06-2.06.94zm10 10l.94 2.06.94-2.06 2.06-.94-2.06-.94-.94-2.06-.94 2.06-2.06.94z\"/><path d=\"M17.41 7.96l-1.37-1.37c-.4-.4-.92-.59-1.43-.59-.52 0-1.04.2-1.43.59L10.3 9.45l-7.72 7.72c-.78.78-.78 2.05 0 2.83L4 21.41c.39.39.9.59 1.41.59.51 0 1.02-.2 1.41-.59l7.78-7.78 2.81-2.81c.8-.78.8-2.07 0-2.86zM5.41 20L4 18.59l7.72-7.72 1.47 1.35L5.41 20z\"/>\n",
              "  </svg>\n",
              "      </button>\n",
              "      \n",
              "  <style>\n",
              "    .colab-df-container {\n",
              "      display:flex;\n",
              "      flex-wrap:wrap;\n",
              "      gap: 12px;\n",
              "    }\n",
              "\n",
              "    .colab-df-convert {\n",
              "      background-color: #E8F0FE;\n",
              "      border: none;\n",
              "      border-radius: 50%;\n",
              "      cursor: pointer;\n",
              "      display: none;\n",
              "      fill: #1967D2;\n",
              "      height: 32px;\n",
              "      padding: 0 0 0 0;\n",
              "      width: 32px;\n",
              "    }\n",
              "\n",
              "    .colab-df-convert:hover {\n",
              "      background-color: #E2EBFA;\n",
              "      box-shadow: 0px 1px 2px rgba(60, 64, 67, 0.3), 0px 1px 3px 1px rgba(60, 64, 67, 0.15);\n",
              "      fill: #174EA6;\n",
              "    }\n",
              "\n",
              "    [theme=dark] .colab-df-convert {\n",
              "      background-color: #3B4455;\n",
              "      fill: #D2E3FC;\n",
              "    }\n",
              "\n",
              "    [theme=dark] .colab-df-convert:hover {\n",
              "      background-color: #434B5C;\n",
              "      box-shadow: 0px 1px 3px 1px rgba(0, 0, 0, 0.15);\n",
              "      filter: drop-shadow(0px 1px 2px rgba(0, 0, 0, 0.3));\n",
              "      fill: #FFFFFF;\n",
              "    }\n",
              "  </style>\n",
              "\n",
              "      <script>\n",
              "        const buttonEl =\n",
              "          document.querySelector('#df-acde16fa-d3a0-4dd7-b345-7c696afd53a1 button.colab-df-convert');\n",
              "        buttonEl.style.display =\n",
              "          google.colab.kernel.accessAllowed ? 'block' : 'none';\n",
              "\n",
              "        async function convertToInteractive(key) {\n",
              "          const element = document.querySelector('#df-acde16fa-d3a0-4dd7-b345-7c696afd53a1');\n",
              "          const dataTable =\n",
              "            await google.colab.kernel.invokeFunction('convertToInteractive',\n",
              "                                                     [key], {});\n",
              "          if (!dataTable) return;\n",
              "\n",
              "          const docLinkHtml = 'Like what you see? Visit the ' +\n",
              "            '<a target=\"_blank\" href=https://colab.research.google.com/notebooks/data_table.ipynb>data table notebook</a>'\n",
              "            + ' to learn more about interactive tables.';\n",
              "          element.innerHTML = '';\n",
              "          dataTable['output_type'] = 'display_data';\n",
              "          await google.colab.output.renderOutput(dataTable, element);\n",
              "          const docLink = document.createElement('div');\n",
              "          docLink.innerHTML = docLinkHtml;\n",
              "          element.appendChild(docLink);\n",
              "        }\n",
              "      </script>\n",
              "    </div>\n",
              "  </div>\n",
              "  "
            ]
          },
          "metadata": {},
          "execution_count": 143
        }
      ]
    },
    {
      "metadata": {
        "id": "edurcSVbcq-M",
        "outputId": "4f550527-3bd1-4d88-ac21-18c79a0d12d8",
        "colab": {
          "base_uri": "https://localhost:8080/"
        }
      },
      "cell_type": "code",
      "source": [
        "data.info()"
      ],
      "execution_count": 144,
      "outputs": [
        {
          "output_type": "stream",
          "name": "stdout",
          "text": [
            "<class 'pandas.core.frame.DataFrame'>\n",
            "RangeIndex: 1025 entries, 0 to 1024\n",
            "Data columns (total 14 columns):\n",
            " #   Column    Non-Null Count  Dtype  \n",
            "---  ------    --------------  -----  \n",
            " 0   age       1025 non-null   int64  \n",
            " 1   sex       1025 non-null   int64  \n",
            " 2   cp        1025 non-null   int64  \n",
            " 3   trestbps  1025 non-null   int64  \n",
            " 4   chol      1025 non-null   int64  \n",
            " 5   fbs       1025 non-null   int64  \n",
            " 6   restecg   1025 non-null   int64  \n",
            " 7   thalach   1025 non-null   int64  \n",
            " 8   exang     1025 non-null   int64  \n",
            " 9   oldpeak   1025 non-null   float64\n",
            " 10  slope     1025 non-null   int64  \n",
            " 11  ca        1025 non-null   int64  \n",
            " 12  thal      1025 non-null   int64  \n",
            " 13  target    1025 non-null   int64  \n",
            "dtypes: float64(1), int64(13)\n",
            "memory usage: 112.2 KB\n"
          ]
        }
      ]
    },
    {
      "metadata": {
        "id": "xSBQP_P8AdVm"
      },
      "cell_type": "markdown",
      "source": [
        "1. age: The person's age in years\n",
        "\n",
        "2. sex: The person's sex (1 = male, 0 = female)\n",
        "\n",
        "3. cp: The chest pain experienced (Value 1: typical angina, Value 2: atypical angina, Value 3: non-anginal pain, Value 4: asymptomatic)\n",
        "\n",
        "4. trestbps: The person's resting blood pressure (mm Hg on admission to the hospital)\n",
        "\n",
        "5. chol: The person's cholesterol measurement in mg/dl\n",
        "\n",
        "6. fbs: The person's fasting blood sugar (> 120 mg/dl, 1 = true; 0 = false)\n",
        "\n",
        "7. restecg: Resting electrocardiographic measurement (0 = normal, 1 = having ST-T wave abnormality, 2 = showing probable or definite left ventricular hypertrophy by Estes' criteria)\n",
        "\n",
        "8. thalach: The person's maximum heart rate achieved\n",
        "\n",
        "9. exang: Exercise induced angina (1 = yes; 0 = no)\n",
        "\n",
        "10. oldpeak: ST depression induced by exercise relative to rest ('ST' relates to positions on the ECG plot. See more here)\n",
        "\n",
        "11. slope: the slope of the peak exercise ST segment (Value 1: upsloping, Value 2: flat, Value 3: downsloping)\n",
        "\n",
        "12. ca: The number of major vessels (0-3)\n",
        "\n",
        "13. thal: A blood disorder called thalassemia (3 = normal; 6 = fixed defect; 7 = reversable defect)\n",
        "\n",
        "14. target: Heart disease (0 = no, 1 = yes)\n",
        "\n",
        "Heart disease risk factors to the following: high cholesterol, high blood pressure, diabetes, weight, family history and smoking . \n",
        "\n",
        "According to another source , the major factors that can't be changed are: increasing age, male gender and heredity. \n",
        "\n",
        "Note that thalassemia, one of the variables in this dataset, is heredity. \n",
        "\n",
        "Major factors that can be modified are: Smoking, high cholesterol, high blood pressure, physical inactivity, and being overweight and having diabetes. \n",
        "\n",
        "Other factors include stress, alcohol and poor diet/nutrition."
      ]
    },
    {
      "metadata": {
        "id": "nGuJY-jlchCZ",
        "outputId": "5e7a8bda-3434-4c52-de88-a9dffbbeefac",
        "colab": {
          "base_uri": "https://localhost:8080/",
          "height": 206
        }
      },
      "cell_type": "code",
      "source": [
        "data.sample(5)"
      ],
      "execution_count": 145,
      "outputs": [
        {
          "output_type": "execute_result",
          "data": {
            "text/plain": [
              "     age  sex  cp  trestbps  chol  fbs  restecg  thalach  exang  oldpeak  \\\n",
              "690   58    1   2       105   240    0        0      154      1      0.6   \n",
              "312   70    1   2       160   269    0        1      112      1      2.9   \n",
              "687   58    1   0       125   300    0        0      171      0      0.0   \n",
              "621   48    1   0       130   256    1        0      150      1      0.0   \n",
              "16    51    0   2       140   308    0        0      142      0      1.5   \n",
              "\n",
              "     slope  ca  thal  target  \n",
              "690      1   0     3       1  \n",
              "312      1   1     3       0  \n",
              "687      2   2     3       0  \n",
              "621      2   2     3       0  \n",
              "16       2   1     2       1  "
            ],
            "text/html": [
              "\n",
              "  <div id=\"df-150f8a6e-58e7-450f-bead-748886d0b67d\">\n",
              "    <div class=\"colab-df-container\">\n",
              "      <div>\n",
              "<style scoped>\n",
              "    .dataframe tbody tr th:only-of-type {\n",
              "        vertical-align: middle;\n",
              "    }\n",
              "\n",
              "    .dataframe tbody tr th {\n",
              "        vertical-align: top;\n",
              "    }\n",
              "\n",
              "    .dataframe thead th {\n",
              "        text-align: right;\n",
              "    }\n",
              "</style>\n",
              "<table border=\"1\" class=\"dataframe\">\n",
              "  <thead>\n",
              "    <tr style=\"text-align: right;\">\n",
              "      <th></th>\n",
              "      <th>age</th>\n",
              "      <th>sex</th>\n",
              "      <th>cp</th>\n",
              "      <th>trestbps</th>\n",
              "      <th>chol</th>\n",
              "      <th>fbs</th>\n",
              "      <th>restecg</th>\n",
              "      <th>thalach</th>\n",
              "      <th>exang</th>\n",
              "      <th>oldpeak</th>\n",
              "      <th>slope</th>\n",
              "      <th>ca</th>\n",
              "      <th>thal</th>\n",
              "      <th>target</th>\n",
              "    </tr>\n",
              "  </thead>\n",
              "  <tbody>\n",
              "    <tr>\n",
              "      <th>690</th>\n",
              "      <td>58</td>\n",
              "      <td>1</td>\n",
              "      <td>2</td>\n",
              "      <td>105</td>\n",
              "      <td>240</td>\n",
              "      <td>0</td>\n",
              "      <td>0</td>\n",
              "      <td>154</td>\n",
              "      <td>1</td>\n",
              "      <td>0.6</td>\n",
              "      <td>1</td>\n",
              "      <td>0</td>\n",
              "      <td>3</td>\n",
              "      <td>1</td>\n",
              "    </tr>\n",
              "    <tr>\n",
              "      <th>312</th>\n",
              "      <td>70</td>\n",
              "      <td>1</td>\n",
              "      <td>2</td>\n",
              "      <td>160</td>\n",
              "      <td>269</td>\n",
              "      <td>0</td>\n",
              "      <td>1</td>\n",
              "      <td>112</td>\n",
              "      <td>1</td>\n",
              "      <td>2.9</td>\n",
              "      <td>1</td>\n",
              "      <td>1</td>\n",
              "      <td>3</td>\n",
              "      <td>0</td>\n",
              "    </tr>\n",
              "    <tr>\n",
              "      <th>687</th>\n",
              "      <td>58</td>\n",
              "      <td>1</td>\n",
              "      <td>0</td>\n",
              "      <td>125</td>\n",
              "      <td>300</td>\n",
              "      <td>0</td>\n",
              "      <td>0</td>\n",
              "      <td>171</td>\n",
              "      <td>0</td>\n",
              "      <td>0.0</td>\n",
              "      <td>2</td>\n",
              "      <td>2</td>\n",
              "      <td>3</td>\n",
              "      <td>0</td>\n",
              "    </tr>\n",
              "    <tr>\n",
              "      <th>621</th>\n",
              "      <td>48</td>\n",
              "      <td>1</td>\n",
              "      <td>0</td>\n",
              "      <td>130</td>\n",
              "      <td>256</td>\n",
              "      <td>1</td>\n",
              "      <td>0</td>\n",
              "      <td>150</td>\n",
              "      <td>1</td>\n",
              "      <td>0.0</td>\n",
              "      <td>2</td>\n",
              "      <td>2</td>\n",
              "      <td>3</td>\n",
              "      <td>0</td>\n",
              "    </tr>\n",
              "    <tr>\n",
              "      <th>16</th>\n",
              "      <td>51</td>\n",
              "      <td>0</td>\n",
              "      <td>2</td>\n",
              "      <td>140</td>\n",
              "      <td>308</td>\n",
              "      <td>0</td>\n",
              "      <td>0</td>\n",
              "      <td>142</td>\n",
              "      <td>0</td>\n",
              "      <td>1.5</td>\n",
              "      <td>2</td>\n",
              "      <td>1</td>\n",
              "      <td>2</td>\n",
              "      <td>1</td>\n",
              "    </tr>\n",
              "  </tbody>\n",
              "</table>\n",
              "</div>\n",
              "      <button class=\"colab-df-convert\" onclick=\"convertToInteractive('df-150f8a6e-58e7-450f-bead-748886d0b67d')\"\n",
              "              title=\"Convert this dataframe to an interactive table.\"\n",
              "              style=\"display:none;\">\n",
              "        \n",
              "  <svg xmlns=\"http://www.w3.org/2000/svg\" height=\"24px\"viewBox=\"0 0 24 24\"\n",
              "       width=\"24px\">\n",
              "    <path d=\"M0 0h24v24H0V0z\" fill=\"none\"/>\n",
              "    <path d=\"M18.56 5.44l.94 2.06.94-2.06 2.06-.94-2.06-.94-.94-2.06-.94 2.06-2.06.94zm-11 1L8.5 8.5l.94-2.06 2.06-.94-2.06-.94L8.5 2.5l-.94 2.06-2.06.94zm10 10l.94 2.06.94-2.06 2.06-.94-2.06-.94-.94-2.06-.94 2.06-2.06.94z\"/><path d=\"M17.41 7.96l-1.37-1.37c-.4-.4-.92-.59-1.43-.59-.52 0-1.04.2-1.43.59L10.3 9.45l-7.72 7.72c-.78.78-.78 2.05 0 2.83L4 21.41c.39.39.9.59 1.41.59.51 0 1.02-.2 1.41-.59l7.78-7.78 2.81-2.81c.8-.78.8-2.07 0-2.86zM5.41 20L4 18.59l7.72-7.72 1.47 1.35L5.41 20z\"/>\n",
              "  </svg>\n",
              "      </button>\n",
              "      \n",
              "  <style>\n",
              "    .colab-df-container {\n",
              "      display:flex;\n",
              "      flex-wrap:wrap;\n",
              "      gap: 12px;\n",
              "    }\n",
              "\n",
              "    .colab-df-convert {\n",
              "      background-color: #E8F0FE;\n",
              "      border: none;\n",
              "      border-radius: 50%;\n",
              "      cursor: pointer;\n",
              "      display: none;\n",
              "      fill: #1967D2;\n",
              "      height: 32px;\n",
              "      padding: 0 0 0 0;\n",
              "      width: 32px;\n",
              "    }\n",
              "\n",
              "    .colab-df-convert:hover {\n",
              "      background-color: #E2EBFA;\n",
              "      box-shadow: 0px 1px 2px rgba(60, 64, 67, 0.3), 0px 1px 3px 1px rgba(60, 64, 67, 0.15);\n",
              "      fill: #174EA6;\n",
              "    }\n",
              "\n",
              "    [theme=dark] .colab-df-convert {\n",
              "      background-color: #3B4455;\n",
              "      fill: #D2E3FC;\n",
              "    }\n",
              "\n",
              "    [theme=dark] .colab-df-convert:hover {\n",
              "      background-color: #434B5C;\n",
              "      box-shadow: 0px 1px 3px 1px rgba(0, 0, 0, 0.15);\n",
              "      filter: drop-shadow(0px 1px 2px rgba(0, 0, 0, 0.3));\n",
              "      fill: #FFFFFF;\n",
              "    }\n",
              "  </style>\n",
              "\n",
              "      <script>\n",
              "        const buttonEl =\n",
              "          document.querySelector('#df-150f8a6e-58e7-450f-bead-748886d0b67d button.colab-df-convert');\n",
              "        buttonEl.style.display =\n",
              "          google.colab.kernel.accessAllowed ? 'block' : 'none';\n",
              "\n",
              "        async function convertToInteractive(key) {\n",
              "          const element = document.querySelector('#df-150f8a6e-58e7-450f-bead-748886d0b67d');\n",
              "          const dataTable =\n",
              "            await google.colab.kernel.invokeFunction('convertToInteractive',\n",
              "                                                     [key], {});\n",
              "          if (!dataTable) return;\n",
              "\n",
              "          const docLinkHtml = 'Like what you see? Visit the ' +\n",
              "            '<a target=\"_blank\" href=https://colab.research.google.com/notebooks/data_table.ipynb>data table notebook</a>'\n",
              "            + ' to learn more about interactive tables.';\n",
              "          element.innerHTML = '';\n",
              "          dataTable['output_type'] = 'display_data';\n",
              "          await google.colab.output.renderOutput(dataTable, element);\n",
              "          const docLink = document.createElement('div');\n",
              "          docLink.innerHTML = docLinkHtml;\n",
              "          element.appendChild(docLink);\n",
              "        }\n",
              "      </script>\n",
              "    </div>\n",
              "  </div>\n",
              "  "
            ]
          },
          "metadata": {},
          "execution_count": 145
        }
      ]
    },
    {
      "metadata": {
        "id": "FMZFX88kTSmA",
        "outputId": "4630149f-aa2a-4e4b-a5a3-d576123c6f6f",
        "colab": {
          "base_uri": "https://localhost:8080/"
        }
      },
      "cell_type": "code",
      "source": [
        "data.isnull().sum()"
      ],
      "execution_count": 146,
      "outputs": [
        {
          "output_type": "execute_result",
          "data": {
            "text/plain": [
              "age         0\n",
              "sex         0\n",
              "cp          0\n",
              "trestbps    0\n",
              "chol        0\n",
              "fbs         0\n",
              "restecg     0\n",
              "thalach     0\n",
              "exang       0\n",
              "oldpeak     0\n",
              "slope       0\n",
              "ca          0\n",
              "thal        0\n",
              "target      0\n",
              "dtype: int64"
            ]
          },
          "metadata": {},
          "execution_count": 146
        }
      ]
    },
    {
      "metadata": {
        "id": "1cDJkmBETXNd",
        "outputId": "50d777c3-d8ab-42ab-afc1-a46fcb223cd6",
        "colab": {
          "base_uri": "https://localhost:8080/"
        }
      },
      "cell_type": "code",
      "source": [
        "data.isnull().sum().sum()"
      ],
      "execution_count": 147,
      "outputs": [
        {
          "output_type": "execute_result",
          "data": {
            "text/plain": [
              "0"
            ]
          },
          "metadata": {},
          "execution_count": 147
        }
      ]
    },
    {
      "metadata": {
        "id": "Fuz6Hb6FcwSb"
      },
      "cell_type": "markdown",
      "source": [
        "###So, we have no missing values"
      ]
    },
    {
      "metadata": {
        "outputId": "7de58240-5d96-4d19-c6c7-3bb5e544ac94",
        "id": "Gul7tFpt6BjO",
        "colab": {
          "base_uri": "https://localhost:8080/"
        }
      },
      "cell_type": "code",
      "source": [
        "print(data.corr()[\"target\"].abs().sort_values(ascending=False))"
      ],
      "execution_count": 148,
      "outputs": [
        {
          "output_type": "stream",
          "name": "stdout",
          "text": [
            "target      1.000000\n",
            "oldpeak     0.438441\n",
            "exang       0.438029\n",
            "cp          0.434854\n",
            "thalach     0.422895\n",
            "ca          0.382085\n",
            "slope       0.345512\n",
            "thal        0.337838\n",
            "sex         0.279501\n",
            "age         0.229324\n",
            "trestbps    0.138772\n",
            "restecg     0.134468\n",
            "chol        0.099966\n",
            "fbs         0.041164\n",
            "Name: target, dtype: float64\n"
          ]
        }
      ]
    },
    {
      "metadata": {
        "id": "f2McI10ML7ai"
      },
      "cell_type": "markdown",
      "source": [
        "### This shows that most columns are moderately correlated with target, but 'fbs' is very weakly correlated."
      ]
    },
    {
      "metadata": {
        "id": "Gs9wS_M1MDor"
      },
      "cell_type": "markdown",
      "source": [
        "# Exploratory Data Analysis (EDA)"
      ]
    },
    {
      "metadata": {
        "id": "LYrn0_v6MCua",
        "outputId": "7dd99ffb-c98a-4682-a70f-58564281ff81",
        "colab": {
          "base_uri": "https://localhost:8080/",
          "height": 331
        }
      },
      "cell_type": "code",
      "source": [
        "y = data[\"target\"]\n",
        "\n",
        "sns.countplot(y)\n",
        "\n",
        "\n",
        "target_temp = data.target.value_counts()\n",
        "\n",
        "print(target_temp)"
      ],
      "execution_count": 149,
      "outputs": [
        {
          "output_type": "stream",
          "name": "stdout",
          "text": [
            "1    526\n",
            "0    499\n",
            "Name: target, dtype: int64\n"
          ]
        },
        {
          "output_type": "display_data",
          "data": {
            "text/plain": [
              "<Figure size 432x288 with 1 Axes>"
            ],
            "image/png": "[encoded data removed]"
          },
          "metadata": {
            "needs_background": "light"
          }
        }
      ]
    },
    {
      "metadata": {
        "id": "h52xaaboCayH"
      },
      "cell_type": "markdown",
      "source": [
        "# Percentage of patient with or without heart problems in the given dataset"
      ]
    },
    {
      "metadata": {
        "id": "LeamFmYQMS62",
        "outputId": "422a207c-6730-4ac7-b101-73739891bb84",
        "colab": {
          "base_uri": "https://localhost:8080/"
        }
      },
      "cell_type": "code",
      "source": [
        "print(\"Percentage of patience without heart problems: \"+str(round(target_temp[0]*100/1025,2)))\n",
        "print(\"Percentage of patience with heart problems: \"+str(round(target_temp[1]*100/1025,2)))"
      ],
      "execution_count": 280,
      "outputs": [
        {
          "output_type": "stream",
          "name": "stdout",
          "text": [
            "Percentage of patience without heart problems: 48.68\n",
            "Percentage of patience with heart problems: 51.32\n"
          ]
        }
      ]
    },
    {
      "metadata": {
        "id": "xWPS2GN_MWSf",
        "outputId": "a395ba5c-0e3b-4a7a-b6d3-397b9d43f432",
        "colab": {
          "base_uri": "https://localhost:8080/"
        }
      },
      "cell_type": "code",
      "source": [
        "data[\"sex\"].unique()"
      ],
      "execution_count": 151,
      "outputs": [
        {
          "output_type": "execute_result",
          "data": {
            "text/plain": [
              "array([1, 0])"
            ]
          },
          "metadata": {},
          "execution_count": 151
        }
      ]
    },
    {
      "metadata": {
        "id": "VNE_24MEMZyd",
        "outputId": "1c94f289-71fc-4859-b146-6997b1b767a6",
        "colab": {
          "base_uri": "https://localhost:8080/",
          "height": 298
        }
      },
      "cell_type": "code",
      "source": [
        "sns.barplot(data[\"sex\"],y)"
      ],
      "execution_count": 152,
      "outputs": [
        {
          "output_type": "execute_result",
          "data": {
            "text/plain": [
              "<matplotlib.axes._subplots.AxesSubplot at 0x7f803091c410>"
            ]
          },
          "metadata": {},
          "execution_count": 152
        },
        {
          "output_type": "display_data",
          "data": {
            "text/plain": [
              "<Figure size 432x288 with 1 Axes>"
            ],
            "image/png": "[encoded data removed]"
          },
          "metadata": {
            "needs_background": "light"
          }
        }
      ]
    },
    {
      "metadata": {
        "id": "eCiVyyhcCxZ9"
      },
      "cell_type": "markdown",
      "source": [
        "### Here 0 is female and 1 is male patients"
      ]
    },
    {
      "metadata": {
        "id": "9r4vNghMatAa",
        "outputId": "e3454dc2-35ca-4d97-a158-dab93f7b8449",
        "colab": {
          "base_uri": "https://localhost:8080/"
        }
      },
      "cell_type": "code",
      "source": [
        "countFemale = len(data[data.sex == 0])\n",
        "countMale = len(data[data.sex == 1])\n",
        "print(\"Percentage of Female Patients:{:.2f}%\".format((countFemale)/(len(data.sex))*100))\n",
        "print(\"Percentage of Male Patients:{:.2f}%\".format((countMale)/(len(data.sex))*100))"
      ],
      "execution_count": 153,
      "outputs": [
        {
          "output_type": "stream",
          "name": "stdout",
          "text": [
            "Percentage of Female Patients:30.44%\n",
            "Percentage of Male Patients:69.56%\n"
          ]
        }
      ]
    },
    {
      "metadata": {
        "id": "Bj1ocarrDBND"
      },
      "cell_type": "markdown",
      "source": [
        "# Heart Disease Frequency for ages"
      ]
    },
    {
      "metadata": {
        "id": "ccz2s1zEazCH",
        "outputId": "190d4325-5406-4be0-85ab-95997719bb26",
        "colab": {
          "base_uri": "https://localhost:8080/",
          "height": 390
        }
      },
      "cell_type": "code",
      "source": [
        "pd.crosstab(data.age,data.target).plot(kind=\"bar\",figsize=(20,6))\n",
        "plt.title('Heart Disease Frequency for Ages')\n",
        "plt.xlabel('Age')\n",
        "plt.ylabel('Frequency')\n",
        "plt.savefig('heartDiseaseAndAges.png')\n",
        "plt.show()"
      ],
      "execution_count": 154,
      "outputs": [
        {
          "output_type": "display_data",
          "data": {
            "text/plain": [
              "<Figure size 1440x432 with 1 Axes>"
            ],
            "image/png": "[encoded data removed]"
          },
          "metadata": {
            "needs_background": "light"
          }
        }
      ]
    },
    {
      "metadata": {
        "id": "PBvtRjiHDHMs"
      },
      "cell_type": "markdown",
      "source": [
        "# Heart Disease frequency for sex (where 0 is female and 1 is male and \"red\" is have heart disease and \"blue\" is don't have heart disease)"
      ]
    },
    {
      "metadata": {
        "id": "t5eR4CWoa6US",
        "outputId": "40662681-bb5c-4865-cedf-ca37c989faba",
        "colab": {
          "base_uri": "https://localhost:8080/",
          "height": 592
        }
      },
      "cell_type": "code",
      "source": [
        "pd.crosstab(data.sex,data.target).plot(kind=\"bar\",figsize=(20,10),color=['blue','#AA1111' ])\n",
        "plt.title('Heart Disease Frequency for Sex')\n",
        "plt.xlabel('Sex (0 = Female, 1 = Male)')\n",
        "plt.xticks(rotation=0)\n",
        "plt.legend([\"Don't have Disease\", \"Have Disease\"])\n",
        "plt.ylabel('Frequency')\n",
        "plt.show()"
      ],
      "execution_count": 155,
      "outputs": [
        {
          "output_type": "display_data",
          "data": {
            "text/plain": [
              "<Figure size 1440x720 with 1 Axes>"
            ],
            "image/png": "[encoded data removed]"
          },
          "metadata": {
            "needs_background": "light"
          }
        }
      ]
    },
    {
      "metadata": {
        "id": "txsfOS4abYGc"
      },
      "cell_type": "markdown",
      "source": [
        "run this line after prediction"
      ]
    },
    {
      "metadata": {
        "id": "u9c5cXJnbXMc"
      },
      "cell_type": "code",
      "source": [
        "data.columns = ['age', 'sex', 'chest_pain_type', 'resting_blood_pressure', 'cholesterol', 'fasting_blood_sugar', 'rest_ecg', 'max_heart_rate_achieved',\n",
        "       'exercise_induced_angina', 'st_depression', 'st_slope', 'num_major_vessels', 'thalassemia', 'target']"
      ],
      "execution_count": 156,
      "outputs": []
    },
    {
      "metadata": {
        "id": "bDpCbRPVDmtz"
      },
      "cell_type": "markdown",
      "source": [
        "# Heart disease according to Fasting Blood sugar "
      ]
    },
    {
      "metadata": {
        "id": "8cP_g8Qka848",
        "outputId": "10c042c4-68cc-4efb-f716-8f804a067df5",
        "colab": {
          "base_uri": "https://localhost:8080/",
          "height": 589
        }
      },
      "cell_type": "code",
      "source": [
        "pd.crosstab(data.fasting_blood_sugar,data.target).plot(kind=\"bar\",figsize=(20,10),color=['#4286f4','#f49242'])\n",
        "plt.title(\"Heart disease according to FBS\")\n",
        "plt.xlabel('FBS- (Fasting Blood Sugar > 120 mg/dl) (1 = true; 0 = false)')\n",
        "plt.xticks(rotation=90)\n",
        "plt.legend([\"Don't Have Disease\", \"Have Disease\"])\n",
        "plt.ylabel('Disease or not')\n",
        "plt.show()"
      ],
      "execution_count": 157,
      "outputs": [
        {
          "output_type": "display_data",
          "data": {
            "text/plain": [
              "<Figure size 1440x720 with 1 Axes>"
            ],
            "image/png": "[encoded data removed]"
          },
          "metadata": {
            "needs_background": "light"
          }
        }
      ]
    },
    {
      "metadata": {
        "id": "ikTe2mI9dAte"
      },
      "cell_type": "markdown",
      "source": [
        "# Analysing the chest pain (4 types of chest pain)\n",
        "\n",
        "#[Value 1: typical angina, Value 2: atypical angina, Value 3: non-anginal pain, Value 4: asymptomatic]"
      ]
    },
    {
      "metadata": {
        "id": "tgt8okDpc_Ff",
        "outputId": "19ede118-2919-4af8-a563-e17b05f7dbd1",
        "colab": {
          "base_uri": "https://localhost:8080/"
        }
      },
      "cell_type": "code",
      "source": [
        "data[\"chest_pain_type\"].unique()"
      ],
      "execution_count": 158,
      "outputs": [
        {
          "output_type": "execute_result",
          "data": {
            "text/plain": [
              "array([0, 1, 2, 3])"
            ]
          },
          "metadata": {},
          "execution_count": 158
        }
      ]
    },
    {
      "metadata": {
        "id": "mS8B6CzIdNUE",
        "outputId": "17865c8d-8843-4a0c-b236-400760ffb3c8",
        "colab": {
          "base_uri": "https://localhost:8080/",
          "height": 471
        }
      },
      "cell_type": "code",
      "source": [
        "plt.figure(figsize=(26, 10))\n",
        "sns.barplot(data[\"chest_pain_type\"],y)"
      ],
      "execution_count": 159,
      "outputs": [
        {
          "output_type": "execute_result",
          "data": {
            "text/plain": [
              "<matplotlib.axes._subplots.AxesSubplot at 0x7f803114ee10>"
            ]
          },
          "metadata": {},
          "execution_count": 159
        },
        {
          "output_type": "display_data",
          "data": {
            "text/plain": [
              "<Figure size 1872x720 with 1 Axes>"
            ],
            "image/png": "[encoded data removed]"
          },
          "metadata": {
            "needs_background": "light"
          }
        }
      ]
    },
    {
      "metadata": {
        "id": "MRMQY8U-d27T"
      },
      "cell_type": "markdown",
      "source": [
        "# Analysing the Resting electrocardiographic measurement (0 = normal, 1 = having ST-T wave abnormality, 2 = showing probable or definite left ventricular hypertrophy by Estes' criteria)"
      ]
    },
    {
      "metadata": {
        "id": "GJGIeio6d3UT",
        "outputId": "f084e1ea-35b8-4d88-ec8b-27ae30e22210",
        "colab": {
          "base_uri": "https://localhost:8080/"
        }
      },
      "cell_type": "code",
      "source": [
        "data[\"rest_ecg\"].unique()"
      ],
      "execution_count": 162,
      "outputs": [
        {
          "output_type": "execute_result",
          "data": {
            "text/plain": [
              "array([1, 0, 2])"
            ]
          },
          "metadata": {},
          "execution_count": 162
        }
      ]
    },
    {
      "metadata": {
        "id": "tBI2Wtq8eJFI",
        "outputId": "0fa49c21-3f60-45d2-f0c4-0de7a0e65ab9",
        "colab": {
          "base_uri": "https://localhost:8080/",
          "height": 673
        }
      },
      "cell_type": "code",
      "source": [
        "plt.figure(figsize=(26, 15))\n",
        "sns.barplot(data[\"rest_ecg\"],y)"
      ],
      "execution_count": 163,
      "outputs": [
        {
          "output_type": "execute_result",
          "data": {
            "text/plain": [
              "<matplotlib.axes._subplots.AxesSubplot at 0x7f8030c71890>"
            ]
          },
          "metadata": {},
          "execution_count": 163
        },
        {
          "output_type": "display_data",
          "data": {
            "text/plain": [
              "<Figure size 1872x1080 with 1 Axes>"
            ],
            "image/png": "[encoded data removed]"
          },
          "metadata": {
            "needs_background": "light"
          }
        }
      ]
    },
    {
      "metadata": {
        "id": "UCW6of9jeOml"
      },
      "cell_type": "markdown",
      "source": [
        "## people with restecg '1' and '0' are much more likely to have a heart disease than with restecg '2'"
      ]
    },
    {
      "metadata": {
        "id": "VtKOlsyoeTRo"
      },
      "cell_type": "markdown",
      "source": [
        "#Analysing Exercise induced angina (1 = yes; 0 = no)"
      ]
    },
    {
      "metadata": {
        "id": "MPzknv7Qefbu",
        "outputId": "1a6d0114-6f8f-4595-93c1-1d15ecfaf54c",
        "colab": {
          "base_uri": "https://localhost:8080/"
        }
      },
      "cell_type": "code",
      "source": [
        "data[\"exercise_induced_angina\"].unique()"
      ],
      "execution_count": 164,
      "outputs": [
        {
          "output_type": "execute_result",
          "data": {
            "text/plain": [
              "array([0, 1])"
            ]
          },
          "metadata": {},
          "execution_count": 164
        }
      ]
    },
    {
      "metadata": {
        "id": "Xt7b6bS7ekM9",
        "outputId": "0fcabba1-d0e4-49d4-b069-c398c730d582",
        "colab": {
          "base_uri": "https://localhost:8080/",
          "height": 623
        }
      },
      "cell_type": "code",
      "source": [
        "plt.figure(figsize=(10, 10))\n",
        "sns.barplot(data[\"exercise_induced_angina\"],y)"
      ],
      "execution_count": 165,
      "outputs": [
        {
          "output_type": "execute_result",
          "data": {
            "text/plain": [
              "<matplotlib.axes._subplots.AxesSubplot at 0x7f8030666d90>"
            ]
          },
          "metadata": {},
          "execution_count": 165
        },
        {
          "output_type": "display_data",
          "data": {
            "text/plain": [
              "<Figure size 720x720 with 1 Axes>"
            ],
            "image/png": "[encoded data removed]"
          },
          "metadata": {
            "needs_background": "light"
          }
        }
      ]
    },
    {
      "metadata": {
        "id": "hSl7ocqMeq2O"
      },
      "cell_type": "markdown",
      "source": [
        "###People with exercise_induced_angina=1 are much less likely to have heart problems"
      ]
    },
    {
      "metadata": {
        "id": "5HRmFYGceuDI"
      },
      "cell_type": "markdown",
      "source": [
        "# Analysing the slope of the peak exercise ST segment (Value 1: upsloping, Value 2: flat, Value 3: downsloping)"
      ]
    },
    {
      "metadata": {
        "id": "utNmGzDBe76D",
        "outputId": "4978dd22-0c95-4af2-dc52-68453849478f",
        "colab": {
          "base_uri": "https://localhost:8080/"
        }
      },
      "cell_type": "code",
      "source": [
        "data[\"st_slope\"].unique()"
      ],
      "execution_count": 166,
      "outputs": [
        {
          "output_type": "execute_result",
          "data": {
            "text/plain": [
              "array([2, 0, 1])"
            ]
          },
          "metadata": {},
          "execution_count": 166
        }
      ]
    },
    {
      "metadata": {
        "id": "jucFoDt_fbmX",
        "outputId": "88c188ed-529d-49e6-9621-1369107ae65c",
        "colab": {
          "base_uri": "https://localhost:8080/",
          "height": 490
        }
      },
      "cell_type": "code",
      "source": [
        "plt.figure(figsize=(25, 10))\n",
        "sns.barplot(data[\"st_slope\"],y)"
      ],
      "execution_count": 167,
      "outputs": [
        {
          "output_type": "execute_result",
          "data": {
            "text/plain": [
              "<matplotlib.axes._subplots.AxesSubplot at 0x7f80305345d0>"
            ]
          },
          "metadata": {},
          "execution_count": 167
        },
        {
          "output_type": "display_data",
          "data": {
            "text/plain": [
              "<Figure size 1800x720 with 1 Axes>"
            ],
            "image/png": "[encoded data removed]"
          },
          "metadata": {
            "needs_background": "light"
          }
        }
      ]
    },
    {
      "metadata": {
        "id": "thE_qJK5fh0N"
      },
      "cell_type": "markdown",
      "source": [
        "Slope '2' causes heart pain much more than Slope '0' and '1'"
      ]
    },
    {
      "metadata": {
        "id": "JToS14-dfkRZ"
      },
      "cell_type": "markdown",
      "source": [
        "# Analysing number of major vessels (0-3) colored by flourosopy"
      ]
    },
    {
      "metadata": {
        "id": "kWtpfn-nfxMt",
        "outputId": "25aa2ad2-d09d-47f5-e77b-2d93ffa7cd77",
        "colab": {
          "base_uri": "https://localhost:8080/"
        }
      },
      "cell_type": "code",
      "source": [
        "data[\"num_major_vessels\"].unique()"
      ],
      "execution_count": 168,
      "outputs": [
        {
          "output_type": "execute_result",
          "data": {
            "text/plain": [
              "array([2, 0, 1, 3, 4])"
            ]
          },
          "metadata": {},
          "execution_count": 168
        }
      ]
    },
    {
      "metadata": {
        "id": "Aa0UwtIhHBGC"
      },
      "cell_type": "markdown",
      "source": [
        "### count num_major vessels"
      ]
    },
    {
      "metadata": {
        "id": "suhK9Ocjf7Z9",
        "outputId": "e51093a0-4735-4834-8e26-931ec780b6cb",
        "colab": {
          "base_uri": "https://localhost:8080/",
          "height": 299
        }
      },
      "cell_type": "code",
      "source": [
        "sns.countplot(data[\"num_major_vessels\"])"
      ],
      "execution_count": 169,
      "outputs": [
        {
          "output_type": "execute_result",
          "data": {
            "text/plain": [
              "<matplotlib.axes._subplots.AxesSubplot at 0x7f8030528450>"
            ]
          },
          "metadata": {},
          "execution_count": 169
        },
        {
          "output_type": "display_data",
          "data": {
            "text/plain": [
              "<Figure size 432x288 with 1 Axes>"
            ],
            "image/png": "[encoded data removed]"
          },
          "metadata": {
            "needs_background": "light"
          }
        }
      ]
    },
    {
      "metadata": {
        "id": "e3izjJA3HGzC"
      },
      "cell_type": "markdown",
      "source": [
        "### comparing with target"
      ]
    },
    {
      "metadata": {
        "id": "UH8lyuzfgDA5",
        "outputId": "ec357cb3-bad8-4a68-883b-e45cb323e244",
        "colab": {
          "base_uri": "https://localhost:8080/",
          "height": 298
        }
      },
      "cell_type": "code",
      "source": [
        "sns.barplot(data[\"num_major_vessels\"],y)"
      ],
      "execution_count": 170,
      "outputs": [
        {
          "output_type": "execute_result",
          "data": {
            "text/plain": [
              "<matplotlib.axes._subplots.AxesSubplot at 0x7f80304cc410>"
            ]
          },
          "metadata": {},
          "execution_count": 170
        },
        {
          "output_type": "display_data",
          "data": {
            "text/plain": [
              "<Figure size 432x288 with 1 Axes>"
            ],
            "image/png": "[encoded data removed]"
          },
          "metadata": {
            "needs_background": "light"
          }
        }
      ]
    },
    {
      "metadata": {
        "id": "fTOn3hNfgMyQ"
      },
      "cell_type": "markdown",
      "source": [
        "### num_major_vessels=4 has astonishingly large number of heart patients"
      ]
    },
    {
      "metadata": {
        "id": "pJl2vTGogW-P"
      },
      "cell_type": "markdown",
      "source": [
        "# Analysing A blood disorder called thalassemia (3 = normal; 6 = fixed defect; 7 = reversable defect)\n",
        "\n"
      ]
    },
    {
      "metadata": {
        "id": "xQPiwF8cgnMz",
        "outputId": "3417d711-1ff2-4657-bdc0-e6b13cb351d6",
        "colab": {
          "base_uri": "https://localhost:8080/"
        }
      },
      "cell_type": "code",
      "source": [
        "data[\"thalassemia\"].unique()"
      ],
      "execution_count": 171,
      "outputs": [
        {
          "output_type": "execute_result",
          "data": {
            "text/plain": [
              "array([3, 2, 1, 0])"
            ]
          },
          "metadata": {},
          "execution_count": 171
        }
      ]
    },
    {
      "metadata": {
        "id": "muSYz0G2HgC8"
      },
      "cell_type": "markdown",
      "source": [
        "### plotting the thalassemia distribution (0,1,2,3)"
      ]
    },
    {
      "metadata": {
        "id": "7dxTqIbVg7LE",
        "outputId": "3cdb2fb4-f3b5-4011-c529-a5c6a15a3314",
        "colab": {
          "base_uri": "https://localhost:8080/",
          "height": 296
        }
      },
      "cell_type": "code",
      "source": [
        "sns.distplot(data[\"thalassemia\"])"
      ],
      "execution_count": 172,
      "outputs": [
        {
          "output_type": "execute_result",
          "data": {
            "text/plain": [
              "<matplotlib.axes._subplots.AxesSubplot at 0x7f8030433490>"
            ]
          },
          "metadata": {},
          "execution_count": 172
        },
        {
          "output_type": "display_data",
          "data": {
            "text/plain": [
              "<Figure size 432x288 with 1 Axes>"
            ],
            "image/png": "[encoded data removed]"
          },
          "metadata": {
            "needs_background": "light"
          }
        }
      ]
    },
    {
      "metadata": {
        "id": "VVaisIFkHzyS"
      },
      "cell_type": "markdown",
      "source": [
        "### comparing with target"
      ]
    },
    {
      "metadata": {
        "id": "w7gg2Z6sg2y3",
        "outputId": "5830d38d-a54d-4b24-b60e-cf74064e07b6",
        "colab": {
          "base_uri": "https://localhost:8080/",
          "height": 300
        }
      },
      "cell_type": "code",
      "source": [
        "sns.barplot(data[\"thalassemia\"],y)"
      ],
      "execution_count": 173,
      "outputs": [
        {
          "output_type": "execute_result",
          "data": {
            "text/plain": [
              "<matplotlib.axes._subplots.AxesSubplot at 0x7f80303587d0>"
            ]
          },
          "metadata": {},
          "execution_count": 173
        },
        {
          "output_type": "display_data",
          "data": {
            "text/plain": [
              "<Figure size 432x288 with 1 Axes>"
            ],
            "image/png": "[encoded data removed]"
          },
          "metadata": {
            "needs_background": "light"
          }
        }
      ]
    },
    {
      "cell_type": "markdown",
      "source": [
        "#Threshold value"
      ],
      "metadata": {
        "id": "hQNnEBIcAWTF"
      }
    },
    {
      "cell_type": "code",
      "source": [
        "from sklearn.metrics import accuracy_score"
      ],
      "metadata": {
        "id": "40-IUU3sBOeM"
      },
      "execution_count": null,
      "outputs": []
    },
    {
      "cell_type": "code",
      "source": [
        "plot_roc_curve(model,x_train,y_train)"
      ],
      "metadata": {
        "id": "iZ7s7M0EAUyZ"
      },
      "execution_count": null,
      "outputs": []
    },
    {
      "cell_type": "code",
      "source": [
        "fpr, tpr, thresholds = roc_curve(y_train,model.predict_proba(x_train)[:,1],drop_intermediate=False)"
      ],
      "metadata": {
        "id": "S3v5lfltAp3B"
      },
      "execution_count": null,
      "outputs": []
    },
    {
      "cell_type": "code",
      "source": [
        "plt.scatter(thresholds,np.abs(fpr+tpr-1))\n",
        "plt.xlabel(\"Threshold\")\n",
        "plt.ylabel(\"|FPR + TPR - 1|\")\n",
        "plt.show()"
      ],
      "metadata": {
        "id": "DwIkEwUbAsmj"
      },
      "execution_count": null,
      "outputs": []
    },
    {
      "cell_type": "code",
      "source": [
        "thresholds[np.argmin(np.abs(fpr+tpr-1))]"
      ],
      "metadata": {
        "id": "YMh9gRcaAvBo"
      },
      "execution_count": null,
      "outputs": []
    },
    {
      "cell_type": "code",
      "source": [
        "threshold = []\n",
        "accuracy = []\n",
        "\n",
        "for p in np.unique(model.predict_proba(x_train)[:,1]):\n",
        "  threshold.append(p)\n",
        "  y_pred = (model.predict_proba(x_train)[:,1] >= p).astype(int)\n",
        "  accuracy.append(balanced_accuracy_score(y_train,y_pred))"
      ],
      "metadata": {
        "id": "higP-J0iAzWa"
      },
      "execution_count": null,
      "outputs": []
    },
    {
      "cell_type": "code",
      "source": [
        "plt.scatter(threshold,accuracy)\n",
        "plt.xlabel(\"Threshold\")\n",
        "plt.ylabel(\"Balanced accuracy\")\n",
        "plt.show()"
      ],
      "metadata": {
        "id": "8rdG-ESZA0HU"
      },
      "execution_count": null,
      "outputs": []
    },
    {
      "cell_type": "code",
      "source": [
        "accuracy[np.argmax(accuracy)]"
      ],
      "metadata": {
        "id": "ws8Rm9qxA25l"
      },
      "execution_count": null,
      "outputs": []
    },
    {
      "cell_type": "code",
      "source": [
        "threshold[np.argmax(accuracy)]"
      ],
      "metadata": {
        "id": "zYpJPIOXA5Wc"
      },
      "execution_count": null,
      "outputs": []
    },
    {
      "metadata": {
        "id": "eOa5rLT2Mh99"
      },
      "cell_type": "markdown",
      "source": [
        "# Splitting the dataset to Train and Test"
      ]
    },
    {
      "metadata": {
        "id": "V7iKKDPiMk0N",
        "outputId": "593888d6-d7d3-4e4f-ef24-8f2a55ede2a9",
        "colab": {
          "base_uri": "https://localhost:8080/"
        }
      },
      "cell_type": "code",
      "source": [
        "from sklearn.model_selection import train_test_split\n",
        "\n",
        "predictors = data.drop(\"target\",axis=1)\n",
        "target = data[\"target\"]\n",
        "\n",
        "X_train,X_test,Y_train,Y_test = train_test_split(predictors,target,test_size=0.20,random_state=0)\n",
        "print(\"Training features have {0} records and Testing features have {1} records.\".\\\n",
        "      format(X_train.shape[0], X_test.shape[0]))"
      ],
      "execution_count": 180,
      "outputs": [
        {
          "output_type": "stream",
          "name": "stdout",
          "text": [
            "Training features have 820 records and Testing features have 205 records.\n"
          ]
        }
      ]
    },
    {
      "metadata": {
        "id": "7YwomHgBMtZt",
        "outputId": "16763e83-a86e-4832-986e-46afeddb1ec8",
        "colab": {
          "base_uri": "https://localhost:8080/"
        }
      },
      "cell_type": "code",
      "source": [
        "X_train.shape"
      ],
      "execution_count": 181,
      "outputs": [
        {
          "output_type": "execute_result",
          "data": {
            "text/plain": [
              "(820, 13)"
            ]
          },
          "metadata": {},
          "execution_count": 181
        }
      ]
    },
    {
      "metadata": {
        "id": "cR7VVOQUMyck",
        "outputId": "176abf34-6448-4c3d-c8be-8fcfcffe7594",
        "colab": {
          "base_uri": "https://localhost:8080/"
        }
      },
      "cell_type": "code",
      "source": [
        "X_test.shape"
      ],
      "execution_count": 182,
      "outputs": [
        {
          "output_type": "execute_result",
          "data": {
            "text/plain": [
              "(205, 13)"
            ]
          },
          "metadata": {},
          "execution_count": 182
        }
      ]
    },
    {
      "metadata": {
        "id": "jkMdNviWM1Mx",
        "outputId": "d2dd8da0-22e0-48e9-f395-26404fca44d6",
        "colab": {
          "base_uri": "https://localhost:8080/"
        }
      },
      "cell_type": "code",
      "source": [
        "Y_train.shape"
      ],
      "execution_count": 183,
      "outputs": [
        {
          "output_type": "execute_result",
          "data": {
            "text/plain": [
              "(820,)"
            ]
          },
          "metadata": {},
          "execution_count": 183
        }
      ]
    },
    {
      "metadata": {
        "id": "w4AmfZuKM6ZL",
        "outputId": "3354006c-875d-41f0-b6a4-6e787d4c76bf",
        "colab": {
          "base_uri": "https://localhost:8080/"
        }
      },
      "cell_type": "code",
      "source": [
        "Y_test.shape"
      ],
      "execution_count": 184,
      "outputs": [
        {
          "output_type": "execute_result",
          "data": {
            "text/plain": [
              "(205,)"
            ]
          },
          "metadata": {},
          "execution_count": 184
        }
      ]
    },
    {
      "metadata": {
        "id": "i7W7vtpQM-c-"
      },
      "cell_type": "markdown",
      "source": [
        "## importing Accuracy score"
      ]
    },
    {
      "metadata": {
        "id": "KosuqmCiNBmI"
      },
      "cell_type": "code",
      "source": [
        "from sklearn.metrics import accuracy_score"
      ],
      "execution_count": 185,
      "outputs": []
    },
    {
      "metadata": {
        "id": "KsVRQL0zNEJg"
      },
      "cell_type": "markdown",
      "source": [
        "# Logistic regression"
      ]
    },
    {
      "metadata": {
        "id": "L4iBcqEp6bBz",
        "outputId": "f3bb47d4-946b-4b33-b2e6-41f3a848fbf0",
        "colab": {
          "base_uri": "https://localhost:8080/"
        }
      },
      "cell_type": "code",
      "source": [
        "from sklearn.linear_model import LogisticRegression\n",
        "logreg = LogisticRegression().fit(X_train, Y_train)\n",
        "print(\"Training set score: {:.3f}\".format(logreg.score(X_train, Y_train)))\n",
        "print(\"Test set score: {:.3f}\".format(logreg.score(X_test, Y_test)))"
      ],
      "execution_count": 186,
      "outputs": [
        {
          "output_type": "stream",
          "name": "stdout",
          "text": [
            "Training set score: 0.862\n",
            "Test set score: 0.863\n"
          ]
        }
      ]
    },
    {
      "metadata": {
        "id": "6vsnDoxqNInB"
      },
      "cell_type": "code",
      "source": [
        "from sklearn.linear_model import LogisticRegression\n",
        "\n",
        "lr = LogisticRegression()\n",
        "\n",
        "lr.fit(X_train,Y_train)\n",
        "\n",
        "Y_pred_lr = lr.predict(X_test)"
      ],
      "execution_count": 187,
      "outputs": []
    },
    {
      "metadata": {
        "id": "WOncqcRVNM0Q",
        "outputId": "697e123e-c90f-42a6-a24d-3c83dc88133a",
        "colab": {
          "base_uri": "https://localhost:8080/"
        }
      },
      "cell_type": "code",
      "source": [
        "Y_pred_lr.shape"
      ],
      "execution_count": 188,
      "outputs": [
        {
          "output_type": "execute_result",
          "data": {
            "text/plain": [
              "(205,)"
            ]
          },
          "metadata": {},
          "execution_count": 188
        }
      ]
    },
    {
      "metadata": {
        "id": "sJFyMzLTNPET",
        "outputId": "a763722e-dea0-40dd-e744-77ff6154e161",
        "colab": {
          "base_uri": "https://localhost:8080/"
        }
      },
      "cell_type": "code",
      "source": [
        "score_lr = round(accuracy_score(Y_pred_lr,Y_test)*100,2)\n",
        "\n",
        "print(\"The accuracy score achieved using Logistic Regression is: \"+str(score_lr)+\" %\")"
      ],
      "execution_count": 189,
      "outputs": [
        {
          "output_type": "stream",
          "name": "stdout",
          "text": [
            "The accuracy score achieved using Logistic Regression is: 86.34 %\n"
          ]
        }
      ]
    },
    {
      "metadata": {
        "id": "LgNk2g4ucxpZ"
      },
      "cell_type": "markdown",
      "source": [
        "# Confusion Matrix"
      ]
    },
    {
      "metadata": {
        "id": "dzmuccx3bwhm"
      },
      "cell_type": "code",
      "source": [
        "from sklearn.metrics import confusion_matrix"
      ],
      "execution_count": 190,
      "outputs": []
    },
    {
      "metadata": {
        "id": "VzbqA7IZby55"
      },
      "cell_type": "code",
      "source": [
        "matrix= confusion_matrix(Y_test, Y_pred_lr)"
      ],
      "execution_count": 191,
      "outputs": []
    },
    {
      "metadata": {
        "id": "NqelNWNGcIEB",
        "outputId": "d682bc40-dada-4d45-bc2b-99ac469d9755",
        "colab": {
          "base_uri": "https://localhost:8080/",
          "height": 286
        }
      },
      "cell_type": "code",
      "source": [
        "sns.heatmap(matrix,annot = True, fmt = \"d\")"
      ],
      "execution_count": 192,
      "outputs": [
        {
          "output_type": "execute_result",
          "data": {
            "text/plain": [
              "<matplotlib.axes._subplots.AxesSubplot at 0x7f8031f9a290>"
            ]
          },
          "metadata": {},
          "execution_count": 192
        },
        {
          "output_type": "display_data",
          "data": {
            "text/plain": [
              "<Figure size 432x288 with 2 Axes>"
            ],
            "image/png": "[encoded data removed]"
          },
          "metadata": {
            "needs_background": "light"
          }
        }
      ]
    },
    {
      "metadata": {
        "id": "oZngK95wAyg0"
      },
      "cell_type": "markdown",
      "source": [
        "fmt = d is format = default"
      ]
    },
    {
      "metadata": {
        "id": "ePduVPbAc121"
      },
      "cell_type": "markdown",
      "source": [
        "# precision Score"
      ]
    },
    {
      "metadata": {
        "id": "CaqOPg0vcQbt"
      },
      "cell_type": "code",
      "source": [
        "from sklearn.metrics import precision_score"
      ],
      "execution_count": 193,
      "outputs": []
    },
    {
      "metadata": {
        "id": "uLyL4HLZcTOr"
      },
      "cell_type": "code",
      "source": [
        "precision = precision_score(Y_test, Y_pred_lr)"
      ],
      "execution_count": 194,
      "outputs": []
    },
    {
      "metadata": {
        "id": "1n0pPR7mcbkh",
        "outputId": "2557f987-082b-491b-a53d-860976fc6791",
        "colab": {
          "base_uri": "https://localhost:8080/"
        }
      },
      "cell_type": "code",
      "source": [
        "print(\"Precision: \",precision)"
      ],
      "execution_count": 195,
      "outputs": [
        {
          "output_type": "stream",
          "name": "stdout",
          "text": [
            "Precision:  0.8264462809917356\n"
          ]
        }
      ]
    },
    {
      "metadata": {
        "id": "cRdsUQo_c3_a"
      },
      "cell_type": "markdown",
      "source": [
        "# Recall"
      ]
    },
    {
      "metadata": {
        "id": "4rClRAnAce_W"
      },
      "cell_type": "code",
      "source": [
        "from sklearn.metrics import recall_score"
      ],
      "execution_count": 196,
      "outputs": []
    },
    {
      "metadata": {
        "id": "BX_0uOdBchFl"
      },
      "cell_type": "code",
      "source": [
        "recall = recall_score(Y_test, Y_pred_lr)"
      ],
      "execution_count": 197,
      "outputs": []
    },
    {
      "metadata": {
        "id": "Wg-a7JkGcn3I",
        "outputId": "2eb23af9-b618-4a9e-dc29-4c9954fe0094",
        "colab": {
          "base_uri": "https://localhost:8080/"
        }
      },
      "cell_type": "code",
      "source": [
        "print(\"Recall is: \",recall)"
      ],
      "execution_count": 198,
      "outputs": [
        {
          "output_type": "stream",
          "name": "stdout",
          "text": [
            "Recall is:  0.9345794392523364\n"
          ]
        }
      ]
    },
    {
      "metadata": {
        "id": "Fojmjmtcc7Ar"
      },
      "cell_type": "markdown",
      "source": [
        "\n",
        "\n",
        "---\n",
        "\n"
      ]
    },
    {
      "metadata": {
        "id": "hYs0L1jrd-BV"
      },
      "cell_type": "markdown",
      "source": [
        "# F-Score"
      ]
    },
    {
      "metadata": {
        "id": "g0Q-KN7peBE2"
      },
      "cell_type": "markdown",
      "source": [
        "balance of precision and recall score"
      ]
    },
    {
      "metadata": {
        "id": "lNxT6i8EdwWd",
        "outputId": "62def6c4-ab5a-414a-dfd0-3a7ac2717ee6",
        "colab": {
          "base_uri": "https://localhost:8080/"
        }
      },
      "cell_type": "code",
      "source": [
        "print((2*precision*recall)/(precision+recall))"
      ],
      "execution_count": 199,
      "outputs": [
        {
          "output_type": "stream",
          "name": "stdout",
          "text": [
            "0.8771929824561404\n"
          ]
        }
      ]
    },
    {
      "cell_type": "code",
      "source": [
        "CM = pd.crosstab(Y_test, Y_pred_nb)\n",
        "CM"
      ],
      "metadata": {
        "id": "hu-q7P8594D6"
      },
      "execution_count": null,
      "outputs": []
    },
    {
      "cell_type": "code",
      "source": [
        "TN=CM.iloc[0,0]\n",
        "FP=CM.iloc[0,1]\n",
        "FN=CM.iloc[1,0]\n",
        "TP=CM.iloc[1,1]"
      ],
      "metadata": {
        "id": "kJD4ItLD98dt"
      },
      "execution_count": null,
      "outputs": []
    },
    {
      "cell_type": "markdown",
      "source": [
        "#False negative rate of the model"
      ],
      "metadata": {
        "id": "DjNu8NKE9-Ly"
      }
    },
    {
      "cell_type": "code",
      "source": [
        "fnr=FN*100/(FN+TP)\n",
        "fnr"
      ],
      "metadata": {
        "id": "-8xKCV3V99Qz"
      },
      "execution_count": null,
      "outputs": []
    },
    {
      "metadata": {
        "id": "SBnYvM4BNS95"
      },
      "cell_type": "markdown",
      "source": [
        "# Random Forest"
      ]
    },
    {
      "metadata": {
        "id": "S5Pk-lGjBj9H",
        "outputId": "b01f79dd-154a-4db8-ec40-58f76d5c1941",
        "colab": {
          "base_uri": "https://localhost:8080/"
        }
      },
      "cell_type": "code",
      "source": [
        "#Random forest with 100 trees\n",
        "from sklearn.ensemble import RandomForestClassifier\n",
        "rf = RandomForestClassifier(n_estimators=100, random_state=0)\n",
        "rf.fit(X_train, Y_train)\n",
        "print(\"Accuracy on training set: {:.3f}\".format(rf.score(X_train, Y_train)))\n",
        "print(\"Accuracy on test set: {:.3f}\".format(rf.score(X_test, Y_test)))"
      ],
      "execution_count": 200,
      "outputs": [
        {
          "output_type": "stream",
          "name": "stdout",
          "text": [
            "Accuracy on training set: 1.000\n",
            "Accuracy on test set: 1.000\n"
          ]
        }
      ]
    },
    {
      "metadata": {
        "id": "aoodbzPZBtHI"
      },
      "cell_type": "markdown",
      "source": [
        "Now, let us prune the depth of trees and check the accuracy."
      ]
    },
    {
      "metadata": {
        "id": "FKU0mqrgBt6d",
        "outputId": "c8f75899-6f8a-4d7b-891e-b4f268e8de74",
        "colab": {
          "base_uri": "https://localhost:8080/"
        }
      },
      "cell_type": "code",
      "source": [
        "rf1 = RandomForestClassifier(max_depth=3, n_estimators=100, random_state=0)\n",
        "rf1.fit(X_train, Y_train)\n",
        "print(\"Accuracy on training set: {:.3f}\".format(rf1.score(X_train, Y_train)))\n",
        "print(\"Accuracy on test set: {:.3f}\".format(rf1.score(X_test, Y_test)))"
      ],
      "execution_count": 201,
      "outputs": [
        {
          "output_type": "stream",
          "name": "stdout",
          "text": [
            "Accuracy on training set: 0.885\n",
            "Accuracy on test set: 0.902\n"
          ]
        }
      ]
    },
    {
      "metadata": {
        "id": "Ro3iaSbiNVJe",
        "outputId": "f10e513e-39eb-4b5b-9c31-a37e34c76cf3",
        "colab": {
          "base_uri": "https://localhost:8080/"
        }
      },
      "cell_type": "code",
      "source": [
        "from sklearn.ensemble import RandomForestClassifier\n",
        "\n",
        "max_accuracy = 0\n",
        "\n",
        "\n",
        "for x in range(2000):\n",
        "    rf = RandomForestClassifier(random_state=x)\n",
        "    rf.fit(X_train,Y_train)\n",
        "    Y_pred_rf = rf.predict(X_test)\n",
        "    current_accuracy = round(accuracy_score(Y_pred_rf,Y_test)*100,2)\n",
        "    if(current_accuracy>max_accuracy):\n",
        "        max_accuracy = current_accuracy\n",
        "        best_x = x\n",
        "        \n",
        "print(max_accuracy)\n",
        "print(best_x)\n",
        "\n",
        "rf = RandomForestClassifier(random_state=best_x)\n",
        "rf.fit(X_train,Y_train)\n",
        "Y_pred_rf = rf.predict(X_test)"
      ],
      "execution_count": 202,
      "outputs": [
        {
          "output_type": "stream",
          "name": "stdout",
          "text": [
            "100.0\n",
            "0\n"
          ]
        }
      ]
    },
    {
      "metadata": {
        "id": "AgF33Bo0Ncn3",
        "outputId": "74d5c541-5e50-41d3-ea5c-cd6609e40e4f",
        "colab": {
          "base_uri": "https://localhost:8080/"
        }
      },
      "cell_type": "code",
      "source": [
        "Y_pred_rf.shape"
      ],
      "execution_count": 203,
      "outputs": [
        {
          "output_type": "execute_result",
          "data": {
            "text/plain": [
              "(205,)"
            ]
          },
          "metadata": {},
          "execution_count": 203
        }
      ]
    },
    {
      "metadata": {
        "id": "iRVqY3o0NeCB",
        "outputId": "a32984bc-7206-4c87-9300-843a3e573fe3",
        "colab": {
          "base_uri": "https://localhost:8080/"
        }
      },
      "cell_type": "code",
      "source": [
        "score_rf = round(accuracy_score(Y_pred_rf,Y_test)*100,2)\n",
        "\n",
        "print(\"The accuracy score achieved using Random forest is: \"+str(score_rf)+\" %\")"
      ],
      "execution_count": 281,
      "outputs": [
        {
          "output_type": "stream",
          "name": "stdout",
          "text": [
            "The accuracy score achieved using Random forest is: 100.0 %\n"
          ]
        }
      ]
    },
    {
      "metadata": {
        "id": "1ENOfXwaCsE7"
      },
      "cell_type": "markdown",
      "source": [
        "performance metrics\n",
        "-Accuracy: is the ratio between the number of correct predictions and total number of predications.\n",
        "\n",
        "$acc = \\frac{TP + TN}{TP + TN + FP + FN}$\n",
        "\n",
        "-Precision: is the ratio between the number of correct positives and the number of true positives plus the number of false positives.\n",
        "\n",
        "$Precision (p) = \\frac{TP}{TP + FP}$\n",
        "\n",
        "-Recall: is the ratio between the number of correct positives and the number of true positives plus the number of false negatives.\n",
        "\n",
        "$recall = \\frac{TP}{TP + FN}$\n",
        "\n",
        "-F-score: is known as the harmonic mean of precision and recall.\n",
        "\n",
        "$acc = \\frac{1}{\\frac{1}{2}(\\frac{1}{p}+\\frac{1}{r})} = \\frac{2pr}{p+r}$\n",
        "\n",
        "-Problem characteristics in context of our case study:\n",
        "\n",
        "TP = True positive (has heart disease). TN = True negative (has no heart disease). FP = False positive (has no heart disease) FN = False negative (has heart disease)"
      ]
    },
    {
      "metadata": {
        "id": "5PiASaknMJYX"
      },
      "cell_type": "markdown",
      "source": [
        "## confusion matrix of Random Forest"
      ]
    },
    {
      "metadata": {
        "id": "Mra1YpbcCBUG"
      },
      "cell_type": "code",
      "source": [
        "from sklearn.metrics import confusion_matrix"
      ],
      "execution_count": 205,
      "outputs": []
    },
    {
      "metadata": {
        "id": "_VWQEnltCEAl"
      },
      "cell_type": "code",
      "source": [
        "matrix= confusion_matrix(Y_test, Y_pred_rf)"
      ],
      "execution_count": 206,
      "outputs": []
    },
    {
      "metadata": {
        "id": "vVRhN3jDCJgG",
        "colab": {
          "base_uri": "https://localhost:8080/",
          "height": 282
        },
        "outputId": "dfd5214f-3986-4ff2-85fa-f5f64e50a7bc"
      },
      "cell_type": "code",
      "source": [
        "sns.heatmap(matrix,annot = True, fmt = \"d\")"
      ],
      "execution_count": 207,
      "outputs": [
        {
          "output_type": "execute_result",
          "data": {
            "text/plain": [
              "<matplotlib.axes._subplots.AxesSubplot at 0x7f80377e6910>"
            ]
          },
          "metadata": {},
          "execution_count": 207
        },
        {
          "output_type": "display_data",
          "data": {
            "text/plain": [
              "<Figure size 432x288 with 2 Axes>"
            ],
            "image/png": "[encoded data removed]"
          },
          "metadata": {
            "needs_background": "light"
          }
        }
      ]
    },
    {
      "metadata": {
        "id": "8oQ4VUpaCTuf"
      },
      "cell_type": "markdown",
      "source": [
        "# precision score"
      ]
    },
    {
      "metadata": {
        "id": "FmCAmIfUCV8t"
      },
      "cell_type": "code",
      "source": [
        "from sklearn.metrics import precision_score"
      ],
      "execution_count": 208,
      "outputs": []
    },
    {
      "metadata": {
        "id": "T6U-eHW7CYR7"
      },
      "cell_type": "code",
      "source": [
        "precision = precision_score(Y_test, Y_pred_rf)"
      ],
      "execution_count": 209,
      "outputs": []
    },
    {
      "metadata": {
        "id": "JSTXQMKYCb49",
        "colab": {
          "base_uri": "https://localhost:8080/"
        },
        "outputId": "b267622c-f572-4700-e87e-c433813c0940"
      },
      "cell_type": "code",
      "source": [
        "print(\"Precision: \",precision)"
      ],
      "execution_count": 210,
      "outputs": [
        {
          "output_type": "stream",
          "name": "stdout",
          "text": [
            "Precision:  1.0\n"
          ]
        }
      ]
    },
    {
      "metadata": {
        "id": "nJA8eFthCeSR"
      },
      "cell_type": "markdown",
      "source": [
        "# recall"
      ]
    },
    {
      "metadata": {
        "id": "2NIWZWUfClqL"
      },
      "cell_type": "code",
      "source": [
        "from sklearn.metrics import recall_score"
      ],
      "execution_count": 211,
      "outputs": []
    },
    {
      "metadata": {
        "id": "5BscmVdgCnf6"
      },
      "cell_type": "code",
      "source": [
        "recall = recall_score(Y_test, Y_pred_rf)"
      ],
      "execution_count": 212,
      "outputs": []
    },
    {
      "metadata": {
        "id": "ZvHbdPO5CqAd",
        "colab": {
          "base_uri": "https://localhost:8080/"
        },
        "outputId": "e2c97859-8326-4a42-89cf-b0f20a6ce489"
      },
      "cell_type": "code",
      "source": [
        "print(\"Recall is: \",recall)"
      ],
      "execution_count": 213,
      "outputs": [
        {
          "output_type": "stream",
          "name": "stdout",
          "text": [
            "Recall is:  1.0\n"
          ]
        }
      ]
    },
    {
      "metadata": {
        "id": "m6G_E-QVCsKD"
      },
      "cell_type": "markdown",
      "source": [
        "# F score"
      ]
    },
    {
      "metadata": {
        "id": "FCGS82LaCrny",
        "colab": {
          "base_uri": "https://localhost:8080/"
        },
        "outputId": "a3a1ca3a-4a8d-4940-bc33-9e4cbd9450f3"
      },
      "cell_type": "code",
      "source": [
        "print((2*precision*recall)/(precision+recall))"
      ],
      "execution_count": 214,
      "outputs": [
        {
          "output_type": "stream",
          "name": "stdout",
          "text": [
            "1.0\n"
          ]
        }
      ]
    },
    {
      "metadata": {
        "id": "-YG3b359CzU0"
      },
      "cell_type": "markdown",
      "source": [
        "### cm using bad style"
      ]
    },
    {
      "metadata": {
        "id": "dCf4We_LMGhH",
        "outputId": "9b28787a-97a5-49ff-97dd-81683b0bb5a3",
        "colab": {
          "base_uri": "https://localhost:8080/",
          "height": 143
        }
      },
      "cell_type": "code",
      "source": [
        "CM =pd.crosstab(Y_test, Y_pred_rf)\n",
        "CM"
      ],
      "execution_count": 215,
      "outputs": [
        {
          "output_type": "execute_result",
          "data": {
            "text/plain": [
              "col_0    0    1\n",
              "target         \n",
              "0       98    0\n",
              "1        0  107"
            ],
            "text/html": [
              "\n",
              "  <div id=\"df-59734fda-a09a-40d0-9974-6c6ce340fbd2\">\n",
              "    <div class=\"colab-df-container\">\n",
              "      <div>\n",
              "<style scoped>\n",
              "    .dataframe tbody tr th:only-of-type {\n",
              "        vertical-align: middle;\n",
              "    }\n",
              "\n",
              "    .dataframe tbody tr th {\n",
              "        vertical-align: top;\n",
              "    }\n",
              "\n",
              "    .dataframe thead th {\n",
              "        text-align: right;\n",
              "    }\n",
              "</style>\n",
              "<table border=\"1\" class=\"dataframe\">\n",
              "  <thead>\n",
              "    <tr style=\"text-align: right;\">\n",
              "      <th>col_0</th>\n",
              "      <th>0</th>\n",
              "      <th>1</th>\n",
              "    </tr>\n",
              "    <tr>\n",
              "      <th>target</th>\n",
              "      <th></th>\n",
              "      <th></th>\n",
              "    </tr>\n",
              "  </thead>\n",
              "  <tbody>\n",
              "    <tr>\n",
              "      <th>0</th>\n",
              "      <td>98</td>\n",
              "      <td>0</td>\n",
              "    </tr>\n",
              "    <tr>\n",
              "      <th>1</th>\n",
              "      <td>0</td>\n",
              "      <td>107</td>\n",
              "    </tr>\n",
              "  </tbody>\n",
              "</table>\n",
              "</div>\n",
              "      <button class=\"colab-df-convert\" onclick=\"convertToInteractive('df-59734fda-a09a-40d0-9974-6c6ce340fbd2')\"\n",
              "              title=\"Convert this dataframe to an interactive table.\"\n",
              "              style=\"display:none;\">\n",
              "        \n",
              "  <svg xmlns=\"http://www.w3.org/2000/svg\" height=\"24px\"viewBox=\"0 0 24 24\"\n",
              "       width=\"24px\">\n",
              "    <path d=\"M0 0h24v24H0V0z\" fill=\"none\"/>\n",
              "    <path d=\"M18.56 5.44l.94 2.06.94-2.06 2.06-.94-2.06-.94-.94-2.06-.94 2.06-2.06.94zm-11 1L8.5 8.5l.94-2.06 2.06-.94-2.06-.94L8.5 2.5l-.94 2.06-2.06.94zm10 10l.94 2.06.94-2.06 2.06-.94-2.06-.94-.94-2.06-.94 2.06-2.06.94z\"/><path d=\"M17.41 7.96l-1.37-1.37c-.4-.4-.92-.59-1.43-.59-.52 0-1.04.2-1.43.59L10.3 9.45l-7.72 7.72c-.78.78-.78 2.05 0 2.83L4 21.41c.39.39.9.59 1.41.59.51 0 1.02-.2 1.41-.59l7.78-7.78 2.81-2.81c.8-.78.8-2.07 0-2.86zM5.41 20L4 18.59l7.72-7.72 1.47 1.35L5.41 20z\"/>\n",
              "  </svg>\n",
              "      </button>\n",
              "      \n",
              "  <style>\n",
              "    .colab-df-container {\n",
              "      display:flex;\n",
              "      flex-wrap:wrap;\n",
              "      gap: 12px;\n",
              "    }\n",
              "\n",
              "    .colab-df-convert {\n",
              "      background-color: #E8F0FE;\n",
              "      border: none;\n",
              "      border-radius: 50%;\n",
              "      cursor: pointer;\n",
              "      display: none;\n",
              "      fill: #1967D2;\n",
              "      height: 32px;\n",
              "      padding: 0 0 0 0;\n",
              "      width: 32px;\n",
              "    }\n",
              "\n",
              "    .colab-df-convert:hover {\n",
              "      background-color: #E2EBFA;\n",
              "      box-shadow: 0px 1px 2px rgba(60, 64, 67, 0.3), 0px 1px 3px 1px rgba(60, 64, 67, 0.15);\n",
              "      fill: #174EA6;\n",
              "    }\n",
              "\n",
              "    [theme=dark] .colab-df-convert {\n",
              "      background-color: #3B4455;\n",
              "      fill: #D2E3FC;\n",
              "    }\n",
              "\n",
              "    [theme=dark] .colab-df-convert:hover {\n",
              "      background-color: #434B5C;\n",
              "      box-shadow: 0px 1px 3px 1px rgba(0, 0, 0, 0.15);\n",
              "      filter: drop-shadow(0px 1px 2px rgba(0, 0, 0, 0.3));\n",
              "      fill: #FFFFFF;\n",
              "    }\n",
              "  </style>\n",
              "\n",
              "      <script>\n",
              "        const buttonEl =\n",
              "          document.querySelector('#df-59734fda-a09a-40d0-9974-6c6ce340fbd2 button.colab-df-convert');\n",
              "        buttonEl.style.display =\n",
              "          google.colab.kernel.accessAllowed ? 'block' : 'none';\n",
              "\n",
              "        async function convertToInteractive(key) {\n",
              "          const element = document.querySelector('#df-59734fda-a09a-40d0-9974-6c6ce340fbd2');\n",
              "          const dataTable =\n",
              "            await google.colab.kernel.invokeFunction('convertToInteractive',\n",
              "                                                     [key], {});\n",
              "          if (!dataTable) return;\n",
              "\n",
              "          const docLinkHtml = 'Like what you see? Visit the ' +\n",
              "            '<a target=\"_blank\" href=https://colab.research.google.com/notebooks/data_table.ipynb>data table notebook</a>'\n",
              "            + ' to learn more about interactive tables.';\n",
              "          element.innerHTML = '';\n",
              "          dataTable['output_type'] = 'display_data';\n",
              "          await google.colab.output.renderOutput(dataTable, element);\n",
              "          const docLink = document.createElement('div');\n",
              "          docLink.innerHTML = docLinkHtml;\n",
              "          element.appendChild(docLink);\n",
              "        }\n",
              "      </script>\n",
              "    </div>\n",
              "  </div>\n",
              "  "
            ]
          },
          "metadata": {},
          "execution_count": 215
        }
      ]
    },
    {
      "metadata": {
        "id": "JetsES6CMXTz"
      },
      "cell_type": "code",
      "source": [
        "TN=CM.iloc[0,0]\n",
        "FP=CM.iloc[0,1]\n",
        "FN=CM.iloc[1,0]\n",
        "TP=CM.iloc[1,1]"
      ],
      "execution_count": 216,
      "outputs": []
    },
    {
      "metadata": {
        "id": "ppuckYckMjfZ"
      },
      "cell_type": "markdown",
      "source": [
        "## False negative rate of the model"
      ]
    },
    {
      "metadata": {
        "id": "6YJ0CR2KMgyS",
        "outputId": "47faf2d0-390e-4c3e-b51d-254ba24a2158",
        "colab": {
          "base_uri": "https://localhost:8080/"
        }
      },
      "cell_type": "code",
      "source": [
        "fnr=FN*100/(FN+TP)\n",
        "fnr"
      ],
      "execution_count": 217,
      "outputs": [
        {
          "output_type": "execute_result",
          "data": {
            "text/plain": [
              "0.0"
            ]
          },
          "metadata": {},
          "execution_count": 217
        }
      ]
    },
    {
      "metadata": {
        "id": "itvCy6g1OIKT"
      },
      "cell_type": "markdown",
      "source": [
        "# Naive Bayes"
      ]
    },
    {
      "metadata": {
        "id": "niuIRgKIOKia"
      },
      "cell_type": "code",
      "source": [
        "from sklearn.naive_bayes import GaussianNB\n",
        "\n",
        "nb = GaussianNB()\n",
        "\n",
        "nb.fit(X_train,Y_train)\n",
        "\n",
        "Y_pred_nb = nb.predict(X_test)"
      ],
      "execution_count": 218,
      "outputs": []
    },
    {
      "metadata": {
        "id": "zd5qmJiKOXfB",
        "outputId": "2a521cac-0003-462f-cc78-b7931aff6275",
        "colab": {
          "base_uri": "https://localhost:8080/"
        }
      },
      "cell_type": "code",
      "source": [
        "Y_pred_nb.shape"
      ],
      "execution_count": 219,
      "outputs": [
        {
          "output_type": "execute_result",
          "data": {
            "text/plain": [
              "(205,)"
            ]
          },
          "metadata": {},
          "execution_count": 219
        }
      ]
    },
    {
      "metadata": {
        "id": "edGDQiM8OYzW",
        "outputId": "710a4db3-7504-4190-c8c9-486e26581479",
        "colab": {
          "base_uri": "https://localhost:8080/"
        }
      },
      "cell_type": "code",
      "source": [
        "score_nb = round(accuracy_score(Y_pred_nb,Y_test)*100,2)\n",
        "\n",
        "print(\"The accuracy score achieved using Naive Bayes is: \"+str(score_nb)+\" %\")"
      ],
      "execution_count": 220,
      "outputs": [
        {
          "output_type": "stream",
          "name": "stdout",
          "text": [
            "The accuracy score achieved using Naive Bayes is: 85.37 %\n"
          ]
        }
      ]
    },
    {
      "metadata": {
        "id": "sR27vJmiNXOA"
      },
      "cell_type": "markdown",
      "source": [
        "## confusion matrix of Naive Bayes"
      ]
    },
    {
      "metadata": {
        "id": "GneNyLpXDAtB"
      },
      "cell_type": "code",
      "source": [
        "from sklearn.metrics import confusion_matrix"
      ],
      "execution_count": 221,
      "outputs": []
    },
    {
      "metadata": {
        "id": "QgcyDOdyDED1"
      },
      "cell_type": "code",
      "source": [
        "matrix= confusion_matrix(Y_test, Y_pred_nb)"
      ],
      "execution_count": 222,
      "outputs": []
    },
    {
      "metadata": {
        "id": "m6thjv_fDJMx",
        "colab": {
          "base_uri": "https://localhost:8080/",
          "height": 282
        },
        "outputId": "82f6e341-dd2e-434b-bae3-389d38877345"
      },
      "cell_type": "code",
      "source": [
        "sns.heatmap(matrix,annot = True, fmt = \"d\")"
      ],
      "execution_count": 223,
      "outputs": [
        {
          "output_type": "execute_result",
          "data": {
            "text/plain": [
              "<matplotlib.axes._subplots.AxesSubplot at 0x7f8030b29990>"
            ]
          },
          "metadata": {},
          "execution_count": 223
        },
        {
          "output_type": "display_data",
          "data": {
            "text/plain": [
              "<Figure size 432x288 with 2 Axes>"
            ],
            "image/png": "[encoded data removed]"
          },
          "metadata": {
            "needs_background": "light"
          }
        }
      ]
    },
    {
      "metadata": {
        "id": "X_8G3xnlDPWS"
      },
      "cell_type": "markdown",
      "source": [
        "# precision score"
      ]
    },
    {
      "metadata": {
        "id": "LUJOT1f5DTgL"
      },
      "cell_type": "code",
      "source": [
        "from sklearn.metrics import precision_score"
      ],
      "execution_count": 224,
      "outputs": []
    },
    {
      "metadata": {
        "id": "ce6CbHpjDV9s"
      },
      "cell_type": "code",
      "source": [
        "precision = precision_score(Y_test, Y_pred_nb)"
      ],
      "execution_count": 225,
      "outputs": []
    },
    {
      "metadata": {
        "id": "-F_ck5N0DZSQ",
        "colab": {
          "base_uri": "https://localhost:8080/"
        },
        "outputId": "6d73a0f9-607f-4797-bfbc-d97d8144004f"
      },
      "cell_type": "code",
      "source": [
        "print(\"Precision: \",precision)"
      ],
      "execution_count": 226,
      "outputs": [
        {
          "output_type": "stream",
          "name": "stdout",
          "text": [
            "Precision:  0.8347826086956521\n"
          ]
        }
      ]
    },
    {
      "metadata": {
        "id": "B4LEb3dlDbmE"
      },
      "cell_type": "markdown",
      "source": [
        "# recall"
      ]
    },
    {
      "metadata": {
        "id": "l7SopfRSDdHe"
      },
      "cell_type": "code",
      "source": [
        "from sklearn.metrics import recall_score"
      ],
      "execution_count": 227,
      "outputs": []
    },
    {
      "metadata": {
        "id": "FfS8d7rfDfhj"
      },
      "cell_type": "code",
      "source": [
        "recall = recall_score(Y_test, Y_pred_nb)"
      ],
      "execution_count": 228,
      "outputs": []
    },
    {
      "metadata": {
        "id": "FvYOwsvBDjZz",
        "colab": {
          "base_uri": "https://localhost:8080/"
        },
        "outputId": "e29bbf13-ac11-4bd2-ae71-fd496cff519a"
      },
      "cell_type": "code",
      "source": [
        "print(\"Recall is: \",recall)"
      ],
      "execution_count": 229,
      "outputs": [
        {
          "output_type": "stream",
          "name": "stdout",
          "text": [
            "Recall is:  0.897196261682243\n"
          ]
        }
      ]
    },
    {
      "metadata": {
        "id": "32gdqAxxDldW"
      },
      "cell_type": "markdown",
      "source": [
        "# f score"
      ]
    },
    {
      "metadata": {
        "id": "Y3M1xy0MDnJG",
        "colab": {
          "base_uri": "https://localhost:8080/"
        },
        "outputId": "ef3af26b-1065-44f5-e8e4-fce3a6ceb7fa"
      },
      "cell_type": "code",
      "source": [
        "print((2*precision*recall)/(precision+recall))"
      ],
      "execution_count": 230,
      "outputs": [
        {
          "output_type": "stream",
          "name": "stdout",
          "text": [
            "0.8648648648648648\n"
          ]
        }
      ]
    },
    {
      "metadata": {
        "id": "wDu9AeKMDpn_"
      },
      "cell_type": "markdown",
      "source": [
        "### bad cm style"
      ]
    },
    {
      "metadata": {
        "id": "56zr71bcNSB6",
        "outputId": "1745399c-6124-4528-8c7f-229759eac62e",
        "colab": {
          "base_uri": "https://localhost:8080/",
          "height": 143
        }
      },
      "cell_type": "code",
      "source": [
        "CM = pd.crosstab(Y_test, Y_pred_nb)\n",
        "CM"
      ],
      "execution_count": 231,
      "outputs": [
        {
          "output_type": "execute_result",
          "data": {
            "text/plain": [
              "col_0    0   1\n",
              "target        \n",
              "0       79  19\n",
              "1       11  96"
            ],
            "text/html": [
              "\n",
              "  <div id=\"df-b1642eda-6594-440c-8fc9-60725cf47b53\">\n",
              "    <div class=\"colab-df-container\">\n",
              "      <div>\n",
              "<style scoped>\n",
              "    .dataframe tbody tr th:only-of-type {\n",
              "        vertical-align: middle;\n",
              "    }\n",
              "\n",
              "    .dataframe tbody tr th {\n",
              "        vertical-align: top;\n",
              "    }\n",
              "\n",
              "    .dataframe thead th {\n",
              "        text-align: right;\n",
              "    }\n",
              "</style>\n",
              "<table border=\"1\" class=\"dataframe\">\n",
              "  <thead>\n",
              "    <tr style=\"text-align: right;\">\n",
              "      <th>col_0</th>\n",
              "      <th>0</th>\n",
              "      <th>1</th>\n",
              "    </tr>\n",
              "    <tr>\n",
              "      <th>target</th>\n",
              "      <th></th>\n",
              "      <th></th>\n",
              "    </tr>\n",
              "  </thead>\n",
              "  <tbody>\n",
              "    <tr>\n",
              "      <th>0</th>\n",
              "      <td>79</td>\n",
              "      <td>19</td>\n",
              "    </tr>\n",
              "    <tr>\n",
              "      <th>1</th>\n",
              "      <td>11</td>\n",
              "      <td>96</td>\n",
              "    </tr>\n",
              "  </tbody>\n",
              "</table>\n",
              "</div>\n",
              "      <button class=\"colab-df-convert\" onclick=\"convertToInteractive('df-b1642eda-6594-440c-8fc9-60725cf47b53')\"\n",
              "              title=\"Convert this dataframe to an interactive table.\"\n",
              "              style=\"display:none;\">\n",
              "        \n",
              "  <svg xmlns=\"http://www.w3.org/2000/svg\" height=\"24px\"viewBox=\"0 0 24 24\"\n",
              "       width=\"24px\">\n",
              "    <path d=\"M0 0h24v24H0V0z\" fill=\"none\"/>\n",
              "    <path d=\"M18.56 5.44l.94 2.06.94-2.06 2.06-.94-2.06-.94-.94-2.06-.94 2.06-2.06.94zm-11 1L8.5 8.5l.94-2.06 2.06-.94-2.06-.94L8.5 2.5l-.94 2.06-2.06.94zm10 10l.94 2.06.94-2.06 2.06-.94-2.06-.94-.94-2.06-.94 2.06-2.06.94z\"/><path d=\"M17.41 7.96l-1.37-1.37c-.4-.4-.92-.59-1.43-.59-.52 0-1.04.2-1.43.59L10.3 9.45l-7.72 7.72c-.78.78-.78 2.05 0 2.83L4 21.41c.39.39.9.59 1.41.59.51 0 1.02-.2 1.41-.59l7.78-7.78 2.81-2.81c.8-.78.8-2.07 0-2.86zM5.41 20L4 18.59l7.72-7.72 1.47 1.35L5.41 20z\"/>\n",
              "  </svg>\n",
              "      </button>\n",
              "      \n",
              "  <style>\n",
              "    .colab-df-container {\n",
              "      display:flex;\n",
              "      flex-wrap:wrap;\n",
              "      gap: 12px;\n",
              "    }\n",
              "\n",
              "    .colab-df-convert {\n",
              "      background-color: #E8F0FE;\n",
              "      border: none;\n",
              "      border-radius: 50%;\n",
              "      cursor: pointer;\n",
              "      display: none;\n",
              "      fill: #1967D2;\n",
              "      height: 32px;\n",
              "      padding: 0 0 0 0;\n",
              "      width: 32px;\n",
              "    }\n",
              "\n",
              "    .colab-df-convert:hover {\n",
              "      background-color: #E2EBFA;\n",
              "      box-shadow: 0px 1px 2px rgba(60, 64, 67, 0.3), 0px 1px 3px 1px rgba(60, 64, 67, 0.15);\n",
              "      fill: #174EA6;\n",
              "    }\n",
              "\n",
              "    [theme=dark] .colab-df-convert {\n",
              "      background-color: #3B4455;\n",
              "      fill: #D2E3FC;\n",
              "    }\n",
              "\n",
              "    [theme=dark] .colab-df-convert:hover {\n",
              "      background-color: #434B5C;\n",
              "      box-shadow: 0px 1px 3px 1px rgba(0, 0, 0, 0.15);\n",
              "      filter: drop-shadow(0px 1px 2px rgba(0, 0, 0, 0.3));\n",
              "      fill: #FFFFFF;\n",
              "    }\n",
              "  </style>\n",
              "\n",
              "      <script>\n",
              "        const buttonEl =\n",
              "          document.querySelector('#df-b1642eda-6594-440c-8fc9-60725cf47b53 button.colab-df-convert');\n",
              "        buttonEl.style.display =\n",
              "          google.colab.kernel.accessAllowed ? 'block' : 'none';\n",
              "\n",
              "        async function convertToInteractive(key) {\n",
              "          const element = document.querySelector('#df-b1642eda-6594-440c-8fc9-60725cf47b53');\n",
              "          const dataTable =\n",
              "            await google.colab.kernel.invokeFunction('convertToInteractive',\n",
              "                                                     [key], {});\n",
              "          if (!dataTable) return;\n",
              "\n",
              "          const docLinkHtml = 'Like what you see? Visit the ' +\n",
              "            '<a target=\"_blank\" href=https://colab.research.google.com/notebooks/data_table.ipynb>data table notebook</a>'\n",
              "            + ' to learn more about interactive tables.';\n",
              "          element.innerHTML = '';\n",
              "          dataTable['output_type'] = 'display_data';\n",
              "          await google.colab.output.renderOutput(dataTable, element);\n",
              "          const docLink = document.createElement('div');\n",
              "          docLink.innerHTML = docLinkHtml;\n",
              "          element.appendChild(docLink);\n",
              "        }\n",
              "      </script>\n",
              "    </div>\n",
              "  </div>\n",
              "  "
            ]
          },
          "metadata": {},
          "execution_count": 231
        }
      ]
    },
    {
      "metadata": {
        "id": "b3jh5Pq9NlCs"
      },
      "cell_type": "code",
      "source": [
        "TN=CM.iloc[0,0]\n",
        "FP=CM.iloc[0,1]\n",
        "FN=CM.iloc[1,0]\n",
        "TP=CM.iloc[1,1]"
      ],
      "execution_count": 232,
      "outputs": []
    },
    {
      "metadata": {
        "id": "ijhRfxM9OGFD"
      },
      "cell_type": "markdown",
      "source": [
        "## false negative rate of the model"
      ]
    },
    {
      "metadata": {
        "id": "RKCv2LDZNwXW",
        "outputId": "0e7a1fa2-a568-4c73-dea4-374c04ad0f01",
        "colab": {
          "base_uri": "https://localhost:8080/"
        }
      },
      "cell_type": "code",
      "source": [
        "fnr = FN*100/(FN+TP)\n",
        "fnr"
      ],
      "execution_count": 233,
      "outputs": [
        {
          "output_type": "execute_result",
          "data": {
            "text/plain": [
              "10.280373831775702"
            ]
          },
          "metadata": {},
          "execution_count": 233
        }
      ]
    },
    {
      "metadata": {
        "id": "ovHec9BDOeWS"
      },
      "cell_type": "markdown",
      "source": [
        "# KNN(K Nearest Neighbors)"
      ]
    },
    {
      "metadata": {
        "id": "cgD5RQVfOf02"
      },
      "cell_type": "code",
      "source": [
        "from sklearn.neighbors import KNeighborsClassifier\n",
        "\n",
        "knn = KNeighborsClassifier(n_neighbors=7)\n",
        "knn.fit(X_train,Y_train)\n",
        "Y_pred_knn=knn.predict(X_test)"
      ],
      "execution_count": 234,
      "outputs": []
    },
    {
      "metadata": {
        "id": "0mNYgeVhOl0A",
        "outputId": "3f2ed003-87c4-4157-c19f-2c555b52b972",
        "colab": {
          "base_uri": "https://localhost:8080/"
        }
      },
      "cell_type": "code",
      "source": [
        "Y_pred_knn.shape"
      ],
      "execution_count": 235,
      "outputs": [
        {
          "output_type": "execute_result",
          "data": {
            "text/plain": [
              "(205,)"
            ]
          },
          "metadata": {},
          "execution_count": 235
        }
      ]
    },
    {
      "metadata": {
        "id": "WN7EX1UbOouC",
        "outputId": "e1d19668-6ee6-4661-96ef-5dd29f1ba730",
        "colab": {
          "base_uri": "https://localhost:8080/"
        }
      },
      "cell_type": "code",
      "source": [
        "score_knn = round(accuracy_score(Y_pred_knn,Y_test)*100,2)\n",
        "\n",
        "print(\"The accuracy score achieved using KNN is: \"+str(score_knn)+\" %\")"
      ],
      "execution_count": 236,
      "outputs": [
        {
          "output_type": "stream",
          "name": "stdout",
          "text": [
            "The accuracy score achieved using KNN is: 72.2 %\n"
          ]
        }
      ]
    },
    {
      "metadata": {
        "id": "7n0XSJPNOfoZ"
      },
      "cell_type": "markdown",
      "source": [
        "## Confusion matrix"
      ]
    },
    {
      "metadata": {
        "id": "aoRy4axtD5ad"
      },
      "cell_type": "code",
      "source": [
        "from sklearn.metrics import confusion_matrix"
      ],
      "execution_count": 237,
      "outputs": []
    },
    {
      "metadata": {
        "id": "wvKmYt6BD7qX"
      },
      "cell_type": "code",
      "source": [
        "matrix= confusion_matrix(Y_test, Y_pred_knn)"
      ],
      "execution_count": 238,
      "outputs": []
    },
    {
      "metadata": {
        "id": "TXy0X0oTEBlR",
        "colab": {
          "base_uri": "https://localhost:8080/",
          "height": 282
        },
        "outputId": "3d5be223-ea91-49a6-817b-5072662aeb0f"
      },
      "cell_type": "code",
      "source": [
        "sns.heatmap(matrix,annot = True, fmt = \"d\")"
      ],
      "execution_count": 239,
      "outputs": [
        {
          "output_type": "execute_result",
          "data": {
            "text/plain": [
              "<matplotlib.axes._subplots.AxesSubplot at 0x7f8030070410>"
            ]
          },
          "metadata": {},
          "execution_count": 239
        },
        {
          "output_type": "display_data",
          "data": {
            "text/plain": [
              "<Figure size 432x288 with 2 Axes>"
            ],
            "image/png": "[encoded data removed]"
          },
          "metadata": {
            "needs_background": "light"
          }
        }
      ]
    },
    {
      "metadata": {
        "id": "b8hMkLCFEFz0"
      },
      "cell_type": "markdown",
      "source": [
        "# precision score"
      ]
    },
    {
      "metadata": {
        "id": "FLcUAKX0EKkc"
      },
      "cell_type": "code",
      "source": [
        "from sklearn.metrics import precision_score"
      ],
      "execution_count": 240,
      "outputs": []
    },
    {
      "metadata": {
        "id": "yGSw_ofsENSw"
      },
      "cell_type": "code",
      "source": [
        "precision = precision_score(Y_test, Y_pred_knn)"
      ],
      "execution_count": 241,
      "outputs": []
    },
    {
      "metadata": {
        "id": "4f3-dP_lERby",
        "colab": {
          "base_uri": "https://localhost:8080/"
        },
        "outputId": "f466d520-f2e3-40b4-87df-777f49296bfd"
      },
      "cell_type": "code",
      "source": [
        "print(\"Precision: \",precision)"
      ],
      "execution_count": 242,
      "outputs": [
        {
          "output_type": "stream",
          "name": "stdout",
          "text": [
            "Precision:  0.7358490566037735\n"
          ]
        }
      ]
    },
    {
      "metadata": {
        "id": "3tMAAU7rETsn"
      },
      "cell_type": "markdown",
      "source": [
        "# recall"
      ]
    },
    {
      "metadata": {
        "id": "sbXUbUUgEVos"
      },
      "cell_type": "code",
      "source": [
        "from sklearn.metrics import recall_score"
      ],
      "execution_count": 243,
      "outputs": []
    },
    {
      "metadata": {
        "id": "L0EV_SJcEgjA"
      },
      "cell_type": "code",
      "source": [
        "recall = recall_score(Y_test, Y_pred_knn)"
      ],
      "execution_count": 244,
      "outputs": []
    },
    {
      "metadata": {
        "id": "qi-OgKIPEkCU",
        "colab": {
          "base_uri": "https://localhost:8080/"
        },
        "outputId": "b38df415-2260-41c6-b37f-c4ce36ee9286"
      },
      "cell_type": "code",
      "source": [
        "print(\"Recall is: \",recall)"
      ],
      "execution_count": 245,
      "outputs": [
        {
          "output_type": "stream",
          "name": "stdout",
          "text": [
            "Recall is:  0.7289719626168224\n"
          ]
        }
      ]
    },
    {
      "metadata": {
        "id": "5e4pPCxoElzy"
      },
      "cell_type": "markdown",
      "source": [
        "# f score"
      ]
    },
    {
      "metadata": {
        "id": "QBR3JUbKEnfK",
        "colab": {
          "base_uri": "https://localhost:8080/"
        },
        "outputId": "3e26e39d-b7c4-4d07-ce36-40b089ec988c"
      },
      "cell_type": "code",
      "source": [
        "print((2*precision*recall)/(precision+recall))"
      ],
      "execution_count": 246,
      "outputs": [
        {
          "output_type": "stream",
          "name": "stdout",
          "text": [
            "0.732394366197183\n"
          ]
        }
      ]
    },
    {
      "metadata": {
        "id": "zAVj1NRGEpMN"
      },
      "cell_type": "markdown",
      "source": [
        "### bad cm"
      ]
    },
    {
      "metadata": {
        "id": "ruXlTTy1OiTc",
        "outputId": "b4bc4bee-ee96-47f3-bed4-6bef60eb3fb6",
        "colab": {
          "base_uri": "https://localhost:8080/",
          "height": 0
        }
      },
      "cell_type": "code",
      "source": [
        "CM = pd.crosstab(Y_test, Y_pred_knn)\n",
        "CM"
      ],
      "execution_count": 247,
      "outputs": [
        {
          "output_type": "execute_result",
          "data": {
            "text/plain": [
              "col_0    0   1\n",
              "target        \n",
              "0       70  28\n",
              "1       29  78"
            ],
            "text/html": [
              "\n",
              "  <div id=\"df-44808e8a-6425-4021-bc1d-ae0fe39c9c53\">\n",
              "    <div class=\"colab-df-container\">\n",
              "      <div>\n",
              "<style scoped>\n",
              "    .dataframe tbody tr th:only-of-type {\n",
              "        vertical-align: middle;\n",
              "    }\n",
              "\n",
              "    .dataframe tbody tr th {\n",
              "        vertical-align: top;\n",
              "    }\n",
              "\n",
              "    .dataframe thead th {\n",
              "        text-align: right;\n",
              "    }\n",
              "</style>\n",
              "<table border=\"1\" class=\"dataframe\">\n",
              "  <thead>\n",
              "    <tr style=\"text-align: right;\">\n",
              "      <th>col_0</th>\n",
              "      <th>0</th>\n",
              "      <th>1</th>\n",
              "    </tr>\n",
              "    <tr>\n",
              "      <th>target</th>\n",
              "      <th></th>\n",
              "      <th></th>\n",
              "    </tr>\n",
              "  </thead>\n",
              "  <tbody>\n",
              "    <tr>\n",
              "      <th>0</th>\n",
              "      <td>70</td>\n",
              "      <td>28</td>\n",
              "    </tr>\n",
              "    <tr>\n",
              "      <th>1</th>\n",
              "      <td>29</td>\n",
              "      <td>78</td>\n",
              "    </tr>\n",
              "  </tbody>\n",
              "</table>\n",
              "</div>\n",
              "      <button class=\"colab-df-convert\" onclick=\"convertToInteractive('df-44808e8a-6425-4021-bc1d-ae0fe39c9c53')\"\n",
              "              title=\"Convert this dataframe to an interactive table.\"\n",
              "              style=\"display:none;\">\n",
              "        \n",
              "  <svg xmlns=\"http://www.w3.org/2000/svg\" height=\"24px\"viewBox=\"0 0 24 24\"\n",
              "       width=\"24px\">\n",
              "    <path d=\"M0 0h24v24H0V0z\" fill=\"none\"/>\n",
              "    <path d=\"M18.56 5.44l.94 2.06.94-2.06 2.06-.94-2.06-.94-.94-2.06-.94 2.06-2.06.94zm-11 1L8.5 8.5l.94-2.06 2.06-.94-2.06-.94L8.5 2.5l-.94 2.06-2.06.94zm10 10l.94 2.06.94-2.06 2.06-.94-2.06-.94-.94-2.06-.94 2.06-2.06.94z\"/><path d=\"M17.41 7.96l-1.37-1.37c-.4-.4-.92-.59-1.43-.59-.52 0-1.04.2-1.43.59L10.3 9.45l-7.72 7.72c-.78.78-.78 2.05 0 2.83L4 21.41c.39.39.9.59 1.41.59.51 0 1.02-.2 1.41-.59l7.78-7.78 2.81-2.81c.8-.78.8-2.07 0-2.86zM5.41 20L4 18.59l7.72-7.72 1.47 1.35L5.41 20z\"/>\n",
              "  </svg>\n",
              "      </button>\n",
              "      \n",
              "  <style>\n",
              "    .colab-df-container {\n",
              "      display:flex;\n",
              "      flex-wrap:wrap;\n",
              "      gap: 12px;\n",
              "    }\n",
              "\n",
              "    .colab-df-convert {\n",
              "      background-color: #E8F0FE;\n",
              "      border: none;\n",
              "      border-radius: 50%;\n",
              "      cursor: pointer;\n",
              "      display: none;\n",
              "      fill: #1967D2;\n",
              "      height: 32px;\n",
              "      padding: 0 0 0 0;\n",
              "      width: 32px;\n",
              "    }\n",
              "\n",
              "    .colab-df-convert:hover {\n",
              "      background-color: #E2EBFA;\n",
              "      box-shadow: 0px 1px 2px rgba(60, 64, 67, 0.3), 0px 1px 3px 1px rgba(60, 64, 67, 0.15);\n",
              "      fill: #174EA6;\n",
              "    }\n",
              "\n",
              "    [theme=dark] .colab-df-convert {\n",
              "      background-color: #3B4455;\n",
              "      fill: #D2E3FC;\n",
              "    }\n",
              "\n",
              "    [theme=dark] .colab-df-convert:hover {\n",
              "      background-color: #434B5C;\n",
              "      box-shadow: 0px 1px 3px 1px rgba(0, 0, 0, 0.15);\n",
              "      filter: drop-shadow(0px 1px 2px rgba(0, 0, 0, 0.3));\n",
              "      fill: #FFFFFF;\n",
              "    }\n",
              "  </style>\n",
              "\n",
              "      <script>\n",
              "        const buttonEl =\n",
              "          document.querySelector('#df-44808e8a-6425-4021-bc1d-ae0fe39c9c53 button.colab-df-convert');\n",
              "        buttonEl.style.display =\n",
              "          google.colab.kernel.accessAllowed ? 'block' : 'none';\n",
              "\n",
              "        async function convertToInteractive(key) {\n",
              "          const element = document.querySelector('#df-44808e8a-6425-4021-bc1d-ae0fe39c9c53');\n",
              "          const dataTable =\n",
              "            await google.colab.kernel.invokeFunction('convertToInteractive',\n",
              "                                                     [key], {});\n",
              "          if (!dataTable) return;\n",
              "\n",
              "          const docLinkHtml = 'Like what you see? Visit the ' +\n",
              "            '<a target=\"_blank\" href=https://colab.research.google.com/notebooks/data_table.ipynb>data table notebook</a>'\n",
              "            + ' to learn more about interactive tables.';\n",
              "          element.innerHTML = '';\n",
              "          dataTable['output_type'] = 'display_data';\n",
              "          await google.colab.output.renderOutput(dataTable, element);\n",
              "          const docLink = document.createElement('div');\n",
              "          docLink.innerHTML = docLinkHtml;\n",
              "          element.appendChild(docLink);\n",
              "        }\n",
              "      </script>\n",
              "    </div>\n",
              "  </div>\n",
              "  "
            ]
          },
          "metadata": {},
          "execution_count": 247
        }
      ]
    },
    {
      "metadata": {
        "id": "8nX1QZ4eOqbV"
      },
      "cell_type": "code",
      "source": [
        "TN=CM.iloc[0,0]\n",
        "FP=CM.iloc[0,1]\n",
        "FN=CM.iloc[1,0]\n",
        "TP=CM.iloc[1,1]"
      ],
      "execution_count": 248,
      "outputs": []
    },
    {
      "metadata": {
        "id": "z0Gdp7lNOtDq"
      },
      "cell_type": "markdown",
      "source": [
        "## false negative rate of the model"
      ]
    },
    {
      "metadata": {
        "id": "7vQTUtBcOxoQ",
        "outputId": "ce8919d9-77ac-4d56-fb23-04fa55189199",
        "colab": {
          "base_uri": "https://localhost:8080/"
        }
      },
      "cell_type": "code",
      "source": [
        "fnr = FN*100/(FN+TP)\n",
        "fnr"
      ],
      "execution_count": 249,
      "outputs": [
        {
          "output_type": "execute_result",
          "data": {
            "text/plain": [
              "27.102803738317757"
            ]
          },
          "metadata": {},
          "execution_count": 249
        }
      ]
    },
    {
      "metadata": {
        "id": "Q2uvggitO1iZ"
      },
      "cell_type": "markdown",
      "source": [
        "## for neighbors = 4"
      ]
    },
    {
      "metadata": {
        "id": "-dZT5oiqOsBx"
      },
      "cell_type": "code",
      "source": [
        "from sklearn.neighbors import KNeighborsClassifier\n",
        "\n",
        "knn = KNeighborsClassifier(n_neighbors=4)\n",
        "knn.fit(X_train,Y_train)\n",
        "Y_pred_knn4=knn.predict(X_test)"
      ],
      "execution_count": 250,
      "outputs": []
    },
    {
      "metadata": {
        "id": "9W4nPHtwOvjH",
        "outputId": "d8db7897-702b-4e26-bb53-88c7934d85f6",
        "colab": {
          "base_uri": "https://localhost:8080/"
        }
      },
      "cell_type": "code",
      "source": [
        "Y_pred_knn4.shape"
      ],
      "execution_count": 251,
      "outputs": [
        {
          "output_type": "execute_result",
          "data": {
            "text/plain": [
              "(205,)"
            ]
          },
          "metadata": {},
          "execution_count": 251
        }
      ]
    },
    {
      "metadata": {
        "id": "BicdIDjvOxhH",
        "outputId": "ae55941b-5333-4ef4-bda0-fa8f70e83209",
        "colab": {
          "base_uri": "https://localhost:8080/"
        }
      },
      "cell_type": "code",
      "source": [
        "score_knn_4 = round(accuracy_score(Y_pred_knn,Y_test)*100,2)\n",
        "\n",
        "print(\"The accuracy score achieved using KNN is: \"+str(score_knn_4)+\" %\")"
      ],
      "execution_count": 252,
      "outputs": [
        {
          "output_type": "stream",
          "name": "stdout",
          "text": [
            "The accuracy score achieved using KNN is: 72.2 %\n"
          ]
        }
      ]
    },
    {
      "metadata": {
        "id": "amze9sIJPu9f"
      },
      "cell_type": "markdown",
      "source": [
        "## false negative rate"
      ]
    },
    {
      "metadata": {
        "id": "RsUGoQmtPArG",
        "outputId": "33ac9556-6976-49da-c5a1-8a4c068324b2",
        "colab": {
          "base_uri": "https://localhost:8080/"
        }
      },
      "cell_type": "code",
      "source": [
        "CM = pd.crosstab(Y_test, Y_pred_knn4)\n",
        "TN=CM.iloc[0,0]\n",
        "FP=CM.iloc[0,1]\n",
        "FN=CM.iloc[1,0]\n",
        "TP=CM.iloc[1,1]\n",
        "fnr = FN*100/(FN+TP)\n",
        "fnr"
      ],
      "execution_count": 253,
      "outputs": [
        {
          "output_type": "execute_result",
          "data": {
            "text/plain": [
              "27.102803738317757"
            ]
          },
          "metadata": {},
          "execution_count": 253
        }
      ]
    },
    {
      "metadata": {
        "id": "KyhawFIRPUch"
      },
      "cell_type": "markdown",
      "source": [
        "# Decision Tree"
      ]
    },
    {
      "metadata": {
        "id": "feNBLqPn658C",
        "outputId": "793d7976-beb6-4b72-b520-26b40c6f9746",
        "colab": {
          "base_uri": "https://localhost:8080/"
        }
      },
      "cell_type": "code",
      "source": [
        "from sklearn.tree import DecisionTreeClassifier\n",
        "tree1 = DecisionTreeClassifier(random_state=0)\n",
        "tree1.fit(X_train, Y_train)\n",
        "print(\"Accuracy on training set: {:.3f}\".format(tree1.score(X_train, Y_train)))\n",
        "print(\"Accuracy on test set: {:.3f}\".format(tree1.score(X_test, Y_test)))"
      ],
      "execution_count": 254,
      "outputs": [
        {
          "output_type": "stream",
          "name": "stdout",
          "text": [
            "Accuracy on training set: 1.000\n",
            "Accuracy on test set: 1.000\n"
          ]
        }
      ]
    },
    {
      "metadata": {
        "id": "Ry9mL9Py7Fx7"
      },
      "cell_type": "markdown",
      "source": [
        "The accuracy on the training set is 100%, while the test set accuracy is much worse. This is an indicative that the tree is overfitting and not generalizing well to new data. Therefore, we need to apply pre-pruning to the tree.\n",
        "\n",
        "We set max_depth=3, limiting the depth of the tree decreases overfitting. This leads to a lower accuracy on the training set, but an improvement on the test set."
      ]
    },
    {
      "metadata": {
        "id": "xwwLmy4n7Go0",
        "outputId": "fdd0eeb9-8c31-40b3-9ab7-2eb0a585f444",
        "colab": {
          "base_uri": "https://localhost:8080/"
        }
      },
      "cell_type": "code",
      "source": [
        "tree1 = DecisionTreeClassifier(max_depth=3, random_state=0)\n",
        "tree1.fit(X_train, Y_train)\n",
        "print(\"Accuracy on training set: {:.3f}\".format(tree1.score(X_train, Y_train)))\n",
        "print(\"Accuracy on test set: {:.3f}\".format(tree1.score(X_test, Y_test)))"
      ],
      "execution_count": 255,
      "outputs": [
        {
          "output_type": "stream",
          "name": "stdout",
          "text": [
            "Accuracy on training set: 0.848\n",
            "Accuracy on test set: 0.844\n"
          ]
        }
      ]
    },
    {
      "metadata": {
        "id": "yM2faYCKPYlP"
      },
      "cell_type": "code",
      "source": [
        "from sklearn.tree import DecisionTreeClassifier\n",
        "\n",
        "max_accuracy = 0\n",
        "\n",
        "\n",
        "for x in range(200):\n",
        "    dt = DecisionTreeClassifier(random_state=x)\n",
        "    dt.fit(X_train,Y_train)\n",
        "    Y_pred_dt = dt.predict(X_test)\n",
        "    current_accuracy = round(accuracy_score(Y_pred_dt,Y_test)*100,2)\n",
        "    if(current_accuracy>max_accuracy):\n",
        "        max_accuracy = current_accuracy\n",
        "        best_x = x\n",
        "        \n",
        "#print(max_accuracy)\n",
        "#print(best_x)\n",
        "\n",
        "\n",
        "dt = DecisionTreeClassifier(random_state=best_x)\n",
        "dt.fit(X_train,Y_train)\n",
        "Y_pred_dt = dt.predict(X_test)"
      ],
      "execution_count": 256,
      "outputs": []
    },
    {
      "metadata": {
        "id": "jgEqnhioPbN7",
        "outputId": "9b9df86a-e534-47d9-f1ad-88b0c6748ec4",
        "colab": {
          "base_uri": "https://localhost:8080/"
        }
      },
      "cell_type": "code",
      "source": [
        "print(Y_pred_dt.shape)"
      ],
      "execution_count": 257,
      "outputs": [
        {
          "output_type": "stream",
          "name": "stdout",
          "text": [
            "(205,)\n"
          ]
        }
      ]
    },
    {
      "metadata": {
        "id": "0M8TALaSxLrZ"
      },
      "cell_type": "markdown",
      "source": [
        "# Discision Tree Visualization"
      ]
    },
    {
      "metadata": {
        "id": "GCD8ytQdu1pI"
      },
      "cell_type": "code",
      "source": [
        "df = pd.read_csv('heart.csv')"
      ],
      "execution_count": 258,
      "outputs": []
    },
    {
      "metadata": {
        "id": "QZ97p7SrvWlG",
        "colab": {
          "base_uri": "https://localhost:8080/",
          "height": 206
        },
        "outputId": "f47e9d6b-e0e8-4e82-acce-6b7b855936db"
      },
      "cell_type": "code",
      "source": [
        "df.head()"
      ],
      "execution_count": 259,
      "outputs": [
        {
          "output_type": "execute_result",
          "data": {
            "text/plain": [
              "   age  sex  cp  trestbps  chol  fbs  restecg  thalach  exang  oldpeak  slope  \\\n",
              "0   52    1   0       125   212    0        1      168      0      1.0      2   \n",
              "1   53    1   0       140   203    1        0      155      1      3.1      0   \n",
              "2   70    1   0       145   174    0        1      125      1      2.6      0   \n",
              "3   61    1   0       148   203    0        1      161      0      0.0      2   \n",
              "4   62    0   0       138   294    1        1      106      0      1.9      1   \n",
              "\n",
              "   ca  thal  target  \n",
              "0   2     3       0  \n",
              "1   0     3       0  \n",
              "2   0     3       0  \n",
              "3   1     3       0  \n",
              "4   3     2       0  "
            ],
            "text/html": [
              "\n",
              "  <div id=\"df-62b6dc5c-fc81-4722-9e7a-07d97b25ba5d\">\n",
              "    <div class=\"colab-df-container\">\n",
              "      <div>\n",
              "<style scoped>\n",
              "    .dataframe tbody tr th:only-of-type {\n",
              "        vertical-align: middle;\n",
              "    }\n",
              "\n",
              "    .dataframe tbody tr th {\n",
              "        vertical-align: top;\n",
              "    }\n",
              "\n",
              "    .dataframe thead th {\n",
              "        text-align: right;\n",
              "    }\n",
              "</style>\n",
              "<table border=\"1\" class=\"dataframe\">\n",
              "  <thead>\n",
              "    <tr style=\"text-align: right;\">\n",
              "      <th></th>\n",
              "      <th>age</th>\n",
              "      <th>sex</th>\n",
              "      <th>cp</th>\n",
              "      <th>trestbps</th>\n",
              "      <th>chol</th>\n",
              "      <th>fbs</th>\n",
              "      <th>restecg</th>\n",
              "      <th>thalach</th>\n",
              "      <th>exang</th>\n",
              "      <th>oldpeak</th>\n",
              "      <th>slope</th>\n",
              "      <th>ca</th>\n",
              "      <th>thal</th>\n",
              "      <th>target</th>\n",
              "    </tr>\n",
              "  </thead>\n",
              "  <tbody>\n",
              "    <tr>\n",
              "      <th>0</th>\n",
              "      <td>52</td>\n",
              "      <td>1</td>\n",
              "      <td>0</td>\n",
              "      <td>125</td>\n",
              "      <td>212</td>\n",
              "      <td>0</td>\n",
              "      <td>1</td>\n",
              "      <td>168</td>\n",
              "      <td>0</td>\n",
              "      <td>1.0</td>\n",
              "      <td>2</td>\n",
              "      <td>2</td>\n",
              "      <td>3</td>\n",
              "      <td>0</td>\n",
              "    </tr>\n",
              "    <tr>\n",
              "      <th>1</th>\n",
              "      <td>53</td>\n",
              "      <td>1</td>\n",
              "      <td>0</td>\n",
              "      <td>140</td>\n",
              "      <td>203</td>\n",
              "      <td>1</td>\n",
              "      <td>0</td>\n",
              "      <td>155</td>\n",
              "      <td>1</td>\n",
              "      <td>3.1</td>\n",
              "      <td>0</td>\n",
              "      <td>0</td>\n",
              "      <td>3</td>\n",
              "      <td>0</td>\n",
              "    </tr>\n",
              "    <tr>\n",
              "      <th>2</th>\n",
              "      <td>70</td>\n",
              "      <td>1</td>\n",
              "      <td>0</td>\n",
              "      <td>145</td>\n",
              "      <td>174</td>\n",
              "      <td>0</td>\n",
              "      <td>1</td>\n",
              "      <td>125</td>\n",
              "      <td>1</td>\n",
              "      <td>2.6</td>\n",
              "      <td>0</td>\n",
              "      <td>0</td>\n",
              "      <td>3</td>\n",
              "      <td>0</td>\n",
              "    </tr>\n",
              "    <tr>\n",
              "      <th>3</th>\n",
              "      <td>61</td>\n",
              "      <td>1</td>\n",
              "      <td>0</td>\n",
              "      <td>148</td>\n",
              "      <td>203</td>\n",
              "      <td>0</td>\n",
              "      <td>1</td>\n",
              "      <td>161</td>\n",
              "      <td>0</td>\n",
              "      <td>0.0</td>\n",
              "      <td>2</td>\n",
              "      <td>1</td>\n",
              "      <td>3</td>\n",
              "      <td>0</td>\n",
              "    </tr>\n",
              "    <tr>\n",
              "      <th>4</th>\n",
              "      <td>62</td>\n",
              "      <td>0</td>\n",
              "      <td>0</td>\n",
              "      <td>138</td>\n",
              "      <td>294</td>\n",
              "      <td>1</td>\n",
              "      <td>1</td>\n",
              "      <td>106</td>\n",
              "      <td>0</td>\n",
              "      <td>1.9</td>\n",
              "      <td>1</td>\n",
              "      <td>3</td>\n",
              "      <td>2</td>\n",
              "      <td>0</td>\n",
              "    </tr>\n",
              "  </tbody>\n",
              "</table>\n",
              "</div>\n",
              "      <button class=\"colab-df-convert\" onclick=\"convertToInteractive('df-62b6dc5c-fc81-4722-9e7a-07d97b25ba5d')\"\n",
              "              title=\"Convert this dataframe to an interactive table.\"\n",
              "              style=\"display:none;\">\n",
              "        \n",
              "  <svg xmlns=\"http://www.w3.org/2000/svg\" height=\"24px\"viewBox=\"0 0 24 24\"\n",
              "       width=\"24px\">\n",
              "    <path d=\"M0 0h24v24H0V0z\" fill=\"none\"/>\n",
              "    <path d=\"M18.56 5.44l.94 2.06.94-2.06 2.06-.94-2.06-.94-.94-2.06-.94 2.06-2.06.94zm-11 1L8.5 8.5l.94-2.06 2.06-.94-2.06-.94L8.5 2.5l-.94 2.06-2.06.94zm10 10l.94 2.06.94-2.06 2.06-.94-2.06-.94-.94-2.06-.94 2.06-2.06.94z\"/><path d=\"M17.41 7.96l-1.37-1.37c-.4-.4-.92-.59-1.43-.59-.52 0-1.04.2-1.43.59L10.3 9.45l-7.72 7.72c-.78.78-.78 2.05 0 2.83L4 21.41c.39.39.9.59 1.41.59.51 0 1.02-.2 1.41-.59l7.78-7.78 2.81-2.81c.8-.78.8-2.07 0-2.86zM5.41 20L4 18.59l7.72-7.72 1.47 1.35L5.41 20z\"/>\n",
              "  </svg>\n",
              "      </button>\n",
              "      \n",
              "  <style>\n",
              "    .colab-df-container {\n",
              "      display:flex;\n",
              "      flex-wrap:wrap;\n",
              "      gap: 12px;\n",
              "    }\n",
              "\n",
              "    .colab-df-convert {\n",
              "      background-color: #E8F0FE;\n",
              "      border: none;\n",
              "      border-radius: 50%;\n",
              "      cursor: pointer;\n",
              "      display: none;\n",
              "      fill: #1967D2;\n",
              "      height: 32px;\n",
              "      padding: 0 0 0 0;\n",
              "      width: 32px;\n",
              "    }\n",
              "\n",
              "    .colab-df-convert:hover {\n",
              "      background-color: #E2EBFA;\n",
              "      box-shadow: 0px 1px 2px rgba(60, 64, 67, 0.3), 0px 1px 3px 1px rgba(60, 64, 67, 0.15);\n",
              "      fill: #174EA6;\n",
              "    }\n",
              "\n",
              "    [theme=dark] .colab-df-convert {\n",
              "      background-color: #3B4455;\n",
              "      fill: #D2E3FC;\n",
              "    }\n",
              "\n",
              "    [theme=dark] .colab-df-convert:hover {\n",
              "      background-color: #434B5C;\n",
              "      box-shadow: 0px 1px 3px 1px rgba(0, 0, 0, 0.15);\n",
              "      filter: drop-shadow(0px 1px 2px rgba(0, 0, 0, 0.3));\n",
              "      fill: #FFFFFF;\n",
              "    }\n",
              "  </style>\n",
              "\n",
              "      <script>\n",
              "        const buttonEl =\n",
              "          document.querySelector('#df-62b6dc5c-fc81-4722-9e7a-07d97b25ba5d button.colab-df-convert');\n",
              "        buttonEl.style.display =\n",
              "          google.colab.kernel.accessAllowed ? 'block' : 'none';\n",
              "\n",
              "        async function convertToInteractive(key) {\n",
              "          const element = document.querySelector('#df-62b6dc5c-fc81-4722-9e7a-07d97b25ba5d');\n",
              "          const dataTable =\n",
              "            await google.colab.kernel.invokeFunction('convertToInteractive',\n",
              "                                                     [key], {});\n",
              "          if (!dataTable) return;\n",
              "\n",
              "          const docLinkHtml = 'Like what you see? Visit the ' +\n",
              "            '<a target=\"_blank\" href=https://colab.research.google.com/notebooks/data_table.ipynb>data table notebook</a>'\n",
              "            + ' to learn more about interactive tables.';\n",
              "          element.innerHTML = '';\n",
              "          dataTable['output_type'] = 'display_data';\n",
              "          await google.colab.output.renderOutput(dataTable, element);\n",
              "          const docLink = document.createElement('div');\n",
              "          docLink.innerHTML = docLinkHtml;\n",
              "          element.appendChild(docLink);\n",
              "        }\n",
              "      </script>\n",
              "    </div>\n",
              "  </div>\n",
              "  "
            ]
          },
          "metadata": {},
          "execution_count": 259
        }
      ]
    },
    {
      "metadata": {
        "id": "f45tvKYVwTbw"
      },
      "cell_type": "code",
      "source": [
        "from pandas import DataFrame, Series\n",
        "from IPython.display import Image \n",
        "from io import StringIO\n",
        "import pydotplus\n",
        "from sklearn import preprocessing"
      ],
      "execution_count": 260,
      "outputs": []
    },
    {
      "metadata": {
        "id": "Nx7i72yCvcQt"
      },
      "cell_type": "code",
      "source": [
        "def plot_decision_tree(clf,feature_name,target_name):\n",
        "    dot_data = StringIO()  \n",
        "    tree.export_graphviz(clf, out_file=dot_data,  \n",
        "                         feature_names=feature_name,  \n",
        "                         class_names=target_name,  \n",
        "                         filled=True, rounded=True,  \n",
        "                         special_characters=True)  \n",
        "    graph = pydotplus.graph_from_dot_data(dot_data.getvalue())  \n",
        "    return Image(graph.create_png())"
      ],
      "execution_count": 261,
      "outputs": []
    },
    {
      "metadata": {
        "id": "SxB5z6Q8v7iN"
      },
      "cell_type": "code",
      "source": [
        "from sklearn import tree\n",
        "clf = tree.DecisionTreeClassifier()\n",
        "clf = clf.fit(X_train,Y_train)"
      ],
      "execution_count": 262,
      "outputs": []
    },
    {
      "metadata": {
        "id": "kyN7bso79cvL"
      },
      "cell_type": "markdown",
      "source": [
        "### accuracy"
      ]
    },
    {
      "metadata": {
        "id": "3V4aPp_LPdnj",
        "outputId": "975e0387-0aa7-4525-8b0c-579f429926b8",
        "colab": {
          "base_uri": "https://localhost:8080/"
        }
      },
      "cell_type": "code",
      "source": [
        "score_dt = round(accuracy_score(Y_pred_dt,Y_test)*100,2)\n",
        "\n",
        "print(\"The accuracy score achieved using Decision Tree is: \"+str(score_dt)+\" %\")"
      ],
      "execution_count": 264,
      "outputs": [
        {
          "output_type": "stream",
          "name": "stdout",
          "text": [
            "The accuracy score achieved using Decision Tree is: 100.0 %\n"
          ]
        }
      ]
    },
    {
      "metadata": {
        "id": "eq2FijZhGVvB"
      },
      "cell_type": "code",
      "source": [
        ""
      ],
      "execution_count": 264,
      "outputs": []
    },
    {
      "metadata": {
        "id": "fftdDA5nP1au"
      },
      "cell_type": "markdown",
      "source": [
        "## Confusion Matrix"
      ]
    },
    {
      "metadata": {
        "id": "NrS2eR2XE8iu"
      },
      "cell_type": "code",
      "source": [
        "from sklearn.metrics import confusion_matrix"
      ],
      "execution_count": 265,
      "outputs": []
    },
    {
      "metadata": {
        "id": "vthkpSogE-o2"
      },
      "cell_type": "code",
      "source": [
        "matrix= confusion_matrix(Y_test, Y_pred_dt)"
      ],
      "execution_count": 266,
      "outputs": []
    },
    {
      "metadata": {
        "id": "GEMOk9xdFCFq",
        "colab": {
          "base_uri": "https://localhost:8080/",
          "height": 282
        },
        "outputId": "597f1b1f-cd47-40a8-fb44-3a316fc8827e"
      },
      "cell_type": "code",
      "source": [
        "sns.heatmap(matrix,annot = True, fmt = \"d\")"
      ],
      "execution_count": 267,
      "outputs": [
        {
          "output_type": "execute_result",
          "data": {
            "text/plain": [
              "<matplotlib.axes._subplots.AxesSubplot at 0x7f802f10e7d0>"
            ]
          },
          "metadata": {},
          "execution_count": 267
        },
        {
          "output_type": "display_data",
          "data": {
            "text/plain": [
              "<Figure size 432x288 with 2 Axes>"
            ],
            "image/png": "[encoded data removed]"
          },
          "metadata": {
            "needs_background": "light"
          }
        }
      ]
    },
    {
      "metadata": {
        "id": "fCfAMy67FFWL"
      },
      "cell_type": "markdown",
      "source": [
        "# precision score"
      ]
    },
    {
      "metadata": {
        "id": "SGwTwM5TFIKl"
      },
      "cell_type": "code",
      "source": [
        "from sklearn.metrics import precision_score"
      ],
      "execution_count": 268,
      "outputs": []
    },
    {
      "metadata": {
        "id": "6rw05ERpFLgW"
      },
      "cell_type": "code",
      "source": [
        "precision = precision_score(Y_test, Y_pred_dt)"
      ],
      "execution_count": 269,
      "outputs": []
    },
    {
      "metadata": {
        "id": "yOVrwHEcFKfU",
        "colab": {
          "base_uri": "https://localhost:8080/"
        },
        "outputId": "0225d050-caec-4bf5-8170-a3796f26c857"
      },
      "cell_type": "code",
      "source": [
        "print(\"Precision: \",precision)"
      ],
      "execution_count": 270,
      "outputs": [
        {
          "output_type": "stream",
          "name": "stdout",
          "text": [
            "Precision:  1.0\n"
          ]
        }
      ]
    },
    {
      "metadata": {
        "id": "TEcKGKlhFRTm"
      },
      "cell_type": "markdown",
      "source": [
        "# recall"
      ]
    },
    {
      "metadata": {
        "id": "VW__KUODFSvv"
      },
      "cell_type": "code",
      "source": [
        "from sklearn.metrics import recall_score"
      ],
      "execution_count": 271,
      "outputs": []
    },
    {
      "metadata": {
        "id": "10IDd-oRFXL6"
      },
      "cell_type": "code",
      "source": [
        "recall = recall_score(Y_test, Y_pred_dt)"
      ],
      "execution_count": 272,
      "outputs": []
    },
    {
      "metadata": {
        "id": "dbNYr_6vFacA",
        "colab": {
          "base_uri": "https://localhost:8080/"
        },
        "outputId": "aada9ee7-3d3d-45c2-f850-3343a9faa977"
      },
      "cell_type": "code",
      "source": [
        "print(\"Recall is: \",recall)"
      ],
      "execution_count": 273,
      "outputs": [
        {
          "output_type": "stream",
          "name": "stdout",
          "text": [
            "Recall is:  1.0\n"
          ]
        }
      ]
    },
    {
      "metadata": {
        "id": "1t9CDBujFb_O"
      },
      "cell_type": "markdown",
      "source": [
        "# f score"
      ]
    },
    {
      "metadata": {
        "id": "5OirUeKpFdeX",
        "colab": {
          "base_uri": "https://localhost:8080/"
        },
        "outputId": "84b35aed-0a55-4700-c616-7231bf0a2779"
      },
      "cell_type": "code",
      "source": [
        "print((2*precision*recall)/(precision+recall))"
      ],
      "execution_count": 274,
      "outputs": [
        {
          "output_type": "stream",
          "name": "stdout",
          "text": [
            "1.0\n"
          ]
        }
      ]
    },
    {
      "metadata": {
        "id": "cbVR6_cRFuxO"
      },
      "cell_type": "markdown",
      "source": [
        "### bad cm style"
      ]
    },
    {
      "metadata": {
        "id": "Gp6p_ooLP0vK",
        "outputId": "cea41759-f941-405a-a99a-adf3b81f3168",
        "colab": {
          "base_uri": "https://localhost:8080/",
          "height": 0
        }
      },
      "cell_type": "code",
      "source": [
        "CM = pd.crosstab(Y_test, Y_pred_dt)\n",
        "CM"
      ],
      "execution_count": 275,
      "outputs": [
        {
          "output_type": "execute_result",
          "data": {
            "text/plain": [
              "col_0    0    1\n",
              "target         \n",
              "0       98    0\n",
              "1        0  107"
            ],
            "text/html": [
              "\n",
              "  <div id=\"df-de1ac489-f9e3-466c-abab-16b96c5ea222\">\n",
              "    <div class=\"colab-df-container\">\n",
              "      <div>\n",
              "<style scoped>\n",
              "    .dataframe tbody tr th:only-of-type {\n",
              "        vertical-align: middle;\n",
              "    }\n",
              "\n",
              "    .dataframe tbody tr th {\n",
              "        vertical-align: top;\n",
              "    }\n",
              "\n",
              "    .dataframe thead th {\n",
              "        text-align: right;\n",
              "    }\n",
              "</style>\n",
              "<table border=\"1\" class=\"dataframe\">\n",
              "  <thead>\n",
              "    <tr style=\"text-align: right;\">\n",
              "      <th>col_0</th>\n",
              "      <th>0</th>\n",
              "      <th>1</th>\n",
              "    </tr>\n",
              "    <tr>\n",
              "      <th>target</th>\n",
              "      <th></th>\n",
              "      <th></th>\n",
              "    </tr>\n",
              "  </thead>\n",
              "  <tbody>\n",
              "    <tr>\n",
              "      <th>0</th>\n",
              "      <td>98</td>\n",
              "      <td>0</td>\n",
              "    </tr>\n",
              "    <tr>\n",
              "      <th>1</th>\n",
              "      <td>0</td>\n",
              "      <td>107</td>\n",
              "    </tr>\n",
              "  </tbody>\n",
              "</table>\n",
              "</div>\n",
              "      <button class=\"colab-df-convert\" onclick=\"convertToInteractive('df-de1ac489-f9e3-466c-abab-16b96c5ea222')\"\n",
              "              title=\"Convert this dataframe to an interactive table.\"\n",
              "              style=\"display:none;\">\n",
              "        \n",
              "  <svg xmlns=\"http://www.w3.org/2000/svg\" height=\"24px\"viewBox=\"0 0 24 24\"\n",
              "       width=\"24px\">\n",
              "    <path d=\"M0 0h24v24H0V0z\" fill=\"none\"/>\n",
              "    <path d=\"M18.56 5.44l.94 2.06.94-2.06 2.06-.94-2.06-.94-.94-2.06-.94 2.06-2.06.94zm-11 1L8.5 8.5l.94-2.06 2.06-.94-2.06-.94L8.5 2.5l-.94 2.06-2.06.94zm10 10l.94 2.06.94-2.06 2.06-.94-2.06-.94-.94-2.06-.94 2.06-2.06.94z\"/><path d=\"M17.41 7.96l-1.37-1.37c-.4-.4-.92-.59-1.43-.59-.52 0-1.04.2-1.43.59L10.3 9.45l-7.72 7.72c-.78.78-.78 2.05 0 2.83L4 21.41c.39.39.9.59 1.41.59.51 0 1.02-.2 1.41-.59l7.78-7.78 2.81-2.81c.8-.78.8-2.07 0-2.86zM5.41 20L4 18.59l7.72-7.72 1.47 1.35L5.41 20z\"/>\n",
              "  </svg>\n",
              "      </button>\n",
              "      \n",
              "  <style>\n",
              "    .colab-df-container {\n",
              "      display:flex;\n",
              "      flex-wrap:wrap;\n",
              "      gap: 12px;\n",
              "    }\n",
              "\n",
              "    .colab-df-convert {\n",
              "      background-color: #E8F0FE;\n",
              "      border: none;\n",
              "      border-radius: 50%;\n",
              "      cursor: pointer;\n",
              "      display: none;\n",
              "      fill: #1967D2;\n",
              "      height: 32px;\n",
              "      padding: 0 0 0 0;\n",
              "      width: 32px;\n",
              "    }\n",
              "\n",
              "    .colab-df-convert:hover {\n",
              "      background-color: #E2EBFA;\n",
              "      box-shadow: 0px 1px 2px rgba(60, 64, 67, 0.3), 0px 1px 3px 1px rgba(60, 64, 67, 0.15);\n",
              "      fill: #174EA6;\n",
              "    }\n",
              "\n",
              "    [theme=dark] .colab-df-convert {\n",
              "      background-color: #3B4455;\n",
              "      fill: #D2E3FC;\n",
              "    }\n",
              "\n",
              "    [theme=dark] .colab-df-convert:hover {\n",
              "      background-color: #434B5C;\n",
              "      box-shadow: 0px 1px 3px 1px rgba(0, 0, 0, 0.15);\n",
              "      filter: drop-shadow(0px 1px 2px rgba(0, 0, 0, 0.3));\n",
              "      fill: #FFFFFF;\n",
              "    }\n",
              "  </style>\n",
              "\n",
              "      <script>\n",
              "        const buttonEl =\n",
              "          document.querySelector('#df-de1ac489-f9e3-466c-abab-16b96c5ea222 button.colab-df-convert');\n",
              "        buttonEl.style.display =\n",
              "          google.colab.kernel.accessAllowed ? 'block' : 'none';\n",
              "\n",
              "        async function convertToInteractive(key) {\n",
              "          const element = document.querySelector('#df-de1ac489-f9e3-466c-abab-16b96c5ea222');\n",
              "          const dataTable =\n",
              "            await google.colab.kernel.invokeFunction('convertToInteractive',\n",
              "                                                     [key], {});\n",
              "          if (!dataTable) return;\n",
              "\n",
              "          const docLinkHtml = 'Like what you see? Visit the ' +\n",
              "            '<a target=\"_blank\" href=https://colab.research.google.com/notebooks/data_table.ipynb>data table notebook</a>'\n",
              "            + ' to learn more about interactive tables.';\n",
              "          element.innerHTML = '';\n",
              "          dataTable['output_type'] = 'display_data';\n",
              "          await google.colab.output.renderOutput(dataTable, element);\n",
              "          const docLink = document.createElement('div');\n",
              "          docLink.innerHTML = docLinkHtml;\n",
              "          element.appendChild(docLink);\n",
              "        }\n",
              "      </script>\n",
              "    </div>\n",
              "  </div>\n",
              "  "
            ]
          },
          "metadata": {},
          "execution_count": 275
        }
      ]
    },
    {
      "metadata": {
        "id": "uMjp5Rt0QAan"
      },
      "cell_type": "markdown",
      "source": [
        "## false negative rate"
      ]
    },
    {
      "metadata": {
        "id": "Y7M-Tw0uQDIc",
        "outputId": "77a13580-e70a-460e-8a75-d7521521a605",
        "colab": {
          "base_uri": "https://localhost:8080/"
        }
      },
      "cell_type": "code",
      "source": [
        "TN=CM.iloc[0,0]\n",
        "FP=CM.iloc[0,1]\n",
        "FN=CM.iloc[1,0]\n",
        "TP=CM.iloc[1,1]\n",
        "fnr = FN*100/(FN+TP)\n",
        "fnr"
      ],
      "execution_count": 276,
      "outputs": [
        {
          "output_type": "execute_result",
          "data": {
            "text/plain": [
              "0.0"
            ]
          },
          "metadata": {},
          "execution_count": 276
        }
      ]
    },
    {
      "metadata": {
        "id": "BeTYQ0FZPh0I"
      },
      "cell_type": "markdown",
      "source": [
        "# FINAL SCORE"
      ]
    },
    {
      "metadata": {
        "id": "akYXJZ5MPj8z",
        "outputId": "1ad6d527-0381-4a7b-f969-2936bdc962d2",
        "colab": {
          "base_uri": "https://localhost:8080/"
        }
      },
      "cell_type": "code",
      "source": [
        "scores = [score_lr,score_nb,score_knn,score_dt,score_rf]\n",
        "algorithms = [\"Logistic Regression\",\"Naive Bayes\",\"K-Nearest Neighbors\",\"Decision Tree\",\"Random Forest\"]    \n",
        "\n",
        "for i in range(len(algorithms)):\n",
        "    print(\"The accuracy score achieved using \"+algorithms[i]+\" is: \"+str(scores[i])+\" %\")"
      ],
      "execution_count": 277,
      "outputs": [
        {
          "output_type": "stream",
          "name": "stdout",
          "text": [
            "The accuracy score achieved using Logistic Regression is: 86.34 %\n",
            "The accuracy score achieved using Naive Bayes is: 85.37 %\n",
            "The accuracy score achieved using K-Nearest Neighbors is: 72.2 %\n",
            "The accuracy score achieved using Decision Tree is: 100.0 %\n",
            "The accuracy score achieved using Random Forest is: 100.0 %\n"
          ]
        }
      ]
    },
    {
      "metadata": {
        "id": "fpf1tEKCP1Hp",
        "outputId": "f56999a1-b350-4f7c-97cb-b774795a1f57",
        "colab": {
          "base_uri": "https://localhost:8080/",
          "height": 519
        }
      },
      "cell_type": "code",
      "source": [
        "sns.set(rc={'figure.figsize':(15,8)})\n",
        "plt.xlabel(\"Algorithms\")\n",
        "plt.ylabel(\"Accuracy score\")\n",
        "\n",
        "sns.barplot(algorithms,scores)"
      ],
      "execution_count": 278,
      "outputs": [
        {
          "output_type": "execute_result",
          "data": {
            "text/plain": [
              "<matplotlib.axes._subplots.AxesSubplot at 0x7f802ebc9110>"
            ]
          },
          "metadata": {},
          "execution_count": 278
        },
        {
          "output_type": "display_data",
          "data": {
            "text/plain": [
              "<Figure size 1080x576 with 1 Axes>"
            ],
            "image/png": "[encoded data removed]"
          },
          "metadata": {}
        }
      ]
    },
    {
      "cell_type": "code",
      "source": [
        "input_data = (59,\t1,\t1,\t140,\t221,\t0\t,1\t,164,\t1\t,0.0,\t2,\t0,\t2)\n",
        "\n",
        "#change the input data to numpy array\n",
        "input_data_as_numpy_array = np.asarray(input_data)\n",
        "\n",
        "#reshape the numpy array as we are predicting for only on instance\n",
        "input_data_reshaped = input_data_as_numpy_array.reshape(1,-1)\n",
        "\n",
        "prediction = rf.predict(input_data_reshaped)\n",
        "print(prediction)\n",
        "\n",
        "if (prediction[0]==0):\n",
        "    print('The person does not have a Heart Disease')\n",
        "else:\n",
        "    print('The person has a Heart Disease')"
      ],
      "metadata": {
        "colab": {
          "base_uri": "https://localhost:8080/"
        },
        "id": "idcaAj7fBRrW",
        "outputId": "cffcb0bd-1214-424a-d8f9-411ae10b7f57"
      },
      "execution_count": 284,
      "outputs": [
        {
          "output_type": "stream",
          "name": "stdout",
          "text": [
            "[1]\n",
            "The person has a Heart Disease\n"
          ]
        }
      ]
    }
  ]
}