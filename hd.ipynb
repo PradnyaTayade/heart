{
  "nbformat": 4,
  "nbformat_minor": 0,
  "metadata": {
    "colab": {
      "name": "hd.ipynb",
      "provenance": [],
      "collapsed_sections": [
        "UCW6of9jeOml",
        "hSl7ocqMeq2O",
        "fTOn3hNfgMyQ",
        "-YG3b359CzU0",
        "wDu9AeKMDpn_",
        "zAVj1NRGEpMN",
        "cbVR6_cRFuxO"
      ],
      "include_colab_link": true
    },
    "kernelspec": {
      "name": "python3",
      "display_name": "Python 3"
    },
    "accelerator": "TPU"
  },
  "cells": [
    {
      "cell_type": "markdown",
      "metadata": {
        "id": "view-in-github",
        "colab_type": "text"
      },
      "source": [
        "<a href=\"https://colab.research.google.com/github/PradnyaTayade/heart/blob/main/hd.ipynb\" target=\"_parent\"><img src=\"https://colab.research.google.com/assets/colab-badge.svg\" alt=\"Open In Colab\"/></a>"
      ]
    },
    {
      "metadata": {
        "id": "W8iTXS6XLTuR",
        "outputId": "e1aaafe4-d608-4046-a7e7-763adf2535a7",
        "colab": {
          "base_uri": "https://localhost:8080/"
        }
      },
      "cell_type": "code",
      "source": [
        "import numpy as np\n",
        "import pandas as pd\n",
        "import matplotlib.pyplot as plt\n",
        "import seaborn as sns\n",
        "\n",
        "%matplotlib inline\n",
        "\n",
        "import os\n",
        "print(os.listdir())\n",
        "\n",
        "import warnings\n",
        "warnings.filterwarnings('ignore')"
      ],
      "execution_count": 154,
      "outputs": [
        {
          "output_type": "stream",
          "name": "stdout",
          "text": [
            "['.config', 'heartDiseaseAndAges.png', 'heart.csv', 'sample_data']\n"
          ]
        }
      ]
    },
    {
      "metadata": {
        "id": "0zkWHuLILfg1"
      },
      "cell_type": "code",
      "source": [
        "data = pd.read_csv(\"heart.csv\")"
      ],
      "execution_count": 155,
      "outputs": []
    },
    {
      "metadata": {
        "id": "UnTLkWsfLrJ-",
        "outputId": "d9061b84-0efd-4883-9959-76caa1b80962",
        "colab": {
          "base_uri": "https://localhost:8080/"
        }
      },
      "cell_type": "code",
      "source": [
        "type(data)"
      ],
      "execution_count": 156,
      "outputs": [
        {
          "output_type": "execute_result",
          "data": {
            "text/plain": [
              "pandas.core.frame.DataFrame"
            ]
          },
          "metadata": {},
          "execution_count": 156
        }
      ]
    },
    {
      "metadata": {
        "id": "-BsKZUGGLudq",
        "outputId": "c72c9ae7-0113-4ee4-dbff-d6abb8fc47ef",
        "colab": {
          "base_uri": "https://localhost:8080/"
        }
      },
      "cell_type": "code",
      "source": [
        "data.shape"
      ],
      "execution_count": 157,
      "outputs": [
        {
          "output_type": "execute_result",
          "data": {
            "text/plain": [
              "(1025, 14)"
            ]
          },
          "metadata": {},
          "execution_count": 157
        }
      ]
    },
    {
      "metadata": {
        "id": "1XomwEoZcd7h",
        "outputId": "71c75a62-b920-4e2b-fd57-b1586ac517be",
        "colab": {
          "base_uri": "https://localhost:8080/",
          "height": 206
        }
      },
      "cell_type": "code",
      "source": [
        "data.head()"
      ],
      "execution_count": 158,
      "outputs": [
        {
          "output_type": "execute_result",
          "data": {
            "text/plain": [
              "   age  sex  cp  trestbps  chol  fbs  restecg  thalach  exang  oldpeak  slope  \\\n",
              "0   52    1   0       125   212    0        1      168      0      1.0      2   \n",
              "1   53    1   0       140   203    1        0      155      1      3.1      0   \n",
              "2   70    1   0       145   174    0        1      125      1      2.6      0   \n",
              "3   61    1   0       148   203    0        1      161      0      0.0      2   \n",
              "4   62    0   0       138   294    1        1      106      0      1.9      1   \n",
              "\n",
              "   ca  thal  target  \n",
              "0   2     3       0  \n",
              "1   0     3       0  \n",
              "2   0     3       0  \n",
              "3   1     3       0  \n",
              "4   3     2       0  "
            ],
            "text/html": [
              "\n",
              "  <div id=\"df-6fce4f37-d5aa-4a8d-9f76-e202f390763a\">\n",
              "    <div class=\"colab-df-container\">\n",
              "      <div>\n",
              "<style scoped>\n",
              "    .dataframe tbody tr th:only-of-type {\n",
              "        vertical-align: middle;\n",
              "    }\n",
              "\n",
              "    .dataframe tbody tr th {\n",
              "        vertical-align: top;\n",
              "    }\n",
              "\n",
              "    .dataframe thead th {\n",
              "        text-align: right;\n",
              "    }\n",
              "</style>\n",
              "<table border=\"1\" class=\"dataframe\">\n",
              "  <thead>\n",
              "    <tr style=\"text-align: right;\">\n",
              "      <th></th>\n",
              "      <th>age</th>\n",
              "      <th>sex</th>\n",
              "      <th>cp</th>\n",
              "      <th>trestbps</th>\n",
              "      <th>chol</th>\n",
              "      <th>fbs</th>\n",
              "      <th>restecg</th>\n",
              "      <th>thalach</th>\n",
              "      <th>exang</th>\n",
              "      <th>oldpeak</th>\n",
              "      <th>slope</th>\n",
              "      <th>ca</th>\n",
              "      <th>thal</th>\n",
              "      <th>target</th>\n",
              "    </tr>\n",
              "  </thead>\n",
              "  <tbody>\n",
              "    <tr>\n",
              "      <th>0</th>\n",
              "      <td>52</td>\n",
              "      <td>1</td>\n",
              "      <td>0</td>\n",
              "      <td>125</td>\n",
              "      <td>212</td>\n",
              "      <td>0</td>\n",
              "      <td>1</td>\n",
              "      <td>168</td>\n",
              "      <td>0</td>\n",
              "      <td>1.0</td>\n",
              "      <td>2</td>\n",
              "      <td>2</td>\n",
              "      <td>3</td>\n",
              "      <td>0</td>\n",
              "    </tr>\n",
              "    <tr>\n",
              "      <th>1</th>\n",
              "      <td>53</td>\n",
              "      <td>1</td>\n",
              "      <td>0</td>\n",
              "      <td>140</td>\n",
              "      <td>203</td>\n",
              "      <td>1</td>\n",
              "      <td>0</td>\n",
              "      <td>155</td>\n",
              "      <td>1</td>\n",
              "      <td>3.1</td>\n",
              "      <td>0</td>\n",
              "      <td>0</td>\n",
              "      <td>3</td>\n",
              "      <td>0</td>\n",
              "    </tr>\n",
              "    <tr>\n",
              "      <th>2</th>\n",
              "      <td>70</td>\n",
              "      <td>1</td>\n",
              "      <td>0</td>\n",
              "      <td>145</td>\n",
              "      <td>174</td>\n",
              "      <td>0</td>\n",
              "      <td>1</td>\n",
              "      <td>125</td>\n",
              "      <td>1</td>\n",
              "      <td>2.6</td>\n",
              "      <td>0</td>\n",
              "      <td>0</td>\n",
              "      <td>3</td>\n",
              "      <td>0</td>\n",
              "    </tr>\n",
              "    <tr>\n",
              "      <th>3</th>\n",
              "      <td>61</td>\n",
              "      <td>1</td>\n",
              "      <td>0</td>\n",
              "      <td>148</td>\n",
              "      <td>203</td>\n",
              "      <td>0</td>\n",
              "      <td>1</td>\n",
              "      <td>161</td>\n",
              "      <td>0</td>\n",
              "      <td>0.0</td>\n",
              "      <td>2</td>\n",
              "      <td>1</td>\n",
              "      <td>3</td>\n",
              "      <td>0</td>\n",
              "    </tr>\n",
              "    <tr>\n",
              "      <th>4</th>\n",
              "      <td>62</td>\n",
              "      <td>0</td>\n",
              "      <td>0</td>\n",
              "      <td>138</td>\n",
              "      <td>294</td>\n",
              "      <td>1</td>\n",
              "      <td>1</td>\n",
              "      <td>106</td>\n",
              "      <td>0</td>\n",
              "      <td>1.9</td>\n",
              "      <td>1</td>\n",
              "      <td>3</td>\n",
              "      <td>2</td>\n",
              "      <td>0</td>\n",
              "    </tr>\n",
              "  </tbody>\n",
              "</table>\n",
              "</div>\n",
              "      <button class=\"colab-df-convert\" onclick=\"convertToInteractive('df-6fce4f37-d5aa-4a8d-9f76-e202f390763a')\"\n",
              "              title=\"Convert this dataframe to an interactive table.\"\n",
              "              style=\"display:none;\">\n",
              "        \n",
              "  <svg xmlns=\"http://www.w3.org/2000/svg\" height=\"24px\"viewBox=\"0 0 24 24\"\n",
              "       width=\"24px\">\n",
              "    <path d=\"M0 0h24v24H0V0z\" fill=\"none\"/>\n",
              "    <path d=\"M18.56 5.44l.94 2.06.94-2.06 2.06-.94-2.06-.94-.94-2.06-.94 2.06-2.06.94zm-11 1L8.5 8.5l.94-2.06 2.06-.94-2.06-.94L8.5 2.5l-.94 2.06-2.06.94zm10 10l.94 2.06.94-2.06 2.06-.94-2.06-.94-.94-2.06-.94 2.06-2.06.94z\"/><path d=\"M17.41 7.96l-1.37-1.37c-.4-.4-.92-.59-1.43-.59-.52 0-1.04.2-1.43.59L10.3 9.45l-7.72 7.72c-.78.78-.78 2.05 0 2.83L4 21.41c.39.39.9.59 1.41.59.51 0 1.02-.2 1.41-.59l7.78-7.78 2.81-2.81c.8-.78.8-2.07 0-2.86zM5.41 20L4 18.59l7.72-7.72 1.47 1.35L5.41 20z\"/>\n",
              "  </svg>\n",
              "      </button>\n",
              "      \n",
              "  <style>\n",
              "    .colab-df-container {\n",
              "      display:flex;\n",
              "      flex-wrap:wrap;\n",
              "      gap: 12px;\n",
              "    }\n",
              "\n",
              "    .colab-df-convert {\n",
              "      background-color: #E8F0FE;\n",
              "      border: none;\n",
              "      border-radius: 50%;\n",
              "      cursor: pointer;\n",
              "      display: none;\n",
              "      fill: #1967D2;\n",
              "      height: 32px;\n",
              "      padding: 0 0 0 0;\n",
              "      width: 32px;\n",
              "    }\n",
              "\n",
              "    .colab-df-convert:hover {\n",
              "      background-color: #E2EBFA;\n",
              "      box-shadow: 0px 1px 2px rgba(60, 64, 67, 0.3), 0px 1px 3px 1px rgba(60, 64, 67, 0.15);\n",
              "      fill: #174EA6;\n",
              "    }\n",
              "\n",
              "    [theme=dark] .colab-df-convert {\n",
              "      background-color: #3B4455;\n",
              "      fill: #D2E3FC;\n",
              "    }\n",
              "\n",
              "    [theme=dark] .colab-df-convert:hover {\n",
              "      background-color: #434B5C;\n",
              "      box-shadow: 0px 1px 3px 1px rgba(0, 0, 0, 0.15);\n",
              "      filter: drop-shadow(0px 1px 2px rgba(0, 0, 0, 0.3));\n",
              "      fill: #FFFFFF;\n",
              "    }\n",
              "  </style>\n",
              "\n",
              "      <script>\n",
              "        const buttonEl =\n",
              "          document.querySelector('#df-6fce4f37-d5aa-4a8d-9f76-e202f390763a button.colab-df-convert');\n",
              "        buttonEl.style.display =\n",
              "          google.colab.kernel.accessAllowed ? 'block' : 'none';\n",
              "\n",
              "        async function convertToInteractive(key) {\n",
              "          const element = document.querySelector('#df-6fce4f37-d5aa-4a8d-9f76-e202f390763a');\n",
              "          const dataTable =\n",
              "            await google.colab.kernel.invokeFunction('convertToInteractive',\n",
              "                                                     [key], {});\n",
              "          if (!dataTable) return;\n",
              "\n",
              "          const docLinkHtml = 'Like what you see? Visit the ' +\n",
              "            '<a target=\"_blank\" href=https://colab.research.google.com/notebooks/data_table.ipynb>data table notebook</a>'\n",
              "            + ' to learn more about interactive tables.';\n",
              "          element.innerHTML = '';\n",
              "          dataTable['output_type'] = 'display_data';\n",
              "          await google.colab.output.renderOutput(dataTable, element);\n",
              "          const docLink = document.createElement('div');\n",
              "          docLink.innerHTML = docLinkHtml;\n",
              "          element.appendChild(docLink);\n",
              "        }\n",
              "      </script>\n",
              "    </div>\n",
              "  </div>\n",
              "  "
            ]
          },
          "metadata": {},
          "execution_count": 158
        }
      ]
    },
    {
      "cell_type": "code",
      "source": [
        "data.tail()"
      ],
      "metadata": {
        "colab": {
          "base_uri": "https://localhost:8080/",
          "height": 206
        },
        "id": "f-W53mUL8iiO",
        "outputId": "d39fc743-2937-4756-82c2-0a35ff6540cc"
      },
      "execution_count": 159,
      "outputs": [
        {
          "output_type": "execute_result",
          "data": {
            "text/plain": [
              "      age  sex  cp  trestbps  chol  fbs  restecg  thalach  exang  oldpeak  \\\n",
              "1020   59    1   1       140   221    0        1      164      1      0.0   \n",
              "1021   60    1   0       125   258    0        0      141      1      2.8   \n",
              "1022   47    1   0       110   275    0        0      118      1      1.0   \n",
              "1023   50    0   0       110   254    0        0      159      0      0.0   \n",
              "1024   54    1   0       120   188    0        1      113      0      1.4   \n",
              "\n",
              "      slope  ca  thal  target  \n",
              "1020      2   0     2       1  \n",
              "1021      1   1     3       0  \n",
              "1022      1   1     2       0  \n",
              "1023      2   0     2       1  \n",
              "1024      1   1     3       0  "
            ],
            "text/html": [
              "\n",
              "  <div id=\"df-bbcb8d18-29c0-4d7f-b68d-7acc650a7302\">\n",
              "    <div class=\"colab-df-container\">\n",
              "      <div>\n",
              "<style scoped>\n",
              "    .dataframe tbody tr th:only-of-type {\n",
              "        vertical-align: middle;\n",
              "    }\n",
              "\n",
              "    .dataframe tbody tr th {\n",
              "        vertical-align: top;\n",
              "    }\n",
              "\n",
              "    .dataframe thead th {\n",
              "        text-align: right;\n",
              "    }\n",
              "</style>\n",
              "<table border=\"1\" class=\"dataframe\">\n",
              "  <thead>\n",
              "    <tr style=\"text-align: right;\">\n",
              "      <th></th>\n",
              "      <th>age</th>\n",
              "      <th>sex</th>\n",
              "      <th>cp</th>\n",
              "      <th>trestbps</th>\n",
              "      <th>chol</th>\n",
              "      <th>fbs</th>\n",
              "      <th>restecg</th>\n",
              "      <th>thalach</th>\n",
              "      <th>exang</th>\n",
              "      <th>oldpeak</th>\n",
              "      <th>slope</th>\n",
              "      <th>ca</th>\n",
              "      <th>thal</th>\n",
              "      <th>target</th>\n",
              "    </tr>\n",
              "  </thead>\n",
              "  <tbody>\n",
              "    <tr>\n",
              "      <th>1020</th>\n",
              "      <td>59</td>\n",
              "      <td>1</td>\n",
              "      <td>1</td>\n",
              "      <td>140</td>\n",
              "      <td>221</td>\n",
              "      <td>0</td>\n",
              "      <td>1</td>\n",
              "      <td>164</td>\n",
              "      <td>1</td>\n",
              "      <td>0.0</td>\n",
              "      <td>2</td>\n",
              "      <td>0</td>\n",
              "      <td>2</td>\n",
              "      <td>1</td>\n",
              "    </tr>\n",
              "    <tr>\n",
              "      <th>1021</th>\n",
              "      <td>60</td>\n",
              "      <td>1</td>\n",
              "      <td>0</td>\n",
              "      <td>125</td>\n",
              "      <td>258</td>\n",
              "      <td>0</td>\n",
              "      <td>0</td>\n",
              "      <td>141</td>\n",
              "      <td>1</td>\n",
              "      <td>2.8</td>\n",
              "      <td>1</td>\n",
              "      <td>1</td>\n",
              "      <td>3</td>\n",
              "      <td>0</td>\n",
              "    </tr>\n",
              "    <tr>\n",
              "      <th>1022</th>\n",
              "      <td>47</td>\n",
              "      <td>1</td>\n",
              "      <td>0</td>\n",
              "      <td>110</td>\n",
              "      <td>275</td>\n",
              "      <td>0</td>\n",
              "      <td>0</td>\n",
              "      <td>118</td>\n",
              "      <td>1</td>\n",
              "      <td>1.0</td>\n",
              "      <td>1</td>\n",
              "      <td>1</td>\n",
              "      <td>2</td>\n",
              "      <td>0</td>\n",
              "    </tr>\n",
              "    <tr>\n",
              "      <th>1023</th>\n",
              "      <td>50</td>\n",
              "      <td>0</td>\n",
              "      <td>0</td>\n",
              "      <td>110</td>\n",
              "      <td>254</td>\n",
              "      <td>0</td>\n",
              "      <td>0</td>\n",
              "      <td>159</td>\n",
              "      <td>0</td>\n",
              "      <td>0.0</td>\n",
              "      <td>2</td>\n",
              "      <td>0</td>\n",
              "      <td>2</td>\n",
              "      <td>1</td>\n",
              "    </tr>\n",
              "    <tr>\n",
              "      <th>1024</th>\n",
              "      <td>54</td>\n",
              "      <td>1</td>\n",
              "      <td>0</td>\n",
              "      <td>120</td>\n",
              "      <td>188</td>\n",
              "      <td>0</td>\n",
              "      <td>1</td>\n",
              "      <td>113</td>\n",
              "      <td>0</td>\n",
              "      <td>1.4</td>\n",
              "      <td>1</td>\n",
              "      <td>1</td>\n",
              "      <td>3</td>\n",
              "      <td>0</td>\n",
              "    </tr>\n",
              "  </tbody>\n",
              "</table>\n",
              "</div>\n",
              "      <button class=\"colab-df-convert\" onclick=\"convertToInteractive('df-bbcb8d18-29c0-4d7f-b68d-7acc650a7302')\"\n",
              "              title=\"Convert this dataframe to an interactive table.\"\n",
              "              style=\"display:none;\">\n",
              "        \n",
              "  <svg xmlns=\"http://www.w3.org/2000/svg\" height=\"24px\"viewBox=\"0 0 24 24\"\n",
              "       width=\"24px\">\n",
              "    <path d=\"M0 0h24v24H0V0z\" fill=\"none\"/>\n",
              "    <path d=\"M18.56 5.44l.94 2.06.94-2.06 2.06-.94-2.06-.94-.94-2.06-.94 2.06-2.06.94zm-11 1L8.5 8.5l.94-2.06 2.06-.94-2.06-.94L8.5 2.5l-.94 2.06-2.06.94zm10 10l.94 2.06.94-2.06 2.06-.94-2.06-.94-.94-2.06-.94 2.06-2.06.94z\"/><path d=\"M17.41 7.96l-1.37-1.37c-.4-.4-.92-.59-1.43-.59-.52 0-1.04.2-1.43.59L10.3 9.45l-7.72 7.72c-.78.78-.78 2.05 0 2.83L4 21.41c.39.39.9.59 1.41.59.51 0 1.02-.2 1.41-.59l7.78-7.78 2.81-2.81c.8-.78.8-2.07 0-2.86zM5.41 20L4 18.59l7.72-7.72 1.47 1.35L5.41 20z\"/>\n",
              "  </svg>\n",
              "      </button>\n",
              "      \n",
              "  <style>\n",
              "    .colab-df-container {\n",
              "      display:flex;\n",
              "      flex-wrap:wrap;\n",
              "      gap: 12px;\n",
              "    }\n",
              "\n",
              "    .colab-df-convert {\n",
              "      background-color: #E8F0FE;\n",
              "      border: none;\n",
              "      border-radius: 50%;\n",
              "      cursor: pointer;\n",
              "      display: none;\n",
              "      fill: #1967D2;\n",
              "      height: 32px;\n",
              "      padding: 0 0 0 0;\n",
              "      width: 32px;\n",
              "    }\n",
              "\n",
              "    .colab-df-convert:hover {\n",
              "      background-color: #E2EBFA;\n",
              "      box-shadow: 0px 1px 2px rgba(60, 64, 67, 0.3), 0px 1px 3px 1px rgba(60, 64, 67, 0.15);\n",
              "      fill: #174EA6;\n",
              "    }\n",
              "\n",
              "    [theme=dark] .colab-df-convert {\n",
              "      background-color: #3B4455;\n",
              "      fill: #D2E3FC;\n",
              "    }\n",
              "\n",
              "    [theme=dark] .colab-df-convert:hover {\n",
              "      background-color: #434B5C;\n",
              "      box-shadow: 0px 1px 3px 1px rgba(0, 0, 0, 0.15);\n",
              "      filter: drop-shadow(0px 1px 2px rgba(0, 0, 0, 0.3));\n",
              "      fill: #FFFFFF;\n",
              "    }\n",
              "  </style>\n",
              "\n",
              "      <script>\n",
              "        const buttonEl =\n",
              "          document.querySelector('#df-bbcb8d18-29c0-4d7f-b68d-7acc650a7302 button.colab-df-convert');\n",
              "        buttonEl.style.display =\n",
              "          google.colab.kernel.accessAllowed ? 'block' : 'none';\n",
              "\n",
              "        async function convertToInteractive(key) {\n",
              "          const element = document.querySelector('#df-bbcb8d18-29c0-4d7f-b68d-7acc650a7302');\n",
              "          const dataTable =\n",
              "            await google.colab.kernel.invokeFunction('convertToInteractive',\n",
              "                                                     [key], {});\n",
              "          if (!dataTable) return;\n",
              "\n",
              "          const docLinkHtml = 'Like what you see? Visit the ' +\n",
              "            '<a target=\"_blank\" href=https://colab.research.google.com/notebooks/data_table.ipynb>data table notebook</a>'\n",
              "            + ' to learn more about interactive tables.';\n",
              "          element.innerHTML = '';\n",
              "          dataTable['output_type'] = 'display_data';\n",
              "          await google.colab.output.renderOutput(dataTable, element);\n",
              "          const docLink = document.createElement('div');\n",
              "          docLink.innerHTML = docLinkHtml;\n",
              "          element.appendChild(docLink);\n",
              "        }\n",
              "      </script>\n",
              "    </div>\n",
              "  </div>\n",
              "  "
            ]
          },
          "metadata": {},
          "execution_count": 159
        }
      ]
    },
    {
      "metadata": {
        "id": "xSBQP_P8AdVm"
      },
      "cell_type": "markdown",
      "source": [
        "1. age: The person's age in years\n",
        "\n",
        "2. sex: The person's sex (1 = male, 0 = female)\n",
        "\n",
        "3. cp: The chest pain experienced (Value 0: typical angina, Value 1: atypical angina, Value 2: non-anginal pain, Value 3: asymptomatic)\n",
        "\n",
        "4. trestbps: The person's resting blood pressure (mm Hg on admission to the hospital)\n",
        "\n",
        "5. chol: The person's cholesterol measurement in mg/dl\n",
        "\n",
        "6. fbs: The person's fasting blood sugar (> 120 mg/dl, 1 = true; 0 = false)\n",
        "\n",
        "7. restecg: Resting electrocardiographic measurement (0 = normal, 1 = having ST-T wave abnormality, 2 = showing probable or definite left ventricular hypertrophy by Estes' criteria)\n",
        "\n",
        "8. thalach: The person's maximum heart rate achieved during exercise.\n",
        "\n",
        "9. exang: Exercise induced angina (1 = yes; 0 = no)\n",
        "\n",
        "10. oldpeak: ST depression induced by exercise relative to rest ('ST' relates to positions on the ECG plot.)\n",
        "\n",
        "11. slope: the slope of the peak exercise ST segment (Value 1: upsloping, Value 2: flat, Value 3: downsloping)\n",
        "\n",
        "12. ca: The number of major vessels (0-4) The four main coronary arteries are the right coronary artery (RCA), left coronary artery (LCA), left anterior descending artery (LAD) and left circumflex artery.\n",
        "\n",
        "13. thal: A blood disorder called thalassemia (1 = normal; 2 = fixed defect; 3 = reversable defect)\n",
        "\n",
        "14. target: Heart disease (0 = no, 1 = yes)\n",
        "\n",
        "Heart disease risk factors to the following: high cholesterol, high blood pressure, diabetes, weight, family history and smoking . \n",
        "\n",
        "According to another source , the major factors that can't be changed are: increasing age, male gender and heredity. \n",
        "\n",
        "Note that thalassemia, one of the variables in this dataset, is heredity. \n",
        "\n",
        "Major factors that can be modified are: Smoking, high cholesterol, high blood pressure, physical inactivity, and being overweight and having diabetes. \n",
        "\n",
        "Other factors include stress, alcohol and poor diet/nutrition."
      ]
    },
    {
      "metadata": {
        "id": "3uk-b1pycmly",
        "outputId": "b00da9c8-dc3e-49d6-a66c-5d8a34fd8430",
        "colab": {
          "base_uri": "https://localhost:8080/",
          "height": 364
        }
      },
      "cell_type": "code",
      "source": [
        "data.describe()"
      ],
      "execution_count": 160,
      "outputs": [
        {
          "output_type": "execute_result",
          "data": {
            "text/plain": [
              "               age          sex           cp     trestbps        chol  \\\n",
              "count  1025.000000  1025.000000  1025.000000  1025.000000  1025.00000   \n",
              "mean     54.434146     0.695610     0.942439   131.611707   246.00000   \n",
              "std       9.072290     0.460373     1.029641    17.516718    51.59251   \n",
              "min      29.000000     0.000000     0.000000    94.000000   126.00000   \n",
              "25%      48.000000     0.000000     0.000000   120.000000   211.00000   \n",
              "50%      56.000000     1.000000     1.000000   130.000000   240.00000   \n",
              "75%      61.000000     1.000000     2.000000   140.000000   275.00000   \n",
              "max      77.000000     1.000000     3.000000   200.000000   564.00000   \n",
              "\n",
              "               fbs      restecg      thalach        exang      oldpeak  \\\n",
              "count  1025.000000  1025.000000  1025.000000  1025.000000  1025.000000   \n",
              "mean      0.149268     0.529756   149.114146     0.336585     1.071512   \n",
              "std       0.356527     0.527878    23.005724     0.472772     1.175053   \n",
              "min       0.000000     0.000000    71.000000     0.000000     0.000000   \n",
              "25%       0.000000     0.000000   132.000000     0.000000     0.000000   \n",
              "50%       0.000000     1.000000   152.000000     0.000000     0.800000   \n",
              "75%       0.000000     1.000000   166.000000     1.000000     1.800000   \n",
              "max       1.000000     2.000000   202.000000     1.000000     6.200000   \n",
              "\n",
              "             slope           ca         thal       target  \n",
              "count  1025.000000  1025.000000  1025.000000  1025.000000  \n",
              "mean      1.385366     0.754146     2.323902     0.513171  \n",
              "std       0.617755     1.030798     0.620660     0.500070  \n",
              "min       0.000000     0.000000     0.000000     0.000000  \n",
              "25%       1.000000     0.000000     2.000000     0.000000  \n",
              "50%       1.000000     0.000000     2.000000     1.000000  \n",
              "75%       2.000000     1.000000     3.000000     1.000000  \n",
              "max       2.000000     4.000000     3.000000     1.000000  "
            ],
            "text/html": [
              "\n",
              "  <div id=\"df-a9b59fa8-7e7f-446e-8fc8-9365e31f913a\">\n",
              "    <div class=\"colab-df-container\">\n",
              "      <div>\n",
              "<style scoped>\n",
              "    .dataframe tbody tr th:only-of-type {\n",
              "        vertical-align: middle;\n",
              "    }\n",
              "\n",
              "    .dataframe tbody tr th {\n",
              "        vertical-align: top;\n",
              "    }\n",
              "\n",
              "    .dataframe thead th {\n",
              "        text-align: right;\n",
              "    }\n",
              "</style>\n",
              "<table border=\"1\" class=\"dataframe\">\n",
              "  <thead>\n",
              "    <tr style=\"text-align: right;\">\n",
              "      <th></th>\n",
              "      <th>age</th>\n",
              "      <th>sex</th>\n",
              "      <th>cp</th>\n",
              "      <th>trestbps</th>\n",
              "      <th>chol</th>\n",
              "      <th>fbs</th>\n",
              "      <th>restecg</th>\n",
              "      <th>thalach</th>\n",
              "      <th>exang</th>\n",
              "      <th>oldpeak</th>\n",
              "      <th>slope</th>\n",
              "      <th>ca</th>\n",
              "      <th>thal</th>\n",
              "      <th>target</th>\n",
              "    </tr>\n",
              "  </thead>\n",
              "  <tbody>\n",
              "    <tr>\n",
              "      <th>count</th>\n",
              "      <td>1025.000000</td>\n",
              "      <td>1025.000000</td>\n",
              "      <td>1025.000000</td>\n",
              "      <td>1025.000000</td>\n",
              "      <td>1025.00000</td>\n",
              "      <td>1025.000000</td>\n",
              "      <td>1025.000000</td>\n",
              "      <td>1025.000000</td>\n",
              "      <td>1025.000000</td>\n",
              "      <td>1025.000000</td>\n",
              "      <td>1025.000000</td>\n",
              "      <td>1025.000000</td>\n",
              "      <td>1025.000000</td>\n",
              "      <td>1025.000000</td>\n",
              "    </tr>\n",
              "    <tr>\n",
              "      <th>mean</th>\n",
              "      <td>54.434146</td>\n",
              "      <td>0.695610</td>\n",
              "      <td>0.942439</td>\n",
              "      <td>131.611707</td>\n",
              "      <td>246.00000</td>\n",
              "      <td>0.149268</td>\n",
              "      <td>0.529756</td>\n",
              "      <td>149.114146</td>\n",
              "      <td>0.336585</td>\n",
              "      <td>1.071512</td>\n",
              "      <td>1.385366</td>\n",
              "      <td>0.754146</td>\n",
              "      <td>2.323902</td>\n",
              "      <td>0.513171</td>\n",
              "    </tr>\n",
              "    <tr>\n",
              "      <th>std</th>\n",
              "      <td>9.072290</td>\n",
              "      <td>0.460373</td>\n",
              "      <td>1.029641</td>\n",
              "      <td>17.516718</td>\n",
              "      <td>51.59251</td>\n",
              "      <td>0.356527</td>\n",
              "      <td>0.527878</td>\n",
              "      <td>23.005724</td>\n",
              "      <td>0.472772</td>\n",
              "      <td>1.175053</td>\n",
              "      <td>0.617755</td>\n",
              "      <td>1.030798</td>\n",
              "      <td>0.620660</td>\n",
              "      <td>0.500070</td>\n",
              "    </tr>\n",
              "    <tr>\n",
              "      <th>min</th>\n",
              "      <td>29.000000</td>\n",
              "      <td>0.000000</td>\n",
              "      <td>0.000000</td>\n",
              "      <td>94.000000</td>\n",
              "      <td>126.00000</td>\n",
              "      <td>0.000000</td>\n",
              "      <td>0.000000</td>\n",
              "      <td>71.000000</td>\n",
              "      <td>0.000000</td>\n",
              "      <td>0.000000</td>\n",
              "      <td>0.000000</td>\n",
              "      <td>0.000000</td>\n",
              "      <td>0.000000</td>\n",
              "      <td>0.000000</td>\n",
              "    </tr>\n",
              "    <tr>\n",
              "      <th>25%</th>\n",
              "      <td>48.000000</td>\n",
              "      <td>0.000000</td>\n",
              "      <td>0.000000</td>\n",
              "      <td>120.000000</td>\n",
              "      <td>211.00000</td>\n",
              "      <td>0.000000</td>\n",
              "      <td>0.000000</td>\n",
              "      <td>132.000000</td>\n",
              "      <td>0.000000</td>\n",
              "      <td>0.000000</td>\n",
              "      <td>1.000000</td>\n",
              "      <td>0.000000</td>\n",
              "      <td>2.000000</td>\n",
              "      <td>0.000000</td>\n",
              "    </tr>\n",
              "    <tr>\n",
              "      <th>50%</th>\n",
              "      <td>56.000000</td>\n",
              "      <td>1.000000</td>\n",
              "      <td>1.000000</td>\n",
              "      <td>130.000000</td>\n",
              "      <td>240.00000</td>\n",
              "      <td>0.000000</td>\n",
              "      <td>1.000000</td>\n",
              "      <td>152.000000</td>\n",
              "      <td>0.000000</td>\n",
              "      <td>0.800000</td>\n",
              "      <td>1.000000</td>\n",
              "      <td>0.000000</td>\n",
              "      <td>2.000000</td>\n",
              "      <td>1.000000</td>\n",
              "    </tr>\n",
              "    <tr>\n",
              "      <th>75%</th>\n",
              "      <td>61.000000</td>\n",
              "      <td>1.000000</td>\n",
              "      <td>2.000000</td>\n",
              "      <td>140.000000</td>\n",
              "      <td>275.00000</td>\n",
              "      <td>0.000000</td>\n",
              "      <td>1.000000</td>\n",
              "      <td>166.000000</td>\n",
              "      <td>1.000000</td>\n",
              "      <td>1.800000</td>\n",
              "      <td>2.000000</td>\n",
              "      <td>1.000000</td>\n",
              "      <td>3.000000</td>\n",
              "      <td>1.000000</td>\n",
              "    </tr>\n",
              "    <tr>\n",
              "      <th>max</th>\n",
              "      <td>77.000000</td>\n",
              "      <td>1.000000</td>\n",
              "      <td>3.000000</td>\n",
              "      <td>200.000000</td>\n",
              "      <td>564.00000</td>\n",
              "      <td>1.000000</td>\n",
              "      <td>2.000000</td>\n",
              "      <td>202.000000</td>\n",
              "      <td>1.000000</td>\n",
              "      <td>6.200000</td>\n",
              "      <td>2.000000</td>\n",
              "      <td>4.000000</td>\n",
              "      <td>3.000000</td>\n",
              "      <td>1.000000</td>\n",
              "    </tr>\n",
              "  </tbody>\n",
              "</table>\n",
              "</div>\n",
              "      <button class=\"colab-df-convert\" onclick=\"convertToInteractive('df-a9b59fa8-7e7f-446e-8fc8-9365e31f913a')\"\n",
              "              title=\"Convert this dataframe to an interactive table.\"\n",
              "              style=\"display:none;\">\n",
              "        \n",
              "  <svg xmlns=\"http://www.w3.org/2000/svg\" height=\"24px\"viewBox=\"0 0 24 24\"\n",
              "       width=\"24px\">\n",
              "    <path d=\"M0 0h24v24H0V0z\" fill=\"none\"/>\n",
              "    <path d=\"M18.56 5.44l.94 2.06.94-2.06 2.06-.94-2.06-.94-.94-2.06-.94 2.06-2.06.94zm-11 1L8.5 8.5l.94-2.06 2.06-.94-2.06-.94L8.5 2.5l-.94 2.06-2.06.94zm10 10l.94 2.06.94-2.06 2.06-.94-2.06-.94-.94-2.06-.94 2.06-2.06.94z\"/><path d=\"M17.41 7.96l-1.37-1.37c-.4-.4-.92-.59-1.43-.59-.52 0-1.04.2-1.43.59L10.3 9.45l-7.72 7.72c-.78.78-.78 2.05 0 2.83L4 21.41c.39.39.9.59 1.41.59.51 0 1.02-.2 1.41-.59l7.78-7.78 2.81-2.81c.8-.78.8-2.07 0-2.86zM5.41 20L4 18.59l7.72-7.72 1.47 1.35L5.41 20z\"/>\n",
              "  </svg>\n",
              "      </button>\n",
              "      \n",
              "  <style>\n",
              "    .colab-df-container {\n",
              "      display:flex;\n",
              "      flex-wrap:wrap;\n",
              "      gap: 12px;\n",
              "    }\n",
              "\n",
              "    .colab-df-convert {\n",
              "      background-color: #E8F0FE;\n",
              "      border: none;\n",
              "      border-radius: 50%;\n",
              "      cursor: pointer;\n",
              "      display: none;\n",
              "      fill: #1967D2;\n",
              "      height: 32px;\n",
              "      padding: 0 0 0 0;\n",
              "      width: 32px;\n",
              "    }\n",
              "\n",
              "    .colab-df-convert:hover {\n",
              "      background-color: #E2EBFA;\n",
              "      box-shadow: 0px 1px 2px rgba(60, 64, 67, 0.3), 0px 1px 3px 1px rgba(60, 64, 67, 0.15);\n",
              "      fill: #174EA6;\n",
              "    }\n",
              "\n",
              "    [theme=dark] .colab-df-convert {\n",
              "      background-color: #3B4455;\n",
              "      fill: #D2E3FC;\n",
              "    }\n",
              "\n",
              "    [theme=dark] .colab-df-convert:hover {\n",
              "      background-color: #434B5C;\n",
              "      box-shadow: 0px 1px 3px 1px rgba(0, 0, 0, 0.15);\n",
              "      filter: drop-shadow(0px 1px 2px rgba(0, 0, 0, 0.3));\n",
              "      fill: #FFFFFF;\n",
              "    }\n",
              "  </style>\n",
              "\n",
              "      <script>\n",
              "        const buttonEl =\n",
              "          document.querySelector('#df-a9b59fa8-7e7f-446e-8fc8-9365e31f913a button.colab-df-convert');\n",
              "        buttonEl.style.display =\n",
              "          google.colab.kernel.accessAllowed ? 'block' : 'none';\n",
              "\n",
              "        async function convertToInteractive(key) {\n",
              "          const element = document.querySelector('#df-a9b59fa8-7e7f-446e-8fc8-9365e31f913a');\n",
              "          const dataTable =\n",
              "            await google.colab.kernel.invokeFunction('convertToInteractive',\n",
              "                                                     [key], {});\n",
              "          if (!dataTable) return;\n",
              "\n",
              "          const docLinkHtml = 'Like what you see? Visit the ' +\n",
              "            '<a target=\"_blank\" href=https://colab.research.google.com/notebooks/data_table.ipynb>data table notebook</a>'\n",
              "            + ' to learn more about interactive tables.';\n",
              "          element.innerHTML = '';\n",
              "          dataTable['output_type'] = 'display_data';\n",
              "          await google.colab.output.renderOutput(dataTable, element);\n",
              "          const docLink = document.createElement('div');\n",
              "          docLink.innerHTML = docLinkHtml;\n",
              "          element.appendChild(docLink);\n",
              "        }\n",
              "      </script>\n",
              "    </div>\n",
              "  </div>\n",
              "  "
            ]
          },
          "metadata": {},
          "execution_count": 160
        }
      ]
    },
    {
      "metadata": {
        "id": "edurcSVbcq-M",
        "outputId": "d038dd96-6cde-418e-e71e-ffbaf2f675fa",
        "colab": {
          "base_uri": "https://localhost:8080/"
        }
      },
      "cell_type": "code",
      "source": [
        "data.info()"
      ],
      "execution_count": 161,
      "outputs": [
        {
          "output_type": "stream",
          "name": "stdout",
          "text": [
            "<class 'pandas.core.frame.DataFrame'>\n",
            "RangeIndex: 1025 entries, 0 to 1024\n",
            "Data columns (total 14 columns):\n",
            " #   Column    Non-Null Count  Dtype  \n",
            "---  ------    --------------  -----  \n",
            " 0   age       1025 non-null   int64  \n",
            " 1   sex       1025 non-null   int64  \n",
            " 2   cp        1025 non-null   int64  \n",
            " 3   trestbps  1025 non-null   int64  \n",
            " 4   chol      1025 non-null   int64  \n",
            " 5   fbs       1025 non-null   int64  \n",
            " 6   restecg   1025 non-null   int64  \n",
            " 7   thalach   1025 non-null   int64  \n",
            " 8   exang     1025 non-null   int64  \n",
            " 9   oldpeak   1025 non-null   float64\n",
            " 10  slope     1025 non-null   int64  \n",
            " 11  ca        1025 non-null   int64  \n",
            " 12  thal      1025 non-null   int64  \n",
            " 13  target    1025 non-null   int64  \n",
            "dtypes: float64(1), int64(13)\n",
            "memory usage: 112.2 KB\n"
          ]
        }
      ]
    },
    {
      "metadata": {
        "id": "nGuJY-jlchCZ",
        "outputId": "d30bd24a-7efb-4d9b-a35b-9f4a4e3a8c7a",
        "colab": {
          "base_uri": "https://localhost:8080/",
          "height": 206
        }
      },
      "cell_type": "code",
      "source": [
        "data.sample(5)"
      ],
      "execution_count": 162,
      "outputs": [
        {
          "output_type": "execute_result",
          "data": {
            "text/plain": [
              "     age  sex  cp  trestbps  chol  fbs  restecg  thalach  exang  oldpeak  \\\n",
              "87    59    0   0       174   249    0        1      143      1      0.0   \n",
              "880   57    1   0       132   207    0        1      168      1      0.0   \n",
              "759   61    0   0       130   330    0        0      169      0      0.0   \n",
              "178   44    1   0       110   197    0        0      177      0      0.0   \n",
              "900   61    1   3       134   234    0        1      145      0      2.6   \n",
              "\n",
              "     slope  ca  thal  target  \n",
              "87       1   0     2       0  \n",
              "880      2   0     3       1  \n",
              "759      2   0     2       0  \n",
              "178      2   1     2       0  \n",
              "900      1   2     2       0  "
            ],
            "text/html": [
              "\n",
              "  <div id=\"df-3ce9ec9d-8082-4241-85fe-05066c52ce0b\">\n",
              "    <div class=\"colab-df-container\">\n",
              "      <div>\n",
              "<style scoped>\n",
              "    .dataframe tbody tr th:only-of-type {\n",
              "        vertical-align: middle;\n",
              "    }\n",
              "\n",
              "    .dataframe tbody tr th {\n",
              "        vertical-align: top;\n",
              "    }\n",
              "\n",
              "    .dataframe thead th {\n",
              "        text-align: right;\n",
              "    }\n",
              "</style>\n",
              "<table border=\"1\" class=\"dataframe\">\n",
              "  <thead>\n",
              "    <tr style=\"text-align: right;\">\n",
              "      <th></th>\n",
              "      <th>age</th>\n",
              "      <th>sex</th>\n",
              "      <th>cp</th>\n",
              "      <th>trestbps</th>\n",
              "      <th>chol</th>\n",
              "      <th>fbs</th>\n",
              "      <th>restecg</th>\n",
              "      <th>thalach</th>\n",
              "      <th>exang</th>\n",
              "      <th>oldpeak</th>\n",
              "      <th>slope</th>\n",
              "      <th>ca</th>\n",
              "      <th>thal</th>\n",
              "      <th>target</th>\n",
              "    </tr>\n",
              "  </thead>\n",
              "  <tbody>\n",
              "    <tr>\n",
              "      <th>87</th>\n",
              "      <td>59</td>\n",
              "      <td>0</td>\n",
              "      <td>0</td>\n",
              "      <td>174</td>\n",
              "      <td>249</td>\n",
              "      <td>0</td>\n",
              "      <td>1</td>\n",
              "      <td>143</td>\n",
              "      <td>1</td>\n",
              "      <td>0.0</td>\n",
              "      <td>1</td>\n",
              "      <td>0</td>\n",
              "      <td>2</td>\n",
              "      <td>0</td>\n",
              "    </tr>\n",
              "    <tr>\n",
              "      <th>880</th>\n",
              "      <td>57</td>\n",
              "      <td>1</td>\n",
              "      <td>0</td>\n",
              "      <td>132</td>\n",
              "      <td>207</td>\n",
              "      <td>0</td>\n",
              "      <td>1</td>\n",
              "      <td>168</td>\n",
              "      <td>1</td>\n",
              "      <td>0.0</td>\n",
              "      <td>2</td>\n",
              "      <td>0</td>\n",
              "      <td>3</td>\n",
              "      <td>1</td>\n",
              "    </tr>\n",
              "    <tr>\n",
              "      <th>759</th>\n",
              "      <td>61</td>\n",
              "      <td>0</td>\n",
              "      <td>0</td>\n",
              "      <td>130</td>\n",
              "      <td>330</td>\n",
              "      <td>0</td>\n",
              "      <td>0</td>\n",
              "      <td>169</td>\n",
              "      <td>0</td>\n",
              "      <td>0.0</td>\n",
              "      <td>2</td>\n",
              "      <td>0</td>\n",
              "      <td>2</td>\n",
              "      <td>0</td>\n",
              "    </tr>\n",
              "    <tr>\n",
              "      <th>178</th>\n",
              "      <td>44</td>\n",
              "      <td>1</td>\n",
              "      <td>0</td>\n",
              "      <td>110</td>\n",
              "      <td>197</td>\n",
              "      <td>0</td>\n",
              "      <td>0</td>\n",
              "      <td>177</td>\n",
              "      <td>0</td>\n",
              "      <td>0.0</td>\n",
              "      <td>2</td>\n",
              "      <td>1</td>\n",
              "      <td>2</td>\n",
              "      <td>0</td>\n",
              "    </tr>\n",
              "    <tr>\n",
              "      <th>900</th>\n",
              "      <td>61</td>\n",
              "      <td>1</td>\n",
              "      <td>3</td>\n",
              "      <td>134</td>\n",
              "      <td>234</td>\n",
              "      <td>0</td>\n",
              "      <td>1</td>\n",
              "      <td>145</td>\n",
              "      <td>0</td>\n",
              "      <td>2.6</td>\n",
              "      <td>1</td>\n",
              "      <td>2</td>\n",
              "      <td>2</td>\n",
              "      <td>0</td>\n",
              "    </tr>\n",
              "  </tbody>\n",
              "</table>\n",
              "</div>\n",
              "      <button class=\"colab-df-convert\" onclick=\"convertToInteractive('df-3ce9ec9d-8082-4241-85fe-05066c52ce0b')\"\n",
              "              title=\"Convert this dataframe to an interactive table.\"\n",
              "              style=\"display:none;\">\n",
              "        \n",
              "  <svg xmlns=\"http://www.w3.org/2000/svg\" height=\"24px\"viewBox=\"0 0 24 24\"\n",
              "       width=\"24px\">\n",
              "    <path d=\"M0 0h24v24H0V0z\" fill=\"none\"/>\n",
              "    <path d=\"M18.56 5.44l.94 2.06.94-2.06 2.06-.94-2.06-.94-.94-2.06-.94 2.06-2.06.94zm-11 1L8.5 8.5l.94-2.06 2.06-.94-2.06-.94L8.5 2.5l-.94 2.06-2.06.94zm10 10l.94 2.06.94-2.06 2.06-.94-2.06-.94-.94-2.06-.94 2.06-2.06.94z\"/><path d=\"M17.41 7.96l-1.37-1.37c-.4-.4-.92-.59-1.43-.59-.52 0-1.04.2-1.43.59L10.3 9.45l-7.72 7.72c-.78.78-.78 2.05 0 2.83L4 21.41c.39.39.9.59 1.41.59.51 0 1.02-.2 1.41-.59l7.78-7.78 2.81-2.81c.8-.78.8-2.07 0-2.86zM5.41 20L4 18.59l7.72-7.72 1.47 1.35L5.41 20z\"/>\n",
              "  </svg>\n",
              "      </button>\n",
              "      \n",
              "  <style>\n",
              "    .colab-df-container {\n",
              "      display:flex;\n",
              "      flex-wrap:wrap;\n",
              "      gap: 12px;\n",
              "    }\n",
              "\n",
              "    .colab-df-convert {\n",
              "      background-color: #E8F0FE;\n",
              "      border: none;\n",
              "      border-radius: 50%;\n",
              "      cursor: pointer;\n",
              "      display: none;\n",
              "      fill: #1967D2;\n",
              "      height: 32px;\n",
              "      padding: 0 0 0 0;\n",
              "      width: 32px;\n",
              "    }\n",
              "\n",
              "    .colab-df-convert:hover {\n",
              "      background-color: #E2EBFA;\n",
              "      box-shadow: 0px 1px 2px rgba(60, 64, 67, 0.3), 0px 1px 3px 1px rgba(60, 64, 67, 0.15);\n",
              "      fill: #174EA6;\n",
              "    }\n",
              "\n",
              "    [theme=dark] .colab-df-convert {\n",
              "      background-color: #3B4455;\n",
              "      fill: #D2E3FC;\n",
              "    }\n",
              "\n",
              "    [theme=dark] .colab-df-convert:hover {\n",
              "      background-color: #434B5C;\n",
              "      box-shadow: 0px 1px 3px 1px rgba(0, 0, 0, 0.15);\n",
              "      filter: drop-shadow(0px 1px 2px rgba(0, 0, 0, 0.3));\n",
              "      fill: #FFFFFF;\n",
              "    }\n",
              "  </style>\n",
              "\n",
              "      <script>\n",
              "        const buttonEl =\n",
              "          document.querySelector('#df-3ce9ec9d-8082-4241-85fe-05066c52ce0b button.colab-df-convert');\n",
              "        buttonEl.style.display =\n",
              "          google.colab.kernel.accessAllowed ? 'block' : 'none';\n",
              "\n",
              "        async function convertToInteractive(key) {\n",
              "          const element = document.querySelector('#df-3ce9ec9d-8082-4241-85fe-05066c52ce0b');\n",
              "          const dataTable =\n",
              "            await google.colab.kernel.invokeFunction('convertToInteractive',\n",
              "                                                     [key], {});\n",
              "          if (!dataTable) return;\n",
              "\n",
              "          const docLinkHtml = 'Like what you see? Visit the ' +\n",
              "            '<a target=\"_blank\" href=https://colab.research.google.com/notebooks/data_table.ipynb>data table notebook</a>'\n",
              "            + ' to learn more about interactive tables.';\n",
              "          element.innerHTML = '';\n",
              "          dataTable['output_type'] = 'display_data';\n",
              "          await google.colab.output.renderOutput(dataTable, element);\n",
              "          const docLink = document.createElement('div');\n",
              "          docLink.innerHTML = docLinkHtml;\n",
              "          element.appendChild(docLink);\n",
              "        }\n",
              "      </script>\n",
              "    </div>\n",
              "  </div>\n",
              "  "
            ]
          },
          "metadata": {},
          "execution_count": 162
        }
      ]
    },
    {
      "metadata": {
        "id": "FMZFX88kTSmA",
        "outputId": "76e0db78-a50d-45a4-9596-3edca856f49f",
        "colab": {
          "base_uri": "https://localhost:8080/"
        }
      },
      "cell_type": "code",
      "source": [
        "data.isnull().sum()"
      ],
      "execution_count": 163,
      "outputs": [
        {
          "output_type": "execute_result",
          "data": {
            "text/plain": [
              "age         0\n",
              "sex         0\n",
              "cp          0\n",
              "trestbps    0\n",
              "chol        0\n",
              "fbs         0\n",
              "restecg     0\n",
              "thalach     0\n",
              "exang       0\n",
              "oldpeak     0\n",
              "slope       0\n",
              "ca          0\n",
              "thal        0\n",
              "target      0\n",
              "dtype: int64"
            ]
          },
          "metadata": {},
          "execution_count": 163
        }
      ]
    },
    {
      "metadata": {
        "id": "1cDJkmBETXNd",
        "outputId": "928da221-6424-4c48-e5a4-f39232c8c53f",
        "colab": {
          "base_uri": "https://localhost:8080/"
        }
      },
      "cell_type": "code",
      "source": [
        "data.isnull().sum().sum()"
      ],
      "execution_count": 164,
      "outputs": [
        {
          "output_type": "execute_result",
          "data": {
            "text/plain": [
              "0"
            ]
          },
          "metadata": {},
          "execution_count": 164
        }
      ]
    },
    {
      "metadata": {
        "id": "Fuz6Hb6FcwSb"
      },
      "cell_type": "markdown",
      "source": [
        "###So, we have no missing values"
      ]
    },
    {
      "metadata": {
        "outputId": "360ddbed-5e9a-4c38-bc91-c97a6b422c92",
        "id": "Gul7tFpt6BjO",
        "colab": {
          "base_uri": "https://localhost:8080/"
        }
      },
      "cell_type": "code",
      "source": [
        "print(data.corr()[\"target\"].abs().sort_values(ascending=False))"
      ],
      "execution_count": 165,
      "outputs": [
        {
          "output_type": "stream",
          "name": "stdout",
          "text": [
            "target      1.000000\n",
            "oldpeak     0.438441\n",
            "exang       0.438029\n",
            "cp          0.434854\n",
            "thalach     0.422895\n",
            "ca          0.382085\n",
            "slope       0.345512\n",
            "thal        0.337838\n",
            "sex         0.279501\n",
            "age         0.229324\n",
            "trestbps    0.138772\n",
            "restecg     0.134468\n",
            "chol        0.099966\n",
            "fbs         0.041164\n",
            "Name: target, dtype: float64\n"
          ]
        }
      ]
    },
    {
      "metadata": {
        "id": "f2McI10ML7ai"
      },
      "cell_type": "markdown",
      "source": [
        "### This shows that most columns are moderately correlated with target, but 'fbs' is very weakly correlated."
      ]
    },
    {
      "metadata": {
        "id": "Gs9wS_M1MDor"
      },
      "cell_type": "markdown",
      "source": [
        "# Exploratory Data Analysis (EDA)"
      ]
    },
    {
      "metadata": {
        "id": "LYrn0_v6MCua",
        "outputId": "7f4ad920-e1df-40ea-f456-f69554520263",
        "colab": {
          "base_uri": "https://localhost:8080/",
          "height": 337
        }
      },
      "cell_type": "code",
      "source": [
        "y = data[\"target\"]\n",
        "\n",
        "sns.countplot(y)\n",
        "\n",
        "target_temp = data.target.value_counts()\n",
        "\n",
        "print(target_temp)"
      ],
      "execution_count": 166,
      "outputs": [
        {
          "output_type": "stream",
          "name": "stdout",
          "text": [
            "1    526\n",
            "0    499\n",
            "Name: target, dtype: int64\n"
          ]
        },
        {
          "output_type": "display_data",
          "data": {
            "text/plain": [
              "<Figure size 432x288 with 1 Axes>"
            ],
            "image/png": "[encoded data removed]"
          },
          "metadata": {
            "needs_background": "light"
          }
        }
      ]
    },
    {
      "metadata": {
        "id": "h52xaaboCayH"
      },
      "cell_type": "markdown",
      "source": [
        "# Percentage of patient with or without heart problems in the given dataset"
      ]
    },
    {
      "metadata": {
        "id": "LeamFmYQMS62",
        "outputId": "126dde5a-8809-415b-a90d-5af88d92f993",
        "colab": {
          "base_uri": "https://localhost:8080/"
        }
      },
      "cell_type": "code",
      "source": [
        "print(\"Percentage of patience without heart problems: \"+str(round(target_temp[0]*100/1025,2)))\n",
        "print(\"Percentage of patience with heart problems: \"+str(round(target_temp[1]*100/1025,2)))"
      ],
      "execution_count": 167,
      "outputs": [
        {
          "output_type": "stream",
          "name": "stdout",
          "text": [
            "Percentage of patience without heart problems: 48.68\n",
            "Percentage of patience with heart problems: 51.32\n"
          ]
        }
      ]
    },
    {
      "metadata": {
        "id": "xWPS2GN_MWSf",
        "outputId": "76d1ab9b-eac5-4c85-8c1a-8d7a1f07b933",
        "colab": {
          "base_uri": "https://localhost:8080/"
        }
      },
      "cell_type": "code",
      "source": [
        "data[\"sex\"].unique()"
      ],
      "execution_count": 168,
      "outputs": [
        {
          "output_type": "execute_result",
          "data": {
            "text/plain": [
              "array([1, 0])"
            ]
          },
          "metadata": {},
          "execution_count": 168
        }
      ]
    },
    {
      "metadata": {
        "id": "VNE_24MEMZyd",
        "outputId": "b861c1ea-7155-43d4-c879-fcf5f01fe500",
        "colab": {
          "base_uri": "https://localhost:8080/",
          "height": 303
        }
      },
      "cell_type": "code",
      "source": [
        "sns.barplot(data[\"sex\"],y)"
      ],
      "execution_count": 169,
      "outputs": [
        {
          "output_type": "execute_result",
          "data": {
            "text/plain": [
              "<matplotlib.axes._subplots.AxesSubplot at 0x7f4e41bcb0d0>"
            ]
          },
          "metadata": {},
          "execution_count": 169
        },
        {
          "output_type": "display_data",
          "data": {
            "text/plain": [
              "<Figure size 432x288 with 1 Axes>"
            ],
            "image/png": "[encoded data removed]"
          },
          "metadata": {
            "needs_background": "light"
          }
        }
      ]
    },
    {
      "metadata": {
        "id": "eCiVyyhcCxZ9"
      },
      "cell_type": "markdown",
      "source": [
        "### Here 0 is female and 1 is male patients"
      ]
    },
    {
      "metadata": {
        "id": "9r4vNghMatAa",
        "outputId": "d8c49d62-2938-4d84-b98a-c23446473076",
        "colab": {
          "base_uri": "https://localhost:8080/"
        }
      },
      "cell_type": "code",
      "source": [
        "countFemale = len(data[data.sex == 0])\n",
        "countMale = len(data[data.sex == 1])\n",
        "print(\"Percentage of Female Patients:{:.2f}%\".format((countFemale)/(len(data.sex))*100))\n",
        "print(\"Percentage of Male Patients:{:.2f}%\".format((countMale)/(len(data.sex))*100))"
      ],
      "execution_count": 170,
      "outputs": [
        {
          "output_type": "stream",
          "name": "stdout",
          "text": [
            "Percentage of Female Patients:30.44%\n",
            "Percentage of Male Patients:69.56%\n"
          ]
        }
      ]
    },
    {
      "metadata": {
        "id": "Bj1ocarrDBND"
      },
      "cell_type": "markdown",
      "source": [
        "# Heart Disease Frequency for ages"
      ]
    },
    {
      "metadata": {
        "id": "ccz2s1zEazCH",
        "outputId": "be27d985-7cba-47d0-a678-1977872b81cf",
        "colab": {
          "base_uri": "https://localhost:8080/",
          "height": 394
        }
      },
      "cell_type": "code",
      "source": [
        "pd.crosstab(data.age,data.target).plot(kind=\"bar\",figsize=(20,6))\n",
        "plt.title('Heart Disease Frequency for Ages')\n",
        "plt.xlabel('Age')\n",
        "plt.ylabel('Frequency')\n",
        "plt.savefig('heartDiseaseAndAges.png')\n",
        "plt.show()"
      ],
      "execution_count": 171,
      "outputs": [
        {
          "output_type": "display_data",
          "data": {
            "text/plain": [
              "<Figure size 1440x432 with 1 Axes>"
            ],
            "image/png": "[encoded data removed]"
          },
          "metadata": {
            "needs_background": "light"
          }
        }
      ]
    },
    {
      "metadata": {
        "id": "PBvtRjiHDHMs"
      },
      "cell_type": "markdown",
      "source": [
        "# Heart Disease frequency for sex (where 0 is female and 1 is male and \"red\" is have heart disease and \"blue\" is don't have heart disease)"
      ]
    },
    {
      "metadata": {
        "id": "t5eR4CWoa6US",
        "outputId": "63d5241c-4f0c-487d-8cf8-b97a6c4cca97",
        "colab": {
          "base_uri": "https://localhost:8080/",
          "height": 594
        }
      },
      "cell_type": "code",
      "source": [
        "pd.crosstab(data.sex,data.target).plot(kind=\"bar\",figsize=(20,10),color=['blue','#AA1111' ])\n",
        "plt.title('Heart Disease Frequency for Sex')\n",
        "plt.xlabel('Sex (0 = Female, 1 = Male)')\n",
        "plt.xticks(rotation=0)\n",
        "plt.legend([\"Don't have Disease\", \"Have Disease\"])\n",
        "plt.ylabel('Frequency')\n",
        "plt.show()"
      ],
      "execution_count": 172,
      "outputs": [
        {
          "output_type": "display_data",
          "data": {
            "text/plain": [
              "<Figure size 1440x720 with 1 Axes>"
            ],
            "image/png": "[encoded data removed]"
          },
          "metadata": {
            "needs_background": "light"
          }
        }
      ]
    },
    {
      "metadata": {
        "id": "u9c5cXJnbXMc"
      },
      "cell_type": "code",
      "source": [
        "data.columns = ['age', 'sex', 'chest_pain_type', 'resting_blood_pressure', 'cholesterol', 'fasting_blood_sugar', 'rest_ecg', 'max_heart_rate_achieved',\n",
        "       'exercise_induced_angina', 'st_depression', 'st_slope', 'num_major_vessels', 'thalassemia', 'target']"
      ],
      "execution_count": 173,
      "outputs": []
    },
    {
      "metadata": {
        "id": "bDpCbRPVDmtz"
      },
      "cell_type": "markdown",
      "source": [
        "# Heart disease according to Fasting Blood sugar "
      ]
    },
    {
      "metadata": {
        "id": "8cP_g8Qka848",
        "outputId": "93a5abbd-2037-4894-a19b-fc9c91033490",
        "colab": {
          "base_uri": "https://localhost:8080/",
          "height": 591
        }
      },
      "cell_type": "code",
      "source": [
        "pd.crosstab(data.fasting_blood_sugar,data.target).plot(kind=\"bar\",figsize=(20,10),color=['#4286f4','#f49242'])\n",
        "plt.title(\"Heart disease according to FBS\")\n",
        "plt.xlabel('FBS- (Fasting Blood Sugar > 120 mg/dl) (1 = true; 0 = false)')\n",
        "plt.xticks(rotation=90)\n",
        "plt.legend([\"Don't Have Disease\", \"Have Disease\"])\n",
        "plt.ylabel('Disease or not')\n",
        "plt.show()"
      ],
      "execution_count": 174,
      "outputs": [
        {
          "output_type": "display_data",
          "data": {
            "text/plain": [
              "<Figure size 1440x720 with 1 Axes>"
            ],
            "image/png": "[encoded data removed]"
          },
          "metadata": {
            "needs_background": "light"
          }
        }
      ]
    },
    {
      "metadata": {
        "id": "ikTe2mI9dAte"
      },
      "cell_type": "markdown",
      "source": [
        "# Analysing the chest pain (4 types of chest pain)\n",
        "\n",
        "#[Value 0: typical angina, Value 1: atypical angina, Value 2: non-anginal pain, Value 3: asymptomatic]"
      ]
    },
    {
      "metadata": {
        "id": "tgt8okDpc_Ff",
        "outputId": "5ff8cb56-2d09-4492-f725-438fbc6bd0f1",
        "colab": {
          "base_uri": "https://localhost:8080/"
        }
      },
      "cell_type": "code",
      "source": [
        "data[\"chest_pain_type\"].unique()"
      ],
      "execution_count": 175,
      "outputs": [
        {
          "output_type": "execute_result",
          "data": {
            "text/plain": [
              "array([0, 1, 2, 3])"
            ]
          },
          "metadata": {},
          "execution_count": 175
        }
      ]
    },
    {
      "metadata": {
        "id": "mS8B6CzIdNUE",
        "outputId": "12ac64b2-1d35-4642-a0cd-3a39ec15a09e",
        "colab": {
          "base_uri": "https://localhost:8080/",
          "height": 473
        }
      },
      "cell_type": "code",
      "source": [
        "plt.figure(figsize=(26, 10))\n",
        "sns.barplot(data[\"chest_pain_type\"],y)"
      ],
      "execution_count": 176,
      "outputs": [
        {
          "output_type": "execute_result",
          "data": {
            "text/plain": [
              "<matplotlib.axes._subplots.AxesSubplot at 0x7f4e418ba750>"
            ]
          },
          "metadata": {},
          "execution_count": 176
        },
        {
          "output_type": "display_data",
          "data": {
            "text/plain": [
              "<Figure size 1872x720 with 1 Axes>"
            ],
            "image/png": "[encoded data removed]"
          },
          "metadata": {
            "needs_background": "light"
          }
        }
      ]
    },
    {
      "metadata": {
        "id": "MRMQY8U-d27T"
      },
      "cell_type": "markdown",
      "source": [
        "# Analysing the Resting electrocardiographic measurement (0 = normal, 1 = having ST-T wave abnormality, 2 = showing probable or definite left ventricular hypertrophy by Estes' criteria)"
      ]
    },
    {
      "metadata": {
        "id": "GJGIeio6d3UT",
        "outputId": "102cd00d-e499-46fc-f776-8731f2967b50",
        "colab": {
          "base_uri": "https://localhost:8080/"
        }
      },
      "cell_type": "code",
      "source": [
        "data[\"rest_ecg\"].unique()"
      ],
      "execution_count": 177,
      "outputs": [
        {
          "output_type": "execute_result",
          "data": {
            "text/plain": [
              "array([1, 0, 2])"
            ]
          },
          "metadata": {},
          "execution_count": 177
        }
      ]
    },
    {
      "metadata": {
        "id": "tBI2Wtq8eJFI",
        "outputId": "fa373996-0703-4cb2-d7d5-d4757c6f5ee5",
        "colab": {
          "base_uri": "https://localhost:8080/",
          "height": 674
        }
      },
      "cell_type": "code",
      "source": [
        "plt.figure(figsize=(26, 15))\n",
        "sns.barplot(data[\"rest_ecg\"],y)"
      ],
      "execution_count": 178,
      "outputs": [
        {
          "output_type": "execute_result",
          "data": {
            "text/plain": [
              "<matplotlib.axes._subplots.AxesSubplot at 0x7f4e41b0e6d0>"
            ]
          },
          "metadata": {},
          "execution_count": 178
        },
        {
          "output_type": "display_data",
          "data": {
            "text/plain": [
              "<Figure size 1872x1080 with 1 Axes>"
            ],
            "image/png": "[encoded data removed]"
          },
          "metadata": {
            "needs_background": "light"
          }
        }
      ]
    },
    {
      "metadata": {
        "id": "UCW6of9jeOml"
      },
      "cell_type": "markdown",
      "source": [
        "## people with restecg '1' and '2' are much more likely to have a heart disease than with restecg '0'"
      ]
    },
    {
      "metadata": {
        "id": "VtKOlsyoeTRo"
      },
      "cell_type": "markdown",
      "source": [
        "#Analysing Exercise induced angina (1 = yes; 0 = no)"
      ]
    },
    {
      "metadata": {
        "id": "MPzknv7Qefbu",
        "outputId": "c453747d-e75a-4159-b8d8-aaea20302b55",
        "colab": {
          "base_uri": "https://localhost:8080/"
        }
      },
      "cell_type": "code",
      "source": [
        "data[\"exercise_induced_angina\"].unique()"
      ],
      "execution_count": 179,
      "outputs": [
        {
          "output_type": "execute_result",
          "data": {
            "text/plain": [
              "array([0, 1])"
            ]
          },
          "metadata": {},
          "execution_count": 179
        }
      ]
    },
    {
      "metadata": {
        "id": "Xt7b6bS7ekM9",
        "outputId": "4a565920-6ea6-4cf4-a40a-82d0300eeaa8",
        "colab": {
          "base_uri": "https://localhost:8080/",
          "height": 628
        }
      },
      "cell_type": "code",
      "source": [
        "plt.figure(figsize=(10, 10))\n",
        "sns.barplot(data[\"exercise_induced_angina\"],y)"
      ],
      "execution_count": 180,
      "outputs": [
        {
          "output_type": "execute_result",
          "data": {
            "text/plain": [
              "<matplotlib.axes._subplots.AxesSubplot at 0x7f4e41dce490>"
            ]
          },
          "metadata": {},
          "execution_count": 180
        },
        {
          "output_type": "display_data",
          "data": {
            "text/plain": [
              "<Figure size 720x720 with 1 Axes>"
            ],
            "image/png": "[encoded data removed]"
          },
          "metadata": {
            "needs_background": "light"
          }
        }
      ]
    },
    {
      "metadata": {
        "id": "5HRmFYGceuDI"
      },
      "cell_type": "markdown",
      "source": [
        "# Analysing the slope of the peak exercise ST segment (Value 1: upsloping, Value 2: flat, Value 3: downsloping)"
      ]
    },
    {
      "metadata": {
        "id": "utNmGzDBe76D",
        "outputId": "11c6a332-59e0-433a-f514-4b352c9015bc",
        "colab": {
          "base_uri": "https://localhost:8080/"
        }
      },
      "cell_type": "code",
      "source": [
        "data[\"st_slope\"].unique()"
      ],
      "execution_count": 181,
      "outputs": [
        {
          "output_type": "execute_result",
          "data": {
            "text/plain": [
              "array([2, 0, 1])"
            ]
          },
          "metadata": {},
          "execution_count": 181
        }
      ]
    },
    {
      "metadata": {
        "id": "jucFoDt_fbmX",
        "outputId": "3e1e2789-ee2b-49ed-cb41-ed6923d7f002",
        "colab": {
          "base_uri": "https://localhost:8080/",
          "height": 492
        }
      },
      "cell_type": "code",
      "source": [
        "plt.figure(figsize=(25, 10))\n",
        "sns.barplot(data[\"st_slope\"],y)"
      ],
      "execution_count": 182,
      "outputs": [
        {
          "output_type": "execute_result",
          "data": {
            "text/plain": [
              "<matplotlib.axes._subplots.AxesSubplot at 0x7f4e417f9d10>"
            ]
          },
          "metadata": {},
          "execution_count": 182
        },
        {
          "output_type": "display_data",
          "data": {
            "text/plain": [
              "<Figure size 1800x720 with 1 Axes>"
            ],
            "image/png": "[encoded data removed]"
          },
          "metadata": {
            "needs_background": "light"
          }
        }
      ]
    },
    {
      "metadata": {
        "id": "thE_qJK5fh0N"
      },
      "cell_type": "markdown",
      "source": [
        "Slope '2' causes heart pain much more than Slope '0' and '1'"
      ]
    },
    {
      "metadata": {
        "id": "JToS14-dfkRZ"
      },
      "cell_type": "markdown",
      "source": [
        "# Analysing number of major vessels (0-4) colored by flourosopy"
      ]
    },
    {
      "metadata": {
        "id": "kWtpfn-nfxMt",
        "outputId": "b50d5347-53c6-4f65-988f-66f741b2ff19",
        "colab": {
          "base_uri": "https://localhost:8080/"
        }
      },
      "cell_type": "code",
      "source": [
        "data[\"num_major_vessels\"].unique()"
      ],
      "execution_count": 183,
      "outputs": [
        {
          "output_type": "execute_result",
          "data": {
            "text/plain": [
              "array([2, 0, 1, 3, 4])"
            ]
          },
          "metadata": {},
          "execution_count": 183
        }
      ]
    },
    {
      "cell_type": "markdown",
      "source": [
        "#Major blood vessesls connect to heart are aorta,superior venacava,inferior vencava,pulmonary artery, pulmonary veins."
      ],
      "metadata": {
        "id": "NfE2D68NiJo5"
      }
    },
    {
      "metadata": {
        "id": "Aa0UwtIhHBGC"
      },
      "cell_type": "markdown",
      "source": [
        "### count num_major vessels"
      ]
    },
    {
      "metadata": {
        "id": "suhK9Ocjf7Z9",
        "outputId": "64d459ab-dee8-409d-c3df-4277f4a80876",
        "colab": {
          "base_uri": "https://localhost:8080/",
          "height": 303
        }
      },
      "cell_type": "code",
      "source": [
        "sns.countplot(data[\"num_major_vessels\"])"
      ],
      "execution_count": 184,
      "outputs": [
        {
          "output_type": "execute_result",
          "data": {
            "text/plain": [
              "<matplotlib.axes._subplots.AxesSubplot at 0x7f4e41b8f350>"
            ]
          },
          "metadata": {},
          "execution_count": 184
        },
        {
          "output_type": "display_data",
          "data": {
            "text/plain": [
              "<Figure size 432x288 with 1 Axes>"
            ],
            "image/png": "[encoded data removed]"
          },
          "metadata": {
            "needs_background": "light"
          }
        }
      ]
    },
    {
      "metadata": {
        "id": "eOa5rLT2Mh99"
      },
      "cell_type": "markdown",
      "source": [
        "# Splitting the dataset to Train and Test"
      ]
    },
    {
      "metadata": {
        "id": "V7iKKDPiMk0N",
        "outputId": "342a5bdf-76ae-493d-a2ae-828682682b6b",
        "colab": {
          "base_uri": "https://localhost:8080/"
        }
      },
      "cell_type": "code",
      "source": [
        "from sklearn.model_selection import train_test_split\n",
        "\n",
        "predictors = data.drop(\"target\",axis=1)\n",
        "target = data[\"target\"]\n",
        "\n",
        "X_train,X_test,Y_train,Y_test = train_test_split(predictors,target,test_size=0.20,random_state=1)\n",
        "print(\"Training features have {0} records and Testing features have {1} records.\".\\\n",
        "      format(X_train.shape[0], X_test.shape[0]))"
      ],
      "execution_count": 185,
      "outputs": [
        {
          "output_type": "stream",
          "name": "stdout",
          "text": [
            "Training features have 820 records and Testing features have 205 records.\n"
          ]
        }
      ]
    },
    {
      "metadata": {
        "id": "7YwomHgBMtZt",
        "outputId": "0b1431a6-8d43-4b31-b684-2eacfb14dff9",
        "colab": {
          "base_uri": "https://localhost:8080/"
        }
      },
      "cell_type": "code",
      "source": [
        "X_train.shape"
      ],
      "execution_count": 186,
      "outputs": [
        {
          "output_type": "execute_result",
          "data": {
            "text/plain": [
              "(820, 13)"
            ]
          },
          "metadata": {},
          "execution_count": 186
        }
      ]
    },
    {
      "metadata": {
        "id": "cR7VVOQUMyck",
        "outputId": "bc4aed9a-0e9c-4da6-bbab-4724352d75cc",
        "colab": {
          "base_uri": "https://localhost:8080/"
        }
      },
      "cell_type": "code",
      "source": [
        "X_test.shape"
      ],
      "execution_count": 187,
      "outputs": [
        {
          "output_type": "execute_result",
          "data": {
            "text/plain": [
              "(205, 13)"
            ]
          },
          "metadata": {},
          "execution_count": 187
        }
      ]
    },
    {
      "metadata": {
        "id": "jkMdNviWM1Mx",
        "outputId": "dc51d4d0-23cf-45f4-be84-5eac69844afa",
        "colab": {
          "base_uri": "https://localhost:8080/"
        }
      },
      "cell_type": "code",
      "source": [
        "Y_train.shape"
      ],
      "execution_count": 188,
      "outputs": [
        {
          "output_type": "execute_result",
          "data": {
            "text/plain": [
              "(820,)"
            ]
          },
          "metadata": {},
          "execution_count": 188
        }
      ]
    },
    {
      "metadata": {
        "id": "w4AmfZuKM6ZL",
        "outputId": "1d5374d0-99b0-4e55-d7f5-29065b7fda3c",
        "colab": {
          "base_uri": "https://localhost:8080/"
        }
      },
      "cell_type": "code",
      "source": [
        "Y_test.shape"
      ],
      "execution_count": 189,
      "outputs": [
        {
          "output_type": "execute_result",
          "data": {
            "text/plain": [
              "(205,)"
            ]
          },
          "metadata": {},
          "execution_count": 189
        }
      ]
    },
    {
      "metadata": {
        "id": "i7W7vtpQM-c-"
      },
      "cell_type": "markdown",
      "source": [
        "## importing Accuracy score"
      ]
    },
    {
      "metadata": {
        "id": "KosuqmCiNBmI"
      },
      "cell_type": "code",
      "source": [
        "from sklearn.metrics import accuracy_score"
      ],
      "execution_count": 190,
      "outputs": []
    },
    {
      "metadata": {
        "id": "KsVRQL0zNEJg"
      },
      "cell_type": "markdown",
      "source": [
        "# Logistic regression"
      ]
    },
    {
      "metadata": {
        "id": "L4iBcqEp6bBz",
        "outputId": "1cb48f83-e621-4e54-a8b7-0a2092989928",
        "colab": {
          "base_uri": "https://localhost:8080/"
        }
      },
      "cell_type": "code",
      "source": [
        "from sklearn.linear_model import LogisticRegression\n",
        "logreg = LogisticRegression().fit(X_train, Y_train)\n",
        "print(\"Training set score: {:.3f}\".format(logreg.score(X_train, Y_train)))\n",
        "print(\"Test set score: {:.3f}\".format(logreg.score(X_test, Y_test)))"
      ],
      "execution_count": 191,
      "outputs": [
        {
          "output_type": "stream",
          "name": "stdout",
          "text": [
            "Training set score: 0.848\n",
            "Test set score: 0.805\n"
          ]
        }
      ]
    },
    {
      "metadata": {
        "id": "6vsnDoxqNInB",
        "outputId": "ad33de3b-94c5-4d78-ec68-e4f1e464ec46",
        "colab": {
          "base_uri": "https://localhost:8080/"
        }
      },
      "cell_type": "code",
      "source": [
        "from sklearn.linear_model import LogisticRegression\n",
        "\n",
        "lr = LogisticRegression()\n",
        "\n",
        "lr.fit(X_train,Y_train)"
      ],
      "execution_count": 192,
      "outputs": [
        {
          "output_type": "execute_result",
          "data": {
            "text/plain": [
              "LogisticRegression()"
            ]
          },
          "metadata": {},
          "execution_count": 192
        }
      ]
    },
    {
      "cell_type": "markdown",
      "source": [
        "#Threshold value"
      ],
      "metadata": {
        "id": "sJcouSSJFMLk"
      }
    },
    {
      "cell_type": "code",
      "source": [
        "from sklearn.metrics import balanced_accuracy_score\n",
        "from sklearn.metrics import accuracy_score"
      ],
      "metadata": {
        "id": "Bje8MD2JFOuw"
      },
      "execution_count": 193,
      "outputs": []
    },
    {
      "cell_type": "code",
      "source": [
        "threshold = []\n",
        "accuracy = []\n",
        "\n",
        "for p in np.unique(lr.predict_proba(X_train)[:,1]):\n",
        "  threshold.append(p)\n",
        "  y_pred = (lr.predict_proba(X_train)[:,1] >= p).astype(int)\n",
        "  accuracy.append(balanced_accuracy_score(Y_train,y_pred))"
      ],
      "metadata": {
        "id": "WH65bhDJF4-a"
      },
      "execution_count": 194,
      "outputs": []
    },
    {
      "cell_type": "code",
      "source": [
        "plt.scatter(threshold,accuracy)\n",
        "plt.xlabel(\"Threshold\")\n",
        "plt.ylabel(\"Balanced accuracy\")\n",
        "plt.show()"
      ],
      "metadata": {
        "id": "oXQa2RbHGTXl",
        "outputId": "d5d3616a-fd84-4d78-a228-3f17aa99feb8",
        "colab": {
          "base_uri": "https://localhost:8080/",
          "height": 285
        }
      },
      "execution_count": 195,
      "outputs": [
        {
          "output_type": "display_data",
          "data": {
            "text/plain": [
              "<Figure size 432x288 with 1 Axes>"
            ],
            "image/png": "[encoded data removed]"
          },
          "metadata": {
            "needs_background": "light"
          }
        }
      ]
    },
    {
      "cell_type": "code",
      "source": [
        "accuracy[np.argmax(accuracy)]"
      ],
      "metadata": {
        "id": "XrJEHBeMGWYN",
        "outputId": "8ba3373e-377a-4a4b-d72c-3b761234bbc6",
        "colab": {
          "base_uri": "https://localhost:8080/"
        }
      },
      "execution_count": 196,
      "outputs": [
        {
          "output_type": "execute_result",
          "data": {
            "text/plain": [
              "0.8640429338103757"
            ]
          },
          "metadata": {},
          "execution_count": 196
        }
      ]
    },
    {
      "cell_type": "code",
      "source": [
        "threshold[np.argmax(accuracy)]"
      ],
      "metadata": {
        "id": "j-ds7Zd-GY0j",
        "outputId": "ecbd7d54-528e-4d0f-c467-af6d27a068af",
        "colab": {
          "base_uri": "https://localhost:8080/"
        }
      },
      "execution_count": 197,
      "outputs": [
        {
          "output_type": "execute_result",
          "data": {
            "text/plain": [
              "0.6203528024857727"
            ]
          },
          "metadata": {},
          "execution_count": 197
        }
      ]
    },
    {
      "metadata": {
        "id": "WOncqcRVNM0Q",
        "outputId": "16ad7f6b-7c36-4554-e69b-d016083d3fe0",
        "colab": {
          "base_uri": "https://localhost:8080/"
        }
      },
      "cell_type": "code",
      "source": [
        "Y_pred_lr = lr.predict(X_test)\n",
        "Y_pred_lr.shape"
      ],
      "execution_count": 198,
      "outputs": [
        {
          "output_type": "execute_result",
          "data": {
            "text/plain": [
              "(205,)"
            ]
          },
          "metadata": {},
          "execution_count": 198
        }
      ]
    },
    {
      "metadata": {
        "id": "sJFyMzLTNPET",
        "outputId": "81893d69-e5de-4f40-8505-2706d04aa568",
        "colab": {
          "base_uri": "https://localhost:8080/"
        }
      },
      "cell_type": "code",
      "source": [
        "score_lr = round(accuracy_score(Y_pred_lr,Y_test)*100,2)\n",
        "\n",
        "print(\"The accuracy score achieved using Logistic Regression is: \"+str(score_lr)+\" %\")"
      ],
      "execution_count": 199,
      "outputs": [
        {
          "output_type": "stream",
          "name": "stdout",
          "text": [
            "The accuracy score achieved using Logistic Regression is: 80.49 %\n"
          ]
        }
      ]
    },
    {
      "metadata": {
        "id": "LgNk2g4ucxpZ"
      },
      "cell_type": "markdown",
      "source": [
        "# Confusion Matrix"
      ]
    },
    {
      "metadata": {
        "id": "dzmuccx3bwhm"
      },
      "cell_type": "code",
      "source": [
        "from sklearn.metrics import confusion_matrix"
      ],
      "execution_count": 200,
      "outputs": []
    },
    {
      "metadata": {
        "id": "VzbqA7IZby55"
      },
      "cell_type": "code",
      "source": [
        "matrix= confusion_matrix(Y_test, Y_pred_lr)"
      ],
      "execution_count": 201,
      "outputs": []
    },
    {
      "metadata": {
        "id": "NqelNWNGcIEB",
        "outputId": "f94472cc-bbd6-4ff2-94f2-efe83ac37165",
        "colab": {
          "base_uri": "https://localhost:8080/",
          "height": 286
        }
      },
      "cell_type": "code",
      "source": [
        "sns.heatmap(matrix,annot = True, fmt = \"d\")"
      ],
      "execution_count": 202,
      "outputs": [
        {
          "output_type": "execute_result",
          "data": {
            "text/plain": [
              "<matplotlib.axes._subplots.AxesSubplot at 0x7f4e419af710>"
            ]
          },
          "metadata": {},
          "execution_count": 202
        },
        {
          "output_type": "display_data",
          "data": {
            "text/plain": [
              "<Figure size 432x288 with 2 Axes>"
            ],
            "image/png": "[encoded data removed]"
          },
          "metadata": {
            "needs_background": "light"
          }
        }
      ]
    },
    {
      "metadata": {
        "id": "oZngK95wAyg0"
      },
      "cell_type": "markdown",
      "source": [
        "fmt = d is format = default"
      ]
    },
    {
      "metadata": {
        "id": "ePduVPbAc121"
      },
      "cell_type": "markdown",
      "source": [
        "# precision Score"
      ]
    },
    {
      "metadata": {
        "id": "CaqOPg0vcQbt"
      },
      "cell_type": "code",
      "source": [
        "from sklearn.metrics import precision_score"
      ],
      "execution_count": 203,
      "outputs": []
    },
    {
      "metadata": {
        "id": "uLyL4HLZcTOr"
      },
      "cell_type": "code",
      "source": [
        "precision = precision_score(Y_test, Y_pred_lr)"
      ],
      "execution_count": 204,
      "outputs": []
    },
    {
      "metadata": {
        "id": "1n0pPR7mcbkh",
        "outputId": "fb46f048-0e12-4607-f800-30d83062e6f3",
        "colab": {
          "base_uri": "https://localhost:8080/"
        }
      },
      "cell_type": "code",
      "source": [
        "print(\"Precision: \",precision)"
      ],
      "execution_count": 205,
      "outputs": [
        {
          "output_type": "stream",
          "name": "stdout",
          "text": [
            "Precision:  0.7456140350877193\n"
          ]
        }
      ]
    },
    {
      "metadata": {
        "id": "cRdsUQo_c3_a"
      },
      "cell_type": "markdown",
      "source": [
        "# Recall"
      ]
    },
    {
      "metadata": {
        "id": "4rClRAnAce_W"
      },
      "cell_type": "code",
      "source": [
        "from sklearn.metrics import recall_score"
      ],
      "execution_count": 206,
      "outputs": []
    },
    {
      "metadata": {
        "id": "BX_0uOdBchFl"
      },
      "cell_type": "code",
      "source": [
        "recall = recall_score(Y_test, Y_pred_lr)"
      ],
      "execution_count": 207,
      "outputs": []
    },
    {
      "metadata": {
        "id": "Wg-a7JkGcn3I",
        "outputId": "a118dd40-1859-4619-d5ec-42bf96681608",
        "colab": {
          "base_uri": "https://localhost:8080/"
        }
      },
      "cell_type": "code",
      "source": [
        "print(\"Recall is: \",recall)"
      ],
      "execution_count": 208,
      "outputs": [
        {
          "output_type": "stream",
          "name": "stdout",
          "text": [
            "Recall is:  0.8854166666666666\n"
          ]
        }
      ]
    },
    {
      "metadata": {
        "id": "Fojmjmtcc7Ar"
      },
      "cell_type": "markdown",
      "source": [
        "\n",
        "\n",
        "---\n",
        "\n"
      ]
    },
    {
      "metadata": {
        "id": "SBnYvM4BNS95"
      },
      "cell_type": "markdown",
      "source": [
        "# Random Forest"
      ]
    },
    {
      "metadata": {
        "id": "S5Pk-lGjBj9H",
        "outputId": "fe7f8047-3d6b-444f-bcab-5baef604a97f",
        "colab": {
          "base_uri": "https://localhost:8080/"
        }
      },
      "cell_type": "code",
      "source": [
        "#Random forest with 100 trees\n",
        "from sklearn.ensemble import RandomForestClassifier\n",
        "rf = RandomForestClassifier(n_estimators=100, random_state=1)\n",
        "rf.fit(X_train, Y_train)\n",
        "print(\"Accuracy on training set: {:.3f}\".format(rf.score(X_train, Y_train)))\n",
        "print(\"Accuracy on test set: {:.3f}\".format(rf.score(X_test, Y_test)))"
      ],
      "execution_count": 209,
      "outputs": [
        {
          "output_type": "stream",
          "name": "stdout",
          "text": [
            "Accuracy on training set: 1.000\n",
            "Accuracy on test set: 1.000\n"
          ]
        }
      ]
    },
    {
      "metadata": {
        "id": "Ro3iaSbiNVJe",
        "outputId": "aaf8a43e-9799-41ed-a023-8c8373901c89",
        "colab": {
          "base_uri": "https://localhost:8080/"
        }
      },
      "cell_type": "code",
      "source": [
        "from sklearn.ensemble import RandomForestClassifier\n",
        "\n",
        "max_accuracy = 0\n",
        "\n",
        "\n",
        "for x in range(2000):\n",
        "    rf = RandomForestClassifier(random_state=x)\n",
        "    rf.fit(X_train,Y_train)\n",
        "    Y_pred_rf = rf.predict(X_test)\n",
        "    current_accuracy = round(accuracy_score(Y_pred_rf,Y_test)*100,2)\n",
        "    if(current_accuracy>max_accuracy):\n",
        "        max_accuracy = current_accuracy\n",
        "        best_x = x\n",
        "        \n",
        "print(max_accuracy)\n",
        "print(best_x)\n",
        "\n",
        "rf = RandomForestClassifier(random_state=best_x)\n",
        "rf.fit(X_train,Y_train)\n",
        "Y_pred_rf = rf.predict(X_test)"
      ],
      "execution_count": 210,
      "outputs": [
        {
          "output_type": "stream",
          "name": "stdout",
          "text": [
            "100.0\n",
            "0\n"
          ]
        }
      ]
    },
    {
      "metadata": {
        "id": "AgF33Bo0Ncn3",
        "outputId": "0d3c1c04-5f33-49d8-e7fe-e93cfe43e73c",
        "colab": {
          "base_uri": "https://localhost:8080/"
        }
      },
      "cell_type": "code",
      "source": [
        "Y_pred_rf.shape"
      ],
      "execution_count": 211,
      "outputs": [
        {
          "output_type": "execute_result",
          "data": {
            "text/plain": [
              "(205,)"
            ]
          },
          "metadata": {},
          "execution_count": 211
        }
      ]
    },
    {
      "metadata": {
        "id": "iRVqY3o0NeCB",
        "outputId": "b30f4141-95b4-456c-84f5-88f4ebcbeac8",
        "colab": {
          "base_uri": "https://localhost:8080/"
        }
      },
      "cell_type": "code",
      "source": [
        "score_rf = round(accuracy_score(Y_pred_rf,Y_test)*100,2)\n",
        "\n",
        "print(\"The accuracy score achieved using Random forest is: \"+str(score_rf)+\" %\")"
      ],
      "execution_count": 212,
      "outputs": [
        {
          "output_type": "stream",
          "name": "stdout",
          "text": [
            "The accuracy score achieved using Random forest is: 100.0 %\n"
          ]
        }
      ]
    },
    {
      "metadata": {
        "id": "5PiASaknMJYX"
      },
      "cell_type": "markdown",
      "source": [
        "## confusion matrix of Random Forest"
      ]
    },
    {
      "metadata": {
        "id": "Mra1YpbcCBUG"
      },
      "cell_type": "code",
      "source": [
        "from sklearn.metrics import confusion_matrix"
      ],
      "execution_count": 213,
      "outputs": []
    },
    {
      "metadata": {
        "id": "_VWQEnltCEAl"
      },
      "cell_type": "code",
      "source": [
        "matrix= confusion_matrix(Y_test, Y_pred_rf)"
      ],
      "execution_count": 214,
      "outputs": []
    },
    {
      "metadata": {
        "id": "vVRhN3jDCJgG",
        "colab": {
          "base_uri": "https://localhost:8080/",
          "height": 286
        },
        "outputId": "f7d43a8c-5cea-40b6-e40c-7f1fb624ddf8"
      },
      "cell_type": "code",
      "source": [
        "sns.heatmap(matrix,annot = True, fmt = \"d\")"
      ],
      "execution_count": 215,
      "outputs": [
        {
          "output_type": "execute_result",
          "data": {
            "text/plain": [
              "<matplotlib.axes._subplots.AxesSubplot at 0x7f4e41c03750>"
            ]
          },
          "metadata": {},
          "execution_count": 215
        },
        {
          "output_type": "display_data",
          "data": {
            "text/plain": [
              "<Figure size 432x288 with 2 Axes>"
            ],
            "image/png": "[encoded data removed]"
          },
          "metadata": {
            "needs_background": "light"
          }
        }
      ]
    },
    {
      "metadata": {
        "id": "8oQ4VUpaCTuf"
      },
      "cell_type": "markdown",
      "source": [
        "# precision score"
      ]
    },
    {
      "metadata": {
        "id": "FmCAmIfUCV8t"
      },
      "cell_type": "code",
      "source": [
        "from sklearn.metrics import precision_score"
      ],
      "execution_count": 216,
      "outputs": []
    },
    {
      "metadata": {
        "id": "T6U-eHW7CYR7"
      },
      "cell_type": "code",
      "source": [
        "precision = precision_score(Y_test, Y_pred_rf)"
      ],
      "execution_count": 217,
      "outputs": []
    },
    {
      "metadata": {
        "id": "JSTXQMKYCb49",
        "colab": {
          "base_uri": "https://localhost:8080/"
        },
        "outputId": "6e16d9e6-ae1d-4f36-8186-4f93a178ab57"
      },
      "cell_type": "code",
      "source": [
        "print(\"Precision: \",precision)"
      ],
      "execution_count": 218,
      "outputs": [
        {
          "output_type": "stream",
          "name": "stdout",
          "text": [
            "Precision:  1.0\n"
          ]
        }
      ]
    },
    {
      "metadata": {
        "id": "nJA8eFthCeSR"
      },
      "cell_type": "markdown",
      "source": [
        "# recall"
      ]
    },
    {
      "metadata": {
        "id": "2NIWZWUfClqL"
      },
      "cell_type": "code",
      "source": [
        "from sklearn.metrics import recall_score"
      ],
      "execution_count": 219,
      "outputs": []
    },
    {
      "metadata": {
        "id": "5BscmVdgCnf6"
      },
      "cell_type": "code",
      "source": [
        "recall = recall_score(Y_test, Y_pred_rf)"
      ],
      "execution_count": 220,
      "outputs": []
    },
    {
      "metadata": {
        "id": "ZvHbdPO5CqAd",
        "colab": {
          "base_uri": "https://localhost:8080/"
        },
        "outputId": "8addfaf4-fc5a-4839-f93c-b2771fdffa91"
      },
      "cell_type": "code",
      "source": [
        "print(\"Recall is: \",recall)"
      ],
      "execution_count": 221,
      "outputs": [
        {
          "output_type": "stream",
          "name": "stdout",
          "text": [
            "Recall is:  1.0\n"
          ]
        }
      ]
    },
    {
      "metadata": {
        "id": "itvCy6g1OIKT"
      },
      "cell_type": "markdown",
      "source": [
        "# Naive Bayes"
      ]
    },
    {
      "metadata": {
        "id": "niuIRgKIOKia"
      },
      "cell_type": "code",
      "source": [
        "from sklearn.naive_bayes import GaussianNB\n",
        "\n",
        "nb = GaussianNB()\n",
        "\n",
        "nb.fit(X_train,Y_train)\n",
        "Y_train_nb=nb.predict(X_train)\n",
        "\n",
        "Y_pred_nb = nb.predict(X_test)"
      ],
      "execution_count": 222,
      "outputs": []
    },
    {
      "metadata": {
        "id": "zd5qmJiKOXfB",
        "outputId": "ffbcaec7-c577-40bb-9b89-d261b4af8b53",
        "colab": {
          "base_uri": "https://localhost:8080/"
        }
      },
      "cell_type": "code",
      "source": [
        "Y_pred_nb.shape"
      ],
      "execution_count": 223,
      "outputs": [
        {
          "output_type": "execute_result",
          "data": {
            "text/plain": [
              "(205,)"
            ]
          },
          "metadata": {},
          "execution_count": 223
        }
      ]
    },
    {
      "cell_type": "code",
      "source": [
        "score_1 = round(accuracy_score(Y_train_nb,Y_train)*100,2)\n",
        "\n",
        "print(\"The accuracy score achieved using Naive Bayes on training  is: \"+str(score_1)+\" %\")"
      ],
      "metadata": {
        "colab": {
          "base_uri": "https://localhost:8080/"
        },
        "id": "1yfZ8MDz6L75",
        "outputId": "ed1fe145-9713-4481-8bfa-0d3c3ec10445"
      },
      "execution_count": 224,
      "outputs": [
        {
          "output_type": "stream",
          "name": "stdout",
          "text": [
            "The accuracy score achieved using Naive Bayes on training  is: 84.27 %\n"
          ]
        }
      ]
    },
    {
      "metadata": {
        "id": "edGDQiM8OYzW",
        "outputId": "14f7ef94-47a3-4f08-faee-7cce42389003",
        "colab": {
          "base_uri": "https://localhost:8080/"
        }
      },
      "cell_type": "code",
      "source": [
        "score_nb = round(accuracy_score(Y_pred_nb,Y_test)*100,2)\n",
        "\n",
        "print(\"The accuracy score achieved using Naive Bayes is: \"+str(score_nb)+\" %\")"
      ],
      "execution_count": 225,
      "outputs": [
        {
          "output_type": "stream",
          "name": "stdout",
          "text": [
            "The accuracy score achieved using Naive Bayes is: 78.05 %\n"
          ]
        }
      ]
    },
    {
      "metadata": {
        "id": "sR27vJmiNXOA"
      },
      "cell_type": "markdown",
      "source": [
        "## confusion matrix of Naive Bayes"
      ]
    },
    {
      "metadata": {
        "id": "GneNyLpXDAtB"
      },
      "cell_type": "code",
      "source": [
        "from sklearn.metrics import confusion_matrix"
      ],
      "execution_count": 226,
      "outputs": []
    },
    {
      "metadata": {
        "id": "QgcyDOdyDED1"
      },
      "cell_type": "code",
      "source": [
        "matrix= confusion_matrix(Y_test, Y_pred_nb)"
      ],
      "execution_count": 227,
      "outputs": []
    },
    {
      "metadata": {
        "id": "m6thjv_fDJMx",
        "colab": {
          "base_uri": "https://localhost:8080/",
          "height": 286
        },
        "outputId": "d6ce95e0-870c-4c52-8209-48a2c31b0a96"
      },
      "cell_type": "code",
      "source": [
        "sns.heatmap(matrix,annot = True, fmt = \"d\")"
      ],
      "execution_count": 228,
      "outputs": [
        {
          "output_type": "execute_result",
          "data": {
            "text/plain": [
              "<matplotlib.axes._subplots.AxesSubplot at 0x7f4e41777a10>"
            ]
          },
          "metadata": {},
          "execution_count": 228
        },
        {
          "output_type": "display_data",
          "data": {
            "text/plain": [
              "<Figure size 432x288 with 2 Axes>"
            ],
            "image/png": "[encoded data removed]"
          },
          "metadata": {
            "needs_background": "light"
          }
        }
      ]
    },
    {
      "metadata": {
        "id": "X_8G3xnlDPWS"
      },
      "cell_type": "markdown",
      "source": [
        "# precision score"
      ]
    },
    {
      "metadata": {
        "id": "LUJOT1f5DTgL"
      },
      "cell_type": "code",
      "source": [
        "from sklearn.metrics import precision_score"
      ],
      "execution_count": 229,
      "outputs": []
    },
    {
      "metadata": {
        "id": "ce6CbHpjDV9s"
      },
      "cell_type": "code",
      "source": [
        "precision = precision_score(Y_test, Y_pred_nb)"
      ],
      "execution_count": 230,
      "outputs": []
    },
    {
      "metadata": {
        "id": "-F_ck5N0DZSQ",
        "colab": {
          "base_uri": "https://localhost:8080/"
        },
        "outputId": "ea6c4e44-1009-4b12-aab1-04cc90778e29"
      },
      "cell_type": "code",
      "source": [
        "print(\"Precision: \",precision)"
      ],
      "execution_count": 231,
      "outputs": [
        {
          "output_type": "stream",
          "name": "stdout",
          "text": [
            "Precision:  0.7217391304347827\n"
          ]
        }
      ]
    },
    {
      "metadata": {
        "id": "B4LEb3dlDbmE"
      },
      "cell_type": "markdown",
      "source": [
        "# recall"
      ]
    },
    {
      "metadata": {
        "id": "l7SopfRSDdHe"
      },
      "cell_type": "code",
      "source": [
        "from sklearn.metrics import recall_score"
      ],
      "execution_count": 232,
      "outputs": []
    },
    {
      "metadata": {
        "id": "FfS8d7rfDfhj"
      },
      "cell_type": "code",
      "source": [
        "recall = recall_score(Y_test, Y_pred_nb)"
      ],
      "execution_count": 233,
      "outputs": []
    },
    {
      "metadata": {
        "id": "FvYOwsvBDjZz",
        "colab": {
          "base_uri": "https://localhost:8080/"
        },
        "outputId": "4334cb3c-16b9-46a7-fbf7-c91b18740ccc"
      },
      "cell_type": "code",
      "source": [
        "print(\"Recall is: \",recall)"
      ],
      "execution_count": 234,
      "outputs": [
        {
          "output_type": "stream",
          "name": "stdout",
          "text": [
            "Recall is:  0.8645833333333334\n"
          ]
        }
      ]
    },
    {
      "metadata": {
        "id": "ovHec9BDOeWS"
      },
      "cell_type": "markdown",
      "source": [
        "# KNN(K Nearest Neighbors)"
      ]
    },
    {
      "metadata": {
        "id": "cgD5RQVfOf02"
      },
      "cell_type": "code",
      "source": [
        "from sklearn.neighbors import KNeighborsClassifier\n",
        "\n",
        "knn = KNeighborsClassifier(n_neighbors=11)\n",
        "knn.fit(X_train,Y_train)\n",
        "Y_train_knn=knn.predict(X_train)\n",
        "Y_pred_knn=knn.predict(X_test)"
      ],
      "execution_count": 235,
      "outputs": []
    },
    {
      "metadata": {
        "id": "0mNYgeVhOl0A",
        "outputId": "80608c53-5ee4-43b5-993f-01f6dcfc6759",
        "colab": {
          "base_uri": "https://localhost:8080/"
        }
      },
      "cell_type": "code",
      "source": [
        "Y_pred_knn.shape"
      ],
      "execution_count": 236,
      "outputs": [
        {
          "output_type": "execute_result",
          "data": {
            "text/plain": [
              "(205,)"
            ]
          },
          "metadata": {},
          "execution_count": 236
        }
      ]
    },
    {
      "cell_type": "code",
      "source": [
        "score_knn = round(accuracy_score(Y_train_knn,Y_train)*100,2)\n",
        "\n",
        "print(\"The accuracy score achieved using KNN on training  is: \"+str(score_knn)+\" %\")"
      ],
      "metadata": {
        "colab": {
          "base_uri": "https://localhost:8080/"
        },
        "id": "PKiJUOwY6hcv",
        "outputId": "752885c9-d874-4d63-ab8e-f0bb2512ef0b"
      },
      "execution_count": 237,
      "outputs": [
        {
          "output_type": "stream",
          "name": "stdout",
          "text": [
            "The accuracy score achieved using KNN on training  is: 77.32 %\n"
          ]
        }
      ]
    },
    {
      "metadata": {
        "id": "WN7EX1UbOouC",
        "outputId": "3d5c80fd-6a23-4543-c917-e7c397d5ed73",
        "colab": {
          "base_uri": "https://localhost:8080/"
        }
      },
      "cell_type": "code",
      "source": [
        "score_knn = round(accuracy_score(Y_pred_knn,Y_test)*100,2)\n",
        "\n",
        "print(\"The accuracy score achieved using KNN is: \"+str(score_knn)+\" %\")"
      ],
      "execution_count": 238,
      "outputs": [
        {
          "output_type": "stream",
          "name": "stdout",
          "text": [
            "The accuracy score achieved using KNN is: 71.22 %\n"
          ]
        }
      ]
    },
    {
      "metadata": {
        "id": "7n0XSJPNOfoZ"
      },
      "cell_type": "markdown",
      "source": [
        "## Confusion matrix"
      ]
    },
    {
      "metadata": {
        "id": "aoRy4axtD5ad"
      },
      "cell_type": "code",
      "source": [
        "from sklearn.metrics import confusion_matrix"
      ],
      "execution_count": 239,
      "outputs": []
    },
    {
      "metadata": {
        "id": "wvKmYt6BD7qX"
      },
      "cell_type": "code",
      "source": [
        "matrix= confusion_matrix(Y_test, Y_pred_knn)"
      ],
      "execution_count": 240,
      "outputs": []
    },
    {
      "metadata": {
        "id": "TXy0X0oTEBlR",
        "colab": {
          "base_uri": "https://localhost:8080/",
          "height": 286
        },
        "outputId": "3e572326-f2a3-45be-dc95-6adf3d32ad06"
      },
      "cell_type": "code",
      "source": [
        "sns.heatmap(matrix,annot = True, fmt = \"d\")"
      ],
      "execution_count": 241,
      "outputs": [
        {
          "output_type": "execute_result",
          "data": {
            "text/plain": [
              "<matplotlib.axes._subplots.AxesSubplot at 0x7f4e416be450>"
            ]
          },
          "metadata": {},
          "execution_count": 241
        },
        {
          "output_type": "display_data",
          "data": {
            "text/plain": [
              "<Figure size 432x288 with 2 Axes>"
            ],
            "image/png": "[encoded data removed]"
          },
          "metadata": {
            "needs_background": "light"
          }
        }
      ]
    },
    {
      "metadata": {
        "id": "b8hMkLCFEFz0"
      },
      "cell_type": "markdown",
      "source": [
        "# precision score"
      ]
    },
    {
      "metadata": {
        "id": "FLcUAKX0EKkc"
      },
      "cell_type": "code",
      "source": [
        "from sklearn.metrics import precision_score"
      ],
      "execution_count": 242,
      "outputs": []
    },
    {
      "metadata": {
        "id": "yGSw_ofsENSw"
      },
      "cell_type": "code",
      "source": [
        "precision = precision_score(Y_test, Y_pred_knn)"
      ],
      "execution_count": 243,
      "outputs": []
    },
    {
      "metadata": {
        "id": "4f3-dP_lERby",
        "colab": {
          "base_uri": "https://localhost:8080/"
        },
        "outputId": "e45f343a-0eab-4544-d235-a88c1232a511"
      },
      "cell_type": "code",
      "source": [
        "print(\"Precision: \",precision)"
      ],
      "execution_count": 244,
      "outputs": [
        {
          "output_type": "stream",
          "name": "stdout",
          "text": [
            "Precision:  0.6989247311827957\n"
          ]
        }
      ]
    },
    {
      "metadata": {
        "id": "3tMAAU7rETsn"
      },
      "cell_type": "markdown",
      "source": [
        "# recall"
      ]
    },
    {
      "metadata": {
        "id": "sbXUbUUgEVos"
      },
      "cell_type": "code",
      "source": [
        "from sklearn.metrics import recall_score"
      ],
      "execution_count": 245,
      "outputs": []
    },
    {
      "metadata": {
        "id": "L0EV_SJcEgjA"
      },
      "cell_type": "code",
      "source": [
        "recall = recall_score(Y_test, Y_pred_knn)"
      ],
      "execution_count": 246,
      "outputs": []
    },
    {
      "metadata": {
        "id": "qi-OgKIPEkCU",
        "colab": {
          "base_uri": "https://localhost:8080/"
        },
        "outputId": "3c6ded0f-ecd5-404b-a3ac-6f0673a0b304"
      },
      "cell_type": "code",
      "source": [
        "print(\"Recall is: \",recall)"
      ],
      "execution_count": 247,
      "outputs": [
        {
          "output_type": "stream",
          "name": "stdout",
          "text": [
            "Recall is:  0.6770833333333334\n"
          ]
        }
      ]
    },
    {
      "metadata": {
        "id": "KyhawFIRPUch"
      },
      "cell_type": "markdown",
      "source": [
        "# Decision Tree"
      ]
    },
    {
      "metadata": {
        "id": "feNBLqPn658C",
        "outputId": "1830334d-633d-4da1-ff35-38fd2cf9d31b",
        "colab": {
          "base_uri": "https://localhost:8080/"
        }
      },
      "cell_type": "code",
      "source": [
        "from sklearn.tree import DecisionTreeClassifier\n",
        "tree1 = DecisionTreeClassifier(random_state=0)\n",
        "tree1.fit(X_train, Y_train)\n",
        "print(\"Accuracy on training set: {:.3f}\".format(tree1.score(X_train, Y_train)))\n",
        "print(\"Accuracy on test set: {:.3f}\".format(tree1.score(X_test, Y_test)))"
      ],
      "execution_count": 248,
      "outputs": [
        {
          "output_type": "stream",
          "name": "stdout",
          "text": [
            "Accuracy on training set: 1.000\n",
            "Accuracy on test set: 1.000\n"
          ]
        }
      ]
    },
    {
      "metadata": {
        "id": "xwwLmy4n7Go0",
        "outputId": "d4545f80-1958-449c-a006-f893fd5f123e",
        "colab": {
          "base_uri": "https://localhost:8080/"
        }
      },
      "cell_type": "code",
      "source": [
        "tree1 = DecisionTreeClassifier(max_depth=3, random_state=0)\n",
        "tree1.fit(X_train, Y_train)\n",
        "print(\"Accuracy on training set: {:.3f}\".format(tree1.score(X_train, Y_train)))\n",
        "print(\"Accuracy on test set: {:.3f}\".format(tree1.score(X_test, Y_test)))"
      ],
      "execution_count": 249,
      "outputs": [
        {
          "output_type": "stream",
          "name": "stdout",
          "text": [
            "Accuracy on training set: 0.849\n",
            "Accuracy on test set: 0.834\n"
          ]
        }
      ]
    },
    {
      "metadata": {
        "id": "yM2faYCKPYlP",
        "colab": {
          "base_uri": "https://localhost:8080/"
        },
        "outputId": "eb23d941-a6a6-462d-cabc-b55d9b445d17"
      },
      "cell_type": "code",
      "source": [
        "from sklearn.tree import DecisionTreeClassifier\n",
        "\n",
        "max_accuracy = 0\n",
        "\n",
        "\n",
        "for x in range(200):\n",
        "    dt = DecisionTreeClassifier(random_state=x)\n",
        "    dt.fit(X_train,Y_train)\n",
        "    Y_pred_dt = dt.predict(X_test)\n",
        "    current_accuracy = round(accuracy_score(Y_pred_dt,Y_test)*100,2)\n",
        "    if(current_accuracy>max_accuracy):\n",
        "        max_accuracy = current_accuracy\n",
        "        best_x = x\n",
        "        \n",
        "print(max_accuracy)\n",
        "print(best_x)\n",
        "\n",
        "\n",
        "dt = DecisionTreeClassifier(random_state=best_x)\n",
        "dt.fit(X_train,Y_train)\n",
        "Y_pred_dt = dt.predict(X_test)"
      ],
      "execution_count": 250,
      "outputs": [
        {
          "output_type": "stream",
          "name": "stdout",
          "text": [
            "100.0\n",
            "0\n"
          ]
        }
      ]
    },
    {
      "metadata": {
        "id": "jgEqnhioPbN7",
        "outputId": "30f5347c-d9e4-4025-a6f4-89117d8089e8",
        "colab": {
          "base_uri": "https://localhost:8080/"
        }
      },
      "cell_type": "code",
      "source": [
        "print(Y_pred_dt.shape)"
      ],
      "execution_count": 251,
      "outputs": [
        {
          "output_type": "stream",
          "name": "stdout",
          "text": [
            "(205,)\n"
          ]
        }
      ]
    },
    {
      "metadata": {
        "id": "kyN7bso79cvL"
      },
      "cell_type": "markdown",
      "source": [
        "### accuracy"
      ]
    },
    {
      "metadata": {
        "id": "3V4aPp_LPdnj",
        "outputId": "ab72268c-d9a7-4a04-c0f6-44e536c5dc0a",
        "colab": {
          "base_uri": "https://localhost:8080/"
        }
      },
      "cell_type": "code",
      "source": [
        "score_dt = round(accuracy_score(Y_pred_dt,Y_test)*100,2)\n",
        "\n",
        "print(\"The accuracy score achieved using Decision Tree is: \"+str(score_dt)+\" %\")"
      ],
      "execution_count": 252,
      "outputs": [
        {
          "output_type": "stream",
          "name": "stdout",
          "text": [
            "The accuracy score achieved using Decision Tree is: 100.0 %\n"
          ]
        }
      ]
    },
    {
      "metadata": {
        "id": "fftdDA5nP1au"
      },
      "cell_type": "markdown",
      "source": [
        "## Confusion Matrix"
      ]
    },
    {
      "metadata": {
        "id": "NrS2eR2XE8iu"
      },
      "cell_type": "code",
      "source": [
        "from sklearn.metrics import confusion_matrix"
      ],
      "execution_count": 253,
      "outputs": []
    },
    {
      "metadata": {
        "id": "vthkpSogE-o2"
      },
      "cell_type": "code",
      "source": [
        "matrix= confusion_matrix(Y_test, Y_pred_dt)"
      ],
      "execution_count": 254,
      "outputs": []
    },
    {
      "metadata": {
        "id": "GEMOk9xdFCFq",
        "colab": {
          "base_uri": "https://localhost:8080/",
          "height": 286
        },
        "outputId": "c8d5620f-2881-4571-bdf3-d16b0bbcbe6d"
      },
      "cell_type": "code",
      "source": [
        "sns.heatmap(matrix,annot = True, fmt = \"d\")"
      ],
      "execution_count": 255,
      "outputs": [
        {
          "output_type": "execute_result",
          "data": {
            "text/plain": [
              "<matplotlib.axes._subplots.AxesSubplot at 0x7f4e415e34d0>"
            ]
          },
          "metadata": {},
          "execution_count": 255
        },
        {
          "output_type": "display_data",
          "data": {
            "text/plain": [
              "<Figure size 432x288 with 2 Axes>"
            ],
            "image/png": "[encoded data removed]"
          },
          "metadata": {
            "needs_background": "light"
          }
        }
      ]
    },
    {
      "metadata": {
        "id": "fCfAMy67FFWL"
      },
      "cell_type": "markdown",
      "source": [
        "# precision score"
      ]
    },
    {
      "metadata": {
        "id": "SGwTwM5TFIKl"
      },
      "cell_type": "code",
      "source": [
        "from sklearn.metrics import precision_score"
      ],
      "execution_count": 256,
      "outputs": []
    },
    {
      "metadata": {
        "id": "6rw05ERpFLgW"
      },
      "cell_type": "code",
      "source": [
        "precision = precision_score(Y_test, Y_pred_dt)"
      ],
      "execution_count": 257,
      "outputs": []
    },
    {
      "metadata": {
        "id": "yOVrwHEcFKfU",
        "colab": {
          "base_uri": "https://localhost:8080/"
        },
        "outputId": "c4296e70-5b21-4d4a-a557-811208d2a55d"
      },
      "cell_type": "code",
      "source": [
        "print(\"Precision: \",precision)"
      ],
      "execution_count": 258,
      "outputs": [
        {
          "output_type": "stream",
          "name": "stdout",
          "text": [
            "Precision:  1.0\n"
          ]
        }
      ]
    },
    {
      "metadata": {
        "id": "TEcKGKlhFRTm"
      },
      "cell_type": "markdown",
      "source": [
        "# recall"
      ]
    },
    {
      "metadata": {
        "id": "VW__KUODFSvv"
      },
      "cell_type": "code",
      "source": [
        "from sklearn.metrics import recall_score"
      ],
      "execution_count": 259,
      "outputs": []
    },
    {
      "metadata": {
        "id": "10IDd-oRFXL6"
      },
      "cell_type": "code",
      "source": [
        "recall = recall_score(Y_test, Y_pred_dt)"
      ],
      "execution_count": 260,
      "outputs": []
    },
    {
      "metadata": {
        "id": "dbNYr_6vFacA",
        "colab": {
          "base_uri": "https://localhost:8080/"
        },
        "outputId": "bb709cc3-7a05-4fc0-ed34-9340d74c0f7a"
      },
      "cell_type": "code",
      "source": [
        "print(\"Recall is: \",recall)"
      ],
      "execution_count": 261,
      "outputs": [
        {
          "output_type": "stream",
          "name": "stdout",
          "text": [
            "Recall is:  1.0\n"
          ]
        }
      ]
    },
    {
      "metadata": {
        "id": "BeTYQ0FZPh0I"
      },
      "cell_type": "markdown",
      "source": [
        "# FINAL SCORE"
      ]
    },
    {
      "metadata": {
        "id": "akYXJZ5MPj8z",
        "outputId": "2a4110e2-1666-4cab-93d1-1b3c9b663888",
        "colab": {
          "base_uri": "https://localhost:8080/"
        }
      },
      "cell_type": "code",
      "source": [
        "scores = [score_lr,score_nb,score_knn,score_dt,score_rf]\n",
        "algorithms = [\"Logistic Regression\",\"Naive Bayes\",\"K-Nearest Neighbors\",\"Decision Tree\",\"Random Forest\"]    \n",
        "\n",
        "for i in range(len(algorithms)):\n",
        "    print(\"The accuracy score achieved using \"+algorithms[i]+\" is: \"+str(scores[i])+\" %\")"
      ],
      "execution_count": 262,
      "outputs": [
        {
          "output_type": "stream",
          "name": "stdout",
          "text": [
            "The accuracy score achieved using Logistic Regression is: 80.49 %\n",
            "The accuracy score achieved using Naive Bayes is: 78.05 %\n",
            "The accuracy score achieved using K-Nearest Neighbors is: 71.22 %\n",
            "The accuracy score achieved using Decision Tree is: 100.0 %\n",
            "The accuracy score achieved using Random Forest is: 100.0 %\n"
          ]
        }
      ]
    },
    {
      "metadata": {
        "id": "fpf1tEKCP1Hp",
        "outputId": "55f14691-5a49-4874-96a9-5030469bb994",
        "colab": {
          "base_uri": "https://localhost:8080/",
          "height": 519
        }
      },
      "cell_type": "code",
      "source": [
        "sns.set(rc={'figure.figsize':(15,8)})\n",
        "plt.xlabel(\"Algorithms\")\n",
        "plt.ylabel(\"Accuracy score\")\n",
        "\n",
        "sns.barplot(algorithms,scores)"
      ],
      "execution_count": 263,
      "outputs": [
        {
          "output_type": "execute_result",
          "data": {
            "text/plain": [
              "<matplotlib.axes._subplots.AxesSubplot at 0x7f4e415966d0>"
            ]
          },
          "metadata": {},
          "execution_count": 263
        },
        {
          "output_type": "display_data",
          "data": {
            "text/plain": [
              "<Figure size 1080x576 with 1 Axes>"
            ],
            "image/png": "[encoded data removed]"
          },
          "metadata": {}
        }
      ]
    },
    {
      "cell_type": "code",
      "source": [
        "input_data = (59,\t1,\t1,\t140,\t221,\t0\t,1\t,164,\t1\t,0.0,\t2,\t0,\t2)\n",
        "\n",
        "#change the input data to numpy array\n",
        "input_data_as_numpy_array = np.asarray(input_data)\n",
        "\n",
        "#reshape the numpy array as we are predicting for only on instance\n",
        "input_data_reshaped = input_data_as_numpy_array.reshape(1,-1)\n",
        "\n",
        "prediction = rf.predict(input_data_reshaped)\n",
        "print(prediction)\n",
        "\n",
        "if (prediction[0]==0):\n",
        "    print('The person does not have a Heart Disease')\n",
        "else:\n",
        "    print('The person has a Heart Disease')"
      ],
      "metadata": {
        "colab": {
          "base_uri": "https://localhost:8080/"
        },
        "id": "idcaAj7fBRrW",
        "outputId": "09626166-8329-4bb9-93b2-a009c13bedbe"
      },
      "execution_count": 264,
      "outputs": [
        {
          "output_type": "stream",
          "name": "stdout",
          "text": [
            "[1]\n",
            "The person has a Heart Disease\n"
          ]
        }
      ]
    }
  ]
}