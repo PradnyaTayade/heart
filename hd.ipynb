{
  "nbformat": 4,
  "nbformat_minor": 0,
  "metadata": {
    "colab": {
      "name": "hd.ipynb",
      "provenance": [],
      "collapsed_sections": [
        "UCW6of9jeOml",
        "hSl7ocqMeq2O",
        "fTOn3hNfgMyQ",
        "-YG3b359CzU0",
        "wDu9AeKMDpn_",
        "zAVj1NRGEpMN",
        "cbVR6_cRFuxO"
      ],
      "include_colab_link": true
    },
    "kernelspec": {
      "name": "python3",
      "display_name": "Python 3"
    },
    "accelerator": "TPU"
  },
  "cells": [
    {
      "cell_type": "markdown",
      "metadata": {
        "id": "view-in-github",
        "colab_type": "text"
      },
      "source": [
        "<a href=\"https://colab.research.google.com/github/PradnyaTayade/heart/blob/main/hd.ipynb\" target=\"_parent\"><img src=\"https://colab.research.google.com/assets/colab-badge.svg\" alt=\"Open In Colab\"/></a>"
      ]
    },
    {
      "metadata": {
        "id": "W8iTXS6XLTuR",
        "outputId": "1e604b87-ff75-4c03-9db0-af2bea36927e",
        "colab": {
          "base_uri": "https://localhost:8080/"
        }
      },
      "cell_type": "code",
      "source": [
        "import numpy as np\n",
        "import pandas as pd\n",
        "import matplotlib.pyplot as plt\n",
        "import seaborn as sns\n",
        "\n",
        "%matplotlib inline\n",
        "\n",
        "import os\n",
        "print(os.listdir())\n",
        "\n",
        "import warnings\n",
        "warnings.filterwarnings('ignore')"
      ],
      "execution_count": 1,
      "outputs": [
        {
          "output_type": "stream",
          "name": "stdout",
          "text": [
            "['.config', 'heartDiseaseAndAges.png', 'heart.csv', 'sample_data']\n"
          ]
        }
      ]
    },
    {
      "metadata": {
        "id": "0zkWHuLILfg1"
      },
      "cell_type": "code",
      "source": [
        "data = pd.read_csv(\"heart.csv\")"
      ],
      "execution_count": 2,
      "outputs": []
    },
    {
      "metadata": {
        "id": "UnTLkWsfLrJ-",
        "outputId": "54799197-2b5a-49b2-aa11-fac1cb05db2b",
        "colab": {
          "base_uri": "https://localhost:8080/"
        }
      },
      "cell_type": "code",
      "source": [
        "type(data)"
      ],
      "execution_count": 3,
      "outputs": [
        {
          "output_type": "execute_result",
          "data": {
            "text/plain": [
              "pandas.core.frame.DataFrame"
            ]
          },
          "metadata": {},
          "execution_count": 3
        }
      ]
    },
    {
      "metadata": {
        "id": "-BsKZUGGLudq",
        "outputId": "6af252c4-6622-413b-9358-c66f2ffd11c0",
        "colab": {
          "base_uri": "https://localhost:8080/"
        }
      },
      "cell_type": "code",
      "source": [
        "data.shape"
      ],
      "execution_count": 4,
      "outputs": [
        {
          "output_type": "execute_result",
          "data": {
            "text/plain": [
              "(1025, 14)"
            ]
          },
          "metadata": {},
          "execution_count": 4
        }
      ]
    },
    {
      "metadata": {
        "id": "1XomwEoZcd7h",
        "outputId": "ba886ea3-0605-4aab-e529-a433296b6459",
        "colab": {
          "base_uri": "https://localhost:8080/",
          "height": 206
        }
      },
      "cell_type": "code",
      "source": [
        "data.head()"
      ],
      "execution_count": 5,
      "outputs": [
        {
          "output_type": "execute_result",
          "data": {
            "text/plain": [
              "   age  sex  cp  trestbps  chol  fbs  restecg  thalach  exang  oldpeak  slope  \\\n",
              "0   52    1   0       125   212    0        1      168      0      1.0      2   \n",
              "1   53    1   0       140   203    1        0      155      1      3.1      0   \n",
              "2   70    1   0       145   174    0        1      125      1      2.6      0   \n",
              "3   61    1   0       148   203    0        1      161      0      0.0      2   \n",
              "4   62    0   0       138   294    1        1      106      0      1.9      1   \n",
              "\n",
              "   ca  thal  target  \n",
              "0   2     3       0  \n",
              "1   0     3       0  \n",
              "2   0     3       0  \n",
              "3   1     3       0  \n",
              "4   3     2       0  "
            ],
            "text/html": [
              "\n",
              "  <div id=\"df-03994c40-3b85-4e6e-99f4-6cd12000edd0\">\n",
              "    <div class=\"colab-df-container\">\n",
              "      <div>\n",
              "<style scoped>\n",
              "    .dataframe tbody tr th:only-of-type {\n",
              "        vertical-align: middle;\n",
              "    }\n",
              "\n",
              "    .dataframe tbody tr th {\n",
              "        vertical-align: top;\n",
              "    }\n",
              "\n",
              "    .dataframe thead th {\n",
              "        text-align: right;\n",
              "    }\n",
              "</style>\n",
              "<table border=\"1\" class=\"dataframe\">\n",
              "  <thead>\n",
              "    <tr style=\"text-align: right;\">\n",
              "      <th></th>\n",
              "      <th>age</th>\n",
              "      <th>sex</th>\n",
              "      <th>cp</th>\n",
              "      <th>trestbps</th>\n",
              "      <th>chol</th>\n",
              "      <th>fbs</th>\n",
              "      <th>restecg</th>\n",
              "      <th>thalach</th>\n",
              "      <th>exang</th>\n",
              "      <th>oldpeak</th>\n",
              "      <th>slope</th>\n",
              "      <th>ca</th>\n",
              "      <th>thal</th>\n",
              "      <th>target</th>\n",
              "    </tr>\n",
              "  </thead>\n",
              "  <tbody>\n",
              "    <tr>\n",
              "      <th>0</th>\n",
              "      <td>52</td>\n",
              "      <td>1</td>\n",
              "      <td>0</td>\n",
              "      <td>125</td>\n",
              "      <td>212</td>\n",
              "      <td>0</td>\n",
              "      <td>1</td>\n",
              "      <td>168</td>\n",
              "      <td>0</td>\n",
              "      <td>1.0</td>\n",
              "      <td>2</td>\n",
              "      <td>2</td>\n",
              "      <td>3</td>\n",
              "      <td>0</td>\n",
              "    </tr>\n",
              "    <tr>\n",
              "      <th>1</th>\n",
              "      <td>53</td>\n",
              "      <td>1</td>\n",
              "      <td>0</td>\n",
              "      <td>140</td>\n",
              "      <td>203</td>\n",
              "      <td>1</td>\n",
              "      <td>0</td>\n",
              "      <td>155</td>\n",
              "      <td>1</td>\n",
              "      <td>3.1</td>\n",
              "      <td>0</td>\n",
              "      <td>0</td>\n",
              "      <td>3</td>\n",
              "      <td>0</td>\n",
              "    </tr>\n",
              "    <tr>\n",
              "      <th>2</th>\n",
              "      <td>70</td>\n",
              "      <td>1</td>\n",
              "      <td>0</td>\n",
              "      <td>145</td>\n",
              "      <td>174</td>\n",
              "      <td>0</td>\n",
              "      <td>1</td>\n",
              "      <td>125</td>\n",
              "      <td>1</td>\n",
              "      <td>2.6</td>\n",
              "      <td>0</td>\n",
              "      <td>0</td>\n",
              "      <td>3</td>\n",
              "      <td>0</td>\n",
              "    </tr>\n",
              "    <tr>\n",
              "      <th>3</th>\n",
              "      <td>61</td>\n",
              "      <td>1</td>\n",
              "      <td>0</td>\n",
              "      <td>148</td>\n",
              "      <td>203</td>\n",
              "      <td>0</td>\n",
              "      <td>1</td>\n",
              "      <td>161</td>\n",
              "      <td>0</td>\n",
              "      <td>0.0</td>\n",
              "      <td>2</td>\n",
              "      <td>1</td>\n",
              "      <td>3</td>\n",
              "      <td>0</td>\n",
              "    </tr>\n",
              "    <tr>\n",
              "      <th>4</th>\n",
              "      <td>62</td>\n",
              "      <td>0</td>\n",
              "      <td>0</td>\n",
              "      <td>138</td>\n",
              "      <td>294</td>\n",
              "      <td>1</td>\n",
              "      <td>1</td>\n",
              "      <td>106</td>\n",
              "      <td>0</td>\n",
              "      <td>1.9</td>\n",
              "      <td>1</td>\n",
              "      <td>3</td>\n",
              "      <td>2</td>\n",
              "      <td>0</td>\n",
              "    </tr>\n",
              "  </tbody>\n",
              "</table>\n",
              "</div>\n",
              "      <button class=\"colab-df-convert\" onclick=\"convertToInteractive('df-03994c40-3b85-4e6e-99f4-6cd12000edd0')\"\n",
              "              title=\"Convert this dataframe to an interactive table.\"\n",
              "              style=\"display:none;\">\n",
              "        \n",
              "  <svg xmlns=\"http://www.w3.org/2000/svg\" height=\"24px\"viewBox=\"0 0 24 24\"\n",
              "       width=\"24px\">\n",
              "    <path d=\"M0 0h24v24H0V0z\" fill=\"none\"/>\n",
              "    <path d=\"M18.56 5.44l.94 2.06.94-2.06 2.06-.94-2.06-.94-.94-2.06-.94 2.06-2.06.94zm-11 1L8.5 8.5l.94-2.06 2.06-.94-2.06-.94L8.5 2.5l-.94 2.06-2.06.94zm10 10l.94 2.06.94-2.06 2.06-.94-2.06-.94-.94-2.06-.94 2.06-2.06.94z\"/><path d=\"M17.41 7.96l-1.37-1.37c-.4-.4-.92-.59-1.43-.59-.52 0-1.04.2-1.43.59L10.3 9.45l-7.72 7.72c-.78.78-.78 2.05 0 2.83L4 21.41c.39.39.9.59 1.41.59.51 0 1.02-.2 1.41-.59l7.78-7.78 2.81-2.81c.8-.78.8-2.07 0-2.86zM5.41 20L4 18.59l7.72-7.72 1.47 1.35L5.41 20z\"/>\n",
              "  </svg>\n",
              "      </button>\n",
              "      \n",
              "  <style>\n",
              "    .colab-df-container {\n",
              "      display:flex;\n",
              "      flex-wrap:wrap;\n",
              "      gap: 12px;\n",
              "    }\n",
              "\n",
              "    .colab-df-convert {\n",
              "      background-color: #E8F0FE;\n",
              "      border: none;\n",
              "      border-radius: 50%;\n",
              "      cursor: pointer;\n",
              "      display: none;\n",
              "      fill: #1967D2;\n",
              "      height: 32px;\n",
              "      padding: 0 0 0 0;\n",
              "      width: 32px;\n",
              "    }\n",
              "\n",
              "    .colab-df-convert:hover {\n",
              "      background-color: #E2EBFA;\n",
              "      box-shadow: 0px 1px 2px rgba(60, 64, 67, 0.3), 0px 1px 3px 1px rgba(60, 64, 67, 0.15);\n",
              "      fill: #174EA6;\n",
              "    }\n",
              "\n",
              "    [theme=dark] .colab-df-convert {\n",
              "      background-color: #3B4455;\n",
              "      fill: #D2E3FC;\n",
              "    }\n",
              "\n",
              "    [theme=dark] .colab-df-convert:hover {\n",
              "      background-color: #434B5C;\n",
              "      box-shadow: 0px 1px 3px 1px rgba(0, 0, 0, 0.15);\n",
              "      filter: drop-shadow(0px 1px 2px rgba(0, 0, 0, 0.3));\n",
              "      fill: #FFFFFF;\n",
              "    }\n",
              "  </style>\n",
              "\n",
              "      <script>\n",
              "        const buttonEl =\n",
              "          document.querySelector('#df-03994c40-3b85-4e6e-99f4-6cd12000edd0 button.colab-df-convert');\n",
              "        buttonEl.style.display =\n",
              "          google.colab.kernel.accessAllowed ? 'block' : 'none';\n",
              "\n",
              "        async function convertToInteractive(key) {\n",
              "          const element = document.querySelector('#df-03994c40-3b85-4e6e-99f4-6cd12000edd0');\n",
              "          const dataTable =\n",
              "            await google.colab.kernel.invokeFunction('convertToInteractive',\n",
              "                                                     [key], {});\n",
              "          if (!dataTable) return;\n",
              "\n",
              "          const docLinkHtml = 'Like what you see? Visit the ' +\n",
              "            '<a target=\"_blank\" href=https://colab.research.google.com/notebooks/data_table.ipynb>data table notebook</a>'\n",
              "            + ' to learn more about interactive tables.';\n",
              "          element.innerHTML = '';\n",
              "          dataTable['output_type'] = 'display_data';\n",
              "          await google.colab.output.renderOutput(dataTable, element);\n",
              "          const docLink = document.createElement('div');\n",
              "          docLink.innerHTML = docLinkHtml;\n",
              "          element.appendChild(docLink);\n",
              "        }\n",
              "      </script>\n",
              "    </div>\n",
              "  </div>\n",
              "  "
            ]
          },
          "metadata": {},
          "execution_count": 5
        }
      ]
    },
    {
      "cell_type": "code",
      "source": [
        "data.tail()"
      ],
      "metadata": {
        "colab": {
          "base_uri": "https://localhost:8080/",
          "height": 206
        },
        "id": "f-W53mUL8iiO",
        "outputId": "76aeadfa-5239-46f6-cd26-311cc9b8a293"
      },
      "execution_count": 6,
      "outputs": [
        {
          "output_type": "execute_result",
          "data": {
            "text/plain": [
              "      age  sex  cp  trestbps  chol  fbs  restecg  thalach  exang  oldpeak  \\\n",
              "1020   59    1   1       140   221    0        1      164      1      0.0   \n",
              "1021   60    1   0       125   258    0        0      141      1      2.8   \n",
              "1022   47    1   0       110   275    0        0      118      1      1.0   \n",
              "1023   50    0   0       110   254    0        0      159      0      0.0   \n",
              "1024   54    1   0       120   188    0        1      113      0      1.4   \n",
              "\n",
              "      slope  ca  thal  target  \n",
              "1020      2   0     2       1  \n",
              "1021      1   1     3       0  \n",
              "1022      1   1     2       0  \n",
              "1023      2   0     2       1  \n",
              "1024      1   1     3       0  "
            ],
            "text/html": [
              "\n",
              "  <div id=\"df-0c96354f-0f45-431e-92df-96f63f469324\">\n",
              "    <div class=\"colab-df-container\">\n",
              "      <div>\n",
              "<style scoped>\n",
              "    .dataframe tbody tr th:only-of-type {\n",
              "        vertical-align: middle;\n",
              "    }\n",
              "\n",
              "    .dataframe tbody tr th {\n",
              "        vertical-align: top;\n",
              "    }\n",
              "\n",
              "    .dataframe thead th {\n",
              "        text-align: right;\n",
              "    }\n",
              "</style>\n",
              "<table border=\"1\" class=\"dataframe\">\n",
              "  <thead>\n",
              "    <tr style=\"text-align: right;\">\n",
              "      <th></th>\n",
              "      <th>age</th>\n",
              "      <th>sex</th>\n",
              "      <th>cp</th>\n",
              "      <th>trestbps</th>\n",
              "      <th>chol</th>\n",
              "      <th>fbs</th>\n",
              "      <th>restecg</th>\n",
              "      <th>thalach</th>\n",
              "      <th>exang</th>\n",
              "      <th>oldpeak</th>\n",
              "      <th>slope</th>\n",
              "      <th>ca</th>\n",
              "      <th>thal</th>\n",
              "      <th>target</th>\n",
              "    </tr>\n",
              "  </thead>\n",
              "  <tbody>\n",
              "    <tr>\n",
              "      <th>1020</th>\n",
              "      <td>59</td>\n",
              "      <td>1</td>\n",
              "      <td>1</td>\n",
              "      <td>140</td>\n",
              "      <td>221</td>\n",
              "      <td>0</td>\n",
              "      <td>1</td>\n",
              "      <td>164</td>\n",
              "      <td>1</td>\n",
              "      <td>0.0</td>\n",
              "      <td>2</td>\n",
              "      <td>0</td>\n",
              "      <td>2</td>\n",
              "      <td>1</td>\n",
              "    </tr>\n",
              "    <tr>\n",
              "      <th>1021</th>\n",
              "      <td>60</td>\n",
              "      <td>1</td>\n",
              "      <td>0</td>\n",
              "      <td>125</td>\n",
              "      <td>258</td>\n",
              "      <td>0</td>\n",
              "      <td>0</td>\n",
              "      <td>141</td>\n",
              "      <td>1</td>\n",
              "      <td>2.8</td>\n",
              "      <td>1</td>\n",
              "      <td>1</td>\n",
              "      <td>3</td>\n",
              "      <td>0</td>\n",
              "    </tr>\n",
              "    <tr>\n",
              "      <th>1022</th>\n",
              "      <td>47</td>\n",
              "      <td>1</td>\n",
              "      <td>0</td>\n",
              "      <td>110</td>\n",
              "      <td>275</td>\n",
              "      <td>0</td>\n",
              "      <td>0</td>\n",
              "      <td>118</td>\n",
              "      <td>1</td>\n",
              "      <td>1.0</td>\n",
              "      <td>1</td>\n",
              "      <td>1</td>\n",
              "      <td>2</td>\n",
              "      <td>0</td>\n",
              "    </tr>\n",
              "    <tr>\n",
              "      <th>1023</th>\n",
              "      <td>50</td>\n",
              "      <td>0</td>\n",
              "      <td>0</td>\n",
              "      <td>110</td>\n",
              "      <td>254</td>\n",
              "      <td>0</td>\n",
              "      <td>0</td>\n",
              "      <td>159</td>\n",
              "      <td>0</td>\n",
              "      <td>0.0</td>\n",
              "      <td>2</td>\n",
              "      <td>0</td>\n",
              "      <td>2</td>\n",
              "      <td>1</td>\n",
              "    </tr>\n",
              "    <tr>\n",
              "      <th>1024</th>\n",
              "      <td>54</td>\n",
              "      <td>1</td>\n",
              "      <td>0</td>\n",
              "      <td>120</td>\n",
              "      <td>188</td>\n",
              "      <td>0</td>\n",
              "      <td>1</td>\n",
              "      <td>113</td>\n",
              "      <td>0</td>\n",
              "      <td>1.4</td>\n",
              "      <td>1</td>\n",
              "      <td>1</td>\n",
              "      <td>3</td>\n",
              "      <td>0</td>\n",
              "    </tr>\n",
              "  </tbody>\n",
              "</table>\n",
              "</div>\n",
              "      <button class=\"colab-df-convert\" onclick=\"convertToInteractive('df-0c96354f-0f45-431e-92df-96f63f469324')\"\n",
              "              title=\"Convert this dataframe to an interactive table.\"\n",
              "              style=\"display:none;\">\n",
              "        \n",
              "  <svg xmlns=\"http://www.w3.org/2000/svg\" height=\"24px\"viewBox=\"0 0 24 24\"\n",
              "       width=\"24px\">\n",
              "    <path d=\"M0 0h24v24H0V0z\" fill=\"none\"/>\n",
              "    <path d=\"M18.56 5.44l.94 2.06.94-2.06 2.06-.94-2.06-.94-.94-2.06-.94 2.06-2.06.94zm-11 1L8.5 8.5l.94-2.06 2.06-.94-2.06-.94L8.5 2.5l-.94 2.06-2.06.94zm10 10l.94 2.06.94-2.06 2.06-.94-2.06-.94-.94-2.06-.94 2.06-2.06.94z\"/><path d=\"M17.41 7.96l-1.37-1.37c-.4-.4-.92-.59-1.43-.59-.52 0-1.04.2-1.43.59L10.3 9.45l-7.72 7.72c-.78.78-.78 2.05 0 2.83L4 21.41c.39.39.9.59 1.41.59.51 0 1.02-.2 1.41-.59l7.78-7.78 2.81-2.81c.8-.78.8-2.07 0-2.86zM5.41 20L4 18.59l7.72-7.72 1.47 1.35L5.41 20z\"/>\n",
              "  </svg>\n",
              "      </button>\n",
              "      \n",
              "  <style>\n",
              "    .colab-df-container {\n",
              "      display:flex;\n",
              "      flex-wrap:wrap;\n",
              "      gap: 12px;\n",
              "    }\n",
              "\n",
              "    .colab-df-convert {\n",
              "      background-color: #E8F0FE;\n",
              "      border: none;\n",
              "      border-radius: 50%;\n",
              "      cursor: pointer;\n",
              "      display: none;\n",
              "      fill: #1967D2;\n",
              "      height: 32px;\n",
              "      padding: 0 0 0 0;\n",
              "      width: 32px;\n",
              "    }\n",
              "\n",
              "    .colab-df-convert:hover {\n",
              "      background-color: #E2EBFA;\n",
              "      box-shadow: 0px 1px 2px rgba(60, 64, 67, 0.3), 0px 1px 3px 1px rgba(60, 64, 67, 0.15);\n",
              "      fill: #174EA6;\n",
              "    }\n",
              "\n",
              "    [theme=dark] .colab-df-convert {\n",
              "      background-color: #3B4455;\n",
              "      fill: #D2E3FC;\n",
              "    }\n",
              "\n",
              "    [theme=dark] .colab-df-convert:hover {\n",
              "      background-color: #434B5C;\n",
              "      box-shadow: 0px 1px 3px 1px rgba(0, 0, 0, 0.15);\n",
              "      filter: drop-shadow(0px 1px 2px rgba(0, 0, 0, 0.3));\n",
              "      fill: #FFFFFF;\n",
              "    }\n",
              "  </style>\n",
              "\n",
              "      <script>\n",
              "        const buttonEl =\n",
              "          document.querySelector('#df-0c96354f-0f45-431e-92df-96f63f469324 button.colab-df-convert');\n",
              "        buttonEl.style.display =\n",
              "          google.colab.kernel.accessAllowed ? 'block' : 'none';\n",
              "\n",
              "        async function convertToInteractive(key) {\n",
              "          const element = document.querySelector('#df-0c96354f-0f45-431e-92df-96f63f469324');\n",
              "          const dataTable =\n",
              "            await google.colab.kernel.invokeFunction('convertToInteractive',\n",
              "                                                     [key], {});\n",
              "          if (!dataTable) return;\n",
              "\n",
              "          const docLinkHtml = 'Like what you see? Visit the ' +\n",
              "            '<a target=\"_blank\" href=https://colab.research.google.com/notebooks/data_table.ipynb>data table notebook</a>'\n",
              "            + ' to learn more about interactive tables.';\n",
              "          element.innerHTML = '';\n",
              "          dataTable['output_type'] = 'display_data';\n",
              "          await google.colab.output.renderOutput(dataTable, element);\n",
              "          const docLink = document.createElement('div');\n",
              "          docLink.innerHTML = docLinkHtml;\n",
              "          element.appendChild(docLink);\n",
              "        }\n",
              "      </script>\n",
              "    </div>\n",
              "  </div>\n",
              "  "
            ]
          },
          "metadata": {},
          "execution_count": 6
        }
      ]
    },
    {
      "metadata": {
        "id": "xSBQP_P8AdVm"
      },
      "cell_type": "markdown",
      "source": [
        "1. age: The person's age in years\n",
        "\n",
        "2. sex: The person's sex (1 = male, 0 = female)\n",
        "\n",
        "3. cp: The chest pain experienced (Value 0: typical angina, Value 1: atypical angina, Value 2: non-anginal pain, Value 3: asymptomatic)\n",
        "\n",
        "4. trestbps: The person's resting blood pressure (mm Hg on admission to the hospital)\n",
        "\n",
        "5. chol: The person's cholesterol measurement in mg/dl\n",
        "\n",
        "6. fbs: The person's fasting blood sugar (> 120 mg/dl, 1 = true; 0 = false)\n",
        "\n",
        "7. restecg: Resting electrocardiographic measurement (0 = normal, 1 = having ST-T wave abnormality, 2 = showing probable or definite left ventricular hypertrophy by Estes' criteria)\n",
        "\n",
        "8. thalach: The person's maximum heart rate achieved during exercise.\n",
        "\n",
        "9. exang: Exercise induced angina (1 = yes; 0 = no)\n",
        "\n",
        "10. oldpeak: ST depression induced by exercise relative to rest ('ST' relates to positions on the ECG plot.)\n",
        "\n",
        "11. slope: the slope of the peak exercise ST segment (Value 1: upsloping, Value 2: flat, Value 3: downsloping)\n",
        "\n",
        "12. ca: The number of major vessels (0-4) The four main coronary arteries are the right coronary artery (RCA), left coronary artery (LCA), left anterior descending artery (LAD) and left circumflex artery.\n",
        "\n",
        "13. thal: A blood disorder called thalassemia (1 = normal; 2 = fixed defect; 3 = reversable defect)\n",
        "\n",
        "14. target: Heart disease (0 = no, 1 = yes)\n",
        "\n",
        "Heart disease risk factors to the following: high cholesterol, high blood pressure, diabetes, weight, family history and smoking . \n",
        "\n",
        "According to another source , the major factors that can't be changed are: increasing age, male gender and heredity. \n",
        "\n",
        "Note that thalassemia, one of the variables in this dataset, is heredity. \n",
        "\n",
        "Major factors that can be modified are: Smoking, high cholesterol, high blood pressure, physical inactivity, and being overweight and having diabetes. \n",
        "\n",
        "Other factors include stress, alcohol and poor diet/nutrition."
      ]
    },
    {
      "metadata": {
        "id": "3uk-b1pycmly",
        "outputId": "6a1ebfa5-fedf-41fc-814d-529f04f17dfd",
        "colab": {
          "base_uri": "https://localhost:8080/",
          "height": 364
        }
      },
      "cell_type": "code",
      "source": [
        "data.describe()"
      ],
      "execution_count": 7,
      "outputs": [
        {
          "output_type": "execute_result",
          "data": {
            "text/plain": [
              "               age          sex           cp     trestbps        chol  \\\n",
              "count  1025.000000  1025.000000  1025.000000  1025.000000  1025.00000   \n",
              "mean     54.434146     0.695610     0.942439   131.611707   246.00000   \n",
              "std       9.072290     0.460373     1.029641    17.516718    51.59251   \n",
              "min      29.000000     0.000000     0.000000    94.000000   126.00000   \n",
              "25%      48.000000     0.000000     0.000000   120.000000   211.00000   \n",
              "50%      56.000000     1.000000     1.000000   130.000000   240.00000   \n",
              "75%      61.000000     1.000000     2.000000   140.000000   275.00000   \n",
              "max      77.000000     1.000000     3.000000   200.000000   564.00000   \n",
              "\n",
              "               fbs      restecg      thalach        exang      oldpeak  \\\n",
              "count  1025.000000  1025.000000  1025.000000  1025.000000  1025.000000   \n",
              "mean      0.149268     0.529756   149.114146     0.336585     1.071512   \n",
              "std       0.356527     0.527878    23.005724     0.472772     1.175053   \n",
              "min       0.000000     0.000000    71.000000     0.000000     0.000000   \n",
              "25%       0.000000     0.000000   132.000000     0.000000     0.000000   \n",
              "50%       0.000000     1.000000   152.000000     0.000000     0.800000   \n",
              "75%       0.000000     1.000000   166.000000     1.000000     1.800000   \n",
              "max       1.000000     2.000000   202.000000     1.000000     6.200000   \n",
              "\n",
              "             slope           ca         thal       target  \n",
              "count  1025.000000  1025.000000  1025.000000  1025.000000  \n",
              "mean      1.385366     0.754146     2.323902     0.513171  \n",
              "std       0.617755     1.030798     0.620660     0.500070  \n",
              "min       0.000000     0.000000     0.000000     0.000000  \n",
              "25%       1.000000     0.000000     2.000000     0.000000  \n",
              "50%       1.000000     0.000000     2.000000     1.000000  \n",
              "75%       2.000000     1.000000     3.000000     1.000000  \n",
              "max       2.000000     4.000000     3.000000     1.000000  "
            ],
            "text/html": [
              "\n",
              "  <div id=\"df-75125b2f-f7a9-414e-a2f1-e564bac67445\">\n",
              "    <div class=\"colab-df-container\">\n",
              "      <div>\n",
              "<style scoped>\n",
              "    .dataframe tbody tr th:only-of-type {\n",
              "        vertical-align: middle;\n",
              "    }\n",
              "\n",
              "    .dataframe tbody tr th {\n",
              "        vertical-align: top;\n",
              "    }\n",
              "\n",
              "    .dataframe thead th {\n",
              "        text-align: right;\n",
              "    }\n",
              "</style>\n",
              "<table border=\"1\" class=\"dataframe\">\n",
              "  <thead>\n",
              "    <tr style=\"text-align: right;\">\n",
              "      <th></th>\n",
              "      <th>age</th>\n",
              "      <th>sex</th>\n",
              "      <th>cp</th>\n",
              "      <th>trestbps</th>\n",
              "      <th>chol</th>\n",
              "      <th>fbs</th>\n",
              "      <th>restecg</th>\n",
              "      <th>thalach</th>\n",
              "      <th>exang</th>\n",
              "      <th>oldpeak</th>\n",
              "      <th>slope</th>\n",
              "      <th>ca</th>\n",
              "      <th>thal</th>\n",
              "      <th>target</th>\n",
              "    </tr>\n",
              "  </thead>\n",
              "  <tbody>\n",
              "    <tr>\n",
              "      <th>count</th>\n",
              "      <td>1025.000000</td>\n",
              "      <td>1025.000000</td>\n",
              "      <td>1025.000000</td>\n",
              "      <td>1025.000000</td>\n",
              "      <td>1025.00000</td>\n",
              "      <td>1025.000000</td>\n",
              "      <td>1025.000000</td>\n",
              "      <td>1025.000000</td>\n",
              "      <td>1025.000000</td>\n",
              "      <td>1025.000000</td>\n",
              "      <td>1025.000000</td>\n",
              "      <td>1025.000000</td>\n",
              "      <td>1025.000000</td>\n",
              "      <td>1025.000000</td>\n",
              "    </tr>\n",
              "    <tr>\n",
              "      <th>mean</th>\n",
              "      <td>54.434146</td>\n",
              "      <td>0.695610</td>\n",
              "      <td>0.942439</td>\n",
              "      <td>131.611707</td>\n",
              "      <td>246.00000</td>\n",
              "      <td>0.149268</td>\n",
              "      <td>0.529756</td>\n",
              "      <td>149.114146</td>\n",
              "      <td>0.336585</td>\n",
              "      <td>1.071512</td>\n",
              "      <td>1.385366</td>\n",
              "      <td>0.754146</td>\n",
              "      <td>2.323902</td>\n",
              "      <td>0.513171</td>\n",
              "    </tr>\n",
              "    <tr>\n",
              "      <th>std</th>\n",
              "      <td>9.072290</td>\n",
              "      <td>0.460373</td>\n",
              "      <td>1.029641</td>\n",
              "      <td>17.516718</td>\n",
              "      <td>51.59251</td>\n",
              "      <td>0.356527</td>\n",
              "      <td>0.527878</td>\n",
              "      <td>23.005724</td>\n",
              "      <td>0.472772</td>\n",
              "      <td>1.175053</td>\n",
              "      <td>0.617755</td>\n",
              "      <td>1.030798</td>\n",
              "      <td>0.620660</td>\n",
              "      <td>0.500070</td>\n",
              "    </tr>\n",
              "    <tr>\n",
              "      <th>min</th>\n",
              "      <td>29.000000</td>\n",
              "      <td>0.000000</td>\n",
              "      <td>0.000000</td>\n",
              "      <td>94.000000</td>\n",
              "      <td>126.00000</td>\n",
              "      <td>0.000000</td>\n",
              "      <td>0.000000</td>\n",
              "      <td>71.000000</td>\n",
              "      <td>0.000000</td>\n",
              "      <td>0.000000</td>\n",
              "      <td>0.000000</td>\n",
              "      <td>0.000000</td>\n",
              "      <td>0.000000</td>\n",
              "      <td>0.000000</td>\n",
              "    </tr>\n",
              "    <tr>\n",
              "      <th>25%</th>\n",
              "      <td>48.000000</td>\n",
              "      <td>0.000000</td>\n",
              "      <td>0.000000</td>\n",
              "      <td>120.000000</td>\n",
              "      <td>211.00000</td>\n",
              "      <td>0.000000</td>\n",
              "      <td>0.000000</td>\n",
              "      <td>132.000000</td>\n",
              "      <td>0.000000</td>\n",
              "      <td>0.000000</td>\n",
              "      <td>1.000000</td>\n",
              "      <td>0.000000</td>\n",
              "      <td>2.000000</td>\n",
              "      <td>0.000000</td>\n",
              "    </tr>\n",
              "    <tr>\n",
              "      <th>50%</th>\n",
              "      <td>56.000000</td>\n",
              "      <td>1.000000</td>\n",
              "      <td>1.000000</td>\n",
              "      <td>130.000000</td>\n",
              "      <td>240.00000</td>\n",
              "      <td>0.000000</td>\n",
              "      <td>1.000000</td>\n",
              "      <td>152.000000</td>\n",
              "      <td>0.000000</td>\n",
              "      <td>0.800000</td>\n",
              "      <td>1.000000</td>\n",
              "      <td>0.000000</td>\n",
              "      <td>2.000000</td>\n",
              "      <td>1.000000</td>\n",
              "    </tr>\n",
              "    <tr>\n",
              "      <th>75%</th>\n",
              "      <td>61.000000</td>\n",
              "      <td>1.000000</td>\n",
              "      <td>2.000000</td>\n",
              "      <td>140.000000</td>\n",
              "      <td>275.00000</td>\n",
              "      <td>0.000000</td>\n",
              "      <td>1.000000</td>\n",
              "      <td>166.000000</td>\n",
              "      <td>1.000000</td>\n",
              "      <td>1.800000</td>\n",
              "      <td>2.000000</td>\n",
              "      <td>1.000000</td>\n",
              "      <td>3.000000</td>\n",
              "      <td>1.000000</td>\n",
              "    </tr>\n",
              "    <tr>\n",
              "      <th>max</th>\n",
              "      <td>77.000000</td>\n",
              "      <td>1.000000</td>\n",
              "      <td>3.000000</td>\n",
              "      <td>200.000000</td>\n",
              "      <td>564.00000</td>\n",
              "      <td>1.000000</td>\n",
              "      <td>2.000000</td>\n",
              "      <td>202.000000</td>\n",
              "      <td>1.000000</td>\n",
              "      <td>6.200000</td>\n",
              "      <td>2.000000</td>\n",
              "      <td>4.000000</td>\n",
              "      <td>3.000000</td>\n",
              "      <td>1.000000</td>\n",
              "    </tr>\n",
              "  </tbody>\n",
              "</table>\n",
              "</div>\n",
              "      <button class=\"colab-df-convert\" onclick=\"convertToInteractive('df-75125b2f-f7a9-414e-a2f1-e564bac67445')\"\n",
              "              title=\"Convert this dataframe to an interactive table.\"\n",
              "              style=\"display:none;\">\n",
              "        \n",
              "  <svg xmlns=\"http://www.w3.org/2000/svg\" height=\"24px\"viewBox=\"0 0 24 24\"\n",
              "       width=\"24px\">\n",
              "    <path d=\"M0 0h24v24H0V0z\" fill=\"none\"/>\n",
              "    <path d=\"M18.56 5.44l.94 2.06.94-2.06 2.06-.94-2.06-.94-.94-2.06-.94 2.06-2.06.94zm-11 1L8.5 8.5l.94-2.06 2.06-.94-2.06-.94L8.5 2.5l-.94 2.06-2.06.94zm10 10l.94 2.06.94-2.06 2.06-.94-2.06-.94-.94-2.06-.94 2.06-2.06.94z\"/><path d=\"M17.41 7.96l-1.37-1.37c-.4-.4-.92-.59-1.43-.59-.52 0-1.04.2-1.43.59L10.3 9.45l-7.72 7.72c-.78.78-.78 2.05 0 2.83L4 21.41c.39.39.9.59 1.41.59.51 0 1.02-.2 1.41-.59l7.78-7.78 2.81-2.81c.8-.78.8-2.07 0-2.86zM5.41 20L4 18.59l7.72-7.72 1.47 1.35L5.41 20z\"/>\n",
              "  </svg>\n",
              "      </button>\n",
              "      \n",
              "  <style>\n",
              "    .colab-df-container {\n",
              "      display:flex;\n",
              "      flex-wrap:wrap;\n",
              "      gap: 12px;\n",
              "    }\n",
              "\n",
              "    .colab-df-convert {\n",
              "      background-color: #E8F0FE;\n",
              "      border: none;\n",
              "      border-radius: 50%;\n",
              "      cursor: pointer;\n",
              "      display: none;\n",
              "      fill: #1967D2;\n",
              "      height: 32px;\n",
              "      padding: 0 0 0 0;\n",
              "      width: 32px;\n",
              "    }\n",
              "\n",
              "    .colab-df-convert:hover {\n",
              "      background-color: #E2EBFA;\n",
              "      box-shadow: 0px 1px 2px rgba(60, 64, 67, 0.3), 0px 1px 3px 1px rgba(60, 64, 67, 0.15);\n",
              "      fill: #174EA6;\n",
              "    }\n",
              "\n",
              "    [theme=dark] .colab-df-convert {\n",
              "      background-color: #3B4455;\n",
              "      fill: #D2E3FC;\n",
              "    }\n",
              "\n",
              "    [theme=dark] .colab-df-convert:hover {\n",
              "      background-color: #434B5C;\n",
              "      box-shadow: 0px 1px 3px 1px rgba(0, 0, 0, 0.15);\n",
              "      filter: drop-shadow(0px 1px 2px rgba(0, 0, 0, 0.3));\n",
              "      fill: #FFFFFF;\n",
              "    }\n",
              "  </style>\n",
              "\n",
              "      <script>\n",
              "        const buttonEl =\n",
              "          document.querySelector('#df-75125b2f-f7a9-414e-a2f1-e564bac67445 button.colab-df-convert');\n",
              "        buttonEl.style.display =\n",
              "          google.colab.kernel.accessAllowed ? 'block' : 'none';\n",
              "\n",
              "        async function convertToInteractive(key) {\n",
              "          const element = document.querySelector('#df-75125b2f-f7a9-414e-a2f1-e564bac67445');\n",
              "          const dataTable =\n",
              "            await google.colab.kernel.invokeFunction('convertToInteractive',\n",
              "                                                     [key], {});\n",
              "          if (!dataTable) return;\n",
              "\n",
              "          const docLinkHtml = 'Like what you see? Visit the ' +\n",
              "            '<a target=\"_blank\" href=https://colab.research.google.com/notebooks/data_table.ipynb>data table notebook</a>'\n",
              "            + ' to learn more about interactive tables.';\n",
              "          element.innerHTML = '';\n",
              "          dataTable['output_type'] = 'display_data';\n",
              "          await google.colab.output.renderOutput(dataTable, element);\n",
              "          const docLink = document.createElement('div');\n",
              "          docLink.innerHTML = docLinkHtml;\n",
              "          element.appendChild(docLink);\n",
              "        }\n",
              "      </script>\n",
              "    </div>\n",
              "  </div>\n",
              "  "
            ]
          },
          "metadata": {},
          "execution_count": 7
        }
      ]
    },
    {
      "metadata": {
        "id": "edurcSVbcq-M",
        "outputId": "9408a4ad-74ec-4fa0-dc55-e612d8eaf93d",
        "colab": {
          "base_uri": "https://localhost:8080/"
        }
      },
      "cell_type": "code",
      "source": [
        "data.info()"
      ],
      "execution_count": 8,
      "outputs": [
        {
          "output_type": "stream",
          "name": "stdout",
          "text": [
            "<class 'pandas.core.frame.DataFrame'>\n",
            "RangeIndex: 1025 entries, 0 to 1024\n",
            "Data columns (total 14 columns):\n",
            " #   Column    Non-Null Count  Dtype  \n",
            "---  ------    --------------  -----  \n",
            " 0   age       1025 non-null   int64  \n",
            " 1   sex       1025 non-null   int64  \n",
            " 2   cp        1025 non-null   int64  \n",
            " 3   trestbps  1025 non-null   int64  \n",
            " 4   chol      1025 non-null   int64  \n",
            " 5   fbs       1025 non-null   int64  \n",
            " 6   restecg   1025 non-null   int64  \n",
            " 7   thalach   1025 non-null   int64  \n",
            " 8   exang     1025 non-null   int64  \n",
            " 9   oldpeak   1025 non-null   float64\n",
            " 10  slope     1025 non-null   int64  \n",
            " 11  ca        1025 non-null   int64  \n",
            " 12  thal      1025 non-null   int64  \n",
            " 13  target    1025 non-null   int64  \n",
            "dtypes: float64(1), int64(13)\n",
            "memory usage: 112.2 KB\n"
          ]
        }
      ]
    },
    {
      "metadata": {
        "id": "nGuJY-jlchCZ",
        "outputId": "e61f5480-efa4-4603-c105-baf8862df519",
        "colab": {
          "base_uri": "https://localhost:8080/",
          "height": 206
        }
      },
      "cell_type": "code",
      "source": [
        "data.sample(5)"
      ],
      "execution_count": 9,
      "outputs": [
        {
          "output_type": "execute_result",
          "data": {
            "text/plain": [
              "     age  sex  cp  trestbps  chol  fbs  restecg  thalach  exang  oldpeak  \\\n",
              "59    57    1   1       154   232    0        0      164      0      0.0   \n",
              "82    46    1   2       150   231    0        1      147      0      3.6   \n",
              "628   69    0   3       140   239    0        1      151      0      1.8   \n",
              "657   39    0   2       138   220    0        1      152      0      0.0   \n",
              "992   50    0   0       110   254    0        0      159      0      0.0   \n",
              "\n",
              "     slope  ca  thal  target  \n",
              "59       2   1     2       0  \n",
              "82       1   0     2       0  \n",
              "628      2   2     2       1  \n",
              "657      1   0     2       1  \n",
              "992      2   0     2       1  "
            ],
            "text/html": [
              "\n",
              "  <div id=\"df-b1ff4162-6160-4335-b539-d169701b116c\">\n",
              "    <div class=\"colab-df-container\">\n",
              "      <div>\n",
              "<style scoped>\n",
              "    .dataframe tbody tr th:only-of-type {\n",
              "        vertical-align: middle;\n",
              "    }\n",
              "\n",
              "    .dataframe tbody tr th {\n",
              "        vertical-align: top;\n",
              "    }\n",
              "\n",
              "    .dataframe thead th {\n",
              "        text-align: right;\n",
              "    }\n",
              "</style>\n",
              "<table border=\"1\" class=\"dataframe\">\n",
              "  <thead>\n",
              "    <tr style=\"text-align: right;\">\n",
              "      <th></th>\n",
              "      <th>age</th>\n",
              "      <th>sex</th>\n",
              "      <th>cp</th>\n",
              "      <th>trestbps</th>\n",
              "      <th>chol</th>\n",
              "      <th>fbs</th>\n",
              "      <th>restecg</th>\n",
              "      <th>thalach</th>\n",
              "      <th>exang</th>\n",
              "      <th>oldpeak</th>\n",
              "      <th>slope</th>\n",
              "      <th>ca</th>\n",
              "      <th>thal</th>\n",
              "      <th>target</th>\n",
              "    </tr>\n",
              "  </thead>\n",
              "  <tbody>\n",
              "    <tr>\n",
              "      <th>59</th>\n",
              "      <td>57</td>\n",
              "      <td>1</td>\n",
              "      <td>1</td>\n",
              "      <td>154</td>\n",
              "      <td>232</td>\n",
              "      <td>0</td>\n",
              "      <td>0</td>\n",
              "      <td>164</td>\n",
              "      <td>0</td>\n",
              "      <td>0.0</td>\n",
              "      <td>2</td>\n",
              "      <td>1</td>\n",
              "      <td>2</td>\n",
              "      <td>0</td>\n",
              "    </tr>\n",
              "    <tr>\n",
              "      <th>82</th>\n",
              "      <td>46</td>\n",
              "      <td>1</td>\n",
              "      <td>2</td>\n",
              "      <td>150</td>\n",
              "      <td>231</td>\n",
              "      <td>0</td>\n",
              "      <td>1</td>\n",
              "      <td>147</td>\n",
              "      <td>0</td>\n",
              "      <td>3.6</td>\n",
              "      <td>1</td>\n",
              "      <td>0</td>\n",
              "      <td>2</td>\n",
              "      <td>0</td>\n",
              "    </tr>\n",
              "    <tr>\n",
              "      <th>628</th>\n",
              "      <td>69</td>\n",
              "      <td>0</td>\n",
              "      <td>3</td>\n",
              "      <td>140</td>\n",
              "      <td>239</td>\n",
              "      <td>0</td>\n",
              "      <td>1</td>\n",
              "      <td>151</td>\n",
              "      <td>0</td>\n",
              "      <td>1.8</td>\n",
              "      <td>2</td>\n",
              "      <td>2</td>\n",
              "      <td>2</td>\n",
              "      <td>1</td>\n",
              "    </tr>\n",
              "    <tr>\n",
              "      <th>657</th>\n",
              "      <td>39</td>\n",
              "      <td>0</td>\n",
              "      <td>2</td>\n",
              "      <td>138</td>\n",
              "      <td>220</td>\n",
              "      <td>0</td>\n",
              "      <td>1</td>\n",
              "      <td>152</td>\n",
              "      <td>0</td>\n",
              "      <td>0.0</td>\n",
              "      <td>1</td>\n",
              "      <td>0</td>\n",
              "      <td>2</td>\n",
              "      <td>1</td>\n",
              "    </tr>\n",
              "    <tr>\n",
              "      <th>992</th>\n",
              "      <td>50</td>\n",
              "      <td>0</td>\n",
              "      <td>0</td>\n",
              "      <td>110</td>\n",
              "      <td>254</td>\n",
              "      <td>0</td>\n",
              "      <td>0</td>\n",
              "      <td>159</td>\n",
              "      <td>0</td>\n",
              "      <td>0.0</td>\n",
              "      <td>2</td>\n",
              "      <td>0</td>\n",
              "      <td>2</td>\n",
              "      <td>1</td>\n",
              "    </tr>\n",
              "  </tbody>\n",
              "</table>\n",
              "</div>\n",
              "      <button class=\"colab-df-convert\" onclick=\"convertToInteractive('df-b1ff4162-6160-4335-b539-d169701b116c')\"\n",
              "              title=\"Convert this dataframe to an interactive table.\"\n",
              "              style=\"display:none;\">\n",
              "        \n",
              "  <svg xmlns=\"http://www.w3.org/2000/svg\" height=\"24px\"viewBox=\"0 0 24 24\"\n",
              "       width=\"24px\">\n",
              "    <path d=\"M0 0h24v24H0V0z\" fill=\"none\"/>\n",
              "    <path d=\"M18.56 5.44l.94 2.06.94-2.06 2.06-.94-2.06-.94-.94-2.06-.94 2.06-2.06.94zm-11 1L8.5 8.5l.94-2.06 2.06-.94-2.06-.94L8.5 2.5l-.94 2.06-2.06.94zm10 10l.94 2.06.94-2.06 2.06-.94-2.06-.94-.94-2.06-.94 2.06-2.06.94z\"/><path d=\"M17.41 7.96l-1.37-1.37c-.4-.4-.92-.59-1.43-.59-.52 0-1.04.2-1.43.59L10.3 9.45l-7.72 7.72c-.78.78-.78 2.05 0 2.83L4 21.41c.39.39.9.59 1.41.59.51 0 1.02-.2 1.41-.59l7.78-7.78 2.81-2.81c.8-.78.8-2.07 0-2.86zM5.41 20L4 18.59l7.72-7.72 1.47 1.35L5.41 20z\"/>\n",
              "  </svg>\n",
              "      </button>\n",
              "      \n",
              "  <style>\n",
              "    .colab-df-container {\n",
              "      display:flex;\n",
              "      flex-wrap:wrap;\n",
              "      gap: 12px;\n",
              "    }\n",
              "\n",
              "    .colab-df-convert {\n",
              "      background-color: #E8F0FE;\n",
              "      border: none;\n",
              "      border-radius: 50%;\n",
              "      cursor: pointer;\n",
              "      display: none;\n",
              "      fill: #1967D2;\n",
              "      height: 32px;\n",
              "      padding: 0 0 0 0;\n",
              "      width: 32px;\n",
              "    }\n",
              "\n",
              "    .colab-df-convert:hover {\n",
              "      background-color: #E2EBFA;\n",
              "      box-shadow: 0px 1px 2px rgba(60, 64, 67, 0.3), 0px 1px 3px 1px rgba(60, 64, 67, 0.15);\n",
              "      fill: #174EA6;\n",
              "    }\n",
              "\n",
              "    [theme=dark] .colab-df-convert {\n",
              "      background-color: #3B4455;\n",
              "      fill: #D2E3FC;\n",
              "    }\n",
              "\n",
              "    [theme=dark] .colab-df-convert:hover {\n",
              "      background-color: #434B5C;\n",
              "      box-shadow: 0px 1px 3px 1px rgba(0, 0, 0, 0.15);\n",
              "      filter: drop-shadow(0px 1px 2px rgba(0, 0, 0, 0.3));\n",
              "      fill: #FFFFFF;\n",
              "    }\n",
              "  </style>\n",
              "\n",
              "      <script>\n",
              "        const buttonEl =\n",
              "          document.querySelector('#df-b1ff4162-6160-4335-b539-d169701b116c button.colab-df-convert');\n",
              "        buttonEl.style.display =\n",
              "          google.colab.kernel.accessAllowed ? 'block' : 'none';\n",
              "\n",
              "        async function convertToInteractive(key) {\n",
              "          const element = document.querySelector('#df-b1ff4162-6160-4335-b539-d169701b116c');\n",
              "          const dataTable =\n",
              "            await google.colab.kernel.invokeFunction('convertToInteractive',\n",
              "                                                     [key], {});\n",
              "          if (!dataTable) return;\n",
              "\n",
              "          const docLinkHtml = 'Like what you see? Visit the ' +\n",
              "            '<a target=\"_blank\" href=https://colab.research.google.com/notebooks/data_table.ipynb>data table notebook</a>'\n",
              "            + ' to learn more about interactive tables.';\n",
              "          element.innerHTML = '';\n",
              "          dataTable['output_type'] = 'display_data';\n",
              "          await google.colab.output.renderOutput(dataTable, element);\n",
              "          const docLink = document.createElement('div');\n",
              "          docLink.innerHTML = docLinkHtml;\n",
              "          element.appendChild(docLink);\n",
              "        }\n",
              "      </script>\n",
              "    </div>\n",
              "  </div>\n",
              "  "
            ]
          },
          "metadata": {},
          "execution_count": 9
        }
      ]
    },
    {
      "metadata": {
        "id": "FMZFX88kTSmA",
        "outputId": "582c2342-173e-4bc3-a09e-48125ca4fd07",
        "colab": {
          "base_uri": "https://localhost:8080/"
        }
      },
      "cell_type": "code",
      "source": [
        "data.isnull().sum()"
      ],
      "execution_count": 10,
      "outputs": [
        {
          "output_type": "execute_result",
          "data": {
            "text/plain": [
              "age         0\n",
              "sex         0\n",
              "cp          0\n",
              "trestbps    0\n",
              "chol        0\n",
              "fbs         0\n",
              "restecg     0\n",
              "thalach     0\n",
              "exang       0\n",
              "oldpeak     0\n",
              "slope       0\n",
              "ca          0\n",
              "thal        0\n",
              "target      0\n",
              "dtype: int64"
            ]
          },
          "metadata": {},
          "execution_count": 10
        }
      ]
    },
    {
      "metadata": {
        "id": "1cDJkmBETXNd",
        "outputId": "44a39470-d838-4d1a-8166-afbb75a613ff",
        "colab": {
          "base_uri": "https://localhost:8080/"
        }
      },
      "cell_type": "code",
      "source": [
        "data.isnull().sum().sum()"
      ],
      "execution_count": 11,
      "outputs": [
        {
          "output_type": "execute_result",
          "data": {
            "text/plain": [
              "0"
            ]
          },
          "metadata": {},
          "execution_count": 11
        }
      ]
    },
    {
      "metadata": {
        "id": "Fuz6Hb6FcwSb"
      },
      "cell_type": "markdown",
      "source": [
        "###So, we have no missing values"
      ]
    },
    {
      "metadata": {
        "outputId": "29634653-6186-48e2-800a-16672c1b533b",
        "id": "Gul7tFpt6BjO",
        "colab": {
          "base_uri": "https://localhost:8080/"
        }
      },
      "cell_type": "code",
      "source": [
        "print(data.corr()[\"target\"].abs().sort_values(ascending=False))"
      ],
      "execution_count": 12,
      "outputs": [
        {
          "output_type": "stream",
          "name": "stdout",
          "text": [
            "target      1.000000\n",
            "oldpeak     0.438441\n",
            "exang       0.438029\n",
            "cp          0.434854\n",
            "thalach     0.422895\n",
            "ca          0.382085\n",
            "slope       0.345512\n",
            "thal        0.337838\n",
            "sex         0.279501\n",
            "age         0.229324\n",
            "trestbps    0.138772\n",
            "restecg     0.134468\n",
            "chol        0.099966\n",
            "fbs         0.041164\n",
            "Name: target, dtype: float64\n"
          ]
        }
      ]
    },
    {
      "metadata": {
        "id": "f2McI10ML7ai"
      },
      "cell_type": "markdown",
      "source": [
        "### This shows that most columns are moderately correlated with target, but 'fbs' is very weakly correlated."
      ]
    },
    {
      "metadata": {
        "id": "Gs9wS_M1MDor"
      },
      "cell_type": "markdown",
      "source": [
        "# Exploratory Data Analysis (EDA)"
      ]
    },
    {
      "metadata": {
        "id": "LYrn0_v6MCua",
        "outputId": "6480268c-9e79-43f9-ef48-dc2c8eb22fe0",
        "colab": {
          "base_uri": "https://localhost:8080/",
          "height": 331
        }
      },
      "cell_type": "code",
      "source": [
        "y = data[\"target\"]\n",
        "\n",
        "sns.countplot(y)\n",
        "\n",
        "target_temp = data.target.value_counts()\n",
        "\n",
        "print(target_temp)"
      ],
      "execution_count": 13,
      "outputs": [
        {
          "output_type": "stream",
          "name": "stdout",
          "text": [
            "1    526\n",
            "0    499\n",
            "Name: target, dtype: int64\n"
          ]
        },
        {
          "output_type": "display_data",
          "data": {
            "text/plain": [
              "<Figure size 432x288 with 1 Axes>"
            ],
            "image/png": "[encoded data removed]"
          },
          "metadata": {
            "needs_background": "light"
          }
        }
      ]
    },
    {
      "metadata": {
        "id": "h52xaaboCayH"
      },
      "cell_type": "markdown",
      "source": [
        "# Percentage of patient with or without heart problems in the given dataset"
      ]
    },
    {
      "metadata": {
        "id": "LeamFmYQMS62",
        "outputId": "b6280d27-7f4c-45df-cc35-4c22e1384427",
        "colab": {
          "base_uri": "https://localhost:8080/"
        }
      },
      "cell_type": "code",
      "source": [
        "print(\"Percentage of patience without heart problems: \"+str(round(target_temp[0]*100/1025,2)))\n",
        "print(\"Percentage of patience with heart problems: \"+str(round(target_temp[1]*100/1025,2)))"
      ],
      "execution_count": 14,
      "outputs": [
        {
          "output_type": "stream",
          "name": "stdout",
          "text": [
            "Percentage of patience without heart problems: 48.68\n",
            "Percentage of patience with heart problems: 51.32\n"
          ]
        }
      ]
    },
    {
      "metadata": {
        "id": "xWPS2GN_MWSf",
        "outputId": "95f4f3d4-62e0-408b-ab00-3b3177bf1e87",
        "colab": {
          "base_uri": "https://localhost:8080/"
        }
      },
      "cell_type": "code",
      "source": [
        "data[\"sex\"].unique()"
      ],
      "execution_count": 15,
      "outputs": [
        {
          "output_type": "execute_result",
          "data": {
            "text/plain": [
              "array([1, 0])"
            ]
          },
          "metadata": {},
          "execution_count": 15
        }
      ]
    },
    {
      "metadata": {
        "id": "VNE_24MEMZyd",
        "outputId": "04fc5677-89c4-42f9-de9e-bde28a4f0fd3",
        "colab": {
          "base_uri": "https://localhost:8080/",
          "height": 298
        }
      },
      "cell_type": "code",
      "source": [
        "sns.barplot(data[\"sex\"],y)"
      ],
      "execution_count": 16,
      "outputs": [
        {
          "output_type": "execute_result",
          "data": {
            "text/plain": [
              "<matplotlib.axes._subplots.AxesSubplot at 0x7f4e469edd50>"
            ]
          },
          "metadata": {},
          "execution_count": 16
        },
        {
          "output_type": "display_data",
          "data": {
            "text/plain": [
              "<Figure size 432x288 with 1 Axes>"
            ],
            "image/png": "[encoded data removed]"
          },
          "metadata": {
            "needs_background": "light"
          }
        }
      ]
    },
    {
      "metadata": {
        "id": "eCiVyyhcCxZ9"
      },
      "cell_type": "markdown",
      "source": [
        "### Here 0 is female and 1 is male patients"
      ]
    },
    {
      "metadata": {
        "id": "9r4vNghMatAa",
        "outputId": "9c9ad794-ad48-4ef1-9339-9314e78469e0",
        "colab": {
          "base_uri": "https://localhost:8080/"
        }
      },
      "cell_type": "code",
      "source": [
        "countFemale = len(data[data.sex == 0])\n",
        "countMale = len(data[data.sex == 1])\n",
        "print(\"Percentage of Female Patients:{:.2f}%\".format((countFemale)/(len(data.sex))*100))\n",
        "print(\"Percentage of Male Patients:{:.2f}%\".format((countMale)/(len(data.sex))*100))"
      ],
      "execution_count": 17,
      "outputs": [
        {
          "output_type": "stream",
          "name": "stdout",
          "text": [
            "Percentage of Female Patients:30.44%\n",
            "Percentage of Male Patients:69.56%\n"
          ]
        }
      ]
    },
    {
      "metadata": {
        "id": "Bj1ocarrDBND"
      },
      "cell_type": "markdown",
      "source": [
        "# Heart Disease Frequency for ages"
      ]
    },
    {
      "metadata": {
        "id": "ccz2s1zEazCH",
        "outputId": "80fd5941-bd94-469b-f382-a1390ae418ac",
        "colab": {
          "base_uri": "https://localhost:8080/",
          "height": 390
        }
      },
      "cell_type": "code",
      "source": [
        "pd.crosstab(data.age,data.target).plot(kind=\"bar\",figsize=(20,6))\n",
        "plt.title('Heart Disease Frequency for Ages')\n",
        "plt.xlabel('Age')\n",
        "plt.ylabel('Frequency')\n",
        "plt.savefig('heartDiseaseAndAges.png')\n",
        "plt.show()"
      ],
      "execution_count": 18,
      "outputs": [
        {
          "output_type": "display_data",
          "data": {
            "text/plain": [
              "<Figure size 1440x432 with 1 Axes>"
            ],
            "image/png": "[encoded data removed]"
          },
          "metadata": {
            "needs_background": "light"
          }
        }
      ]
    },
    {
      "metadata": {
        "id": "PBvtRjiHDHMs"
      },
      "cell_type": "markdown",
      "source": [
        "# Heart Disease frequency for sex (where 0 is female and 1 is male and \"red\" is have heart disease and \"blue\" is don't have heart disease)"
      ]
    },
    {
      "metadata": {
        "id": "t5eR4CWoa6US",
        "outputId": "8cc2f21b-f1e2-4fe9-e34c-2fcfa10a5a1e",
        "colab": {
          "base_uri": "https://localhost:8080/",
          "height": 592
        }
      },
      "cell_type": "code",
      "source": [
        "pd.crosstab(data.sex,data.target).plot(kind=\"bar\",figsize=(20,10),color=['blue','#AA1111' ])\n",
        "plt.title('Heart Disease Frequency for Sex')\n",
        "plt.xlabel('Sex (0 = Female, 1 = Male)')\n",
        "plt.xticks(rotation=0)\n",
        "plt.legend([\"Don't have Disease\", \"Have Disease\"])\n",
        "plt.ylabel('Frequency')\n",
        "plt.show()"
      ],
      "execution_count": 19,
      "outputs": [
        {
          "output_type": "display_data",
          "data": {
            "text/plain": [
              "<Figure size 1440x720 with 1 Axes>"
            ],
            "image/png": "[encoded data removed]"
          },
          "metadata": {
            "needs_background": "light"
          }
        }
      ]
    },
    {
      "metadata": {
        "id": "u9c5cXJnbXMc"
      },
      "cell_type": "code",
      "source": [
        "data.columns = ['age', 'sex', 'chest_pain_type', 'resting_blood_pressure', 'cholesterol', 'fasting_blood_sugar', 'rest_ecg', 'max_heart_rate_achieved',\n",
        "       'exercise_induced_angina', 'st_depression', 'st_slope', 'num_major_vessels', 'thalassemia', 'target']"
      ],
      "execution_count": 20,
      "outputs": []
    },
    {
      "metadata": {
        "id": "bDpCbRPVDmtz"
      },
      "cell_type": "markdown",
      "source": [
        "# Heart disease according to Fasting Blood sugar "
      ]
    },
    {
      "metadata": {
        "id": "8cP_g8Qka848",
        "outputId": "2386cf9a-03ca-4e6a-caff-00088a1f447b",
        "colab": {
          "base_uri": "https://localhost:8080/",
          "height": 589
        }
      },
      "cell_type": "code",
      "source": [
        "pd.crosstab(data.fasting_blood_sugar,data.target).plot(kind=\"bar\",figsize=(20,10),color=['#4286f4','#f49242'])\n",
        "plt.title(\"Heart disease according to FBS\")\n",
        "plt.xlabel('FBS- (Fasting Blood Sugar > 120 mg/dl) (1 = true; 0 = false)')\n",
        "plt.xticks(rotation=90)\n",
        "plt.legend([\"Don't Have Disease\", \"Have Disease\"])\n",
        "plt.ylabel('Disease or not')\n",
        "plt.show()"
      ],
      "execution_count": 21,
      "outputs": [
        {
          "output_type": "display_data",
          "data": {
            "text/plain": [
              "<Figure size 1440x720 with 1 Axes>"
            ],
            "image/png": "[encoded data removed]"
          },
          "metadata": {
            "needs_background": "light"
          }
        }
      ]
    },
    {
      "metadata": {
        "id": "ikTe2mI9dAte"
      },
      "cell_type": "markdown",
      "source": [
        "# Analysing the chest pain (4 types of chest pain)\n",
        "\n",
        "#[Value 0: typical angina, Value 1: atypical angina, Value 2: non-anginal pain, Value 3: asymptomatic]"
      ]
    },
    {
      "metadata": {
        "id": "tgt8okDpc_Ff",
        "outputId": "4ab6d015-5743-49a6-8cb5-d86a4be58ec7",
        "colab": {
          "base_uri": "https://localhost:8080/"
        }
      },
      "cell_type": "code",
      "source": [
        "data[\"chest_pain_type\"].unique()"
      ],
      "execution_count": 22,
      "outputs": [
        {
          "output_type": "execute_result",
          "data": {
            "text/plain": [
              "array([0, 1, 2, 3])"
            ]
          },
          "metadata": {},
          "execution_count": 22
        }
      ]
    },
    {
      "metadata": {
        "id": "mS8B6CzIdNUE",
        "outputId": "8a15d21b-b6c6-470f-ee6e-7d275d32bb2f",
        "colab": {
          "base_uri": "https://localhost:8080/",
          "height": 471
        }
      },
      "cell_type": "code",
      "source": [
        "plt.figure(figsize=(26, 10))\n",
        "sns.barplot(data[\"chest_pain_type\"],y)"
      ],
      "execution_count": 23,
      "outputs": [
        {
          "output_type": "execute_result",
          "data": {
            "text/plain": [
              "<matplotlib.axes._subplots.AxesSubplot at 0x7f4e4628d790>"
            ]
          },
          "metadata": {},
          "execution_count": 23
        },
        {
          "output_type": "display_data",
          "data": {
            "text/plain": [
              "<Figure size 1872x720 with 1 Axes>"
            ],
            "image/png": "[encoded data removed]"
          },
          "metadata": {
            "needs_background": "light"
          }
        }
      ]
    },
    {
      "metadata": {
        "id": "MRMQY8U-d27T"
      },
      "cell_type": "markdown",
      "source": [
        "# Analysing the Resting electrocardiographic measurement (0 = normal, 1 = having ST-T wave abnormality, 2 = showing probable or definite left ventricular hypertrophy by Estes' criteria)"
      ]
    },
    {
      "metadata": {
        "id": "GJGIeio6d3UT",
        "outputId": "83d9ff97-e007-4fbf-c6d2-8827a0b0f676",
        "colab": {
          "base_uri": "https://localhost:8080/"
        }
      },
      "cell_type": "code",
      "source": [
        "data[\"rest_ecg\"].unique()"
      ],
      "execution_count": 24,
      "outputs": [
        {
          "output_type": "execute_result",
          "data": {
            "text/plain": [
              "array([1, 0, 2])"
            ]
          },
          "metadata": {},
          "execution_count": 24
        }
      ]
    },
    {
      "metadata": {
        "id": "tBI2Wtq8eJFI",
        "outputId": "0baf92a1-c820-45b0-839b-1e5ed1cab666",
        "colab": {
          "base_uri": "https://localhost:8080/",
          "height": 673
        }
      },
      "cell_type": "code",
      "source": [
        "plt.figure(figsize=(26, 15))\n",
        "sns.barplot(data[\"rest_ecg\"],y)"
      ],
      "execution_count": 25,
      "outputs": [
        {
          "output_type": "execute_result",
          "data": {
            "text/plain": [
              "<matplotlib.axes._subplots.AxesSubplot at 0x7f4e56355e90>"
            ]
          },
          "metadata": {},
          "execution_count": 25
        },
        {
          "output_type": "display_data",
          "data": {
            "text/plain": [
              "<Figure size 1872x1080 with 1 Axes>"
            ],
            "image/png": "[encoded data removed]"
          },
          "metadata": {
            "needs_background": "light"
          }
        }
      ]
    },
    {
      "metadata": {
        "id": "UCW6of9jeOml"
      },
      "cell_type": "markdown",
      "source": [
        "## people with restecg '1' and '2' are much more likely to have a heart disease than with restecg '0'"
      ]
    },
    {
      "metadata": {
        "id": "VtKOlsyoeTRo"
      },
      "cell_type": "markdown",
      "source": [
        "#Analysing Exercise induced angina (1 = yes; 0 = no)"
      ]
    },
    {
      "metadata": {
        "id": "MPzknv7Qefbu",
        "outputId": "cb02641f-4efe-4093-c89d-560ce2b469bc",
        "colab": {
          "base_uri": "https://localhost:8080/"
        }
      },
      "cell_type": "code",
      "source": [
        "data[\"exercise_induced_angina\"].unique()"
      ],
      "execution_count": 26,
      "outputs": [
        {
          "output_type": "execute_result",
          "data": {
            "text/plain": [
              "array([0, 1])"
            ]
          },
          "metadata": {},
          "execution_count": 26
        }
      ]
    },
    {
      "metadata": {
        "id": "Xt7b6bS7ekM9",
        "outputId": "fe7e6315-5a8b-47bf-87dc-ffa178ec9765",
        "colab": {
          "base_uri": "https://localhost:8080/",
          "height": 623
        }
      },
      "cell_type": "code",
      "source": [
        "plt.figure(figsize=(10, 10))\n",
        "sns.barplot(data[\"exercise_induced_angina\"],y)"
      ],
      "execution_count": 27,
      "outputs": [
        {
          "output_type": "execute_result",
          "data": {
            "text/plain": [
              "<matplotlib.axes._subplots.AxesSubplot at 0x7f4e461882d0>"
            ]
          },
          "metadata": {},
          "execution_count": 27
        },
        {
          "output_type": "display_data",
          "data": {
            "text/plain": [
              "<Figure size 720x720 with 1 Axes>"
            ],
            "image/png": "[encoded data removed]"
          },
          "metadata": {
            "needs_background": "light"
          }
        }
      ]
    },
    {
      "metadata": {
        "id": "5HRmFYGceuDI"
      },
      "cell_type": "markdown",
      "source": [
        "# Analysing the slope of the peak exercise ST segment (Value 1: upsloping, Value 2: flat, Value 3: downsloping)"
      ]
    },
    {
      "metadata": {
        "id": "utNmGzDBe76D",
        "outputId": "c43bce46-96d8-4f01-b646-50ba16a15e9b",
        "colab": {
          "base_uri": "https://localhost:8080/"
        }
      },
      "cell_type": "code",
      "source": [
        "data[\"st_slope\"].unique()"
      ],
      "execution_count": 28,
      "outputs": [
        {
          "output_type": "execute_result",
          "data": {
            "text/plain": [
              "array([2, 0, 1])"
            ]
          },
          "metadata": {},
          "execution_count": 28
        }
      ]
    },
    {
      "metadata": {
        "id": "jucFoDt_fbmX",
        "outputId": "f94f22d5-4651-4d6b-e396-0e4c94c05fec",
        "colab": {
          "base_uri": "https://localhost:8080/",
          "height": 490
        }
      },
      "cell_type": "code",
      "source": [
        "plt.figure(figsize=(25, 10))\n",
        "sns.barplot(data[\"st_slope\"],y)"
      ],
      "execution_count": 29,
      "outputs": [
        {
          "output_type": "execute_result",
          "data": {
            "text/plain": [
              "<matplotlib.axes._subplots.AxesSubplot at 0x7f4e461acf50>"
            ]
          },
          "metadata": {},
          "execution_count": 29
        },
        {
          "output_type": "display_data",
          "data": {
            "text/plain": [
              "<Figure size 1800x720 with 1 Axes>"
            ],
            "image/png": "[encoded data removed]"
          },
          "metadata": {
            "needs_background": "light"
          }
        }
      ]
    },
    {
      "metadata": {
        "id": "thE_qJK5fh0N"
      },
      "cell_type": "markdown",
      "source": [
        "Slope '2' causes heart pain much more than Slope '0' and '1'"
      ]
    },
    {
      "metadata": {
        "id": "JToS14-dfkRZ"
      },
      "cell_type": "markdown",
      "source": [
        "# Analysing number of major vessels (0-4) colored by flourosopy"
      ]
    },
    {
      "metadata": {
        "id": "kWtpfn-nfxMt",
        "outputId": "92643031-ec2c-400a-d6da-870eb2cdad05",
        "colab": {
          "base_uri": "https://localhost:8080/"
        }
      },
      "cell_type": "code",
      "source": [
        "data[\"num_major_vessels\"].unique()"
      ],
      "execution_count": 30,
      "outputs": [
        {
          "output_type": "execute_result",
          "data": {
            "text/plain": [
              "array([2, 0, 1, 3, 4])"
            ]
          },
          "metadata": {},
          "execution_count": 30
        }
      ]
    },
    {
      "cell_type": "markdown",
      "source": [
        "#Major blood vessesls connect to heart are aorta,superior venacava,inferior vencava,pulmonary artery, pulmonary veins."
      ],
      "metadata": {
        "id": "NfE2D68NiJo5"
      }
    },
    {
      "metadata": {
        "id": "Aa0UwtIhHBGC"
      },
      "cell_type": "markdown",
      "source": [
        "### count num_major vessels"
      ]
    },
    {
      "metadata": {
        "id": "suhK9Ocjf7Z9",
        "outputId": "7c3cf7d9-64e9-4c90-d6ad-5b63b9476ff8",
        "colab": {
          "base_uri": "https://localhost:8080/",
          "height": 299
        }
      },
      "cell_type": "code",
      "source": [
        "sns.countplot(data[\"num_major_vessels\"])"
      ],
      "execution_count": 31,
      "outputs": [
        {
          "output_type": "execute_result",
          "data": {
            "text/plain": [
              "<matplotlib.axes._subplots.AxesSubplot at 0x7f4e46089890>"
            ]
          },
          "metadata": {},
          "execution_count": 31
        },
        {
          "output_type": "display_data",
          "data": {
            "text/plain": [
              "<Figure size 432x288 with 1 Axes>"
            ],
            "image/png": "[encoded data removed]"
          },
          "metadata": {
            "needs_background": "light"
          }
        }
      ]
    },
    {
      "metadata": {
        "id": "eOa5rLT2Mh99"
      },
      "cell_type": "markdown",
      "source": [
        "# Splitting the dataset to Train and Test"
      ]
    },
    {
      "metadata": {
        "id": "V7iKKDPiMk0N",
        "outputId": "1450d9ff-5ff0-4841-dff8-449f67109de5",
        "colab": {
          "base_uri": "https://localhost:8080/"
        }
      },
      "cell_type": "code",
      "source": [
        "from sklearn.model_selection import train_test_split\n",
        "\n",
        "predictors = data.drop(\"target\",axis=1)\n",
        "target = data[\"target\"]\n",
        "\n",
        "X_train,X_test,Y_train,Y_test = train_test_split(predictors,target,test_size=0.20,random_state=0)\n",
        "print(\"Training features have {0} records and Testing features have {1} records.\".\\\n",
        "      format(X_train.shape[0], X_test.shape[0]))"
      ],
      "execution_count": 32,
      "outputs": [
        {
          "output_type": "stream",
          "name": "stdout",
          "text": [
            "Training features have 820 records and Testing features have 205 records.\n"
          ]
        }
      ]
    },
    {
      "metadata": {
        "id": "7YwomHgBMtZt",
        "outputId": "65bb8077-4329-44a5-dec5-4ac638c83f6a",
        "colab": {
          "base_uri": "https://localhost:8080/"
        }
      },
      "cell_type": "code",
      "source": [
        "X_train.shape"
      ],
      "execution_count": 33,
      "outputs": [
        {
          "output_type": "execute_result",
          "data": {
            "text/plain": [
              "(820, 13)"
            ]
          },
          "metadata": {},
          "execution_count": 33
        }
      ]
    },
    {
      "metadata": {
        "id": "cR7VVOQUMyck",
        "outputId": "575d1f97-7766-4090-9bca-8ea7684b3f06",
        "colab": {
          "base_uri": "https://localhost:8080/"
        }
      },
      "cell_type": "code",
      "source": [
        "X_test.shape"
      ],
      "execution_count": 34,
      "outputs": [
        {
          "output_type": "execute_result",
          "data": {
            "text/plain": [
              "(205, 13)"
            ]
          },
          "metadata": {},
          "execution_count": 34
        }
      ]
    },
    {
      "metadata": {
        "id": "jkMdNviWM1Mx",
        "outputId": "a4ea0109-5f05-4293-9a3f-4adb719e3359",
        "colab": {
          "base_uri": "https://localhost:8080/"
        }
      },
      "cell_type": "code",
      "source": [
        "Y_train.shape"
      ],
      "execution_count": 35,
      "outputs": [
        {
          "output_type": "execute_result",
          "data": {
            "text/plain": [
              "(820,)"
            ]
          },
          "metadata": {},
          "execution_count": 35
        }
      ]
    },
    {
      "metadata": {
        "id": "w4AmfZuKM6ZL",
        "outputId": "7f73dd5a-25e4-4737-cc95-1e1b58ed6128",
        "colab": {
          "base_uri": "https://localhost:8080/"
        }
      },
      "cell_type": "code",
      "source": [
        "Y_test.shape"
      ],
      "execution_count": 36,
      "outputs": [
        {
          "output_type": "execute_result",
          "data": {
            "text/plain": [
              "(205,)"
            ]
          },
          "metadata": {},
          "execution_count": 36
        }
      ]
    },
    {
      "metadata": {
        "id": "i7W7vtpQM-c-"
      },
      "cell_type": "markdown",
      "source": [
        "## importing Accuracy score"
      ]
    },
    {
      "metadata": {
        "id": "KosuqmCiNBmI"
      },
      "cell_type": "code",
      "source": [
        "from sklearn.metrics import accuracy_score"
      ],
      "execution_count": 37,
      "outputs": []
    },
    {
      "metadata": {
        "id": "KsVRQL0zNEJg"
      },
      "cell_type": "markdown",
      "source": [
        "# Logistic regression"
      ]
    },
    {
      "metadata": {
        "id": "L4iBcqEp6bBz",
        "outputId": "118251fc-25be-473f-da23-1c14c098d5ef",
        "colab": {
          "base_uri": "https://localhost:8080/"
        }
      },
      "cell_type": "code",
      "source": [
        "from sklearn.linear_model import LogisticRegression\n",
        "logreg = LogisticRegression().fit(X_train, Y_train)\n",
        "print(\"Training set score: {:.3f}\".format(logreg.score(X_train, Y_train)))\n",
        "print(\"Test set score: {:.3f}\".format(logreg.score(X_test, Y_test)))"
      ],
      "execution_count": 38,
      "outputs": [
        {
          "output_type": "stream",
          "name": "stdout",
          "text": [
            "Training set score: 0.862\n",
            "Test set score: 0.863\n"
          ]
        }
      ]
    },
    {
      "metadata": {
        "id": "6vsnDoxqNInB",
        "outputId": "e768f95b-67cc-4dcc-a07b-8f137f51e7c1",
        "colab": {
          "base_uri": "https://localhost:8080/"
        }
      },
      "cell_type": "code",
      "source": [
        "from sklearn.linear_model import LogisticRegression\n",
        "\n",
        "lr = LogisticRegression()\n",
        "\n",
        "lr.fit(X_train,Y_train)"
      ],
      "execution_count": 39,
      "outputs": [
        {
          "output_type": "execute_result",
          "data": {
            "text/plain": [
              "LogisticRegression()"
            ]
          },
          "metadata": {},
          "execution_count": 39
        }
      ]
    },
    {
      "cell_type": "markdown",
      "source": [
        "#Threshold value"
      ],
      "metadata": {
        "id": "sJcouSSJFMLk"
      }
    },
    {
      "cell_type": "code",
      "source": [
        "from sklearn.metrics import balanced_accuracy_score\n",
        "from sklearn.metrics import accuracy_score"
      ],
      "metadata": {
        "id": "Bje8MD2JFOuw"
      },
      "execution_count": 40,
      "outputs": []
    },
    {
      "cell_type": "code",
      "source": [
        "threshold = []\n",
        "accuracy = []\n",
        "\n",
        "for p in np.unique(lr.predict_proba(X_train)[:,1]):\n",
        "  threshold.append(p)\n",
        "  y_pred = (lr.predict_proba(X_train)[:,1] >= p).astype(int)\n",
        "  accuracy.append(balanced_accuracy_score(Y_train,y_pred))"
      ],
      "metadata": {
        "id": "WH65bhDJF4-a"
      },
      "execution_count": 41,
      "outputs": []
    },
    {
      "cell_type": "code",
      "source": [
        "plt.scatter(threshold,accuracy)\n",
        "plt.xlabel(\"Threshold\")\n",
        "plt.ylabel(\"Balanced accuracy\")\n",
        "plt.show()"
      ],
      "metadata": {
        "id": "oXQa2RbHGTXl",
        "outputId": "231a6f39-5f71-4e89-ab0d-964e207ecf2b",
        "colab": {
          "base_uri": "https://localhost:8080/",
          "height": 279
        }
      },
      "execution_count": 42,
      "outputs": [
        {
          "output_type": "display_data",
          "data": {
            "text/plain": [
              "<Figure size 432x288 with 1 Axes>"
            ],
            "image/png": "[encoded data removed]"
          },
          "metadata": {
            "needs_background": "light"
          }
        }
      ]
    },
    {
      "cell_type": "code",
      "source": [
        "accuracy[np.argmax(accuracy)]"
      ],
      "metadata": {
        "id": "XrJEHBeMGWYN",
        "outputId": "e29ff79e-5735-46f8-bf06-71ec86b04470",
        "colab": {
          "base_uri": "https://localhost:8080/"
        }
      },
      "execution_count": 43,
      "outputs": [
        {
          "output_type": "execute_result",
          "data": {
            "text/plain": [
              "0.8691011135645373"
            ]
          },
          "metadata": {},
          "execution_count": 43
        }
      ]
    },
    {
      "cell_type": "code",
      "source": [
        "threshold[np.argmax(accuracy)]"
      ],
      "metadata": {
        "id": "j-ds7Zd-GY0j",
        "outputId": "a2887afb-e421-470f-cb39-d453fc97a78a",
        "colab": {
          "base_uri": "https://localhost:8080/"
        }
      },
      "execution_count": 44,
      "outputs": [
        {
          "output_type": "execute_result",
          "data": {
            "text/plain": [
              "0.5743946892271299"
            ]
          },
          "metadata": {},
          "execution_count": 44
        }
      ]
    },
    {
      "metadata": {
        "id": "WOncqcRVNM0Q",
        "outputId": "5bf2ea81-13d6-482f-c3b9-03fe8b8da68c",
        "colab": {
          "base_uri": "https://localhost:8080/"
        }
      },
      "cell_type": "code",
      "source": [
        "Y_pred_lr = lr.predict(X_test)\n",
        "Y_pred_lr.shape"
      ],
      "execution_count": 45,
      "outputs": [
        {
          "output_type": "execute_result",
          "data": {
            "text/plain": [
              "(205,)"
            ]
          },
          "metadata": {},
          "execution_count": 45
        }
      ]
    },
    {
      "metadata": {
        "id": "sJFyMzLTNPET",
        "outputId": "db69d494-6b9a-454b-e729-522c56c7ac8f",
        "colab": {
          "base_uri": "https://localhost:8080/"
        }
      },
      "cell_type": "code",
      "source": [
        "score_lr = round(accuracy_score(Y_pred_lr,Y_test)*100,2)\n",
        "\n",
        "print(\"The accuracy score achieved using Logistic Regression is: \"+str(score_lr)+\" %\")"
      ],
      "execution_count": 46,
      "outputs": [
        {
          "output_type": "stream",
          "name": "stdout",
          "text": [
            "The accuracy score achieved using Logistic Regression is: 86.34 %\n"
          ]
        }
      ]
    },
    {
      "metadata": {
        "id": "LgNk2g4ucxpZ"
      },
      "cell_type": "markdown",
      "source": [
        "# Confusion Matrix"
      ]
    },
    {
      "metadata": {
        "id": "dzmuccx3bwhm"
      },
      "cell_type": "code",
      "source": [
        "from sklearn.metrics import confusion_matrix"
      ],
      "execution_count": 47,
      "outputs": []
    },
    {
      "metadata": {
        "id": "VzbqA7IZby55"
      },
      "cell_type": "code",
      "source": [
        "matrix= confusion_matrix(Y_test, Y_pred_lr)"
      ],
      "execution_count": 48,
      "outputs": []
    },
    {
      "metadata": {
        "id": "NqelNWNGcIEB",
        "outputId": "1ee4eb38-a5fa-4b73-9aee-b0b84d238bb0",
        "colab": {
          "base_uri": "https://localhost:8080/",
          "height": 286
        }
      },
      "cell_type": "code",
      "source": [
        "sns.heatmap(matrix,annot = True, fmt = \"d\")"
      ],
      "execution_count": 49,
      "outputs": [
        {
          "output_type": "execute_result",
          "data": {
            "text/plain": [
              "<matplotlib.axes._subplots.AxesSubplot at 0x7f4e42d3d0d0>"
            ]
          },
          "metadata": {},
          "execution_count": 49
        },
        {
          "output_type": "display_data",
          "data": {
            "text/plain": [
              "<Figure size 432x288 with 2 Axes>"
            ],
            "image/png": "[encoded data removed]"
          },
          "metadata": {
            "needs_background": "light"
          }
        }
      ]
    },
    {
      "metadata": {
        "id": "oZngK95wAyg0"
      },
      "cell_type": "markdown",
      "source": [
        "fmt = d is format = default"
      ]
    },
    {
      "metadata": {
        "id": "ePduVPbAc121"
      },
      "cell_type": "markdown",
      "source": [
        "# precision Score"
      ]
    },
    {
      "metadata": {
        "id": "CaqOPg0vcQbt"
      },
      "cell_type": "code",
      "source": [
        "from sklearn.metrics import precision_score"
      ],
      "execution_count": 50,
      "outputs": []
    },
    {
      "metadata": {
        "id": "uLyL4HLZcTOr"
      },
      "cell_type": "code",
      "source": [
        "precision = precision_score(Y_test, Y_pred_lr)"
      ],
      "execution_count": 51,
      "outputs": []
    },
    {
      "metadata": {
        "id": "1n0pPR7mcbkh",
        "outputId": "f04bf335-bf95-467a-be07-d40973742659",
        "colab": {
          "base_uri": "https://localhost:8080/"
        }
      },
      "cell_type": "code",
      "source": [
        "print(\"Precision: \",precision)"
      ],
      "execution_count": 52,
      "outputs": [
        {
          "output_type": "stream",
          "name": "stdout",
          "text": [
            "Precision:  0.8264462809917356\n"
          ]
        }
      ]
    },
    {
      "metadata": {
        "id": "cRdsUQo_c3_a"
      },
      "cell_type": "markdown",
      "source": [
        "# Recall"
      ]
    },
    {
      "metadata": {
        "id": "4rClRAnAce_W"
      },
      "cell_type": "code",
      "source": [
        "from sklearn.metrics import recall_score"
      ],
      "execution_count": 53,
      "outputs": []
    },
    {
      "metadata": {
        "id": "BX_0uOdBchFl"
      },
      "cell_type": "code",
      "source": [
        "recall = recall_score(Y_test, Y_pred_lr)"
      ],
      "execution_count": 54,
      "outputs": []
    },
    {
      "metadata": {
        "id": "Wg-a7JkGcn3I",
        "outputId": "056eb2e5-2718-4ae8-8300-0f9f206ace81",
        "colab": {
          "base_uri": "https://localhost:8080/"
        }
      },
      "cell_type": "code",
      "source": [
        "print(\"Recall is: \",recall)"
      ],
      "execution_count": 55,
      "outputs": [
        {
          "output_type": "stream",
          "name": "stdout",
          "text": [
            "Recall is:  0.9345794392523364\n"
          ]
        }
      ]
    },
    {
      "metadata": {
        "id": "Fojmjmtcc7Ar"
      },
      "cell_type": "markdown",
      "source": [
        "\n",
        "\n",
        "---\n",
        "\n"
      ]
    },
    {
      "metadata": {
        "id": "SBnYvM4BNS95"
      },
      "cell_type": "markdown",
      "source": [
        "# Random Forest"
      ]
    },
    {
      "metadata": {
        "id": "S5Pk-lGjBj9H",
        "outputId": "f84394dd-c3b9-4d7f-be85-f12e2a1abcad",
        "colab": {
          "base_uri": "https://localhost:8080/"
        }
      },
      "cell_type": "code",
      "source": [
        "#Random forest with 100 trees\n",
        "from sklearn.ensemble import RandomForestClassifier\n",
        "rf = RandomForestClassifier(n_estimators=100, random_state=0)\n",
        "rf.fit(X_train, Y_train)\n",
        "print(\"Accuracy on training set: {:.3f}\".format(rf.score(X_train, Y_train)))\n",
        "print(\"Accuracy on test set: {:.3f}\".format(rf.score(X_test, Y_test)))"
      ],
      "execution_count": 56,
      "outputs": [
        {
          "output_type": "stream",
          "name": "stdout",
          "text": [
            "Accuracy on training set: 1.000\n",
            "Accuracy on test set: 1.000\n"
          ]
        }
      ]
    },
    {
      "metadata": {
        "id": "aoodbzPZBtHI"
      },
      "cell_type": "markdown",
      "source": [
        "Now, let us prune the depth of trees and check the accuracy."
      ]
    },
    {
      "metadata": {
        "id": "FKU0mqrgBt6d",
        "outputId": "f5c4b53c-d318-4727-ec22-81fc58e46132",
        "colab": {
          "base_uri": "https://localhost:8080/"
        }
      },
      "cell_type": "code",
      "source": [
        "rf1 = RandomForestClassifier(max_depth=3, n_estimators=100, random_state=0)\n",
        "rf1.fit(X_train, Y_train)\n",
        "print(\"Accuracy on training set: {:.3f}\".format(rf1.score(X_train, Y_train)))\n",
        "print(\"Accuracy on test set: {:.3f}\".format(rf1.score(X_test, Y_test)))"
      ],
      "execution_count": 57,
      "outputs": [
        {
          "output_type": "stream",
          "name": "stdout",
          "text": [
            "Accuracy on training set: 0.885\n",
            "Accuracy on test set: 0.902\n"
          ]
        }
      ]
    },
    {
      "metadata": {
        "id": "Ro3iaSbiNVJe",
        "outputId": "b518147e-4d0a-4871-93b4-8cac53ef85f4",
        "colab": {
          "base_uri": "https://localhost:8080/"
        }
      },
      "cell_type": "code",
      "source": [
        "from sklearn.ensemble import RandomForestClassifier\n",
        "\n",
        "max_accuracy = 0\n",
        "\n",
        "\n",
        "for x in range(2000):\n",
        "    rf = RandomForestClassifier(random_state=x)\n",
        "    rf.fit(X_train,Y_train)\n",
        "    Y_pred_rf = rf.predict(X_test)\n",
        "    current_accuracy = round(accuracy_score(Y_pred_rf,Y_test)*100,2)\n",
        "    if(current_accuracy>max_accuracy):\n",
        "        max_accuracy = current_accuracy\n",
        "        best_x = x\n",
        "        \n",
        "print(max_accuracy)\n",
        "print(best_x)\n",
        "\n",
        "rf = RandomForestClassifier(random_state=best_x)\n",
        "rf.fit(X_train,Y_train)\n",
        "Y_pred_rf = rf.predict(X_test)"
      ],
      "execution_count": 58,
      "outputs": [
        {
          "output_type": "stream",
          "name": "stdout",
          "text": [
            "100.0\n",
            "0\n"
          ]
        }
      ]
    },
    {
      "metadata": {
        "id": "AgF33Bo0Ncn3",
        "outputId": "0e8a152d-6970-45fa-d28b-0bb1208d1c01",
        "colab": {
          "base_uri": "https://localhost:8080/"
        }
      },
      "cell_type": "code",
      "source": [
        "Y_pred_rf.shape"
      ],
      "execution_count": 59,
      "outputs": [
        {
          "output_type": "execute_result",
          "data": {
            "text/plain": [
              "(205,)"
            ]
          },
          "metadata": {},
          "execution_count": 59
        }
      ]
    },
    {
      "metadata": {
        "id": "iRVqY3o0NeCB",
        "outputId": "bb31a122-2c56-4ede-a9fc-fea2e2042b44",
        "colab": {
          "base_uri": "https://localhost:8080/"
        }
      },
      "cell_type": "code",
      "source": [
        "score_rf = round(accuracy_score(Y_pred_rf,Y_test)*100,2)\n",
        "\n",
        "print(\"The accuracy score achieved using Random forest is: \"+str(score_rf)+\" %\")"
      ],
      "execution_count": 60,
      "outputs": [
        {
          "output_type": "stream",
          "name": "stdout",
          "text": [
            "The accuracy score achieved using Random forest is: 100.0 %\n"
          ]
        }
      ]
    },
    {
      "metadata": {
        "id": "5PiASaknMJYX"
      },
      "cell_type": "markdown",
      "source": [
        "## confusion matrix of Random Forest"
      ]
    },
    {
      "metadata": {
        "id": "Mra1YpbcCBUG"
      },
      "cell_type": "code",
      "source": [
        "from sklearn.metrics import confusion_matrix"
      ],
      "execution_count": 61,
      "outputs": []
    },
    {
      "metadata": {
        "id": "_VWQEnltCEAl"
      },
      "cell_type": "code",
      "source": [
        "matrix= confusion_matrix(Y_test, Y_pred_rf)"
      ],
      "execution_count": 62,
      "outputs": []
    },
    {
      "metadata": {
        "id": "vVRhN3jDCJgG",
        "colab": {
          "base_uri": "https://localhost:8080/",
          "height": 282
        },
        "outputId": "a41d5bea-d0f6-41b5-ffe7-ede560c1299d"
      },
      "cell_type": "code",
      "source": [
        "sns.heatmap(matrix,annot = True, fmt = \"d\")"
      ],
      "execution_count": 63,
      "outputs": [
        {
          "output_type": "execute_result",
          "data": {
            "text/plain": [
              "<matplotlib.axes._subplots.AxesSubplot at 0x7f4e420cdd10>"
            ]
          },
          "metadata": {},
          "execution_count": 63
        },
        {
          "output_type": "display_data",
          "data": {
            "text/plain": [
              "<Figure size 432x288 with 2 Axes>"
            ],
            "image/png": "[encoded data removed]"
          },
          "metadata": {
            "needs_background": "light"
          }
        }
      ]
    },
    {
      "metadata": {
        "id": "8oQ4VUpaCTuf"
      },
      "cell_type": "markdown",
      "source": [
        "# precision score"
      ]
    },
    {
      "metadata": {
        "id": "FmCAmIfUCV8t"
      },
      "cell_type": "code",
      "source": [
        "from sklearn.metrics import precision_score"
      ],
      "execution_count": 64,
      "outputs": []
    },
    {
      "metadata": {
        "id": "T6U-eHW7CYR7"
      },
      "cell_type": "code",
      "source": [
        "precision = precision_score(Y_test, Y_pred_rf)"
      ],
      "execution_count": 65,
      "outputs": []
    },
    {
      "metadata": {
        "id": "JSTXQMKYCb49",
        "colab": {
          "base_uri": "https://localhost:8080/"
        },
        "outputId": "31638f47-393a-4193-dfef-d74c42899f9f"
      },
      "cell_type": "code",
      "source": [
        "print(\"Precision: \",precision)"
      ],
      "execution_count": 66,
      "outputs": [
        {
          "output_type": "stream",
          "name": "stdout",
          "text": [
            "Precision:  1.0\n"
          ]
        }
      ]
    },
    {
      "metadata": {
        "id": "nJA8eFthCeSR"
      },
      "cell_type": "markdown",
      "source": [
        "# recall"
      ]
    },
    {
      "metadata": {
        "id": "2NIWZWUfClqL"
      },
      "cell_type": "code",
      "source": [
        "from sklearn.metrics import recall_score"
      ],
      "execution_count": 67,
      "outputs": []
    },
    {
      "metadata": {
        "id": "5BscmVdgCnf6"
      },
      "cell_type": "code",
      "source": [
        "recall = recall_score(Y_test, Y_pred_rf)"
      ],
      "execution_count": 68,
      "outputs": []
    },
    {
      "metadata": {
        "id": "ZvHbdPO5CqAd",
        "colab": {
          "base_uri": "https://localhost:8080/"
        },
        "outputId": "7312c2da-c008-4ad7-e4bb-ebccd812ae27"
      },
      "cell_type": "code",
      "source": [
        "print(\"Recall is: \",recall)"
      ],
      "execution_count": 69,
      "outputs": [
        {
          "output_type": "stream",
          "name": "stdout",
          "text": [
            "Recall is:  1.0\n"
          ]
        }
      ]
    },
    {
      "metadata": {
        "id": "itvCy6g1OIKT"
      },
      "cell_type": "markdown",
      "source": [
        "# Naive Bayes"
      ]
    },
    {
      "metadata": {
        "id": "niuIRgKIOKia"
      },
      "cell_type": "code",
      "source": [
        "from sklearn.naive_bayes import GaussianNB\n",
        "\n",
        "nb = GaussianNB()\n",
        "\n",
        "nb.fit(X_train,Y_train)\n",
        "Y_train_nb=nb.predict(X_train)\n",
        "\n",
        "Y_pred_nb = nb.predict(X_test)"
      ],
      "execution_count": 70,
      "outputs": []
    },
    {
      "metadata": {
        "id": "zd5qmJiKOXfB",
        "outputId": "c54c2375-de5b-4085-8411-3317c5461863",
        "colab": {
          "base_uri": "https://localhost:8080/"
        }
      },
      "cell_type": "code",
      "source": [
        "Y_pred_nb.shape"
      ],
      "execution_count": 71,
      "outputs": [
        {
          "output_type": "execute_result",
          "data": {
            "text/plain": [
              "(205,)"
            ]
          },
          "metadata": {},
          "execution_count": 71
        }
      ]
    },
    {
      "cell_type": "code",
      "source": [
        "score_1 = round(accuracy_score(Y_train_nb,Y_train)*100,2)\n",
        "\n",
        "print(\"The accuracy score achieved using Naive Bayes on training  is: \"+str(score_1)+\" %\")"
      ],
      "metadata": {
        "colab": {
          "base_uri": "https://localhost:8080/"
        },
        "id": "1yfZ8MDz6L75",
        "outputId": "266b12fe-81bf-4d6d-ac80-f431c8aedaad"
      },
      "execution_count": 72,
      "outputs": [
        {
          "output_type": "stream",
          "name": "stdout",
          "text": [
            "The accuracy score achieved using Naive Bayes on training  is: 82.07 %\n"
          ]
        }
      ]
    },
    {
      "metadata": {
        "id": "edGDQiM8OYzW",
        "outputId": "b4423714-eb78-4443-c86a-c2bd77431cf5",
        "colab": {
          "base_uri": "https://localhost:8080/"
        }
      },
      "cell_type": "code",
      "source": [
        "score_nb = round(accuracy_score(Y_pred_nb,Y_test)*100,2)\n",
        "\n",
        "print(\"The accuracy score achieved using Naive Bayes is: \"+str(score_nb)+\" %\")"
      ],
      "execution_count": 73,
      "outputs": [
        {
          "output_type": "stream",
          "name": "stdout",
          "text": [
            "The accuracy score achieved using Naive Bayes is: 85.37 %\n"
          ]
        }
      ]
    },
    {
      "metadata": {
        "id": "sR27vJmiNXOA"
      },
      "cell_type": "markdown",
      "source": [
        "## confusion matrix of Naive Bayes"
      ]
    },
    {
      "metadata": {
        "id": "GneNyLpXDAtB"
      },
      "cell_type": "code",
      "source": [
        "from sklearn.metrics import confusion_matrix"
      ],
      "execution_count": 74,
      "outputs": []
    },
    {
      "metadata": {
        "id": "QgcyDOdyDED1"
      },
      "cell_type": "code",
      "source": [
        "matrix= confusion_matrix(Y_test, Y_pred_nb)"
      ],
      "execution_count": 75,
      "outputs": []
    },
    {
      "metadata": {
        "id": "m6thjv_fDJMx",
        "colab": {
          "base_uri": "https://localhost:8080/",
          "height": 282
        },
        "outputId": "110a4183-67cc-4072-c411-c4032f7259ef"
      },
      "cell_type": "code",
      "source": [
        "sns.heatmap(matrix,annot = True, fmt = \"d\")"
      ],
      "execution_count": 76,
      "outputs": [
        {
          "output_type": "execute_result",
          "data": {
            "text/plain": [
              "<matplotlib.axes._subplots.AxesSubplot at 0x7f4e420aff50>"
            ]
          },
          "metadata": {},
          "execution_count": 76
        },
        {
          "output_type": "display_data",
          "data": {
            "text/plain": [
              "<Figure size 432x288 with 2 Axes>"
            ],
            "image/png": "[encoded data removed]"
          },
          "metadata": {
            "needs_background": "light"
          }
        }
      ]
    },
    {
      "metadata": {
        "id": "X_8G3xnlDPWS"
      },
      "cell_type": "markdown",
      "source": [
        "# precision score"
      ]
    },
    {
      "metadata": {
        "id": "LUJOT1f5DTgL"
      },
      "cell_type": "code",
      "source": [
        "from sklearn.metrics import precision_score"
      ],
      "execution_count": 77,
      "outputs": []
    },
    {
      "metadata": {
        "id": "ce6CbHpjDV9s"
      },
      "cell_type": "code",
      "source": [
        "precision = precision_score(Y_test, Y_pred_nb)"
      ],
      "execution_count": 78,
      "outputs": []
    },
    {
      "metadata": {
        "id": "-F_ck5N0DZSQ",
        "colab": {
          "base_uri": "https://localhost:8080/"
        },
        "outputId": "8e2f239e-71de-41e9-d3bf-d275693a34f7"
      },
      "cell_type": "code",
      "source": [
        "print(\"Precision: \",precision)"
      ],
      "execution_count": 79,
      "outputs": [
        {
          "output_type": "stream",
          "name": "stdout",
          "text": [
            "Precision:  0.8347826086956521\n"
          ]
        }
      ]
    },
    {
      "metadata": {
        "id": "B4LEb3dlDbmE"
      },
      "cell_type": "markdown",
      "source": [
        "# recall"
      ]
    },
    {
      "metadata": {
        "id": "l7SopfRSDdHe"
      },
      "cell_type": "code",
      "source": [
        "from sklearn.metrics import recall_score"
      ],
      "execution_count": 80,
      "outputs": []
    },
    {
      "metadata": {
        "id": "FfS8d7rfDfhj"
      },
      "cell_type": "code",
      "source": [
        "recall = recall_score(Y_test, Y_pred_nb)"
      ],
      "execution_count": 81,
      "outputs": []
    },
    {
      "metadata": {
        "id": "FvYOwsvBDjZz",
        "colab": {
          "base_uri": "https://localhost:8080/"
        },
        "outputId": "d03b62bf-9e4d-4204-a36d-7a634fe95192"
      },
      "cell_type": "code",
      "source": [
        "print(\"Recall is: \",recall)"
      ],
      "execution_count": 82,
      "outputs": [
        {
          "output_type": "stream",
          "name": "stdout",
          "text": [
            "Recall is:  0.897196261682243\n"
          ]
        }
      ]
    },
    {
      "metadata": {
        "id": "ovHec9BDOeWS"
      },
      "cell_type": "markdown",
      "source": [
        "# KNN(K Nearest Neighbors)"
      ]
    },
    {
      "metadata": {
        "id": "cgD5RQVfOf02"
      },
      "cell_type": "code",
      "source": [
        "from sklearn.neighbors import KNeighborsClassifier\n",
        "\n",
        "knn = KNeighborsClassifier(n_neighbors=7)\n",
        "knn.fit(X_train,Y_train)\n",
        "Y_train_knn=knn.predict(X_train)\n",
        "Y_pred_knn=knn.predict(X_test)"
      ],
      "execution_count": 83,
      "outputs": []
    },
    {
      "metadata": {
        "id": "0mNYgeVhOl0A",
        "outputId": "d4c2100f-ba5e-4fa9-eb27-87da9735f542",
        "colab": {
          "base_uri": "https://localhost:8080/"
        }
      },
      "cell_type": "code",
      "source": [
        "Y_pred_knn.shape"
      ],
      "execution_count": 84,
      "outputs": [
        {
          "output_type": "execute_result",
          "data": {
            "text/plain": [
              "(205,)"
            ]
          },
          "metadata": {},
          "execution_count": 84
        }
      ]
    },
    {
      "cell_type": "code",
      "source": [
        "score_knn = round(accuracy_score(Y_train_knn,Y_train)*100,2)\n",
        "\n",
        "print(\"The accuracy score achieved using KNN on training  is: \"+str(score_knn)+\" %\")"
      ],
      "metadata": {
        "colab": {
          "base_uri": "https://localhost:8080/"
        },
        "id": "PKiJUOwY6hcv",
        "outputId": "546c70c8-6f2d-483b-9a26-6c0e62593982"
      },
      "execution_count": 85,
      "outputs": [
        {
          "output_type": "stream",
          "name": "stdout",
          "text": [
            "The accuracy score achieved using KNN on training  is: 79.51 %\n"
          ]
        }
      ]
    },
    {
      "metadata": {
        "id": "WN7EX1UbOouC",
        "outputId": "bd1ffc14-abf0-4e35-de6e-9a5c19a72f96",
        "colab": {
          "base_uri": "https://localhost:8080/"
        }
      },
      "cell_type": "code",
      "source": [
        "score_knn = round(accuracy_score(Y_pred_knn,Y_test)*100,2)\n",
        "\n",
        "print(\"The accuracy score achieved using KNN is: \"+str(score_knn)+\" %\")"
      ],
      "execution_count": 86,
      "outputs": [
        {
          "output_type": "stream",
          "name": "stdout",
          "text": [
            "The accuracy score achieved using KNN is: 72.2 %\n"
          ]
        }
      ]
    },
    {
      "metadata": {
        "id": "7n0XSJPNOfoZ"
      },
      "cell_type": "markdown",
      "source": [
        "## Confusion matrix"
      ]
    },
    {
      "metadata": {
        "id": "aoRy4axtD5ad"
      },
      "cell_type": "code",
      "source": [
        "from sklearn.metrics import confusion_matrix"
      ],
      "execution_count": 87,
      "outputs": []
    },
    {
      "metadata": {
        "id": "wvKmYt6BD7qX"
      },
      "cell_type": "code",
      "source": [
        "matrix= confusion_matrix(Y_test, Y_pred_knn)"
      ],
      "execution_count": 88,
      "outputs": []
    },
    {
      "metadata": {
        "id": "TXy0X0oTEBlR",
        "colab": {
          "base_uri": "https://localhost:8080/",
          "height": 282
        },
        "outputId": "ba34c07d-de1d-47fa-cdb6-82971433e2f6"
      },
      "cell_type": "code",
      "source": [
        "sns.heatmap(matrix,annot = True, fmt = \"d\")"
      ],
      "execution_count": 89,
      "outputs": [
        {
          "output_type": "execute_result",
          "data": {
            "text/plain": [
              "<matplotlib.axes._subplots.AxesSubplot at 0x7f4e4650e390>"
            ]
          },
          "metadata": {},
          "execution_count": 89
        },
        {
          "output_type": "display_data",
          "data": {
            "text/plain": [
              "<Figure size 432x288 with 2 Axes>"
            ],
            "image/png": "[encoded data removed]"
          },
          "metadata": {
            "needs_background": "light"
          }
        }
      ]
    },
    {
      "metadata": {
        "id": "b8hMkLCFEFz0"
      },
      "cell_type": "markdown",
      "source": [
        "# precision score"
      ]
    },
    {
      "metadata": {
        "id": "FLcUAKX0EKkc"
      },
      "cell_type": "code",
      "source": [
        "from sklearn.metrics import precision_score"
      ],
      "execution_count": 90,
      "outputs": []
    },
    {
      "metadata": {
        "id": "yGSw_ofsENSw"
      },
      "cell_type": "code",
      "source": [
        "precision = precision_score(Y_test, Y_pred_knn)"
      ],
      "execution_count": 91,
      "outputs": []
    },
    {
      "metadata": {
        "id": "4f3-dP_lERby",
        "colab": {
          "base_uri": "https://localhost:8080/"
        },
        "outputId": "d282178d-ce2a-401a-e609-04b403f3bc08"
      },
      "cell_type": "code",
      "source": [
        "print(\"Precision: \",precision)"
      ],
      "execution_count": 92,
      "outputs": [
        {
          "output_type": "stream",
          "name": "stdout",
          "text": [
            "Precision:  0.7358490566037735\n"
          ]
        }
      ]
    },
    {
      "metadata": {
        "id": "3tMAAU7rETsn"
      },
      "cell_type": "markdown",
      "source": [
        "# recall"
      ]
    },
    {
      "metadata": {
        "id": "sbXUbUUgEVos"
      },
      "cell_type": "code",
      "source": [
        "from sklearn.metrics import recall_score"
      ],
      "execution_count": 93,
      "outputs": []
    },
    {
      "metadata": {
        "id": "L0EV_SJcEgjA"
      },
      "cell_type": "code",
      "source": [
        "recall = recall_score(Y_test, Y_pred_knn)"
      ],
      "execution_count": 94,
      "outputs": []
    },
    {
      "metadata": {
        "id": "qi-OgKIPEkCU",
        "colab": {
          "base_uri": "https://localhost:8080/"
        },
        "outputId": "732982e1-159a-4005-e8d2-aa0d5ae27bf9"
      },
      "cell_type": "code",
      "source": [
        "print(\"Recall is: \",recall)"
      ],
      "execution_count": 95,
      "outputs": [
        {
          "output_type": "stream",
          "name": "stdout",
          "text": [
            "Recall is:  0.7289719626168224\n"
          ]
        }
      ]
    },
    {
      "metadata": {
        "id": "Q2uvggitO1iZ"
      },
      "cell_type": "markdown",
      "source": [
        "## for neighbors = 4"
      ]
    },
    {
      "metadata": {
        "id": "-dZT5oiqOsBx"
      },
      "cell_type": "code",
      "source": [
        "from sklearn.neighbors import KNeighborsClassifier\n",
        "\n",
        "knn = KNeighborsClassifier(n_neighbors=4)\n",
        "knn.fit(X_train,Y_train)\n",
        "Y_pred_knn4=knn.predict(X_test)"
      ],
      "execution_count": 96,
      "outputs": []
    },
    {
      "metadata": {
        "id": "9W4nPHtwOvjH",
        "outputId": "2df2b90c-1f0c-42bf-b60c-f961cd16f69f",
        "colab": {
          "base_uri": "https://localhost:8080/"
        }
      },
      "cell_type": "code",
      "source": [
        "Y_pred_knn4.shape"
      ],
      "execution_count": 97,
      "outputs": [
        {
          "output_type": "execute_result",
          "data": {
            "text/plain": [
              "(205,)"
            ]
          },
          "metadata": {},
          "execution_count": 97
        }
      ]
    },
    {
      "metadata": {
        "id": "BicdIDjvOxhH",
        "outputId": "97955ebb-655f-4d7f-8e8e-ac248dec1831",
        "colab": {
          "base_uri": "https://localhost:8080/"
        }
      },
      "cell_type": "code",
      "source": [
        "score_knn_4 = round(accuracy_score(Y_pred_knn,Y_test)*100,2)\n",
        "\n",
        "print(\"The accuracy score achieved using KNN is: \"+str(score_knn_4)+\" %\")"
      ],
      "execution_count": 98,
      "outputs": [
        {
          "output_type": "stream",
          "name": "stdout",
          "text": [
            "The accuracy score achieved using KNN is: 72.2 %\n"
          ]
        }
      ]
    },
    {
      "metadata": {
        "id": "KyhawFIRPUch"
      },
      "cell_type": "markdown",
      "source": [
        "# Decision Tree"
      ]
    },
    {
      "metadata": {
        "id": "feNBLqPn658C",
        "outputId": "59e6de95-da00-489e-b7ae-058d6583e9cd",
        "colab": {
          "base_uri": "https://localhost:8080/"
        }
      },
      "cell_type": "code",
      "source": [
        "from sklearn.tree import DecisionTreeClassifier\n",
        "tree1 = DecisionTreeClassifier(random_state=0)\n",
        "tree1.fit(X_train, Y_train)\n",
        "print(\"Accuracy on training set: {:.3f}\".format(tree1.score(X_train, Y_train)))\n",
        "print(\"Accuracy on test set: {:.3f}\".format(tree1.score(X_test, Y_test)))"
      ],
      "execution_count": 99,
      "outputs": [
        {
          "output_type": "stream",
          "name": "stdout",
          "text": [
            "Accuracy on training set: 1.000\n",
            "Accuracy on test set: 1.000\n"
          ]
        }
      ]
    },
    {
      "metadata": {
        "id": "xwwLmy4n7Go0",
        "outputId": "5850e000-67c5-41ac-c864-797fcb8e021b",
        "colab": {
          "base_uri": "https://localhost:8080/"
        }
      },
      "cell_type": "code",
      "source": [
        "tree1 = DecisionTreeClassifier(max_depth=3, random_state=0)\n",
        "tree1.fit(X_train, Y_train)\n",
        "print(\"Accuracy on training set: {:.3f}\".format(tree1.score(X_train, Y_train)))\n",
        "print(\"Accuracy on test set: {:.3f}\".format(tree1.score(X_test, Y_test)))"
      ],
      "execution_count": 100,
      "outputs": [
        {
          "output_type": "stream",
          "name": "stdout",
          "text": [
            "Accuracy on training set: 0.848\n",
            "Accuracy on test set: 0.844\n"
          ]
        }
      ]
    },
    {
      "metadata": {
        "id": "yM2faYCKPYlP",
        "colab": {
          "base_uri": "https://localhost:8080/"
        },
        "outputId": "6a2915dd-aa28-44ed-e7be-c2bbf2f98b4b"
      },
      "cell_type": "code",
      "source": [
        "from sklearn.tree import DecisionTreeClassifier\n",
        "\n",
        "max_accuracy = 0\n",
        "\n",
        "\n",
        "for x in range(200):\n",
        "    dt = DecisionTreeClassifier(random_state=x)\n",
        "    dt.fit(X_train,Y_train)\n",
        "    Y_pred_dt = dt.predict(X_test)\n",
        "    current_accuracy = round(accuracy_score(Y_pred_dt,Y_test)*100,2)\n",
        "    if(current_accuracy>max_accuracy):\n",
        "        max_accuracy = current_accuracy\n",
        "        best_x = x\n",
        "        \n",
        "print(max_accuracy)\n",
        "print(best_x)\n",
        "\n",
        "\n",
        "dt = DecisionTreeClassifier(random_state=best_x)\n",
        "dt.fit(X_train,Y_train)\n",
        "Y_pred_dt = dt.predict(X_test)"
      ],
      "execution_count": 101,
      "outputs": [
        {
          "output_type": "stream",
          "name": "stdout",
          "text": [
            "100.0\n",
            "0\n"
          ]
        }
      ]
    },
    {
      "metadata": {
        "id": "jgEqnhioPbN7",
        "outputId": "4b73c8cb-6aa4-4a24-8084-9f2057a004e0",
        "colab": {
          "base_uri": "https://localhost:8080/"
        }
      },
      "cell_type": "code",
      "source": [
        "print(Y_pred_dt.shape)"
      ],
      "execution_count": 102,
      "outputs": [
        {
          "output_type": "stream",
          "name": "stdout",
          "text": [
            "(205,)\n"
          ]
        }
      ]
    },
    {
      "metadata": {
        "id": "0M8TALaSxLrZ"
      },
      "cell_type": "markdown",
      "source": [
        "# Decision Tree Visualization"
      ]
    },
    {
      "metadata": {
        "id": "GCD8ytQdu1pI"
      },
      "cell_type": "code",
      "source": [
        "df = pd.read_csv('heart.csv')"
      ],
      "execution_count": 103,
      "outputs": []
    },
    {
      "metadata": {
        "id": "QZ97p7SrvWlG",
        "colab": {
          "base_uri": "https://localhost:8080/",
          "height": 206
        },
        "outputId": "47da89dc-f4a4-478d-9b67-bb7a1a6c6bac"
      },
      "cell_type": "code",
      "source": [
        "df.head()"
      ],
      "execution_count": 104,
      "outputs": [
        {
          "output_type": "execute_result",
          "data": {
            "text/plain": [
              "   age  sex  cp  trestbps  chol  fbs  restecg  thalach  exang  oldpeak  slope  \\\n",
              "0   52    1   0       125   212    0        1      168      0      1.0      2   \n",
              "1   53    1   0       140   203    1        0      155      1      3.1      0   \n",
              "2   70    1   0       145   174    0        1      125      1      2.6      0   \n",
              "3   61    1   0       148   203    0        1      161      0      0.0      2   \n",
              "4   62    0   0       138   294    1        1      106      0      1.9      1   \n",
              "\n",
              "   ca  thal  target  \n",
              "0   2     3       0  \n",
              "1   0     3       0  \n",
              "2   0     3       0  \n",
              "3   1     3       0  \n",
              "4   3     2       0  "
            ],
            "text/html": [
              "\n",
              "  <div id=\"df-2c4ffe04-9f03-4cc7-949d-2068e6835d86\">\n",
              "    <div class=\"colab-df-container\">\n",
              "      <div>\n",
              "<style scoped>\n",
              "    .dataframe tbody tr th:only-of-type {\n",
              "        vertical-align: middle;\n",
              "    }\n",
              "\n",
              "    .dataframe tbody tr th {\n",
              "        vertical-align: top;\n",
              "    }\n",
              "\n",
              "    .dataframe thead th {\n",
              "        text-align: right;\n",
              "    }\n",
              "</style>\n",
              "<table border=\"1\" class=\"dataframe\">\n",
              "  <thead>\n",
              "    <tr style=\"text-align: right;\">\n",
              "      <th></th>\n",
              "      <th>age</th>\n",
              "      <th>sex</th>\n",
              "      <th>cp</th>\n",
              "      <th>trestbps</th>\n",
              "      <th>chol</th>\n",
              "      <th>fbs</th>\n",
              "      <th>restecg</th>\n",
              "      <th>thalach</th>\n",
              "      <th>exang</th>\n",
              "      <th>oldpeak</th>\n",
              "      <th>slope</th>\n",
              "      <th>ca</th>\n",
              "      <th>thal</th>\n",
              "      <th>target</th>\n",
              "    </tr>\n",
              "  </thead>\n",
              "  <tbody>\n",
              "    <tr>\n",
              "      <th>0</th>\n",
              "      <td>52</td>\n",
              "      <td>1</td>\n",
              "      <td>0</td>\n",
              "      <td>125</td>\n",
              "      <td>212</td>\n",
              "      <td>0</td>\n",
              "      <td>1</td>\n",
              "      <td>168</td>\n",
              "      <td>0</td>\n",
              "      <td>1.0</td>\n",
              "      <td>2</td>\n",
              "      <td>2</td>\n",
              "      <td>3</td>\n",
              "      <td>0</td>\n",
              "    </tr>\n",
              "    <tr>\n",
              "      <th>1</th>\n",
              "      <td>53</td>\n",
              "      <td>1</td>\n",
              "      <td>0</td>\n",
              "      <td>140</td>\n",
              "      <td>203</td>\n",
              "      <td>1</td>\n",
              "      <td>0</td>\n",
              "      <td>155</td>\n",
              "      <td>1</td>\n",
              "      <td>3.1</td>\n",
              "      <td>0</td>\n",
              "      <td>0</td>\n",
              "      <td>3</td>\n",
              "      <td>0</td>\n",
              "    </tr>\n",
              "    <tr>\n",
              "      <th>2</th>\n",
              "      <td>70</td>\n",
              "      <td>1</td>\n",
              "      <td>0</td>\n",
              "      <td>145</td>\n",
              "      <td>174</td>\n",
              "      <td>0</td>\n",
              "      <td>1</td>\n",
              "      <td>125</td>\n",
              "      <td>1</td>\n",
              "      <td>2.6</td>\n",
              "      <td>0</td>\n",
              "      <td>0</td>\n",
              "      <td>3</td>\n",
              "      <td>0</td>\n",
              "    </tr>\n",
              "    <tr>\n",
              "      <th>3</th>\n",
              "      <td>61</td>\n",
              "      <td>1</td>\n",
              "      <td>0</td>\n",
              "      <td>148</td>\n",
              "      <td>203</td>\n",
              "      <td>0</td>\n",
              "      <td>1</td>\n",
              "      <td>161</td>\n",
              "      <td>0</td>\n",
              "      <td>0.0</td>\n",
              "      <td>2</td>\n",
              "      <td>1</td>\n",
              "      <td>3</td>\n",
              "      <td>0</td>\n",
              "    </tr>\n",
              "    <tr>\n",
              "      <th>4</th>\n",
              "      <td>62</td>\n",
              "      <td>0</td>\n",
              "      <td>0</td>\n",
              "      <td>138</td>\n",
              "      <td>294</td>\n",
              "      <td>1</td>\n",
              "      <td>1</td>\n",
              "      <td>106</td>\n",
              "      <td>0</td>\n",
              "      <td>1.9</td>\n",
              "      <td>1</td>\n",
              "      <td>3</td>\n",
              "      <td>2</td>\n",
              "      <td>0</td>\n",
              "    </tr>\n",
              "  </tbody>\n",
              "</table>\n",
              "</div>\n",
              "      <button class=\"colab-df-convert\" onclick=\"convertToInteractive('df-2c4ffe04-9f03-4cc7-949d-2068e6835d86')\"\n",
              "              title=\"Convert this dataframe to an interactive table.\"\n",
              "              style=\"display:none;\">\n",
              "        \n",
              "  <svg xmlns=\"http://www.w3.org/2000/svg\" height=\"24px\"viewBox=\"0 0 24 24\"\n",
              "       width=\"24px\">\n",
              "    <path d=\"M0 0h24v24H0V0z\" fill=\"none\"/>\n",
              "    <path d=\"M18.56 5.44l.94 2.06.94-2.06 2.06-.94-2.06-.94-.94-2.06-.94 2.06-2.06.94zm-11 1L8.5 8.5l.94-2.06 2.06-.94-2.06-.94L8.5 2.5l-.94 2.06-2.06.94zm10 10l.94 2.06.94-2.06 2.06-.94-2.06-.94-.94-2.06-.94 2.06-2.06.94z\"/><path d=\"M17.41 7.96l-1.37-1.37c-.4-.4-.92-.59-1.43-.59-.52 0-1.04.2-1.43.59L10.3 9.45l-7.72 7.72c-.78.78-.78 2.05 0 2.83L4 21.41c.39.39.9.59 1.41.59.51 0 1.02-.2 1.41-.59l7.78-7.78 2.81-2.81c.8-.78.8-2.07 0-2.86zM5.41 20L4 18.59l7.72-7.72 1.47 1.35L5.41 20z\"/>\n",
              "  </svg>\n",
              "      </button>\n",
              "      \n",
              "  <style>\n",
              "    .colab-df-container {\n",
              "      display:flex;\n",
              "      flex-wrap:wrap;\n",
              "      gap: 12px;\n",
              "    }\n",
              "\n",
              "    .colab-df-convert {\n",
              "      background-color: #E8F0FE;\n",
              "      border: none;\n",
              "      border-radius: 50%;\n",
              "      cursor: pointer;\n",
              "      display: none;\n",
              "      fill: #1967D2;\n",
              "      height: 32px;\n",
              "      padding: 0 0 0 0;\n",
              "      width: 32px;\n",
              "    }\n",
              "\n",
              "    .colab-df-convert:hover {\n",
              "      background-color: #E2EBFA;\n",
              "      box-shadow: 0px 1px 2px rgba(60, 64, 67, 0.3), 0px 1px 3px 1px rgba(60, 64, 67, 0.15);\n",
              "      fill: #174EA6;\n",
              "    }\n",
              "\n",
              "    [theme=dark] .colab-df-convert {\n",
              "      background-color: #3B4455;\n",
              "      fill: #D2E3FC;\n",
              "    }\n",
              "\n",
              "    [theme=dark] .colab-df-convert:hover {\n",
              "      background-color: #434B5C;\n",
              "      box-shadow: 0px 1px 3px 1px rgba(0, 0, 0, 0.15);\n",
              "      filter: drop-shadow(0px 1px 2px rgba(0, 0, 0, 0.3));\n",
              "      fill: #FFFFFF;\n",
              "    }\n",
              "  </style>\n",
              "\n",
              "      <script>\n",
              "        const buttonEl =\n",
              "          document.querySelector('#df-2c4ffe04-9f03-4cc7-949d-2068e6835d86 button.colab-df-convert');\n",
              "        buttonEl.style.display =\n",
              "          google.colab.kernel.accessAllowed ? 'block' : 'none';\n",
              "\n",
              "        async function convertToInteractive(key) {\n",
              "          const element = document.querySelector('#df-2c4ffe04-9f03-4cc7-949d-2068e6835d86');\n",
              "          const dataTable =\n",
              "            await google.colab.kernel.invokeFunction('convertToInteractive',\n",
              "                                                     [key], {});\n",
              "          if (!dataTable) return;\n",
              "\n",
              "          const docLinkHtml = 'Like what you see? Visit the ' +\n",
              "            '<a target=\"_blank\" href=https://colab.research.google.com/notebooks/data_table.ipynb>data table notebook</a>'\n",
              "            + ' to learn more about interactive tables.';\n",
              "          element.innerHTML = '';\n",
              "          dataTable['output_type'] = 'display_data';\n",
              "          await google.colab.output.renderOutput(dataTable, element);\n",
              "          const docLink = document.createElement('div');\n",
              "          docLink.innerHTML = docLinkHtml;\n",
              "          element.appendChild(docLink);\n",
              "        }\n",
              "      </script>\n",
              "    </div>\n",
              "  </div>\n",
              "  "
            ]
          },
          "metadata": {},
          "execution_count": 104
        }
      ]
    },
    {
      "metadata": {
        "id": "SxB5z6Q8v7iN"
      },
      "cell_type": "code",
      "source": [
        "from sklearn import tree\n",
        "clf = tree.DecisionTreeClassifier()\n",
        "clf = clf.fit(X_train,Y_train)"
      ],
      "execution_count": 105,
      "outputs": []
    },
    {
      "metadata": {
        "id": "kyN7bso79cvL"
      },
      "cell_type": "markdown",
      "source": [
        "### accuracy"
      ]
    },
    {
      "metadata": {
        "id": "3V4aPp_LPdnj",
        "outputId": "fdb084f0-f3b8-4edd-a25e-fe550fb36564",
        "colab": {
          "base_uri": "https://localhost:8080/"
        }
      },
      "cell_type": "code",
      "source": [
        "score_dt = round(accuracy_score(Y_pred_dt,Y_test)*100,2)\n",
        "\n",
        "print(\"The accuracy score achieved using Decision Tree is: \"+str(score_dt)+\" %\")"
      ],
      "execution_count": 106,
      "outputs": [
        {
          "output_type": "stream",
          "name": "stdout",
          "text": [
            "The accuracy score achieved using Decision Tree is: 100.0 %\n"
          ]
        }
      ]
    },
    {
      "metadata": {
        "id": "fftdDA5nP1au"
      },
      "cell_type": "markdown",
      "source": [
        "## Confusion Matrix"
      ]
    },
    {
      "metadata": {
        "id": "NrS2eR2XE8iu"
      },
      "cell_type": "code",
      "source": [
        "from sklearn.metrics import confusion_matrix"
      ],
      "execution_count": 107,
      "outputs": []
    },
    {
      "metadata": {
        "id": "vthkpSogE-o2"
      },
      "cell_type": "code",
      "source": [
        "matrix= confusion_matrix(Y_test, Y_pred_dt)"
      ],
      "execution_count": 108,
      "outputs": []
    },
    {
      "metadata": {
        "id": "GEMOk9xdFCFq",
        "colab": {
          "base_uri": "https://localhost:8080/",
          "height": 282
        },
        "outputId": "7c715e0c-9406-45f5-defa-5cdadd2c6fec"
      },
      "cell_type": "code",
      "source": [
        "sns.heatmap(matrix,annot = True, fmt = \"d\")"
      ],
      "execution_count": 109,
      "outputs": [
        {
          "output_type": "execute_result",
          "data": {
            "text/plain": [
              "<matplotlib.axes._subplots.AxesSubplot at 0x7f4e41ecfe10>"
            ]
          },
          "metadata": {},
          "execution_count": 109
        },
        {
          "output_type": "display_data",
          "data": {
            "text/plain": [
              "<Figure size 432x288 with 2 Axes>"
            ],
            "image/png": "[encoded data removed]"
          },
          "metadata": {
            "needs_background": "light"
          }
        }
      ]
    },
    {
      "metadata": {
        "id": "fCfAMy67FFWL"
      },
      "cell_type": "markdown",
      "source": [
        "# precision score"
      ]
    },
    {
      "metadata": {
        "id": "SGwTwM5TFIKl"
      },
      "cell_type": "code",
      "source": [
        "from sklearn.metrics import precision_score"
      ],
      "execution_count": 110,
      "outputs": []
    },
    {
      "metadata": {
        "id": "6rw05ERpFLgW"
      },
      "cell_type": "code",
      "source": [
        "precision = precision_score(Y_test, Y_pred_dt)"
      ],
      "execution_count": 111,
      "outputs": []
    },
    {
      "metadata": {
        "id": "yOVrwHEcFKfU",
        "colab": {
          "base_uri": "https://localhost:8080/"
        },
        "outputId": "80d9ff84-23b6-4889-8288-5a72b79c8a19"
      },
      "cell_type": "code",
      "source": [
        "print(\"Precision: \",precision)"
      ],
      "execution_count": 112,
      "outputs": [
        {
          "output_type": "stream",
          "name": "stdout",
          "text": [
            "Precision:  1.0\n"
          ]
        }
      ]
    },
    {
      "metadata": {
        "id": "TEcKGKlhFRTm"
      },
      "cell_type": "markdown",
      "source": [
        "# recall"
      ]
    },
    {
      "metadata": {
        "id": "VW__KUODFSvv"
      },
      "cell_type": "code",
      "source": [
        "from sklearn.metrics import recall_score"
      ],
      "execution_count": 113,
      "outputs": []
    },
    {
      "metadata": {
        "id": "10IDd-oRFXL6"
      },
      "cell_type": "code",
      "source": [
        "recall = recall_score(Y_test, Y_pred_dt)"
      ],
      "execution_count": 114,
      "outputs": []
    },
    {
      "metadata": {
        "id": "dbNYr_6vFacA",
        "colab": {
          "base_uri": "https://localhost:8080/"
        },
        "outputId": "3a1121f9-2e4f-428c-db32-b4aa4810467e"
      },
      "cell_type": "code",
      "source": [
        "print(\"Recall is: \",recall)"
      ],
      "execution_count": 115,
      "outputs": [
        {
          "output_type": "stream",
          "name": "stdout",
          "text": [
            "Recall is:  1.0\n"
          ]
        }
      ]
    },
    {
      "metadata": {
        "id": "BeTYQ0FZPh0I"
      },
      "cell_type": "markdown",
      "source": [
        "# FINAL SCORE"
      ]
    },
    {
      "metadata": {
        "id": "akYXJZ5MPj8z",
        "outputId": "eb0ff195-a5f3-4e94-a143-c2df57e5e449",
        "colab": {
          "base_uri": "https://localhost:8080/"
        }
      },
      "cell_type": "code",
      "source": [
        "scores = [score_lr,score_nb,score_knn,score_dt,score_rf]\n",
        "algorithms = [\"Logistic Regression\",\"Naive Bayes\",\"K-Nearest Neighbors\",\"Decision Tree\",\"Random Forest\"]    \n",
        "\n",
        "for i in range(len(algorithms)):\n",
        "    print(\"The accuracy score achieved using \"+algorithms[i]+\" is: \"+str(scores[i])+\" %\")"
      ],
      "execution_count": 116,
      "outputs": [
        {
          "output_type": "stream",
          "name": "stdout",
          "text": [
            "The accuracy score achieved using Logistic Regression is: 86.34 %\n",
            "The accuracy score achieved using Naive Bayes is: 85.37 %\n",
            "The accuracy score achieved using K-Nearest Neighbors is: 72.2 %\n",
            "The accuracy score achieved using Decision Tree is: 100.0 %\n",
            "The accuracy score achieved using Random Forest is: 100.0 %\n"
          ]
        }
      ]
    },
    {
      "metadata": {
        "id": "fpf1tEKCP1Hp",
        "outputId": "e10ae773-9b06-432d-8541-229388c01655",
        "colab": {
          "base_uri": "https://localhost:8080/",
          "height": 519
        }
      },
      "cell_type": "code",
      "source": [
        "sns.set(rc={'figure.figsize':(15,8)})\n",
        "plt.xlabel(\"Algorithms\")\n",
        "plt.ylabel(\"Accuracy score\")\n",
        "\n",
        "sns.barplot(algorithms,scores)"
      ],
      "execution_count": 117,
      "outputs": [
        {
          "output_type": "execute_result",
          "data": {
            "text/plain": [
              "<matplotlib.axes._subplots.AxesSubplot at 0x7f4e42d6ea10>"
            ]
          },
          "metadata": {},
          "execution_count": 117
        },
        {
          "output_type": "display_data",
          "data": {
            "text/plain": [
              "<Figure size 1080x576 with 1 Axes>"
            ],
            "image/png": "[encoded data removed]"
          },
          "metadata": {}
        }
      ]
    },
    {
      "cell_type": "code",
      "source": [
        "input_data = (59,\t1,\t1,\t140,\t221,\t0\t,1\t,164,\t1\t,0.0,\t2,\t0,\t2)\n",
        "\n",
        "#change the input data to numpy array\n",
        "input_data_as_numpy_array = np.asarray(input_data)\n",
        "\n",
        "#reshape the numpy array as we are predicting for only on instance\n",
        "input_data_reshaped = input_data_as_numpy_array.reshape(1,-1)\n",
        "\n",
        "prediction = rf.predict(input_data_reshaped)\n",
        "print(prediction)\n",
        "\n",
        "if (prediction[0]==0):\n",
        "    print('The person does not have a Heart Disease')\n",
        "else:\n",
        "    print('The person has a Heart Disease')"
      ],
      "metadata": {
        "colab": {
          "base_uri": "https://localhost:8080/"
        },
        "id": "idcaAj7fBRrW",
        "outputId": "39115487-f843-47a2-9aa3-7b1c2a946571"
      },
      "execution_count": 118,
      "outputs": [
        {
          "output_type": "stream",
          "name": "stdout",
          "text": [
            "[1]\n",
            "The person has a Heart Disease\n"
          ]
        }
      ]
    }
  ]
}